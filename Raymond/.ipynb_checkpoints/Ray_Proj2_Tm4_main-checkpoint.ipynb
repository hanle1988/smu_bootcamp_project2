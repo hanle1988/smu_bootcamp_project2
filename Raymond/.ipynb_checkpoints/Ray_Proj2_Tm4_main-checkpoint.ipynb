{
 "cells": [
  {
   "cell_type": "code",
   "execution_count": 1,
   "id": "24aa5467",
   "metadata": {},
   "outputs": [],
   "source": [
    "from splinter import Browser\n",
    "from bs4 import BeautifulSoup\n",
    "from webdriver_manager.chrome import ChromeDriverManager\n",
    "import pandas as pd\n",
    "import requests\n",
    "import time\n",
    "from sqlalchemy import inspect, create_engine\n",
    "import matplotlib.pyplot as plt\n",
    "import numpy as np\n"
   ]
  },
  {
   "cell_type": "code",
   "execution_count": 2,
   "id": "482ccc7e",
   "metadata": {},
   "outputs": [],
   "source": [
    "#Setup splinter\n",
    "executable_path = {'executable_path': ChromeDriverManager().install()}\n",
    "browser = Browser('chrome', **executable_path, headless=False)"
   ]
  },
  {
   "cell_type": "markdown",
   "id": "c61fd29a",
   "metadata": {},
   "source": [
    "Navigate to browser location for data extraction"
   ]
  },
  {
   "cell_type": "code",
   "execution_count": 3,
   "id": "e0d40623",
   "metadata": {},
   "outputs": [],
   "source": [
    "#Website searching Data Analyst positions\n",
    "indeed = \"https://www.indeed.com/jobs?q=data+analyst\"\n",
    "\n",
    "browser.visit(indeed)"
   ]
  },
  {
   "cell_type": "code",
   "execution_count": 4,
   "id": "12fa15f5",
   "metadata": {},
   "outputs": [
    {
     "data": {
      "text/plain": [
       "'<html dir=\"ltr\" lang=\"en\" class=\"js-focus-visible\" data-js-focus-visible=\"\"><head>\\n    <link rel=\"shortcut icon\" href=\"/images/favicon.ico\">\\n    <title>Data Analyst Jobs, Employment | Indeed.com</title>\\n    <meta http-equiv=\"content-type\" content=\"text/html; charset=utf-8\">\\n    <meta name=\"description\" content=\"28,441 Data Analyst jobs available on Indeed.com. Apply to Data Analyst, Analyst, Entry Level Data Analyst and more!\">\\n    <meta name=\"keywords\" content=\"Data Analyst Jobs, Employment,  c'"
      ]
     },
     "execution_count": 4,
     "metadata": {},
     "output_type": "execute_result"
    }
   ],
   "source": [
    "html = browser.html\n",
    "html[0:500]"
   ]
  },
  {
   "cell_type": "code",
   "execution_count": 5,
   "id": "c451f7f3",
   "metadata": {},
   "outputs": [
    {
     "data": {
      "text/plain": [
       "bs4.BeautifulSoup"
      ]
     },
     "execution_count": 5,
     "metadata": {},
     "output_type": "execute_result"
    }
   ],
   "source": [
    "soup= BeautifulSoup(browser.html, 'lxml')\n",
    "type(soup)"
   ]
  },
  {
   "cell_type": "code",
   "execution_count": 6,
   "id": "1835adbc",
   "metadata": {},
   "outputs": [
    {
     "data": {
      "text/plain": [
       "15"
      ]
     },
     "execution_count": 6,
     "metadata": {},
     "output_type": "execute_result"
    }
   ],
   "source": [
    "#Find code to loop through web page and pull the title of the job and possibly the location, then find code to click the job and acquire the salary.\n",
    "jobs = soup.find_all('div', {'class': 'cardOutline'})\n",
    "len(jobs)"
   ]
  },
  {
   "cell_type": "markdown",
   "id": "3a52dc54",
   "metadata": {},
   "source": [
    "Loop code to run iterations"
   ]
  },
  {
   "cell_type": "code",
   "execution_count": 7,
   "id": "cc50461b",
   "metadata": {},
   "outputs": [
    {
     "data": {
      "text/html": [
       "<div>\n",
       "<style scoped>\n",
       "    .dataframe tbody tr th:only-of-type {\n",
       "        vertical-align: middle;\n",
       "    }\n",
       "\n",
       "    .dataframe tbody tr th {\n",
       "        vertical-align: top;\n",
       "    }\n",
       "\n",
       "    .dataframe thead th {\n",
       "        text-align: right;\n",
       "    }\n",
       "</style>\n",
       "<table border=\"1\" class=\"dataframe\">\n",
       "  <thead>\n",
       "    <tr style=\"text-align: right;\">\n",
       "      <th></th>\n",
       "      <th>job_title</th>\n",
       "      <th>job_link</th>\n",
       "      <th>company</th>\n",
       "      <th>company_link</th>\n",
       "      <th>company_rating</th>\n",
       "      <th>location</th>\n",
       "      <th>salary</th>\n",
       "      <th>status</th>\n",
       "    </tr>\n",
       "  </thead>\n",
       "  <tbody>\n",
       "    <tr>\n",
       "      <th>0</th>\n",
       "      <td>Quality Data Analyst - Southern Region (MMC an...</td>\n",
       "      <td>www.indeed.com/pagead/clk?mo=r&amp;ad=-6NYlbfkN0Dc...</td>\n",
       "      <td>MaineHealth - Corporate</td>\n",
       "      <td>www.indeed.com/cmp/Mainehealth</td>\n",
       "      <td>3.6</td>\n",
       "      <td>Biddeford, ME 04005</td>\n",
       "      <td>None</td>\n",
       "      <td>Full-time</td>\n",
       "    </tr>\n",
       "    <tr>\n",
       "      <th>1</th>\n",
       "      <td>Data Analyst</td>\n",
       "      <td>www.indeed.com/pagead/clk?mo=r&amp;ad=-6NYlbfkN0Cy...</td>\n",
       "      <td>Epitec</td>\n",
       "      <td>www.indeed.com/cmp/Epitec</td>\n",
       "      <td>3.5</td>\n",
       "      <td>Chicago, IL</td>\n",
       "      <td>$65 - $70 an hour Employer est.</td>\n",
       "      <td>Full-time +1</td>\n",
       "    </tr>\n",
       "    <tr>\n",
       "      <th>2</th>\n",
       "      <td>IT Business Analyst</td>\n",
       "      <td>www.indeed.com/pagead/clk?mo=r&amp;ad=-6NYlbfkN0B8...</td>\n",
       "      <td>ALABAMA PORT AUTHORITY</td>\n",
       "      <td>None</td>\n",
       "      <td>None</td>\n",
       "      <td>Mobile, AL 36602 (North Industrial Area area)</td>\n",
       "      <td>$46,000 - $99,000 a year Employer est.</td>\n",
       "      <td>Full-time</td>\n",
       "    </tr>\n",
       "    <tr>\n",
       "      <th>3</th>\n",
       "      <td>Digital Content Data Analyst (Remote)</td>\n",
       "      <td>www.indeed.com/rc/clk?jk=cbb02ebd1607703e&amp;fcci...</td>\n",
       "      <td>Home Depot / THD</td>\n",
       "      <td>www.indeed.com/cmp/The-Home-Depot</td>\n",
       "      <td>3.7</td>\n",
       "      <td>Remote in Atlanta, GA 30301</td>\n",
       "      <td>$130,000 a year Employer est.</td>\n",
       "      <td>None</td>\n",
       "    </tr>\n",
       "    <tr>\n",
       "      <th>4</th>\n",
       "      <td>Operating Systems Analyst - Corporate Office</td>\n",
       "      <td>www.indeed.com/pagead/clk?mo=r&amp;ad=-6NYlbfkN0B1...</td>\n",
       "      <td>Lettuce Entertain You Restaurants (Chicago)</td>\n",
       "      <td>www.indeed.com/cmp/Lettuce-Entertain-You</td>\n",
       "      <td>4.0</td>\n",
       "      <td>Chicago, IL 60631 (Norwood Park area)</td>\n",
       "      <td>None</td>\n",
       "      <td>Full-time</td>\n",
       "    </tr>\n",
       "  </tbody>\n",
       "</table>\n",
       "</div>"
      ],
      "text/plain": [
       "                                           job_title  \\\n",
       "0  Quality Data Analyst - Southern Region (MMC an...   \n",
       "1                                       Data Analyst   \n",
       "2                                IT Business Analyst   \n",
       "3              Digital Content Data Analyst (Remote)   \n",
       "4       Operating Systems Analyst - Corporate Office   \n",
       "\n",
       "                                            job_link  \\\n",
       "0  www.indeed.com/pagead/clk?mo=r&ad=-6NYlbfkN0Dc...   \n",
       "1  www.indeed.com/pagead/clk?mo=r&ad=-6NYlbfkN0Cy...   \n",
       "2  www.indeed.com/pagead/clk?mo=r&ad=-6NYlbfkN0B8...   \n",
       "3  www.indeed.com/rc/clk?jk=cbb02ebd1607703e&fcci...   \n",
       "4  www.indeed.com/pagead/clk?mo=r&ad=-6NYlbfkN0B1...   \n",
       "\n",
       "                                       company  \\\n",
       "0                      MaineHealth - Corporate   \n",
       "1                                       Epitec   \n",
       "2                       ALABAMA PORT AUTHORITY   \n",
       "3                             Home Depot / THD   \n",
       "4  Lettuce Entertain You Restaurants (Chicago)   \n",
       "\n",
       "                               company_link company_rating  \\\n",
       "0            www.indeed.com/cmp/Mainehealth            3.6   \n",
       "1                 www.indeed.com/cmp/Epitec            3.5   \n",
       "2                                      None           None   \n",
       "3         www.indeed.com/cmp/The-Home-Depot            3.7   \n",
       "4  www.indeed.com/cmp/Lettuce-Entertain-You            4.0   \n",
       "\n",
       "                                        location  \\\n",
       "0                            Biddeford, ME 04005   \n",
       "1                                    Chicago, IL   \n",
       "2  Mobile, AL 36602 (North Industrial Area area)   \n",
       "3                    Remote in Atlanta, GA 30301   \n",
       "4          Chicago, IL 60631 (Norwood Park area)   \n",
       "\n",
       "                                   salary        status  \n",
       "0                                    None     Full-time  \n",
       "1         $65 - $70 an hour Employer est.  Full-time +1  \n",
       "2  $46,000 - $99,000 a year Employer est.     Full-time  \n",
       "3           $130,000 a year Employer est.          None  \n",
       "4                                    None     Full-time  "
      ]
     },
     "execution_count": 7,
     "metadata": {},
     "output_type": "execute_result"
    }
   ],
   "source": [
    "#Create for loops \n",
    "rows = []\n",
    "browser.visit(indeed)\n",
    "for i in range(1, 50):\n",
    "    \n",
    "    html = browser.html\n",
    "    soup = BeautifulSoup(browser.html, \"html.parser\")\n",
    "    jobs = soup.find_all('div', {'class': 'cardOutline'})\n",
    "    \n",
    "    \n",
    "    for job in jobs:\n",
    "        title = job.find('a', {\"class\": 'jcs-JobTitle'}).text\n",
    "        link = \"www.indeed.com\" + job.find('a', {\"class\": 'jcs-JobTitle'})[\"href\"]\n",
    "\n",
    "        company_name = job.find('span', {'class': 'companyName'})\n",
    "        if company_name: \n",
    "            company = company_name.text\n",
    "        else:\n",
    "            company = None\n",
    "        \n",
    "        company_con = job.find('a', {\"class\": 'companyOverviewLink'})\n",
    "        if company_con: \n",
    "            company_link = \"www.indeed.com\" + company_con[\"href\"]\n",
    "        else:\n",
    "            company_link = None\n",
    "\n",
    "        rating_con = job.find('span', {\"class\": 'ratingNumber'})\n",
    "        if rating_con: \n",
    "            rating = rating_con.text\n",
    "        else:\n",
    "            rating = None\n",
    "\n",
    "\n",
    "        loc = job.find('div', {\"class\": 'companyLocation'}).text\n",
    "\n",
    "        salary_con = job.find('div', {\"class\": 'salary-snippet-container'})\n",
    "        if salary_con: \n",
    "            salary = salary_con.text\n",
    "        else:\n",
    "            salary = None\n",
    "\n",
    "\n",
    "        status_con = job.find('svg', {\"aria-label\": \"Job type\"})\n",
    "        if status_con:\n",
    "            status = status_con.parent.text\n",
    "        else:\n",
    "            status = None\n",
    "\n",
    "        data = {}\n",
    "        data[\"job_title\"] = title\n",
    "        data[\"job_link\"] = link\n",
    "        data[\"company\"] = company\n",
    "        data[\"company_link\"] = company_link\n",
    "        data[\"company_rating\"] = rating\n",
    "        data[\"location\"] = loc\n",
    "        data[\"salary\"] = salary\n",
    "        data[\"status\"] = status\n",
    "        rows.append(data)\n",
    "    \n",
    "    browser.links.find_by_text(f\"{i+1}\").click()\n",
    "        \n",
    "df = pd.DataFrame(rows)\n",
    "df.head()"
   ]
  },
  {
   "cell_type": "code",
   "execution_count": 8,
   "id": "8d1061f2",
   "metadata": {},
   "outputs": [
    {
     "data": {
      "text/plain": [
       "735"
      ]
     },
     "execution_count": 8,
     "metadata": {},
     "output_type": "execute_result"
    }
   ],
   "source": [
    "len(df)"
   ]
  },
  {
   "cell_type": "code",
   "execution_count": 9,
   "id": "b726762e",
   "metadata": {},
   "outputs": [
    {
     "name": "stdout",
     "output_type": "stream",
     "text": [
      "<class 'pandas.core.frame.DataFrame'>\n",
      "RangeIndex: 735 entries, 0 to 734\n",
      "Data columns (total 8 columns):\n",
      " #   Column          Non-Null Count  Dtype  \n",
      "---  ------          --------------  -----  \n",
      " 0   job_title       735 non-null    object \n",
      " 1   job_link        735 non-null    object \n",
      " 2   company         733 non-null    object \n",
      " 3   company_link    522 non-null    object \n",
      " 4   company_rating  522 non-null    float64\n",
      " 5   location        735 non-null    object \n",
      " 6   salary          349 non-null    object \n",
      " 7   status          562 non-null    object \n",
      "dtypes: float64(1), object(7)\n",
      "memory usage: 46.1+ KB\n"
     ]
    }
   ],
   "source": [
    "df[\"company_rating\"] = pd.to_numeric(df.company_rating)\n",
    "df.info()"
   ]
  },
  {
   "cell_type": "code",
   "execution_count": 10,
   "id": "a907c9d7",
   "metadata": {},
   "outputs": [
    {
     "name": "stderr",
     "output_type": "stream",
     "text": [
      "/var/folders/g8/dnbf824j671c2bqm2ld6k3b80000gn/T/ipykernel_5831/152645899.py:2: FutureWarning: The default value of regex will change from True to False in a future version.\n",
      "  df[\"status\"] = df.status.str.replace(\"\\s\\+\\d\",\"\")\n"
     ]
    }
   ],
   "source": [
    "#combine with regex s=space d=catch or match all numbers \\+ = plus sign matches plus sign, regex meaning.\n",
    "df[\"status\"] = df.status.str.replace(\"\\s\\+\\d\",\"\")"
   ]
  },
  {
   "cell_type": "code",
   "execution_count": 11,
   "id": "63b36f56",
   "metadata": {},
   "outputs": [
    {
     "data": {
      "text/plain": [
       "Full-time     476\n",
       "Contract       77\n",
       "Part-time       4\n",
       "Temporary       3\n",
       "Internship      1\n",
       "Seasonal        1\n",
       "Name: status, dtype: int64"
      ]
     },
     "execution_count": 11,
     "metadata": {},
     "output_type": "execute_result"
    }
   ],
   "source": [
    "df.status.value_counts()"
   ]
  },
  {
   "cell_type": "code",
   "execution_count": 12,
   "id": "9e4fe6ee",
   "metadata": {},
   "outputs": [
    {
     "data": {
      "text/plain": [
       "array(['Full-time', None, 'Contract', 'Internship', 'Temporary',\n",
       "       'Part-time', 'Seasonal'], dtype=object)"
      ]
     },
     "execution_count": 12,
     "metadata": {},
     "output_type": "execute_result"
    }
   ],
   "source": [
    "#Status column -  ID, name, last_updated\n",
    "df.status.unique()"
   ]
  },
  {
   "cell_type": "code",
   "execution_count": 13,
   "id": "7484dfe9",
   "metadata": {},
   "outputs": [
    {
     "data": {
      "text/html": [
       "<div>\n",
       "<style scoped>\n",
       "    .dataframe tbody tr th:only-of-type {\n",
       "        vertical-align: middle;\n",
       "    }\n",
       "\n",
       "    .dataframe tbody tr th {\n",
       "        vertical-align: top;\n",
       "    }\n",
       "\n",
       "    .dataframe thead th {\n",
       "        text-align: right;\n",
       "    }\n",
       "</style>\n",
       "<table border=\"1\" class=\"dataframe\">\n",
       "  <thead>\n",
       "    <tr style=\"text-align: right;\">\n",
       "      <th></th>\n",
       "      <th>status</th>\n",
       "    </tr>\n",
       "  </thead>\n",
       "  <tbody>\n",
       "    <tr>\n",
       "      <th>0</th>\n",
       "      <td>Full-time</td>\n",
       "    </tr>\n",
       "    <tr>\n",
       "      <th>1</th>\n",
       "      <td>Contract</td>\n",
       "    </tr>\n",
       "    <tr>\n",
       "      <th>2</th>\n",
       "      <td>Internship</td>\n",
       "    </tr>\n",
       "    <tr>\n",
       "      <th>3</th>\n",
       "      <td>Temporary</td>\n",
       "    </tr>\n",
       "    <tr>\n",
       "      <th>4</th>\n",
       "      <td>Part-time</td>\n",
       "    </tr>\n",
       "    <tr>\n",
       "      <th>5</th>\n",
       "      <td>Seasonal</td>\n",
       "    </tr>\n",
       "  </tbody>\n",
       "</table>\n",
       "</div>"
      ],
      "text/plain": [
       "       status\n",
       "0   Full-time\n",
       "1    Contract\n",
       "2  Internship\n",
       "3   Temporary\n",
       "4   Part-time\n",
       "5    Seasonal"
      ]
     },
     "execution_count": 13,
     "metadata": {},
     "output_type": "execute_result"
    }
   ],
   "source": [
    "#Status lookup table\n",
    "status = df.status.dropna().unique()\n",
    "status_df = pd.DataFrame()\n",
    "status_df[\"status\"] = status\n",
    "status_df"
   ]
  },
  {
   "cell_type": "code",
   "execution_count": 14,
   "id": "78ee7af6",
   "metadata": {},
   "outputs": [
    {
     "data": {
      "text/plain": [
       "Insight Global                      2\n",
       "MaineHealth - Corporate             1\n",
       "MIT                                 1\n",
       "United States Steel                 1\n",
       "TechnologyAdvice                    1\n",
       "                                   ..\n",
       "Aries Solutions                     1\n",
       "PCS Global Tech                     1\n",
       "Substack                            1\n",
       "New Directions Behavioral Health    1\n",
       "Lincoln Financial                   1\n",
       "Name: company, Length: 641, dtype: int64"
      ]
     },
     "execution_count": 14,
     "metadata": {},
     "output_type": "execute_result"
    }
   ],
   "source": [
    "#Company lookup table, revised to drop the 2nd Insight Global below\n",
    "companies = df.loc[:,[\"company\",\"company_link\", \"company_rating\"]].drop_duplicates().reset_index(drop=True)\n",
    "companies.company.value_counts()"
   ]
  },
  {
   "cell_type": "code",
   "execution_count": 15,
   "id": "9a701bba",
   "metadata": {},
   "outputs": [
    {
     "data": {
      "text/html": [
       "<div>\n",
       "<style scoped>\n",
       "    .dataframe tbody tr th:only-of-type {\n",
       "        vertical-align: middle;\n",
       "    }\n",
       "\n",
       "    .dataframe tbody tr th {\n",
       "        vertical-align: top;\n",
       "    }\n",
       "\n",
       "    .dataframe thead th {\n",
       "        text-align: right;\n",
       "    }\n",
       "</style>\n",
       "<table border=\"1\" class=\"dataframe\">\n",
       "  <thead>\n",
       "    <tr style=\"text-align: right;\">\n",
       "      <th></th>\n",
       "      <th>company</th>\n",
       "      <th>company_link</th>\n",
       "      <th>company_rating</th>\n",
       "    </tr>\n",
       "  </thead>\n",
       "  <tbody>\n",
       "    <tr>\n",
       "      <th>196</th>\n",
       "      <td>Insight Global</td>\n",
       "      <td>www.indeed.com/cmp/Insight-Global</td>\n",
       "      <td>3.9</td>\n",
       "    </tr>\n",
       "    <tr>\n",
       "      <th>276</th>\n",
       "      <td>Insight Global</td>\n",
       "      <td>None</td>\n",
       "      <td>NaN</td>\n",
       "    </tr>\n",
       "  </tbody>\n",
       "</table>\n",
       "</div>"
      ],
      "text/plain": [
       "            company                       company_link  company_rating\n",
       "196  Insight Global  www.indeed.com/cmp/Insight-Global             3.9\n",
       "276  Insight Global                               None             NaN"
      ]
     },
     "execution_count": 15,
     "metadata": {},
     "output_type": "execute_result"
    }
   ],
   "source": [
    "companies.loc[companies.company == \"Insight Global\"]"
   ]
  },
  {
   "cell_type": "code",
   "execution_count": 16,
   "id": "1d720963",
   "metadata": {},
   "outputs": [],
   "source": [
    "df.loc[df.company == \"Insight Global\", \"company_link\"] = \"www.indeed.com/cmp/Insight-Global\"\n",
    "df.loc[df.company == \"Insight Global\", \"company_rating\"] = 3.9"
   ]
  },
  {
   "cell_type": "code",
   "execution_count": 17,
   "id": "a3cedd58",
   "metadata": {},
   "outputs": [
    {
     "data": {
      "text/plain": [
       "MaineHealth - Corporate             1\n",
       "Johnson & Johnson                   1\n",
       "United States Steel                 1\n",
       "TechnologyAdvice                    1\n",
       "Agama Solutions                     1\n",
       "                                   ..\n",
       "Aries Solutions                     1\n",
       "PCS Global Tech                     1\n",
       "Substack                            1\n",
       "New Directions Behavioral Health    1\n",
       "Lincoln Financial                   1\n",
       "Name: company, Length: 641, dtype: int64"
      ]
     },
     "execution_count": 17,
     "metadata": {},
     "output_type": "execute_result"
    }
   ],
   "source": [
    "companies = df.loc[:,[\"company\",\"company_link\", \"company_rating\"]].drop_duplicates().reset_index(drop=True)\n",
    "companies.company.value_counts()"
   ]
  },
  {
   "cell_type": "code",
   "execution_count": 18,
   "id": "d3c6b725",
   "metadata": {},
   "outputs": [
    {
     "data": {
      "text/html": [
       "<div>\n",
       "<style scoped>\n",
       "    .dataframe tbody tr th:only-of-type {\n",
       "        vertical-align: middle;\n",
       "    }\n",
       "\n",
       "    .dataframe tbody tr th {\n",
       "        vertical-align: top;\n",
       "    }\n",
       "\n",
       "    .dataframe thead th {\n",
       "        text-align: right;\n",
       "    }\n",
       "</style>\n",
       "<table border=\"1\" class=\"dataframe\">\n",
       "  <thead>\n",
       "    <tr style=\"text-align: right;\">\n",
       "      <th></th>\n",
       "      <th>company</th>\n",
       "      <th>company_link</th>\n",
       "      <th>company_rating</th>\n",
       "    </tr>\n",
       "  </thead>\n",
       "  <tbody>\n",
       "    <tr>\n",
       "      <th>0</th>\n",
       "      <td>MaineHealth - Corporate</td>\n",
       "      <td>www.indeed.com/cmp/Mainehealth</td>\n",
       "      <td>3.6</td>\n",
       "    </tr>\n",
       "    <tr>\n",
       "      <th>1</th>\n",
       "      <td>Epitec</td>\n",
       "      <td>www.indeed.com/cmp/Epitec</td>\n",
       "      <td>3.5</td>\n",
       "    </tr>\n",
       "    <tr>\n",
       "      <th>2</th>\n",
       "      <td>ALABAMA PORT AUTHORITY</td>\n",
       "      <td>None</td>\n",
       "      <td>NaN</td>\n",
       "    </tr>\n",
       "    <tr>\n",
       "      <th>3</th>\n",
       "      <td>Home Depot / THD</td>\n",
       "      <td>www.indeed.com/cmp/The-Home-Depot</td>\n",
       "      <td>3.7</td>\n",
       "    </tr>\n",
       "    <tr>\n",
       "      <th>4</th>\n",
       "      <td>Lettuce Entertain You Restaurants (Chicago)</td>\n",
       "      <td>www.indeed.com/cmp/Lettuce-Entertain-You</td>\n",
       "      <td>4.0</td>\n",
       "    </tr>\n",
       "    <tr>\n",
       "      <th>...</th>\n",
       "      <td>...</td>\n",
       "      <td>...</td>\n",
       "      <td>...</td>\n",
       "    </tr>\n",
       "    <tr>\n",
       "      <th>637</th>\n",
       "      <td>Markel Corporation</td>\n",
       "      <td>www.indeed.com/cmp/Markel-Corporation</td>\n",
       "      <td>3.6</td>\n",
       "    </tr>\n",
       "    <tr>\n",
       "      <th>638</th>\n",
       "      <td>Virginia Dept of Behavioral Health &amp; Developme...</td>\n",
       "      <td>None</td>\n",
       "      <td>NaN</td>\n",
       "    </tr>\n",
       "    <tr>\n",
       "      <th>639</th>\n",
       "      <td>South State Bank</td>\n",
       "      <td>www.indeed.com/cmp/South-State-Bank</td>\n",
       "      <td>3.3</td>\n",
       "    </tr>\n",
       "    <tr>\n",
       "      <th>640</th>\n",
       "      <td>University of California, Davis</td>\n",
       "      <td>www.indeed.com/cmp/Uc-Davis</td>\n",
       "      <td>4.2</td>\n",
       "    </tr>\n",
       "    <tr>\n",
       "      <th>641</th>\n",
       "      <td>Lincoln Financial</td>\n",
       "      <td>www.indeed.com/cmp/Lincoln-Financial-Group</td>\n",
       "      <td>3.5</td>\n",
       "    </tr>\n",
       "  </tbody>\n",
       "</table>\n",
       "<p>642 rows × 3 columns</p>\n",
       "</div>"
      ],
      "text/plain": [
       "                                               company  \\\n",
       "0                              MaineHealth - Corporate   \n",
       "1                                               Epitec   \n",
       "2                               ALABAMA PORT AUTHORITY   \n",
       "3                                     Home Depot / THD   \n",
       "4          Lettuce Entertain You Restaurants (Chicago)   \n",
       "..                                                 ...   \n",
       "637                                 Markel Corporation   \n",
       "638  Virginia Dept of Behavioral Health & Developme...   \n",
       "639                                   South State Bank   \n",
       "640                    University of California, Davis   \n",
       "641                                  Lincoln Financial   \n",
       "\n",
       "                                   company_link  company_rating  \n",
       "0                www.indeed.com/cmp/Mainehealth             3.6  \n",
       "1                     www.indeed.com/cmp/Epitec             3.5  \n",
       "2                                          None             NaN  \n",
       "3             www.indeed.com/cmp/The-Home-Depot             3.7  \n",
       "4      www.indeed.com/cmp/Lettuce-Entertain-You             4.0  \n",
       "..                                          ...             ...  \n",
       "637       www.indeed.com/cmp/Markel-Corporation             3.6  \n",
       "638                                        None             NaN  \n",
       "639         www.indeed.com/cmp/South-State-Bank             3.3  \n",
       "640                 www.indeed.com/cmp/Uc-Davis             4.2  \n",
       "641  www.indeed.com/cmp/Lincoln-Financial-Group             3.5  \n",
       "\n",
       "[642 rows x 3 columns]"
      ]
     },
     "execution_count": 18,
     "metadata": {},
     "output_type": "execute_result"
    }
   ],
   "source": [
    "#Companies lookup table\n",
    "companies"
   ]
  },
  {
   "cell_type": "code",
   "execution_count": 19,
   "id": "9b1a876f",
   "metadata": {},
   "outputs": [],
   "source": [
    "#State \n",
    "def getState(loc):\n",
    "    if \",\" in loc:\n",
    "        state = loc.replace(\"\\xa0\", \" \").split(\",\")[1].strip().split(\" \")[0].strip()\n",
    "    else:\n",
    "        state = None\n",
    "        \n",
    "    return(state)"
   ]
  },
  {
   "cell_type": "code",
   "execution_count": 20,
   "id": "7b3cc10d",
   "metadata": {},
   "outputs": [
    {
     "data": {
      "text/plain": [
       "'TX'"
      ]
     },
     "execution_count": 20,
     "metadata": {},
     "output_type": "execute_result"
    }
   ],
   "source": [
    "#Find the locations with\"Downtown area\"\n",
    "getState(\"Austin, TX (Downtown area)\")"
   ]
  },
  {
   "cell_type": "code",
   "execution_count": 21,
   "id": "7f7e1166",
   "metadata": {},
   "outputs": [
    {
     "name": "stdout",
     "output_type": "stream",
     "text": [
      "<class 'pandas.core.frame.DataFrame'>\n",
      "RangeIndex: 735 entries, 0 to 734\n",
      "Data columns (total 9 columns):\n",
      " #   Column          Non-Null Count  Dtype  \n",
      "---  ------          --------------  -----  \n",
      " 0   job_title       735 non-null    object \n",
      " 1   job_link        735 non-null    object \n",
      " 2   company         733 non-null    object \n",
      " 3   company_link    523 non-null    object \n",
      " 4   company_rating  523 non-null    float64\n",
      " 5   location        735 non-null    object \n",
      " 6   salary          349 non-null    object \n",
      " 7   status          562 non-null    object \n",
      " 8   state           512 non-null    object \n",
      "dtypes: float64(1), object(8)\n",
      "memory usage: 51.8+ KB\n"
     ]
    }
   ],
   "source": [
    "#\n",
    "df[\"state\"] = df.location.apply(lambda x: getState(x))\n",
    "df.info()"
   ]
  },
  {
   "cell_type": "code",
   "execution_count": 22,
   "id": "5422bdb8",
   "metadata": {},
   "outputs": [
    {
     "data": {
      "text/plain": [
       "TX    173\n",
       "CA     67\n",
       "NY     58\n",
       "IL     21\n",
       "VA     20\n",
       "GA     19\n",
       "CO     14\n",
       "WA     12\n",
       "FL     11\n",
       "NC      9\n",
       "PA      9\n",
       "MN      9\n",
       "AZ      7\n",
       "WI      7\n",
       "MA      7\n",
       "MD      6\n",
       "OK      6\n",
       "UT      5\n",
       "OH      4\n",
       "TN      4\n",
       "DC      4\n",
       "OR      4\n",
       "CT      4\n",
       "IA      3\n",
       "MO      3\n",
       "NE      2\n",
       "MS      2\n",
       "AL      2\n",
       "NJ      2\n",
       "MI      2\n",
       "DE      2\n",
       "NM      2\n",
       "PR      2\n",
       "KS      1\n",
       "LA      1\n",
       "ME      1\n",
       "VT      1\n",
       "SD      1\n",
       "NV      1\n",
       "KY      1\n",
       "SC      1\n",
       "NH      1\n",
       "RI      1\n",
       "Name: state, dtype: int64"
      ]
     },
     "execution_count": 22,
     "metadata": {},
     "output_type": "execute_result"
    }
   ],
   "source": [
    "#\n",
    "df.state.value_counts()"
   ]
  },
  {
   "cell_type": "code",
   "execution_count": null,
   "id": "53a35ff0",
   "metadata": {},
   "outputs": [],
   "source": []
  },
  {
   "cell_type": "markdown",
   "id": "f5d40313",
   "metadata": {},
   "source": [
    "State look up table"
   ]
  },
  {
   "cell_type": "code",
   "execution_count": 23,
   "id": "03a65f6d",
   "metadata": {},
   "outputs": [
    {
     "data": {
      "text/html": [
       "<div>\n",
       "<style scoped>\n",
       "    .dataframe tbody tr th:only-of-type {\n",
       "        vertical-align: middle;\n",
       "    }\n",
       "\n",
       "    .dataframe tbody tr th {\n",
       "        vertical-align: top;\n",
       "    }\n",
       "\n",
       "    .dataframe thead th {\n",
       "        text-align: right;\n",
       "    }\n",
       "</style>\n",
       "<table border=\"1\" class=\"dataframe\">\n",
       "  <thead>\n",
       "    <tr style=\"text-align: right;\">\n",
       "      <th></th>\n",
       "      <th>state</th>\n",
       "    </tr>\n",
       "  </thead>\n",
       "  <tbody>\n",
       "    <tr>\n",
       "      <th>0</th>\n",
       "      <td>ME</td>\n",
       "    </tr>\n",
       "    <tr>\n",
       "      <th>1</th>\n",
       "      <td>IL</td>\n",
       "    </tr>\n",
       "    <tr>\n",
       "      <th>2</th>\n",
       "      <td>AL</td>\n",
       "    </tr>\n",
       "    <tr>\n",
       "      <th>3</th>\n",
       "      <td>GA</td>\n",
       "    </tr>\n",
       "    <tr>\n",
       "      <th>4</th>\n",
       "      <td>TX</td>\n",
       "    </tr>\n",
       "    <tr>\n",
       "      <th>5</th>\n",
       "      <td>NY</td>\n",
       "    </tr>\n",
       "    <tr>\n",
       "      <th>6</th>\n",
       "      <td>CA</td>\n",
       "    </tr>\n",
       "    <tr>\n",
       "      <th>7</th>\n",
       "      <td>MN</td>\n",
       "    </tr>\n",
       "    <tr>\n",
       "      <th>8</th>\n",
       "      <td>WA</td>\n",
       "    </tr>\n",
       "    <tr>\n",
       "      <th>9</th>\n",
       "      <td>MD</td>\n",
       "    </tr>\n",
       "    <tr>\n",
       "      <th>10</th>\n",
       "      <td>OR</td>\n",
       "    </tr>\n",
       "    <tr>\n",
       "      <th>11</th>\n",
       "      <td>AZ</td>\n",
       "    </tr>\n",
       "    <tr>\n",
       "      <th>12</th>\n",
       "      <td>CT</td>\n",
       "    </tr>\n",
       "    <tr>\n",
       "      <th>13</th>\n",
       "      <td>FL</td>\n",
       "    </tr>\n",
       "    <tr>\n",
       "      <th>14</th>\n",
       "      <td>NH</td>\n",
       "    </tr>\n",
       "    <tr>\n",
       "      <th>15</th>\n",
       "      <td>IA</td>\n",
       "    </tr>\n",
       "    <tr>\n",
       "      <th>16</th>\n",
       "      <td>NE</td>\n",
       "    </tr>\n",
       "    <tr>\n",
       "      <th>17</th>\n",
       "      <td>PA</td>\n",
       "    </tr>\n",
       "    <tr>\n",
       "      <th>18</th>\n",
       "      <td>NC</td>\n",
       "    </tr>\n",
       "    <tr>\n",
       "      <th>19</th>\n",
       "      <td>NJ</td>\n",
       "    </tr>\n",
       "    <tr>\n",
       "      <th>20</th>\n",
       "      <td>OK</td>\n",
       "    </tr>\n",
       "    <tr>\n",
       "      <th>21</th>\n",
       "      <td>CO</td>\n",
       "    </tr>\n",
       "    <tr>\n",
       "      <th>22</th>\n",
       "      <td>WI</td>\n",
       "    </tr>\n",
       "    <tr>\n",
       "      <th>23</th>\n",
       "      <td>MA</td>\n",
       "    </tr>\n",
       "    <tr>\n",
       "      <th>24</th>\n",
       "      <td>OH</td>\n",
       "    </tr>\n",
       "    <tr>\n",
       "      <th>25</th>\n",
       "      <td>MO</td>\n",
       "    </tr>\n",
       "    <tr>\n",
       "      <th>26</th>\n",
       "      <td>SC</td>\n",
       "    </tr>\n",
       "    <tr>\n",
       "      <th>27</th>\n",
       "      <td>DC</td>\n",
       "    </tr>\n",
       "    <tr>\n",
       "      <th>28</th>\n",
       "      <td>KY</td>\n",
       "    </tr>\n",
       "    <tr>\n",
       "      <th>29</th>\n",
       "      <td>VA</td>\n",
       "    </tr>\n",
       "    <tr>\n",
       "      <th>30</th>\n",
       "      <td>NV</td>\n",
       "    </tr>\n",
       "    <tr>\n",
       "      <th>31</th>\n",
       "      <td>MI</td>\n",
       "    </tr>\n",
       "    <tr>\n",
       "      <th>32</th>\n",
       "      <td>SD</td>\n",
       "    </tr>\n",
       "    <tr>\n",
       "      <th>33</th>\n",
       "      <td>VT</td>\n",
       "    </tr>\n",
       "    <tr>\n",
       "      <th>34</th>\n",
       "      <td>PR</td>\n",
       "    </tr>\n",
       "    <tr>\n",
       "      <th>35</th>\n",
       "      <td>UT</td>\n",
       "    </tr>\n",
       "    <tr>\n",
       "      <th>36</th>\n",
       "      <td>NM</td>\n",
       "    </tr>\n",
       "    <tr>\n",
       "      <th>37</th>\n",
       "      <td>DE</td>\n",
       "    </tr>\n",
       "    <tr>\n",
       "      <th>38</th>\n",
       "      <td>TN</td>\n",
       "    </tr>\n",
       "    <tr>\n",
       "      <th>39</th>\n",
       "      <td>MS</td>\n",
       "    </tr>\n",
       "    <tr>\n",
       "      <th>40</th>\n",
       "      <td>KS</td>\n",
       "    </tr>\n",
       "    <tr>\n",
       "      <th>41</th>\n",
       "      <td>LA</td>\n",
       "    </tr>\n",
       "    <tr>\n",
       "      <th>42</th>\n",
       "      <td>RI</td>\n",
       "    </tr>\n",
       "  </tbody>\n",
       "</table>\n",
       "</div>"
      ],
      "text/plain": [
       "   state\n",
       "0     ME\n",
       "1     IL\n",
       "2     AL\n",
       "3     GA\n",
       "4     TX\n",
       "5     NY\n",
       "6     CA\n",
       "7     MN\n",
       "8     WA\n",
       "9     MD\n",
       "10    OR\n",
       "11    AZ\n",
       "12    CT\n",
       "13    FL\n",
       "14    NH\n",
       "15    IA\n",
       "16    NE\n",
       "17    PA\n",
       "18    NC\n",
       "19    NJ\n",
       "20    OK\n",
       "21    CO\n",
       "22    WI\n",
       "23    MA\n",
       "24    OH\n",
       "25    MO\n",
       "26    SC\n",
       "27    DC\n",
       "28    KY\n",
       "29    VA\n",
       "30    NV\n",
       "31    MI\n",
       "32    SD\n",
       "33    VT\n",
       "34    PR\n",
       "35    UT\n",
       "36    NM\n",
       "37    DE\n",
       "38    TN\n",
       "39    MS\n",
       "40    KS\n",
       "41    LA\n",
       "42    RI"
      ]
     },
     "execution_count": 23,
     "metadata": {},
     "output_type": "execute_result"
    }
   ],
   "source": [
    "#State look-up table\n",
    "state = df.state.dropna().unique()\n",
    "state_df = pd.DataFrame()\n",
    "state_df[\"state\"] = state\n",
    "state_df"
   ]
  },
  {
   "cell_type": "code",
   "execution_count": null,
   "id": "00d2a936",
   "metadata": {},
   "outputs": [],
   "source": []
  },
  {
   "cell_type": "code",
   "execution_count": 24,
   "id": "df66205d",
   "metadata": {},
   "outputs": [],
   "source": [
    "#\n",
    "def getRemote(loc):\n",
    "    if \"remote\" in loc.lower():\n",
    "        return(True)\n",
    "    else:\n",
    "        return(False)"
   ]
  },
  {
   "cell_type": "code",
   "execution_count": 25,
   "id": "0d57abea",
   "metadata": {},
   "outputs": [
    {
     "name": "stdout",
     "output_type": "stream",
     "text": [
      "<class 'pandas.core.frame.DataFrame'>\n",
      "RangeIndex: 735 entries, 0 to 734\n",
      "Data columns (total 10 columns):\n",
      " #   Column          Non-Null Count  Dtype  \n",
      "---  ------          --------------  -----  \n",
      " 0   job_title       735 non-null    object \n",
      " 1   job_link        735 non-null    object \n",
      " 2   company         733 non-null    object \n",
      " 3   company_link    523 non-null    object \n",
      " 4   company_rating  523 non-null    float64\n",
      " 5   location        735 non-null    object \n",
      " 6   salary          349 non-null    object \n",
      " 7   status          562 non-null    object \n",
      " 8   state           512 non-null    object \n",
      " 9   is_remote       735 non-null    bool   \n",
      "dtypes: bool(1), float64(1), object(8)\n",
      "memory usage: 52.5+ KB\n"
     ]
    }
   ],
   "source": [
    "#\n",
    "df[\"is_remote\"] = df.location.apply(lambda x: getRemote(x))\n",
    "df.info()"
   ]
  },
  {
   "cell_type": "code",
   "execution_count": 26,
   "id": "0ad8a0a7",
   "metadata": {},
   "outputs": [
    {
     "data": {
      "text/plain": [
       "True     409\n",
       "False    326\n",
       "Name: is_remote, dtype: int64"
      ]
     },
     "execution_count": 26,
     "metadata": {},
     "output_type": "execute_result"
    }
   ],
   "source": [
    "df.is_remote.value_counts()"
   ]
  },
  {
   "cell_type": "code",
   "execution_count": 27,
   "id": "61ed7651",
   "metadata": {},
   "outputs": [
    {
     "name": "stdout",
     "output_type": "stream",
     "text": [
      "<class 'pandas.core.series.Series'>\n",
      "RangeIndex: 735 entries, 0 to 734\n",
      "Series name: is_remote\n",
      "Non-Null Count  Dtype\n",
      "--------------  -----\n",
      "735 non-null    bool \n",
      "dtypes: bool(1)\n",
      "memory usage: 863.0 bytes\n"
     ]
    }
   ],
   "source": [
    "df.is_remote.info()"
   ]
  },
  {
   "cell_type": "code",
   "execution_count": 28,
   "id": "83ba1798",
   "metadata": {},
   "outputs": [
    {
     "data": {
      "text/html": [
       "<div>\n",
       "<style scoped>\n",
       "    .dataframe tbody tr th:only-of-type {\n",
       "        vertical-align: middle;\n",
       "    }\n",
       "\n",
       "    .dataframe tbody tr th {\n",
       "        vertical-align: top;\n",
       "    }\n",
       "\n",
       "    .dataframe thead th {\n",
       "        text-align: right;\n",
       "    }\n",
       "</style>\n",
       "<table border=\"1\" class=\"dataframe\">\n",
       "  <thead>\n",
       "    <tr style=\"text-align: right;\">\n",
       "      <th></th>\n",
       "      <th>is_remote</th>\n",
       "    </tr>\n",
       "  </thead>\n",
       "  <tbody>\n",
       "    <tr>\n",
       "      <th>0</th>\n",
       "      <td>False</td>\n",
       "    </tr>\n",
       "    <tr>\n",
       "      <th>1</th>\n",
       "      <td>True</td>\n",
       "    </tr>\n",
       "  </tbody>\n",
       "</table>\n",
       "</div>"
      ],
      "text/plain": [
       "   is_remote\n",
       "0      False\n",
       "1       True"
      ]
     },
     "execution_count": 28,
     "metadata": {},
     "output_type": "execute_result"
    }
   ],
   "source": [
    "is_remote = df.is_remote.dropna().unique()\n",
    "is_remote_df = pd.DataFrame()\n",
    "is_remote_df[\"is_remote\"] = is_remote\n",
    "is_remote_df"
   ]
  },
  {
   "cell_type": "code",
   "execution_count": null,
   "id": "aa5e7fa0",
   "metadata": {},
   "outputs": [],
   "source": []
  },
  {
   "cell_type": "code",
   "execution_count": 29,
   "id": "3769db6e",
   "metadata": {},
   "outputs": [],
   "source": [
    "#Find the companies paying for ads\n",
    "def getAd(link):\n",
    "    if \"pagead\" in link.lower():\n",
    "        return(True)\n",
    "    else:\n",
    "        return(False)"
   ]
  },
  {
   "cell_type": "code",
   "execution_count": 30,
   "id": "827c1e77",
   "metadata": {},
   "outputs": [
    {
     "name": "stdout",
     "output_type": "stream",
     "text": [
      "<class 'pandas.core.frame.DataFrame'>\n",
      "RangeIndex: 735 entries, 0 to 734\n",
      "Data columns (total 11 columns):\n",
      " #   Column          Non-Null Count  Dtype  \n",
      "---  ------          --------------  -----  \n",
      " 0   job_title       735 non-null    object \n",
      " 1   job_link        735 non-null    object \n",
      " 2   company         733 non-null    object \n",
      " 3   company_link    523 non-null    object \n",
      " 4   company_rating  523 non-null    float64\n",
      " 5   location        735 non-null    object \n",
      " 6   salary          349 non-null    object \n",
      " 7   status          562 non-null    object \n",
      " 8   state           512 non-null    object \n",
      " 9   is_remote       735 non-null    bool   \n",
      " 10  is_ad           735 non-null    bool   \n",
      "dtypes: bool(2), float64(1), object(8)\n",
      "memory usage: 53.2+ KB\n"
     ]
    }
   ],
   "source": [
    "df[\"is_ad\"] = df.job_link.apply(lambda x: getAd(x))\n",
    "df.info()"
   ]
  },
  {
   "cell_type": "code",
   "execution_count": 31,
   "id": "378ae361",
   "metadata": {},
   "outputs": [
    {
     "data": {
      "text/plain": [
       "False    627\n",
       "True     108\n",
       "Name: is_ad, dtype: int64"
      ]
     },
     "execution_count": 31,
     "metadata": {},
     "output_type": "execute_result"
    }
   ],
   "source": [
    "df.is_ad.value_counts()"
   ]
  },
  {
   "cell_type": "code",
   "execution_count": 32,
   "id": "d8d4558e",
   "metadata": {},
   "outputs": [
    {
     "data": {
      "text/plain": [
       "company\n",
       "Insight Global                      4\n",
       "MATRIX Resources                    3\n",
       "Michael Page                        3\n",
       "Computer Enterprises, Inc. (CEI)    2\n",
       "Presbyterian Healthcare Services    2\n",
       "                                   ..\n",
       "GENUENT                             0\n",
       "GOIN                                0\n",
       "GPRS                                0\n",
       "Gainwell Technologies LLC           0\n",
       "sgsco                               0\n",
       "Name: is_ad, Length: 641, dtype: int64"
      ]
     },
     "execution_count": 32,
     "metadata": {},
     "output_type": "execute_result"
    }
   ],
   "source": [
    "#Paying for Ads, add to main job table as bool\n",
    "df.groupby(\"company\").is_ad.sum().sort_values(ascending=False)"
   ]
  },
  {
   "cell_type": "code",
   "execution_count": null,
   "id": "ae50d3ff",
   "metadata": {},
   "outputs": [],
   "source": []
  },
  {
   "cell_type": "code",
   "execution_count": null,
   "id": "a24436b9",
   "metadata": {},
   "outputs": [],
   "source": []
  },
  {
   "cell_type": "code",
   "execution_count": 33,
   "id": "a8e987e1",
   "metadata": {},
   "outputs": [],
   "source": [
    "import pandas as pd\n",
    "from sqlalchemy import create_engine, inspect"
   ]
  },
  {
   "cell_type": "code",
   "execution_count": 44,
   "id": "9686f38c",
   "metadata": {},
   "outputs": [],
   "source": [
    "USERNAME = \"postgres\"\n",
    "PASSWORD = \"password\"\n",
    "URL = \"localhost\"\n",
    "PORT = 5432\n",
    "DATABASE = \"Project2_job_board\"\n",
    "\n",
    "connection_str = f\"postgresql+psycopg2://{USERNAME}:{PASSWORD}@{URL}:{PORT}/{DATABASE}\"\n",
    "#print(connection_str)\n",
    "\n",
    "engine = create_engine(connection_str)"
   ]
  },
  {
   "cell_type": "code",
   "execution_count": 45,
   "id": "24886c8f",
   "metadata": {},
   "outputs": [
    {
     "name": "stdout",
     "output_type": "stream",
     "text": [
      "company\n",
      "{'name': 'id', 'type': INTEGER(), 'nullable': False, 'default': \"nextval('company_id_seq'::regclass)\", 'autoincrement': True, 'comment': None}\n",
      "{'name': 'company', 'type': VARCHAR(length=100), 'nullable': False, 'default': None, 'autoincrement': False, 'comment': None}\n",
      "{'name': 'company_link', 'type': VARCHAR(length=500), 'nullable': True, 'default': None, 'autoincrement': False, 'comment': None}\n",
      "{'name': 'company_rating', 'type': DOUBLE_PRECISION(precision=53), 'nullable': True, 'default': None, 'autoincrement': False, 'comment': None}\n",
      "{'name': 'last_updated', 'type': TIMESTAMP(), 'nullable': False, 'default': 'LOCALTIMESTAMP', 'autoincrement': False, 'comment': None}\n",
      "\n",
      "job\n",
      "{'name': 'id', 'type': INTEGER(), 'nullable': False, 'default': \"nextval('job_id_seq'::regclass)\", 'autoincrement': True, 'comment': None}\n",
      "{'name': 'job_title', 'type': VARCHAR(length=100), 'nullable': False, 'default': None, 'autoincrement': False, 'comment': None}\n",
      "{'name': 'job_link', 'type': VARCHAR(length=2000), 'nullable': False, 'default': None, 'autoincrement': False, 'comment': None}\n",
      "{'name': 'company_id', 'type': INTEGER(), 'nullable': True, 'default': None, 'autoincrement': False, 'comment': None}\n",
      "{'name': 'location', 'type': VARCHAR(length=2000), 'nullable': True, 'default': None, 'autoincrement': False, 'comment': None}\n",
      "{'name': 'salary', 'type': VARCHAR(length=100), 'nullable': True, 'default': None, 'autoincrement': False, 'comment': None}\n",
      "{'name': 'status_id', 'type': INTEGER(), 'nullable': True, 'default': None, 'autoincrement': False, 'comment': None}\n",
      "{'name': 'state_id', 'type': INTEGER(), 'nullable': True, 'default': None, 'autoincrement': False, 'comment': None}\n",
      "{'name': 'is_remote', 'type': BOOLEAN(), 'nullable': True, 'default': None, 'autoincrement': False, 'comment': None}\n",
      "{'name': 'is_ad', 'type': BOOLEAN(), 'nullable': True, 'default': None, 'autoincrement': False, 'comment': None}\n",
      "{'name': 'last_updated', 'type': TIMESTAMP(), 'nullable': False, 'default': 'LOCALTIMESTAMP', 'autoincrement': False, 'comment': None}\n",
      "\n",
      "status\n",
      "{'name': 'id', 'type': INTEGER(), 'nullable': False, 'default': \"nextval('status_id_seq'::regclass)\", 'autoincrement': True, 'comment': None}\n",
      "{'name': 'status', 'type': VARCHAR(length=20), 'nullable': False, 'default': None, 'autoincrement': False, 'comment': None}\n",
      "{'name': 'last_updated', 'type': TIMESTAMP(), 'nullable': False, 'default': 'LOCALTIMESTAMP', 'autoincrement': False, 'comment': None}\n",
      "\n",
      "state\n",
      "{'name': 'id', 'type': INTEGER(), 'nullable': False, 'default': \"nextval('state_id_seq'::regclass)\", 'autoincrement': True, 'comment': None}\n",
      "{'name': 'state', 'type': VARCHAR(length=10), 'nullable': False, 'default': None, 'autoincrement': False, 'comment': None}\n",
      "{'name': 'last_updated', 'type': TIMESTAMP(), 'nullable': False, 'default': 'LOCALTIMESTAMP', 'autoincrement': False, 'comment': None}\n",
      "\n"
     ]
    }
   ],
   "source": [
    "# create the inspector and connect to the engine\n",
    "inspector_gadget = inspect(engine)\n",
    "\n",
    "tables = inspector_gadget.get_table_names()\n",
    "for table in tables:\n",
    "    print(table)\n",
    "    \n",
    "    # get all columns in table\n",
    "    columns = inspector_gadget.get_columns(table)\n",
    "    for column in columns:\n",
    "        print(column)\n",
    "    print()"
   ]
  },
  {
   "cell_type": "code",
   "execution_count": 46,
   "id": "68da3345",
   "metadata": {},
   "outputs": [
    {
     "data": {
      "text/html": [
       "<div>\n",
       "<style scoped>\n",
       "    .dataframe tbody tr th:only-of-type {\n",
       "        vertical-align: middle;\n",
       "    }\n",
       "\n",
       "    .dataframe tbody tr th {\n",
       "        vertical-align: top;\n",
       "    }\n",
       "\n",
       "    .dataframe thead th {\n",
       "        text-align: right;\n",
       "    }\n",
       "</style>\n",
       "<table border=\"1\" class=\"dataframe\">\n",
       "  <thead>\n",
       "    <tr style=\"text-align: right;\">\n",
       "      <th></th>\n",
       "      <th>status</th>\n",
       "    </tr>\n",
       "  </thead>\n",
       "  <tbody>\n",
       "    <tr>\n",
       "      <th>0</th>\n",
       "      <td>Full-time</td>\n",
       "    </tr>\n",
       "    <tr>\n",
       "      <th>1</th>\n",
       "      <td>Contract</td>\n",
       "    </tr>\n",
       "    <tr>\n",
       "      <th>2</th>\n",
       "      <td>Internship</td>\n",
       "    </tr>\n",
       "    <tr>\n",
       "      <th>3</th>\n",
       "      <td>Temporary</td>\n",
       "    </tr>\n",
       "    <tr>\n",
       "      <th>4</th>\n",
       "      <td>Part-time</td>\n",
       "    </tr>\n",
       "  </tbody>\n",
       "</table>\n",
       "</div>"
      ],
      "text/plain": [
       "       status\n",
       "0   Full-time\n",
       "1    Contract\n",
       "2  Internship\n",
       "3   Temporary\n",
       "4   Part-time"
      ]
     },
     "execution_count": 46,
     "metadata": {},
     "output_type": "execute_result"
    }
   ],
   "source": [
    "status_df.head()"
   ]
  },
  {
   "cell_type": "code",
   "execution_count": 47,
   "id": "c8f848c8",
   "metadata": {},
   "outputs": [
    {
     "data": {
      "text/plain": [
       "6"
      ]
     },
     "execution_count": 47,
     "metadata": {},
     "output_type": "execute_result"
    }
   ],
   "source": [
    "engine.execute(\"truncate table status restart identity cascade\")\n",
    "status_df.to_sql(\"status\", engine, method=\"multi\", if_exists = \"append\", index=False)"
   ]
  },
  {
   "cell_type": "code",
   "execution_count": 48,
   "id": "eec0db80",
   "metadata": {},
   "outputs": [
    {
     "data": {
      "text/plain": [
       "43"
      ]
     },
     "execution_count": 48,
     "metadata": {},
     "output_type": "execute_result"
    }
   ],
   "source": [
    "engine.execute(\"truncate table state restart identity cascade\")\n",
    "state_df.to_sql(\"state\", engine, method=\"multi\", if_exists = \"append\", index=False)"
   ]
  },
  {
   "cell_type": "code",
   "execution_count": 49,
   "id": "89a275f0",
   "metadata": {},
   "outputs": [
    {
     "name": "stdout",
     "output_type": "stream",
     "text": [
      "<class 'pandas.core.frame.DataFrame'>\n",
      "RangeIndex: 641 entries, 0 to 640\n",
      "Data columns (total 3 columns):\n",
      " #   Column          Non-Null Count  Dtype  \n",
      "---  ------          --------------  -----  \n",
      " 0   company         641 non-null    object \n",
      " 1   company_link    443 non-null    object \n",
      " 2   company_rating  443 non-null    float64\n",
      "dtypes: float64(1), object(2)\n",
      "memory usage: 15.1+ KB\n"
     ]
    }
   ],
   "source": [
    "#Drop one company with no name, inclue in writeup\n",
    "companies = companies.loc[pd.notnull(companies.company)].reset_index(drop=True)\n",
    "companies.info()"
   ]
  },
  {
   "cell_type": "code",
   "execution_count": 50,
   "id": "f08f2a51",
   "metadata": {},
   "outputs": [
    {
     "data": {
      "text/plain": [
       "641"
      ]
     },
     "execution_count": 50,
     "metadata": {},
     "output_type": "execute_result"
    }
   ],
   "source": [
    "engine.execute(\"truncate table company restart identity cascade\")\n",
    "companies.to_sql(\"company\", engine, method=\"multi\", if_exists = \"append\", index=False)"
   ]
  },
  {
   "cell_type": "code",
   "execution_count": null,
   "id": "aad5a39b",
   "metadata": {},
   "outputs": [],
   "source": []
  },
  {
   "cell_type": "code",
   "execution_count": 51,
   "id": "bfe27daf",
   "metadata": {},
   "outputs": [
    {
     "data": {
      "text/html": [
       "<div>\n",
       "<style scoped>\n",
       "    .dataframe tbody tr th:only-of-type {\n",
       "        vertical-align: middle;\n",
       "    }\n",
       "\n",
       "    .dataframe tbody tr th {\n",
       "        vertical-align: top;\n",
       "    }\n",
       "\n",
       "    .dataframe thead th {\n",
       "        text-align: right;\n",
       "    }\n",
       "</style>\n",
       "<table border=\"1\" class=\"dataframe\">\n",
       "  <thead>\n",
       "    <tr style=\"text-align: right;\">\n",
       "      <th></th>\n",
       "      <th>job_title</th>\n",
       "      <th>job_link</th>\n",
       "      <th>company</th>\n",
       "      <th>company_link</th>\n",
       "      <th>company_rating</th>\n",
       "      <th>location</th>\n",
       "      <th>salary</th>\n",
       "      <th>status</th>\n",
       "      <th>state</th>\n",
       "      <th>is_remote</th>\n",
       "      <th>is_ad</th>\n",
       "    </tr>\n",
       "  </thead>\n",
       "  <tbody>\n",
       "    <tr>\n",
       "      <th>0</th>\n",
       "      <td>Quality Data Analyst - Southern Region (MMC an...</td>\n",
       "      <td>www.indeed.com/pagead/clk?mo=r&amp;ad=-6NYlbfkN0Dc...</td>\n",
       "      <td>MaineHealth - Corporate</td>\n",
       "      <td>www.indeed.com/cmp/Mainehealth</td>\n",
       "      <td>3.6</td>\n",
       "      <td>Biddeford, ME 04005</td>\n",
       "      <td>None</td>\n",
       "      <td>Full-time</td>\n",
       "      <td>ME</td>\n",
       "      <td>False</td>\n",
       "      <td>True</td>\n",
       "    </tr>\n",
       "    <tr>\n",
       "      <th>1</th>\n",
       "      <td>Data Analyst</td>\n",
       "      <td>www.indeed.com/pagead/clk?mo=r&amp;ad=-6NYlbfkN0Cy...</td>\n",
       "      <td>Epitec</td>\n",
       "      <td>www.indeed.com/cmp/Epitec</td>\n",
       "      <td>3.5</td>\n",
       "      <td>Chicago, IL</td>\n",
       "      <td>$65 - $70 an hour Employer est.</td>\n",
       "      <td>Full-time</td>\n",
       "      <td>IL</td>\n",
       "      <td>False</td>\n",
       "      <td>True</td>\n",
       "    </tr>\n",
       "    <tr>\n",
       "      <th>2</th>\n",
       "      <td>IT Business Analyst</td>\n",
       "      <td>www.indeed.com/pagead/clk?mo=r&amp;ad=-6NYlbfkN0B8...</td>\n",
       "      <td>ALABAMA PORT AUTHORITY</td>\n",
       "      <td>None</td>\n",
       "      <td>NaN</td>\n",
       "      <td>Mobile, AL 36602 (North Industrial Area area)</td>\n",
       "      <td>$46,000 - $99,000 a year Employer est.</td>\n",
       "      <td>Full-time</td>\n",
       "      <td>AL</td>\n",
       "      <td>False</td>\n",
       "      <td>True</td>\n",
       "    </tr>\n",
       "    <tr>\n",
       "      <th>3</th>\n",
       "      <td>Digital Content Data Analyst (Remote)</td>\n",
       "      <td>www.indeed.com/rc/clk?jk=cbb02ebd1607703e&amp;fcci...</td>\n",
       "      <td>Home Depot / THD</td>\n",
       "      <td>www.indeed.com/cmp/The-Home-Depot</td>\n",
       "      <td>3.7</td>\n",
       "      <td>Remote in Atlanta, GA 30301</td>\n",
       "      <td>$130,000 a year Employer est.</td>\n",
       "      <td>None</td>\n",
       "      <td>GA</td>\n",
       "      <td>True</td>\n",
       "      <td>False</td>\n",
       "    </tr>\n",
       "    <tr>\n",
       "      <th>4</th>\n",
       "      <td>Operating Systems Analyst - Corporate Office</td>\n",
       "      <td>www.indeed.com/pagead/clk?mo=r&amp;ad=-6NYlbfkN0B1...</td>\n",
       "      <td>Lettuce Entertain You Restaurants (Chicago)</td>\n",
       "      <td>www.indeed.com/cmp/Lettuce-Entertain-You</td>\n",
       "      <td>4.0</td>\n",
       "      <td>Chicago, IL 60631 (Norwood Park area)</td>\n",
       "      <td>None</td>\n",
       "      <td>Full-time</td>\n",
       "      <td>IL</td>\n",
       "      <td>False</td>\n",
       "      <td>True</td>\n",
       "    </tr>\n",
       "  </tbody>\n",
       "</table>\n",
       "</div>"
      ],
      "text/plain": [
       "                                           job_title  \\\n",
       "0  Quality Data Analyst - Southern Region (MMC an...   \n",
       "1                                       Data Analyst   \n",
       "2                                IT Business Analyst   \n",
       "3              Digital Content Data Analyst (Remote)   \n",
       "4       Operating Systems Analyst - Corporate Office   \n",
       "\n",
       "                                            job_link  \\\n",
       "0  www.indeed.com/pagead/clk?mo=r&ad=-6NYlbfkN0Dc...   \n",
       "1  www.indeed.com/pagead/clk?mo=r&ad=-6NYlbfkN0Cy...   \n",
       "2  www.indeed.com/pagead/clk?mo=r&ad=-6NYlbfkN0B8...   \n",
       "3  www.indeed.com/rc/clk?jk=cbb02ebd1607703e&fcci...   \n",
       "4  www.indeed.com/pagead/clk?mo=r&ad=-6NYlbfkN0B1...   \n",
       "\n",
       "                                       company  \\\n",
       "0                      MaineHealth - Corporate   \n",
       "1                                       Epitec   \n",
       "2                       ALABAMA PORT AUTHORITY   \n",
       "3                             Home Depot / THD   \n",
       "4  Lettuce Entertain You Restaurants (Chicago)   \n",
       "\n",
       "                               company_link  company_rating  \\\n",
       "0            www.indeed.com/cmp/Mainehealth             3.6   \n",
       "1                 www.indeed.com/cmp/Epitec             3.5   \n",
       "2                                      None             NaN   \n",
       "3         www.indeed.com/cmp/The-Home-Depot             3.7   \n",
       "4  www.indeed.com/cmp/Lettuce-Entertain-You             4.0   \n",
       "\n",
       "                                        location  \\\n",
       "0                            Biddeford, ME 04005   \n",
       "1                                    Chicago, IL   \n",
       "2  Mobile, AL 36602 (North Industrial Area area)   \n",
       "3                    Remote in Atlanta, GA 30301   \n",
       "4          Chicago, IL 60631 (Norwood Park area)   \n",
       "\n",
       "                                   salary     status state  is_remote  is_ad  \n",
       "0                                    None  Full-time    ME      False   True  \n",
       "1         $65 - $70 an hour Employer est.  Full-time    IL      False   True  \n",
       "2  $46,000 - $99,000 a year Employer est.  Full-time    AL      False   True  \n",
       "3           $130,000 a year Employer est.       None    GA       True  False  \n",
       "4                                    None  Full-time    IL      False   True  "
      ]
     },
     "execution_count": 51,
     "metadata": {},
     "output_type": "execute_result"
    }
   ],
   "source": [
    "df.head()"
   ]
  },
  {
   "cell_type": "code",
   "execution_count": 52,
   "id": "a529a2cb",
   "metadata": {},
   "outputs": [
    {
     "data": {
      "text/html": [
       "<div>\n",
       "<style scoped>\n",
       "    .dataframe tbody tr th:only-of-type {\n",
       "        vertical-align: middle;\n",
       "    }\n",
       "\n",
       "    .dataframe tbody tr th {\n",
       "        vertical-align: top;\n",
       "    }\n",
       "\n",
       "    .dataframe thead th {\n",
       "        text-align: right;\n",
       "    }\n",
       "</style>\n",
       "<table border=\"1\" class=\"dataframe\">\n",
       "  <thead>\n",
       "    <tr style=\"text-align: right;\">\n",
       "      <th></th>\n",
       "      <th>status_id</th>\n",
       "      <th>status</th>\n",
       "    </tr>\n",
       "  </thead>\n",
       "  <tbody>\n",
       "    <tr>\n",
       "      <th>0</th>\n",
       "      <td>1</td>\n",
       "      <td>Full-time</td>\n",
       "    </tr>\n",
       "    <tr>\n",
       "      <th>1</th>\n",
       "      <td>2</td>\n",
       "      <td>Contract</td>\n",
       "    </tr>\n",
       "    <tr>\n",
       "      <th>2</th>\n",
       "      <td>3</td>\n",
       "      <td>Internship</td>\n",
       "    </tr>\n",
       "    <tr>\n",
       "      <th>3</th>\n",
       "      <td>4</td>\n",
       "      <td>Temporary</td>\n",
       "    </tr>\n",
       "    <tr>\n",
       "      <th>4</th>\n",
       "      <td>5</td>\n",
       "      <td>Part-time</td>\n",
       "    </tr>\n",
       "    <tr>\n",
       "      <th>5</th>\n",
       "      <td>6</td>\n",
       "      <td>Seasonal</td>\n",
       "    </tr>\n",
       "  </tbody>\n",
       "</table>\n",
       "</div>"
      ],
      "text/plain": [
       "   status_id      status\n",
       "0          1   Full-time\n",
       "1          2    Contract\n",
       "2          3  Internship\n",
       "3          4   Temporary\n",
       "4          5   Part-time\n",
       "5          6    Seasonal"
      ]
     },
     "execution_count": 52,
     "metadata": {},
     "output_type": "execute_result"
    }
   ],
   "source": [
    "status2 = pd.read_sql(\"select id as status_id, status from status\", engine)\n",
    "status2.head(20)"
   ]
  },
  {
   "cell_type": "code",
   "execution_count": 53,
   "id": "f7ac9e03",
   "metadata": {},
   "outputs": [
    {
     "data": {
      "text/html": [
       "<div>\n",
       "<style scoped>\n",
       "    .dataframe tbody tr th:only-of-type {\n",
       "        vertical-align: middle;\n",
       "    }\n",
       "\n",
       "    .dataframe tbody tr th {\n",
       "        vertical-align: top;\n",
       "    }\n",
       "\n",
       "    .dataframe thead th {\n",
       "        text-align: right;\n",
       "    }\n",
       "</style>\n",
       "<table border=\"1\" class=\"dataframe\">\n",
       "  <thead>\n",
       "    <tr style=\"text-align: right;\">\n",
       "      <th></th>\n",
       "      <th>job_title</th>\n",
       "      <th>job_link</th>\n",
       "      <th>company</th>\n",
       "      <th>company_link</th>\n",
       "      <th>company_rating</th>\n",
       "      <th>location</th>\n",
       "      <th>salary</th>\n",
       "      <th>state</th>\n",
       "      <th>is_remote</th>\n",
       "      <th>is_ad</th>\n",
       "      <th>status_id</th>\n",
       "    </tr>\n",
       "  </thead>\n",
       "  <tbody>\n",
       "    <tr>\n",
       "      <th>0</th>\n",
       "      <td>Quality Data Analyst - Southern Region (MMC an...</td>\n",
       "      <td>www.indeed.com/pagead/clk?mo=r&amp;ad=-6NYlbfkN0Dc...</td>\n",
       "      <td>MaineHealth - Corporate</td>\n",
       "      <td>www.indeed.com/cmp/Mainehealth</td>\n",
       "      <td>3.6</td>\n",
       "      <td>Biddeford, ME 04005</td>\n",
       "      <td>None</td>\n",
       "      <td>ME</td>\n",
       "      <td>False</td>\n",
       "      <td>True</td>\n",
       "      <td>1.0</td>\n",
       "    </tr>\n",
       "    <tr>\n",
       "      <th>1</th>\n",
       "      <td>Data Analyst</td>\n",
       "      <td>www.indeed.com/pagead/clk?mo=r&amp;ad=-6NYlbfkN0Cy...</td>\n",
       "      <td>Epitec</td>\n",
       "      <td>www.indeed.com/cmp/Epitec</td>\n",
       "      <td>3.5</td>\n",
       "      <td>Chicago, IL</td>\n",
       "      <td>$65 - $70 an hour Employer est.</td>\n",
       "      <td>IL</td>\n",
       "      <td>False</td>\n",
       "      <td>True</td>\n",
       "      <td>1.0</td>\n",
       "    </tr>\n",
       "    <tr>\n",
       "      <th>2</th>\n",
       "      <td>IT Business Analyst</td>\n",
       "      <td>www.indeed.com/pagead/clk?mo=r&amp;ad=-6NYlbfkN0B8...</td>\n",
       "      <td>ALABAMA PORT AUTHORITY</td>\n",
       "      <td>None</td>\n",
       "      <td>NaN</td>\n",
       "      <td>Mobile, AL 36602 (North Industrial Area area)</td>\n",
       "      <td>$46,000 - $99,000 a year Employer est.</td>\n",
       "      <td>AL</td>\n",
       "      <td>False</td>\n",
       "      <td>True</td>\n",
       "      <td>1.0</td>\n",
       "    </tr>\n",
       "    <tr>\n",
       "      <th>3</th>\n",
       "      <td>Digital Content Data Analyst (Remote)</td>\n",
       "      <td>www.indeed.com/rc/clk?jk=cbb02ebd1607703e&amp;fcci...</td>\n",
       "      <td>Home Depot / THD</td>\n",
       "      <td>www.indeed.com/cmp/The-Home-Depot</td>\n",
       "      <td>3.7</td>\n",
       "      <td>Remote in Atlanta, GA 30301</td>\n",
       "      <td>$130,000 a year Employer est.</td>\n",
       "      <td>GA</td>\n",
       "      <td>True</td>\n",
       "      <td>False</td>\n",
       "      <td>NaN</td>\n",
       "    </tr>\n",
       "    <tr>\n",
       "      <th>4</th>\n",
       "      <td>Operating Systems Analyst - Corporate Office</td>\n",
       "      <td>www.indeed.com/pagead/clk?mo=r&amp;ad=-6NYlbfkN0B1...</td>\n",
       "      <td>Lettuce Entertain You Restaurants (Chicago)</td>\n",
       "      <td>www.indeed.com/cmp/Lettuce-Entertain-You</td>\n",
       "      <td>4.0</td>\n",
       "      <td>Chicago, IL 60631 (Norwood Park area)</td>\n",
       "      <td>None</td>\n",
       "      <td>IL</td>\n",
       "      <td>False</td>\n",
       "      <td>True</td>\n",
       "      <td>1.0</td>\n",
       "    </tr>\n",
       "  </tbody>\n",
       "</table>\n",
       "</div>"
      ],
      "text/plain": [
       "                                           job_title  \\\n",
       "0  Quality Data Analyst - Southern Region (MMC an...   \n",
       "1                                       Data Analyst   \n",
       "2                                IT Business Analyst   \n",
       "3              Digital Content Data Analyst (Remote)   \n",
       "4       Operating Systems Analyst - Corporate Office   \n",
       "\n",
       "                                            job_link  \\\n",
       "0  www.indeed.com/pagead/clk?mo=r&ad=-6NYlbfkN0Dc...   \n",
       "1  www.indeed.com/pagead/clk?mo=r&ad=-6NYlbfkN0Cy...   \n",
       "2  www.indeed.com/pagead/clk?mo=r&ad=-6NYlbfkN0B8...   \n",
       "3  www.indeed.com/rc/clk?jk=cbb02ebd1607703e&fcci...   \n",
       "4  www.indeed.com/pagead/clk?mo=r&ad=-6NYlbfkN0B1...   \n",
       "\n",
       "                                       company  \\\n",
       "0                      MaineHealth - Corporate   \n",
       "1                                       Epitec   \n",
       "2                       ALABAMA PORT AUTHORITY   \n",
       "3                             Home Depot / THD   \n",
       "4  Lettuce Entertain You Restaurants (Chicago)   \n",
       "\n",
       "                               company_link  company_rating  \\\n",
       "0            www.indeed.com/cmp/Mainehealth             3.6   \n",
       "1                 www.indeed.com/cmp/Epitec             3.5   \n",
       "2                                      None             NaN   \n",
       "3         www.indeed.com/cmp/The-Home-Depot             3.7   \n",
       "4  www.indeed.com/cmp/Lettuce-Entertain-You             4.0   \n",
       "\n",
       "                                        location  \\\n",
       "0                            Biddeford, ME 04005   \n",
       "1                                    Chicago, IL   \n",
       "2  Mobile, AL 36602 (North Industrial Area area)   \n",
       "3                    Remote in Atlanta, GA 30301   \n",
       "4          Chicago, IL 60631 (Norwood Park area)   \n",
       "\n",
       "                                   salary state  is_remote  is_ad  status_id  \n",
       "0                                    None    ME      False   True        1.0  \n",
       "1         $65 - $70 an hour Employer est.    IL      False   True        1.0  \n",
       "2  $46,000 - $99,000 a year Employer est.    AL      False   True        1.0  \n",
       "3           $130,000 a year Employer est.    GA       True  False        NaN  \n",
       "4                                    None    IL      False   True        1.0  "
      ]
     },
     "execution_count": 53,
     "metadata": {},
     "output_type": "execute_result"
    }
   ],
   "source": [
    "df = pd.merge(df, status2, on = \"status\", how =\"left\")\n",
    "df.drop(\"status\", axis=1, inplace=True)\n",
    "df.head()"
   ]
  },
  {
   "cell_type": "code",
   "execution_count": 54,
   "id": "9a768d28",
   "metadata": {},
   "outputs": [
    {
     "data": {
      "text/html": [
       "<div>\n",
       "<style scoped>\n",
       "    .dataframe tbody tr th:only-of-type {\n",
       "        vertical-align: middle;\n",
       "    }\n",
       "\n",
       "    .dataframe tbody tr th {\n",
       "        vertical-align: top;\n",
       "    }\n",
       "\n",
       "    .dataframe thead th {\n",
       "        text-align: right;\n",
       "    }\n",
       "</style>\n",
       "<table border=\"1\" class=\"dataframe\">\n",
       "  <thead>\n",
       "    <tr style=\"text-align: right;\">\n",
       "      <th></th>\n",
       "      <th>job_title</th>\n",
       "      <th>job_link</th>\n",
       "      <th>company</th>\n",
       "      <th>company_link</th>\n",
       "      <th>company_rating</th>\n",
       "      <th>location</th>\n",
       "      <th>salary</th>\n",
       "      <th>state</th>\n",
       "      <th>is_remote</th>\n",
       "      <th>is_ad</th>\n",
       "      <th>status_id</th>\n",
       "    </tr>\n",
       "  </thead>\n",
       "  <tbody>\n",
       "    <tr>\n",
       "      <th>0</th>\n",
       "      <td>Quality Data Analyst - Southern Region (MMC an...</td>\n",
       "      <td>www.indeed.com/pagead/clk?mo=r&amp;ad=-6NYlbfkN0Dc...</td>\n",
       "      <td>MaineHealth - Corporate</td>\n",
       "      <td>www.indeed.com/cmp/Mainehealth</td>\n",
       "      <td>3.6</td>\n",
       "      <td>Biddeford, ME 04005</td>\n",
       "      <td>None</td>\n",
       "      <td>ME</td>\n",
       "      <td>False</td>\n",
       "      <td>True</td>\n",
       "      <td>1.0</td>\n",
       "    </tr>\n",
       "    <tr>\n",
       "      <th>1</th>\n",
       "      <td>Data Analyst</td>\n",
       "      <td>www.indeed.com/pagead/clk?mo=r&amp;ad=-6NYlbfkN0Cy...</td>\n",
       "      <td>Epitec</td>\n",
       "      <td>www.indeed.com/cmp/Epitec</td>\n",
       "      <td>3.5</td>\n",
       "      <td>Chicago, IL</td>\n",
       "      <td>$65 - $70 an hour Employer est.</td>\n",
       "      <td>IL</td>\n",
       "      <td>False</td>\n",
       "      <td>True</td>\n",
       "      <td>1.0</td>\n",
       "    </tr>\n",
       "    <tr>\n",
       "      <th>2</th>\n",
       "      <td>IT Business Analyst</td>\n",
       "      <td>www.indeed.com/pagead/clk?mo=r&amp;ad=-6NYlbfkN0B8...</td>\n",
       "      <td>ALABAMA PORT AUTHORITY</td>\n",
       "      <td>None</td>\n",
       "      <td>NaN</td>\n",
       "      <td>Mobile, AL 36602 (North Industrial Area area)</td>\n",
       "      <td>$46,000 - $99,000 a year Employer est.</td>\n",
       "      <td>AL</td>\n",
       "      <td>False</td>\n",
       "      <td>True</td>\n",
       "      <td>1.0</td>\n",
       "    </tr>\n",
       "    <tr>\n",
       "      <th>3</th>\n",
       "      <td>Digital Content Data Analyst (Remote)</td>\n",
       "      <td>www.indeed.com/rc/clk?jk=cbb02ebd1607703e&amp;fcci...</td>\n",
       "      <td>Home Depot / THD</td>\n",
       "      <td>www.indeed.com/cmp/The-Home-Depot</td>\n",
       "      <td>3.7</td>\n",
       "      <td>Remote in Atlanta, GA 30301</td>\n",
       "      <td>$130,000 a year Employer est.</td>\n",
       "      <td>GA</td>\n",
       "      <td>True</td>\n",
       "      <td>False</td>\n",
       "      <td>NaN</td>\n",
       "    </tr>\n",
       "    <tr>\n",
       "      <th>4</th>\n",
       "      <td>Operating Systems Analyst - Corporate Office</td>\n",
       "      <td>www.indeed.com/pagead/clk?mo=r&amp;ad=-6NYlbfkN0B1...</td>\n",
       "      <td>Lettuce Entertain You Restaurants (Chicago)</td>\n",
       "      <td>www.indeed.com/cmp/Lettuce-Entertain-You</td>\n",
       "      <td>4.0</td>\n",
       "      <td>Chicago, IL 60631 (Norwood Park area)</td>\n",
       "      <td>None</td>\n",
       "      <td>IL</td>\n",
       "      <td>False</td>\n",
       "      <td>True</td>\n",
       "      <td>1.0</td>\n",
       "    </tr>\n",
       "  </tbody>\n",
       "</table>\n",
       "</div>"
      ],
      "text/plain": [
       "                                           job_title  \\\n",
       "0  Quality Data Analyst - Southern Region (MMC an...   \n",
       "1                                       Data Analyst   \n",
       "2                                IT Business Analyst   \n",
       "3              Digital Content Data Analyst (Remote)   \n",
       "4       Operating Systems Analyst - Corporate Office   \n",
       "\n",
       "                                            job_link  \\\n",
       "0  www.indeed.com/pagead/clk?mo=r&ad=-6NYlbfkN0Dc...   \n",
       "1  www.indeed.com/pagead/clk?mo=r&ad=-6NYlbfkN0Cy...   \n",
       "2  www.indeed.com/pagead/clk?mo=r&ad=-6NYlbfkN0B8...   \n",
       "3  www.indeed.com/rc/clk?jk=cbb02ebd1607703e&fcci...   \n",
       "4  www.indeed.com/pagead/clk?mo=r&ad=-6NYlbfkN0B1...   \n",
       "\n",
       "                                       company  \\\n",
       "0                      MaineHealth - Corporate   \n",
       "1                                       Epitec   \n",
       "2                       ALABAMA PORT AUTHORITY   \n",
       "3                             Home Depot / THD   \n",
       "4  Lettuce Entertain You Restaurants (Chicago)   \n",
       "\n",
       "                               company_link  company_rating  \\\n",
       "0            www.indeed.com/cmp/Mainehealth             3.6   \n",
       "1                 www.indeed.com/cmp/Epitec             3.5   \n",
       "2                                      None             NaN   \n",
       "3         www.indeed.com/cmp/The-Home-Depot             3.7   \n",
       "4  www.indeed.com/cmp/Lettuce-Entertain-You             4.0   \n",
       "\n",
       "                                        location  \\\n",
       "0                            Biddeford, ME 04005   \n",
       "1                                    Chicago, IL   \n",
       "2  Mobile, AL 36602 (North Industrial Area area)   \n",
       "3                    Remote in Atlanta, GA 30301   \n",
       "4          Chicago, IL 60631 (Norwood Park area)   \n",
       "\n",
       "                                   salary state  is_remote  is_ad  status_id  \n",
       "0                                    None    ME      False   True        1.0  \n",
       "1         $65 - $70 an hour Employer est.    IL      False   True        1.0  \n",
       "2  $46,000 - $99,000 a year Employer est.    AL      False   True        1.0  \n",
       "3           $130,000 a year Employer est.    GA       True  False        NaN  \n",
       "4                                    None    IL      False   True        1.0  "
      ]
     },
     "execution_count": 54,
     "metadata": {},
     "output_type": "execute_result"
    }
   ],
   "source": [
    "df.head()"
   ]
  },
  {
   "cell_type": "code",
   "execution_count": 55,
   "id": "e2ab7c79",
   "metadata": {},
   "outputs": [
    {
     "data": {
      "text/html": [
       "<div>\n",
       "<style scoped>\n",
       "    .dataframe tbody tr th:only-of-type {\n",
       "        vertical-align: middle;\n",
       "    }\n",
       "\n",
       "    .dataframe tbody tr th {\n",
       "        vertical-align: top;\n",
       "    }\n",
       "\n",
       "    .dataframe thead th {\n",
       "        text-align: right;\n",
       "    }\n",
       "</style>\n",
       "<table border=\"1\" class=\"dataframe\">\n",
       "  <thead>\n",
       "    <tr style=\"text-align: right;\">\n",
       "      <th></th>\n",
       "      <th>job_title</th>\n",
       "      <th>job_link</th>\n",
       "      <th>company</th>\n",
       "      <th>company_link</th>\n",
       "      <th>company_rating</th>\n",
       "      <th>location</th>\n",
       "      <th>salary</th>\n",
       "      <th>is_remote</th>\n",
       "      <th>is_ad</th>\n",
       "      <th>status_id</th>\n",
       "      <th>state_id</th>\n",
       "    </tr>\n",
       "  </thead>\n",
       "  <tbody>\n",
       "    <tr>\n",
       "      <th>0</th>\n",
       "      <td>Quality Data Analyst - Southern Region (MMC an...</td>\n",
       "      <td>www.indeed.com/pagead/clk?mo=r&amp;ad=-6NYlbfkN0Dc...</td>\n",
       "      <td>MaineHealth - Corporate</td>\n",
       "      <td>www.indeed.com/cmp/Mainehealth</td>\n",
       "      <td>3.6</td>\n",
       "      <td>Biddeford, ME 04005</td>\n",
       "      <td>None</td>\n",
       "      <td>False</td>\n",
       "      <td>True</td>\n",
       "      <td>1.0</td>\n",
       "      <td>1.0</td>\n",
       "    </tr>\n",
       "    <tr>\n",
       "      <th>1</th>\n",
       "      <td>Data Analyst</td>\n",
       "      <td>www.indeed.com/pagead/clk?mo=r&amp;ad=-6NYlbfkN0Cy...</td>\n",
       "      <td>Epitec</td>\n",
       "      <td>www.indeed.com/cmp/Epitec</td>\n",
       "      <td>3.5</td>\n",
       "      <td>Chicago, IL</td>\n",
       "      <td>$65 - $70 an hour Employer est.</td>\n",
       "      <td>False</td>\n",
       "      <td>True</td>\n",
       "      <td>1.0</td>\n",
       "      <td>2.0</td>\n",
       "    </tr>\n",
       "    <tr>\n",
       "      <th>2</th>\n",
       "      <td>IT Business Analyst</td>\n",
       "      <td>www.indeed.com/pagead/clk?mo=r&amp;ad=-6NYlbfkN0B8...</td>\n",
       "      <td>ALABAMA PORT AUTHORITY</td>\n",
       "      <td>None</td>\n",
       "      <td>NaN</td>\n",
       "      <td>Mobile, AL 36602 (North Industrial Area area)</td>\n",
       "      <td>$46,000 - $99,000 a year Employer est.</td>\n",
       "      <td>False</td>\n",
       "      <td>True</td>\n",
       "      <td>1.0</td>\n",
       "      <td>3.0</td>\n",
       "    </tr>\n",
       "    <tr>\n",
       "      <th>3</th>\n",
       "      <td>Digital Content Data Analyst (Remote)</td>\n",
       "      <td>www.indeed.com/rc/clk?jk=cbb02ebd1607703e&amp;fcci...</td>\n",
       "      <td>Home Depot / THD</td>\n",
       "      <td>www.indeed.com/cmp/The-Home-Depot</td>\n",
       "      <td>3.7</td>\n",
       "      <td>Remote in Atlanta, GA 30301</td>\n",
       "      <td>$130,000 a year Employer est.</td>\n",
       "      <td>True</td>\n",
       "      <td>False</td>\n",
       "      <td>NaN</td>\n",
       "      <td>4.0</td>\n",
       "    </tr>\n",
       "    <tr>\n",
       "      <th>4</th>\n",
       "      <td>Operating Systems Analyst - Corporate Office</td>\n",
       "      <td>www.indeed.com/pagead/clk?mo=r&amp;ad=-6NYlbfkN0B1...</td>\n",
       "      <td>Lettuce Entertain You Restaurants (Chicago)</td>\n",
       "      <td>www.indeed.com/cmp/Lettuce-Entertain-You</td>\n",
       "      <td>4.0</td>\n",
       "      <td>Chicago, IL 60631 (Norwood Park area)</td>\n",
       "      <td>None</td>\n",
       "      <td>False</td>\n",
       "      <td>True</td>\n",
       "      <td>1.0</td>\n",
       "      <td>2.0</td>\n",
       "    </tr>\n",
       "  </tbody>\n",
       "</table>\n",
       "</div>"
      ],
      "text/plain": [
       "                                           job_title  \\\n",
       "0  Quality Data Analyst - Southern Region (MMC an...   \n",
       "1                                       Data Analyst   \n",
       "2                                IT Business Analyst   \n",
       "3              Digital Content Data Analyst (Remote)   \n",
       "4       Operating Systems Analyst - Corporate Office   \n",
       "\n",
       "                                            job_link  \\\n",
       "0  www.indeed.com/pagead/clk?mo=r&ad=-6NYlbfkN0Dc...   \n",
       "1  www.indeed.com/pagead/clk?mo=r&ad=-6NYlbfkN0Cy...   \n",
       "2  www.indeed.com/pagead/clk?mo=r&ad=-6NYlbfkN0B8...   \n",
       "3  www.indeed.com/rc/clk?jk=cbb02ebd1607703e&fcci...   \n",
       "4  www.indeed.com/pagead/clk?mo=r&ad=-6NYlbfkN0B1...   \n",
       "\n",
       "                                       company  \\\n",
       "0                      MaineHealth - Corporate   \n",
       "1                                       Epitec   \n",
       "2                       ALABAMA PORT AUTHORITY   \n",
       "3                             Home Depot / THD   \n",
       "4  Lettuce Entertain You Restaurants (Chicago)   \n",
       "\n",
       "                               company_link  company_rating  \\\n",
       "0            www.indeed.com/cmp/Mainehealth             3.6   \n",
       "1                 www.indeed.com/cmp/Epitec             3.5   \n",
       "2                                      None             NaN   \n",
       "3         www.indeed.com/cmp/The-Home-Depot             3.7   \n",
       "4  www.indeed.com/cmp/Lettuce-Entertain-You             4.0   \n",
       "\n",
       "                                        location  \\\n",
       "0                            Biddeford, ME 04005   \n",
       "1                                    Chicago, IL   \n",
       "2  Mobile, AL 36602 (North Industrial Area area)   \n",
       "3                    Remote in Atlanta, GA 30301   \n",
       "4          Chicago, IL 60631 (Norwood Park area)   \n",
       "\n",
       "                                   salary  is_remote  is_ad  status_id  \\\n",
       "0                                    None      False   True        1.0   \n",
       "1         $65 - $70 an hour Employer est.      False   True        1.0   \n",
       "2  $46,000 - $99,000 a year Employer est.      False   True        1.0   \n",
       "3           $130,000 a year Employer est.       True  False        NaN   \n",
       "4                                    None      False   True        1.0   \n",
       "\n",
       "   state_id  \n",
       "0       1.0  \n",
       "1       2.0  \n",
       "2       3.0  \n",
       "3       4.0  \n",
       "4       2.0  "
      ]
     },
     "execution_count": 55,
     "metadata": {},
     "output_type": "execute_result"
    }
   ],
   "source": [
    "state2 = pd.read_sql(\"select id as state_id, state from state\", engine)\n",
    "df = pd.merge(df, state2, on = \"state\", how =\"left\")\n",
    "df.drop(\"state\", axis=1, inplace=True)\n",
    "df.head()"
   ]
  },
  {
   "cell_type": "code",
   "execution_count": 56,
   "id": "e52b031e",
   "metadata": {},
   "outputs": [
    {
     "data": {
      "text/html": [
       "<div>\n",
       "<style scoped>\n",
       "    .dataframe tbody tr th:only-of-type {\n",
       "        vertical-align: middle;\n",
       "    }\n",
       "\n",
       "    .dataframe tbody tr th {\n",
       "        vertical-align: top;\n",
       "    }\n",
       "\n",
       "    .dataframe thead th {\n",
       "        text-align: right;\n",
       "    }\n",
       "</style>\n",
       "<table border=\"1\" class=\"dataframe\">\n",
       "  <thead>\n",
       "    <tr style=\"text-align: right;\">\n",
       "      <th></th>\n",
       "      <th>job_title</th>\n",
       "      <th>job_link</th>\n",
       "      <th>location</th>\n",
       "      <th>salary</th>\n",
       "      <th>is_remote</th>\n",
       "      <th>is_ad</th>\n",
       "      <th>status_id</th>\n",
       "      <th>state_id</th>\n",
       "      <th>company_id</th>\n",
       "    </tr>\n",
       "  </thead>\n",
       "  <tbody>\n",
       "    <tr>\n",
       "      <th>0</th>\n",
       "      <td>Quality Data Analyst - Southern Region (MMC an...</td>\n",
       "      <td>www.indeed.com/pagead/clk?mo=r&amp;ad=-6NYlbfkN0Dc...</td>\n",
       "      <td>Biddeford, ME 04005</td>\n",
       "      <td>None</td>\n",
       "      <td>False</td>\n",
       "      <td>True</td>\n",
       "      <td>1.0</td>\n",
       "      <td>1.0</td>\n",
       "      <td>1.0</td>\n",
       "    </tr>\n",
       "    <tr>\n",
       "      <th>1</th>\n",
       "      <td>Data Analyst</td>\n",
       "      <td>www.indeed.com/pagead/clk?mo=r&amp;ad=-6NYlbfkN0Cy...</td>\n",
       "      <td>Chicago, IL</td>\n",
       "      <td>$65 - $70 an hour Employer est.</td>\n",
       "      <td>False</td>\n",
       "      <td>True</td>\n",
       "      <td>1.0</td>\n",
       "      <td>2.0</td>\n",
       "      <td>2.0</td>\n",
       "    </tr>\n",
       "    <tr>\n",
       "      <th>2</th>\n",
       "      <td>IT Business Analyst</td>\n",
       "      <td>www.indeed.com/pagead/clk?mo=r&amp;ad=-6NYlbfkN0B8...</td>\n",
       "      <td>Mobile, AL 36602 (North Industrial Area area)</td>\n",
       "      <td>$46,000 - $99,000 a year Employer est.</td>\n",
       "      <td>False</td>\n",
       "      <td>True</td>\n",
       "      <td>1.0</td>\n",
       "      <td>3.0</td>\n",
       "      <td>3.0</td>\n",
       "    </tr>\n",
       "    <tr>\n",
       "      <th>3</th>\n",
       "      <td>Digital Content Data Analyst (Remote)</td>\n",
       "      <td>www.indeed.com/rc/clk?jk=cbb02ebd1607703e&amp;fcci...</td>\n",
       "      <td>Remote in Atlanta, GA 30301</td>\n",
       "      <td>$130,000 a year Employer est.</td>\n",
       "      <td>True</td>\n",
       "      <td>False</td>\n",
       "      <td>NaN</td>\n",
       "      <td>4.0</td>\n",
       "      <td>4.0</td>\n",
       "    </tr>\n",
       "    <tr>\n",
       "      <th>4</th>\n",
       "      <td>Operating Systems Analyst - Corporate Office</td>\n",
       "      <td>www.indeed.com/pagead/clk?mo=r&amp;ad=-6NYlbfkN0B1...</td>\n",
       "      <td>Chicago, IL 60631 (Norwood Park area)</td>\n",
       "      <td>None</td>\n",
       "      <td>False</td>\n",
       "      <td>True</td>\n",
       "      <td>1.0</td>\n",
       "      <td>2.0</td>\n",
       "      <td>5.0</td>\n",
       "    </tr>\n",
       "  </tbody>\n",
       "</table>\n",
       "</div>"
      ],
      "text/plain": [
       "                                           job_title  \\\n",
       "0  Quality Data Analyst - Southern Region (MMC an...   \n",
       "1                                       Data Analyst   \n",
       "2                                IT Business Analyst   \n",
       "3              Digital Content Data Analyst (Remote)   \n",
       "4       Operating Systems Analyst - Corporate Office   \n",
       "\n",
       "                                            job_link  \\\n",
       "0  www.indeed.com/pagead/clk?mo=r&ad=-6NYlbfkN0Dc...   \n",
       "1  www.indeed.com/pagead/clk?mo=r&ad=-6NYlbfkN0Cy...   \n",
       "2  www.indeed.com/pagead/clk?mo=r&ad=-6NYlbfkN0B8...   \n",
       "3  www.indeed.com/rc/clk?jk=cbb02ebd1607703e&fcci...   \n",
       "4  www.indeed.com/pagead/clk?mo=r&ad=-6NYlbfkN0B1...   \n",
       "\n",
       "                                        location  \\\n",
       "0                            Biddeford, ME 04005   \n",
       "1                                    Chicago, IL   \n",
       "2  Mobile, AL 36602 (North Industrial Area area)   \n",
       "3                    Remote in Atlanta, GA 30301   \n",
       "4          Chicago, IL 60631 (Norwood Park area)   \n",
       "\n",
       "                                   salary  is_remote  is_ad  status_id  \\\n",
       "0                                    None      False   True        1.0   \n",
       "1         $65 - $70 an hour Employer est.      False   True        1.0   \n",
       "2  $46,000 - $99,000 a year Employer est.      False   True        1.0   \n",
       "3           $130,000 a year Employer est.       True  False        NaN   \n",
       "4                                    None      False   True        1.0   \n",
       "\n",
       "   state_id  company_id  \n",
       "0       1.0         1.0  \n",
       "1       2.0         2.0  \n",
       "2       3.0         3.0  \n",
       "3       4.0         4.0  \n",
       "4       2.0         5.0  "
      ]
     },
     "execution_count": 56,
     "metadata": {},
     "output_type": "execute_result"
    }
   ],
   "source": [
    "company2 = pd.read_sql(\"select id as company_id, company from company\", engine)\n",
    "df = pd.merge(df, company2, on = \"company\", how =\"left\")\n",
    "df.drop([\"company\", \"company_link\", \"company_rating\"], axis=1, inplace=True)\n",
    "df.head()"
   ]
  },
  {
   "cell_type": "code",
   "execution_count": 57,
   "id": "eed90436",
   "metadata": {},
   "outputs": [
    {
     "data": {
      "text/plain": [
       "735"
      ]
     },
     "execution_count": 57,
     "metadata": {},
     "output_type": "execute_result"
    }
   ],
   "source": [
    "#Database\n",
    "df.to_sql(\"job\", engine, method=\"multi\", if_exists = \"append\", index=False)"
   ]
  },
  {
   "cell_type": "code",
   "execution_count": null,
   "id": "b2013c4b",
   "metadata": {},
   "outputs": [],
   "source": []
  },
  {
   "cell_type": "markdown",
   "id": "94fcd109",
   "metadata": {},
   "source": [
    "Test Code & Trials"
   ]
  },
  {
   "cell_type": "code",
   "execution_count": null,
   "id": "4ca11719",
   "metadata": {},
   "outputs": [],
   "source": [
    "#Find the jobs titles for positions and the link IF available\n",
    "#job = jobs[0]\n",
    "#title = job.find('a', {\"class\": 'jcs-JobTitle'}).text\n",
    "#link = \"www.indeed.com\" + job.find('a', {\"class\": 'jcs-JobTitle'})[\"href\"]"
   ]
  },
  {
   "cell_type": "code",
   "execution_count": null,
   "id": "f830f09f",
   "metadata": {},
   "outputs": [],
   "source": [
    "#Find company name and the link IF available\n",
    "#company = job.find('a', {\"class\": 'companyOverviewLink'}).text\n",
    "#company_link = \"www.indeed.com\" + job.find('a', {\"class\": 'companyOverviewLink'})[\"href\"]"
   ]
  },
  {
   "cell_type": "code",
   "execution_count": null,
   "id": "65327b56",
   "metadata": {},
   "outputs": [],
   "source": [
    "#Find the rating for the company/job\n",
    "#rating = job.find('span', {\"class\": 'ratingNumber'}).text\n",
    "#rating"
   ]
  },
  {
   "cell_type": "code",
   "execution_count": null,
   "id": "c7100fb7",
   "metadata": {},
   "outputs": [],
   "source": [
    "#Find the location of the job listing\n",
    "#loc = job.find('div', {\"class\": 'companyLocation'}).text\n",
    "#loc"
   ]
  },
  {
   "cell_type": "code",
   "execution_count": null,
   "id": "e89d6f55",
   "metadata": {},
   "outputs": [],
   "source": [
    "#Find the salary for the job listing\n",
    "#salary = job.find('div', {\"class\": 'salary-snippet-container'}).text\n",
    "#salary"
   ]
  },
  {
   "cell_type": "code",
   "execution_count": null,
   "id": "2d23b874",
   "metadata": {},
   "outputs": [],
   "source": [
    "#Pull the text only from the parent for job salary\n",
    "#job.find('svg', {\"aria-label\": \"Job type\"}).parent.text"
   ]
  },
  {
   "cell_type": "code",
   "execution_count": null,
   "id": "fa894664",
   "metadata": {},
   "outputs": [],
   "source": [
    "#Don't worry about it\n",
    "# def getCity(loc):\n",
    "#     if \",\" in loc:\n",
    "#         city_list = loc.replace(\"\\xa0\", \" \").split(\",\")[0].strip().split(\" \")\n",
    "#         city = city_list[0] if len(city_list) ==1 else city_list[1]\n",
    "#     else:\n",
    "#         city = None\n",
    "        \n",
    "#     return(city)"
   ]
  },
  {
   "cell_type": "code",
   "execution_count": null,
   "id": "c3d5f31c",
   "metadata": {},
   "outputs": [],
   "source": [
    "# df[\"city\"] = df.location.apply(lambda x: getCity(x))\n",
    "# df.info()"
   ]
  },
  {
   "cell_type": "code",
   "execution_count": null,
   "id": "4cd337e3",
   "metadata": {},
   "outputs": [],
   "source": [
    "# df.city.value_counts()"
   ]
  },
  {
   "cell_type": "code",
   "execution_count": null,
   "id": "98fa61c7",
   "metadata": {},
   "outputs": [],
   "source": [
    "# df.loc[df.location.str.contains(\"in\")]"
   ]
  },
  {
   "cell_type": "code",
   "execution_count": null,
   "id": "2c4d4e03",
   "metadata": {},
   "outputs": [],
   "source": [
    "#Create a CSV for companies \n",
    "#companies.to_csv('companies.csv', index=False)"
   ]
  },
  {
   "cell_type": "code",
   "execution_count": null,
   "id": "431f2aea",
   "metadata": {},
   "outputs": [],
   "source": [
    "#companies_file = pd.read_csv('companies.csv')\n",
    "#companies_file"
   ]
  },
  {
   "cell_type": "code",
   "execution_count": null,
   "id": "42e45db4",
   "metadata": {},
   "outputs": [],
   "source": [
    "#Create a CSV for States\n",
    "#state_df.to_csv('state.csv', index=False)"
   ]
  },
  {
   "cell_type": "code",
   "execution_count": null,
   "id": "33c9358a",
   "metadata": {},
   "outputs": [],
   "source": [
    "#state_file = pd.read_csv('state.csv')\n",
    "#state_file"
   ]
  },
  {
   "cell_type": "code",
   "execution_count": null,
   "id": "96606355",
   "metadata": {},
   "outputs": [],
   "source": [
    "#Create a CSV for status (Full-time/part-time)\n",
    "#status_df.to_csv('status.csv', index=False)"
   ]
  },
  {
   "cell_type": "code",
   "execution_count": null,
   "id": "3778376d",
   "metadata": {},
   "outputs": [],
   "source": [
    "#status_file = pd.read_csv('status.csv')\n",
    "#status_file"
   ]
  },
  {
   "cell_type": "code",
   "execution_count": null,
   "id": "b8632c4b",
   "metadata": {},
   "outputs": [],
   "source": [
    "#Set-up sleep function if needed\n",
    "# browser.visit(dice_lyst)\n",
    "# time.sleep(2)"
   ]
  }
 ],
 "metadata": {
  "kernelspec": {
   "display_name": "Python 3 (ipykernel)",
   "language": "python",
   "name": "python3"
  },
  "language_info": {
   "codemirror_mode": {
    "name": "ipython",
    "version": 3
   },
   "file_extension": ".py",
   "mimetype": "text/x-python",
   "name": "python",
   "nbconvert_exporter": "python",
   "pygments_lexer": "ipython3",
   "version": "3.9.12"
  }
 },
 "nbformat": 4,
 "nbformat_minor": 5
}
