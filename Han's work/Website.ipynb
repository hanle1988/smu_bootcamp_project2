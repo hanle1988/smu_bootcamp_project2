{
 "cells": [
  {
   "cell_type": "code",
   "execution_count": 24,
   "id": "21f67af4",
   "metadata": {},
   "outputs": [],
   "source": [
    "from splinter import Browser\n",
    "from bs4 import BeautifulSoup\n",
    "from webdriver_manager.chrome import ChromeDriverManager\n",
    "import pandas as pd\n",
    "import requests\n",
    "import os"
   ]
  },
  {
   "cell_type": "code",
   "execution_count": 6,
   "id": "0dbffa96",
   "metadata": {},
   "outputs": [
    {
     "name": "stderr",
     "output_type": "stream",
     "text": [
      "[WDM] - Downloading: 100%|████████████████████████████████████████████████████████| 6.58M/6.58M [00:00<00:00, 9.05MB/s]\n"
     ]
    }
   ],
   "source": [
    "executable_path = {'executable_path': ChromeDriverManager().install()}\n",
    "browser = Browser('chrome', **executable_path, headless=False)"
   ]
  },
  {
   "cell_type": "code",
   "execution_count": null,
   "id": "3f2b7002",
   "metadata": {},
   "outputs": [],
   "source": []
  },
  {
   "cell_type": "code",
   "execution_count": 28,
   "id": "85d3c2bb",
   "metadata": {},
   "outputs": [
    {
     "name": "stdout",
     "output_type": "stream",
     "text": [
      "200\n"
     ]
    },
    {
     "data": {
      "text/plain": [
       "'\\n<!DOCTYPE html>\\n\\n\\n\\n\\n<html lang=\"en\"\\n      xmlns:ng=\"http://angularjs.org\">\\n\\n<head>\\n    \\n\\n\\n\\n    <style>.async-hide { opacity: 0 !important} </style>\\n<script>(function(a,s,y,n,c,h,i,d,e){s.className+=\\' \\'+y;h.start=1*new Date;\\n    h.end=i=function(){s.className=s.className.replace(RegExp(\\' ?\\'+y),\\'\\')};\\n    (a[n]=a[n]||[]).hide=h;setTimeout(function(){i();h.end=null},c);h.timeout=c;\\n})(window,document.documentElement,\\'async-hide\\',\\'dataLayer\\',4000,\\n    {\\'GTM-WLPMJGK\\':true});</script>\\n\\n    \\n\\n\\n\\n\\n\\n<!-- Google Tag Manager -->\\n<script>\\n\\t(function(w,d,s,l,i) {\\n\\t\\tw[l]=w[l]||[];\\n\\t\\tw[l].push({\\'gtm.start\\':new Date().getTime(),event:\\'gtm.js\\'});\\n\\t\\tvar f=d.getElementsByTagName(s)[0],j=d.createElement(s),dl=l!=\\'dataLayer\\'?\\'&l=\\'+l:\\'\\';\\n\\t\\tj.async=true;j.src=\\'https://www.googletagmanager.com/gtm.js?id=\\'+i+dl;\\n\\t\\tf.parentNode.insertBefore(j,f);\\n\\t})(window,document,\\'script\\',\\'dataLayer\\',\\'GTM-WLPMJGK\\');\\n</script>\\n<!-- End Google Tag Manager -->\\n\\n<script src=\"//assets.dice.com/techpro/js/global/md5.min.js\"></script>\\n<script src=\"//assets.dice.com/techpro/js/global/debounce-description.js\"></script>\\n\\n\\n\\n\\n    \\n    \\n        <script type=\"text/javascript\">\\n            var ssdl = ssdl || {};\\n            ssdl.session = ssdl.session || {};\\n            ssdl.session.session_id = \"B17A43E03B8BF3774E33111AC9C56277\";\\n        </script>\\n    \\n\\n<script type=\"text/javascript\">\\n    function errorImg(obj) {\\n        obj.style.display = \\'none\\';\\n        obj.parentElement.previousElementSibling.style.display=\\'block\\';\\n    }\\n\\n    var reloading = sessionStorage.getItem(\"siteRegistration\");\\n    if (reloading) {\\n        var diceId = \"\";\\n        var pageName = sessionStorage.getItem(\"sitePageName\");\\n        var email  = \"\";\\n        window.ssdl = window.ssdl || {};\\n        if(window.ssdl.trackEvent) {\\n            window.ssdl.trackEvent({\\n            \\'action\\': \\'site_registration\\', // \"action\" set to the name direct call rule\\n                \\'data\\': {\\n                    \\'event\\': \\'User Registration\\',\\n                    \\'user_id\\': diceId,\\n                    \\'registration_type\\' : \\'tech pro\\',\\n                    \\'page_name\\': pageName,\\n                    \\'user_email\\' : email\\n                }\\n            });\\n        }\\n        if (_satellite) {\\n            _satellite.track(\\'siteregistration\\');\\n        }\\n        sessionStorage.removeItem(\"siteRegistration\");\\n        sessionStorage.removeItem(\"sitePageName\");\\n        sessionStorage.removeItem(\"siteEmail\");\\n    }\\n</script>\\n\\n    <meta charset=\"utf-8\">\\n    <meta http-equiv=\"X-UA-Compatible\"\\n          content=\"IE=edge\">\\n    <title>Search Jobs | Dice.com</title>\\n    <meta name=\"viewport\"\\n          content=\"width=device-width, initial-scale=1\">\\n    <meta name=\"ompagename\"\\n          content=\"job_search_results_beta\">\\n    <meta name=\"channel\"\\n          content=\"tech pro\">\\n    <meta name=\"robots\"\\n          content=\"noindex, nofollow\">\\n    \\n\\n\\n<link rel=\"stylesheet\" href=\"https://fonts.googleapis.com/css?family=Roboto+Condensed\">\\n<link rel=\"apple-touch-icon\" sizes=\"57x57\" href=\"//assets.dice.com/techpro/img/favicons/apple-touch-icon-57x57.png\">\\n<link rel=\"apple-touch-icon\" sizes=\"60x60\" href=\"//assets.dice.com/techpro/img/favicons/apple-touch-icon-60x60.png\">\\n<link rel=\"apple-touch-icon\" sizes=\"72x72\" href=\"//assets.dice.com/techpro/img/favicons/apple-touch-icon-72x72.png\">\\n<link rel=\"apple-touch-icon\" sizes=\"76x76\" href=\"//assets.dice.com/techpro/img/favicons/apple-touch-icon-76x76.png\">\\n<link rel=\"apple-touch-icon\" sizes=\"114x114\" href=\"//assets.dice.com/techpro/img/favicons/apple-touch-icon-114x114.png\">\\n<link rel=\"apple-touch-icon\" sizes=\"120x120\" href=\"//assets.dice.com/techpro/img/favicons/apple-touch-icon-120x120.png\">\\n<link rel=\"apple-touch-icon\" sizes=\"144x144\" href=\"//assets.dice.com/techpro/img/favicons/apple-touch-icon-144x144.png\">\\n<link rel=\"apple-touch-icon\" sizes=\"152x152\" href=\"//assets.dice.com/techpro/img/favicons/apple-touch-icon-152x152.png\">\\n<link rel=\"apple-touch-icon\" sizes=\"180x180\" href=\"//assets.dice.com/techpro/img/favicons/apple-touch-icon-180x180.png\">\\n<link rel=\"icon\" type=\"image/png\" href=\"//assets.dice.com/techpro/img/favicons/favicon-32x32.png\" sizes=\"32x32\">\\n<link rel=\"icon\" type=\"image/png\" href=\"//assets.dice.com/techpro/img/favicons/favicon-194x194.png\" sizes=\"194x194\">\\n<link rel=\"icon\" type=\"image/png\" href=\"//assets.dice.com/techpro/img/favicons/favicon-96x96.png\" sizes=\"96x96\">\\n<link rel=\"icon\" type=\"image/png\" href=\"//assets.dice.com/techpro/img/favicons/android-chrome-192x192.png\" sizes=\"192x192\">\\n<link rel=\"icon\" type=\"image/png\" href=\"//assets.dice.com/techpro/img/favicons/favicon-16x16.png\" sizes=\"16x16\">\\n<link rel=\"manifest\" href=\"//assets.dice.com/techpro/img/favicons/manifest.json\">\\n<link rel=\"shortcut icon\" href=\"//assets.dice.com/techpro/img/favicons/favicon.ico\">\\n<meta name=\"apple-mobile-web-app-title\" content=\"Dice\">\\n<meta name=\"application-name\" content=\"Dice\">\\n<meta name=\"msapplication-TileColor\" content=\"#cc0000\">\\n<meta name=\"msapplication-TileImage\" content=\"//assets.dice.com/'"
      ]
     },
     "execution_count": 28,
     "metadata": {},
     "output_type": "execute_result"
    }
   ],
   "source": [
    "# Stack Overflow URL to scrape\n",
    "url = 'https://www.dice.com/jobs?q=data%20analyst&location=Dallas,%20TX%2075243,%20USA&latitude=32.9087285&longitude=-96.7386946&countryCode=US&locationPrecision=PostalCode&adminDistrictCode=TX&radius=30&radiusUnit=mi&page=1&pageSize=20&language=en&eid=S2Q_,bw_0'\n",
    "\n",
    "# Retrieve page with the requests module\n",
    "response = requests.get(url)\n",
    "print(response.status_code)\n",
    "html = response.text\n",
    "html[0:5000]"
   ]
  },
  {
   "cell_type": "code",
   "execution_count": 26,
   "id": "e3fc56a1",
   "metadata": {},
   "outputs": [
    {
     "data": {
      "text/plain": [
       "bs4.BeautifulSoup"
      ]
     },
     "execution_count": 26,
     "metadata": {},
     "output_type": "execute_result"
    }
   ],
   "source": [
    "# Create BeautifulSoup object; parse with 'html.parser'\n",
    "soup = BeautifulSoup(html, 'lxml')\n",
    "type(soup)"
   ]
  },
  {
   "cell_type": "code",
   "execution_count": null,
   "id": "5a0414dd",
   "metadata": {},
   "outputs": [],
   "source": []
  },
  {
   "cell_type": "code",
   "execution_count": null,
   "id": "9e69a550",
   "metadata": {},
   "outputs": [],
   "source": []
  },
  {
   "cell_type": "code",
   "execution_count": null,
   "id": "4ca2d8c4",
   "metadata": {},
   "outputs": [],
   "source": []
  },
  {
   "cell_type": "code",
   "execution_count": null,
   "id": "01891b32",
   "metadata": {},
   "outputs": [],
   "source": []
  },
  {
   "cell_type": "code",
   "execution_count": null,
   "id": "53162222",
   "metadata": {},
   "outputs": [],
   "source": []
  }
 ],
 "metadata": {
  "kernelspec": {
   "display_name": "Python 3 (ipykernel)",
   "language": "python",
   "name": "python3"
  },
  "language_info": {
   "codemirror_mode": {
    "name": "ipython",
    "version": 3
   },
   "file_extension": ".py",
   "mimetype": "text/x-python",
   "name": "python",
   "nbconvert_exporter": "python",
   "pygments_lexer": "ipython3",
   "version": "3.9.12"
  }
 },
 "nbformat": 4,
 "nbformat_minor": 5
}
