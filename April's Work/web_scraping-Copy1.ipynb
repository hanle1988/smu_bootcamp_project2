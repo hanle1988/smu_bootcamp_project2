{
 "cells": [
  {
   "cell_type": "code",
   "execution_count": 7,
   "id": "34a98285",
   "metadata": {},
   "outputs": [],
   "source": [
    "from bs4 import BeautifulSoup\n",
    "import pandas as pd\n",
    "import requests\n",
    "from splinter import Browser\n",
    "from webdriver_manager.chrome import ChromeDriverManager\n"
   ]
  },
  {
   "cell_type": "code",
   "execution_count": 8,
   "id": "6320f692",
   "metadata": {},
   "outputs": [],
   "source": [
    "executable_path = {'executable_path': ChromeDriverManager().install()}\n",
    "browser = Browser('chrome', **executable_path, headless=False)"
   ]
  },
  {
   "cell_type": "code",
   "execution_count": 9,
   "id": "1690269e",
   "metadata": {},
   "outputs": [],
   "source": [
    "url = \"https://www.indeed.com/browsejobs/jobs?cat=Information+Design+%26+Documentation\"\n",
    "# reponse = requests.get(url)\n",
    "# reponse.status_code\n",
    "browser.visit(url)"
   ]
  },
  {
   "cell_type": "code",
   "execution_count": 10,
   "id": "7b975bc4",
   "metadata": {},
   "outputs": [
    {
     "data": {
      "text/plain": [
       "'<html lang=\"en\" class=\"js-focus-visible\" data-js-focus-visible=\"\"><head>\\n    <title>Find Jobs by Category: Information Design &amp; Documentation | Indeed.com</title>\\n    <meta http-equiv=\"content-type\" content=\"text/html;charset=UTF-8\">\\n    <meta name=\"description\" content=\"Information Design &amp; Documentation jobs.  Indeed.com.  one search. all jobs.\">\\n    <meta name=\"keywords\" content=\"Information Design &amp; Documentation jobs browse jobs find jobs by title by company by state by category'"
      ]
     },
     "execution_count": 10,
     "metadata": {},
     "output_type": "execute_result"
    }
   ],
   "source": [
    "html = browser.html\n",
    "html[0:500]"
   ]
  },
  {
   "cell_type": "code",
   "execution_count": 11,
   "id": "0f436a2b",
   "metadata": {},
   "outputs": [
    {
     "data": {
      "text/plain": [
       "bs4.BeautifulSoup"
      ]
     },
     "execution_count": 11,
     "metadata": {},
     "output_type": "execute_result"
    }
   ],
   "source": [
    "dice_soup= BeautifulSoup(html,'lxml')\n",
    "type(dice_soup)"
   ]
  },
  {
   "cell_type": "code",
   "execution_count": null,
   "id": "38695290",
   "metadata": {},
   "outputs": [],
   "source": []
  },
  {
   "cell_type": "code",
   "execution_count": 16,
   "id": "fc6ead54",
   "metadata": {},
   "outputs": [
    {
     "data": {
      "text/plain": [
       "175"
      ]
     },
     "execution_count": 16,
     "metadata": {},
     "output_type": "execute_result"
    }
   ],
   "source": [
    "# listjob= dice.find_all(\"div _ngcontent-npt-c100\",{\"class\":\"ng-star-inserted\"})\n",
    "\n",
    "listjobs= dice_soup.find(\"ul\",{\"role\":\"presentation\"}).find_all(\"li\")\n",
    "len(listjobs)"
   ]
  },
  {
   "cell_type": "code",
   "execution_count": 17,
   "id": "df5d69ec",
   "metadata": {},
   "outputs": [
    {
     "data": {
      "text/plain": [
       "<li class=\"item\">\n",
       "<p class=\"job\">\n",
       "<a class=\"text_level_3 bold\" href=\"/q-Bi-Developer-jobs.html\" title=\"Bi Developer Jobs\">Bi Developer jobs</a>\n",
       "</p>\n",
       "<p class=\"actions\">\n",
       "<a href=\"/browsejobs/stateJobs?title=Bi+Developer&amp;cat=Information+Design+%26+Documentation\">\n",
       "                                                    Select City <!-- TODO: swap this to select city when translations are done-->\n",
       "</a>\n",
       "</p>\n",
       "</li>"
      ]
     },
     "execution_count": 17,
     "metadata": {},
     "output_type": "execute_result"
    }
   ],
   "source": [
    "listjob = listjobs[0]\n",
    "listjob"
   ]
  },
  {
   "cell_type": "code",
   "execution_count": 33,
   "id": "4dc228e1",
   "metadata": {},
   "outputs": [
    {
     "data": {
      "text/plain": [
       "'Bi Developer Jobs'"
      ]
     },
     "execution_count": 33,
     "metadata": {},
     "output_type": "execute_result"
    }
   ],
   "source": [
    "listjob.find(\"a\",{\"class\": \"text_level_3 bold\"})[\"title\"]"
   ]
  },
  {
   "cell_type": "code",
   "execution_count": 34,
   "id": "ccf551a3",
   "metadata": {},
   "outputs": [
    {
     "data": {
      "text/plain": [
       "'/q-Bi-Developer-jobs.html'"
      ]
     },
     "execution_count": 34,
     "metadata": {},
     "output_type": "execute_result"
    }
   ],
   "source": [
    "listjob.find(\"a\",{\"class\": \"text_level_3 bold\"})[\"href\"]"
   ]
  },
  {
   "cell_type": "code",
   "execution_count": null,
   "id": "e02ebe2a",
   "metadata": {},
   "outputs": [],
   "source": []
  }
 ],
 "metadata": {
  "kernelspec": {
   "display_name": "Python 3 (ipykernel)",
   "language": "python",
   "name": "python3"
  },
  "language_info": {
   "codemirror_mode": {
    "name": "ipython",
    "version": 3
   },
   "file_extension": ".py",
   "mimetype": "text/x-python",
   "name": "python",
   "nbconvert_exporter": "python",
   "pygments_lexer": "ipython3",
   "version": "3.9.12"
  }
 },
 "nbformat": 4,
 "nbformat_minor": 5
}
