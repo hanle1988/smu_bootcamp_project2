{
 "cells": [
  {
   "cell_type": "code",
   "execution_count": 1,
   "id": "1afd765b",
   "metadata": {},
   "outputs": [],
   "source": [
    "from splinter import Browser\n",
    "from bs4 import BeautifulSoup\n",
    "from webdriver_manager.chrome import ChromeDriverManager\n",
    "import pandas as pd\n",
    "import requests\n",
    "import time\n",
    "from sqlalchemy import inspect, create_engine\n",
    "import matplotlib.pyplot as plt\n",
    "import numpy as np"
   ]
  },
  {
   "cell_type": "code",
   "execution_count": 2,
   "id": "20978fe3",
   "metadata": {},
   "outputs": [],
   "source": [
    "#Setup splinter\n",
    "executable_path = {'executable_path': ChromeDriverManager().install()}\n",
    "browser = Browser('chrome', **executable_path, headless=False)"
   ]
  },
  {
   "cell_type": "code",
   "execution_count": 3,
   "id": "392a835a",
   "metadata": {},
   "outputs": [],
   "source": [
    "# HOSTNAME = \"localhost\"\n",
    "# PORT = 5432\n",
    "# DATABASE = \"diapers_db\"\n",
    "# USERNAME = \"postgres\"\n",
    "# PASSWORD = \"password\"\n",
    "# path = f'postgresql+psycopg2://{USERNAME}:{PASSWORD}@{HOSTNAME}:{PORT}/{DATABASE}'\n",
    "# engine = create_engine(path)"
   ]
  },
  {
   "cell_type": "code",
   "execution_count": 4,
   "id": "a874dcd9",
   "metadata": {},
   "outputs": [],
   "source": [
    "# conn = engine.connect()"
   ]
  },
  {
   "cell_type": "code",
   "execution_count": 5,
   "id": "f43ee070",
   "metadata": {},
   "outputs": [],
   "source": [
    "#Website searching Data Analyst positions\n",
    "indeed = \"https://www.indeed.com/jobs?q=data+analyst\"\n",
    "\n",
    "browser.visit(indeed)\n",
    "\n"
   ]
  },
  {
   "cell_type": "code",
   "execution_count": 6,
   "id": "585bae38",
   "metadata": {},
   "outputs": [
    {
     "data": {
      "text/plain": [
       "'<html dir=\"ltr\" lang=\"en\" class=\"js-focus-visible\" data-js-focus-visible=\"\"><head>\\n    <link rel=\"shortcut icon\" href=\"/images/favicon.ico\">\\n    <title>Data Analyst Jobs, Employment | Indeed.com</title>\\n    <meta http-equiv=\"content-type\" content=\"text/html; charset=utf-8\">\\n    <meta name=\"description\" content=\"28,371 Data Analyst jobs available on Indeed.com. Apply to Data Analyst, Entry Level Data Analyst, Senior Data Analyst and more!\">\\n    <meta name=\"keywords\" content=\"Data Analyst Jobs, Em'"
      ]
     },
     "execution_count": 6,
     "metadata": {},
     "output_type": "execute_result"
    }
   ],
   "source": [
    "html = browser.html\n",
    "html[0:500]"
   ]
  },
  {
   "cell_type": "code",
   "execution_count": 7,
   "id": "36617ffd",
   "metadata": {},
   "outputs": [],
   "source": [
    "soup = BeautifulSoup(browser.html, \"html.parser\")\n",
    "#print(soup.prettify())"
   ]
  },
  {
   "cell_type": "code",
   "execution_count": 8,
   "id": "4cddb98a",
   "metadata": {},
   "outputs": [
    {
     "data": {
      "text/plain": [
       "bs4.BeautifulSoup"
      ]
     },
     "execution_count": 8,
     "metadata": {},
     "output_type": "execute_result"
    }
   ],
   "source": [
    "soup= BeautifulSoup(browser.html, 'lxml')\n",
    "type(soup)"
   ]
  },
  {
   "cell_type": "code",
   "execution_count": 9,
   "id": "44b1b46f",
   "metadata": {},
   "outputs": [
    {
     "data": {
      "text/plain": [
       "15"
      ]
     },
     "execution_count": 9,
     "metadata": {},
     "output_type": "execute_result"
    }
   ],
   "source": [
    "#Find code to loop through web page and pull the title of the job and possibly the location, then find code to click the job and acquire the salary.\n",
    "jobs = soup.find_all('div', {'class': 'cardOutline'})\n",
    "len(jobs)\n"
   ]
  },
  {
   "cell_type": "code",
   "execution_count": 10,
   "id": "e9f27e82",
   "metadata": {},
   "outputs": [],
   "source": [
    "#Find the jobs titles for positions and the link IF available\n",
    "job = jobs[0]\n",
    "title = job.find('a', {\"class\": 'jcs-JobTitle'}).text\n",
    "link = \"www.indeed.com\" + job.find('a', {\"class\": 'jcs-JobTitle'})[\"href\"]\n"
   ]
  },
  {
   "cell_type": "code",
   "execution_count": 11,
   "id": "39b2bba7",
   "metadata": {},
   "outputs": [],
   "source": [
    "#Find company name and the link IF available\n",
    "company = job.find('a', {\"class\": 'companyOverviewLink'}).text\n",
    "company_link = \"www.indeed.com\" + job.find('a', {\"class\": 'companyOverviewLink'})[\"href\"]"
   ]
  },
  {
   "cell_type": "code",
   "execution_count": 12,
   "id": "08c1614a",
   "metadata": {},
   "outputs": [
    {
     "data": {
      "text/plain": [
       "'3.4'"
      ]
     },
     "execution_count": 12,
     "metadata": {},
     "output_type": "execute_result"
    }
   ],
   "source": [
    "#Find the rating for the company/job\n",
    "rating = job.find('span', {\"class\": 'ratingNumber'}).text\n",
    "rating"
   ]
  },
  {
   "cell_type": "code",
   "execution_count": 13,
   "id": "300e71f2",
   "metadata": {},
   "outputs": [
    {
     "data": {
      "text/plain": [
       "'Hybrid remote in Norfolk, VA 23502'"
      ]
     },
     "execution_count": 13,
     "metadata": {},
     "output_type": "execute_result"
    }
   ],
   "source": [
    "#Find the location of the job listing\n",
    "loc = job.find('div', {\"class\": 'companyLocation'}).text\n",
    "loc"
   ]
  },
  {
   "cell_type": "code",
   "execution_count": 14,
   "id": "7afe6475",
   "metadata": {},
   "outputs": [
    {
     "data": {
      "text/plain": [
       "'$50 - $75 an hour'"
      ]
     },
     "execution_count": 14,
     "metadata": {},
     "output_type": "execute_result"
    }
   ],
   "source": [
    "#Find the salary for the job listing\n",
    "salary = job.find('div', {\"class\": 'salary-snippet-container'}).text\n",
    "salary"
   ]
  },
  {
   "cell_type": "code",
   "execution_count": 15,
   "id": "13a439cf",
   "metadata": {},
   "outputs": [
    {
     "data": {
      "text/plain": [
       "'Full-time +1'"
      ]
     },
     "execution_count": 15,
     "metadata": {},
     "output_type": "execute_result"
    }
   ],
   "source": [
    "#Pull the text only from the parent for job salary\n",
    "job.find('svg', {\"aria-label\": \"Job type\"}).parent.text"
   ]
  },
  {
   "cell_type": "code",
   "execution_count": 18,
   "id": "85f7b28e",
   "metadata": {},
   "outputs": [
    {
     "data": {
      "text/html": [
       "<div>\n",
       "<style scoped>\n",
       "    .dataframe tbody tr th:only-of-type {\n",
       "        vertical-align: middle;\n",
       "    }\n",
       "\n",
       "    .dataframe tbody tr th {\n",
       "        vertical-align: top;\n",
       "    }\n",
       "\n",
       "    .dataframe thead th {\n",
       "        text-align: right;\n",
       "    }\n",
       "</style>\n",
       "<table border=\"1\" class=\"dataframe\">\n",
       "  <thead>\n",
       "    <tr style=\"text-align: right;\">\n",
       "      <th></th>\n",
       "      <th>job_title</th>\n",
       "      <th>job_link</th>\n",
       "      <th>company</th>\n",
       "      <th>company_link</th>\n",
       "      <th>company_rating</th>\n",
       "      <th>location</th>\n",
       "      <th>salary</th>\n",
       "      <th>status</th>\n",
       "    </tr>\n",
       "  </thead>\n",
       "  <tbody>\n",
       "    <tr>\n",
       "      <th>0</th>\n",
       "      <td>Data Analyst</td>\n",
       "      <td>www.indeed.com/pagead/clk?mo=r&amp;ad=-6NYlbfkN0Ad...</td>\n",
       "      <td>Uline</td>\n",
       "      <td>www.indeed.com/cmp/Uline</td>\n",
       "      <td>3.1</td>\n",
       "      <td>Pleasant Prairie, WI 53158</td>\n",
       "      <td>None</td>\n",
       "      <td>None</td>\n",
       "    </tr>\n",
       "    <tr>\n",
       "      <th>1</th>\n",
       "      <td>Board Certified Behavior Analyst</td>\n",
       "      <td>www.indeed.com/pagead/clk?mo=r&amp;ad=-6NYlbfkN0Db...</td>\n",
       "      <td>Infinity Counseling Group</td>\n",
       "      <td>www.indeed.com/cmp/Infinity-Counseling-Group</td>\n",
       "      <td>3.4</td>\n",
       "      <td>Hybrid remote in Norfolk, VA 23502</td>\n",
       "      <td>$50 - $75 an hour</td>\n",
       "      <td>Full-time +1</td>\n",
       "    </tr>\n",
       "    <tr>\n",
       "      <th>2</th>\n",
       "      <td>Business Intelligence Analyst</td>\n",
       "      <td>www.indeed.com/pagead/clk?mo=r&amp;ad=-6NYlbfkN0DS...</td>\n",
       "      <td>iClassPro, Inc.</td>\n",
       "      <td>None</td>\n",
       "      <td>None</td>\n",
       "      <td>Hybrid remote in Longview, TX 75605</td>\n",
       "      <td>$55,000 - $98,757 a year</td>\n",
       "      <td>Full-time</td>\n",
       "    </tr>\n",
       "    <tr>\n",
       "      <th>3</th>\n",
       "      <td>Data Analyst</td>\n",
       "      <td>www.indeed.com/pagead/clk?mo=r&amp;ad=-6NYlbfkN0BU...</td>\n",
       "      <td>CardWorks</td>\n",
       "      <td>www.indeed.com/cmp/Cardworks-Servicing</td>\n",
       "      <td>3.3</td>\n",
       "      <td>South Jordan, UT 84095</td>\n",
       "      <td>From $59,000 a year</td>\n",
       "      <td>Full-time</td>\n",
       "    </tr>\n",
       "    <tr>\n",
       "      <th>4</th>\n",
       "      <td>IT Data Analyst</td>\n",
       "      <td>www.indeed.com/pagead/clk?mo=r&amp;ad=-6NYlbfkN0De...</td>\n",
       "      <td>AFR Services</td>\n",
       "      <td>None</td>\n",
       "      <td>None</td>\n",
       "      <td>Hybrid remote in Plano, TX 75093</td>\n",
       "      <td>None</td>\n",
       "      <td>Full-time</td>\n",
       "    </tr>\n",
       "  </tbody>\n",
       "</table>\n",
       "</div>"
      ],
      "text/plain": [
       "                          job_title  \\\n",
       "0                      Data Analyst   \n",
       "1  Board Certified Behavior Analyst   \n",
       "2     Business Intelligence Analyst   \n",
       "3                      Data Analyst   \n",
       "4                   IT Data Analyst   \n",
       "\n",
       "                                            job_link  \\\n",
       "0  www.indeed.com/pagead/clk?mo=r&ad=-6NYlbfkN0Ad...   \n",
       "1  www.indeed.com/pagead/clk?mo=r&ad=-6NYlbfkN0Db...   \n",
       "2  www.indeed.com/pagead/clk?mo=r&ad=-6NYlbfkN0DS...   \n",
       "3  www.indeed.com/pagead/clk?mo=r&ad=-6NYlbfkN0BU...   \n",
       "4  www.indeed.com/pagead/clk?mo=r&ad=-6NYlbfkN0De...   \n",
       "\n",
       "                     company                                  company_link  \\\n",
       "0                      Uline                      www.indeed.com/cmp/Uline   \n",
       "1  Infinity Counseling Group  www.indeed.com/cmp/Infinity-Counseling-Group   \n",
       "2            iClassPro, Inc.                                          None   \n",
       "3                  CardWorks        www.indeed.com/cmp/Cardworks-Servicing   \n",
       "4               AFR Services                                          None   \n",
       "\n",
       "  company_rating                             location  \\\n",
       "0            3.1           Pleasant Prairie, WI 53158   \n",
       "1            3.4   Hybrid remote in Norfolk, VA 23502   \n",
       "2           None  Hybrid remote in Longview, TX 75605   \n",
       "3            3.3               South Jordan, UT 84095   \n",
       "4           None     Hybrid remote in Plano, TX 75093   \n",
       "\n",
       "                     salary        status  \n",
       "0                      None          None  \n",
       "1         $50 - $75 an hour  Full-time +1  \n",
       "2  $55,000 - $98,757 a year     Full-time  \n",
       "3       From $59,000 a year     Full-time  \n",
       "4                      None     Full-time  "
      ]
     },
     "execution_count": 18,
     "metadata": {},
     "output_type": "execute_result"
    }
   ],
   "source": [
    "#\n",
    "rows = []\n",
    "browser.visit(indeed)\n",
    "for i in range(1, 15):\n",
    "    \n",
    "    html = browser.html\n",
    "    soup = BeautifulSoup(browser.html, \"html.parser\")\n",
    "    jobs = soup.find_all('div', {'class': 'cardOutline'})\n",
    "    \n",
    "    \n",
    "    for job in jobs:\n",
    "        title = job.find('a', {\"class\": 'jcs-JobTitle'}).text\n",
    "        link = \"www.indeed.com\" + job.find('a', {\"class\": 'jcs-JobTitle'})[\"href\"]\n",
    "\n",
    "        company_name = job.find('span', {'class': 'companyName'})\n",
    "        if company_name: \n",
    "            company = company_name.text\n",
    "        else:\n",
    "            company = None\n",
    "        \n",
    "        company_con = job.find('a', {\"class\": 'companyOverviewLink'})\n",
    "        if company_con: \n",
    "            company_link = \"www.indeed.com\" + company_con[\"href\"]\n",
    "        else:\n",
    "            company_link = None\n",
    "\n",
    "        rating_con = job.find('span', {\"class\": 'ratingNumber'})\n",
    "        if rating_con: \n",
    "            rating = rating_con.text\n",
    "        else:\n",
    "            rating = None\n",
    "\n",
    "\n",
    "        loc = job.find('div', {\"class\": 'companyLocation'}).text\n",
    "\n",
    "        salary_con = job.find('div', {\"class\": 'salary-snippet-container'})\n",
    "        if salary_con: \n",
    "            salary = salary_con.text\n",
    "        else:\n",
    "            salary = None\n",
    "\n",
    "\n",
    "        status_con = job.find('svg', {\"aria-label\": \"Job type\"})\n",
    "        if status_con:\n",
    "            status = status_con.parent.text\n",
    "        else:\n",
    "            status = None\n",
    "\n",
    "        data = {}\n",
    "        data[\"job_title\"] = title\n",
    "        data[\"job_link\"] = link\n",
    "        data[\"company\"] = company\n",
    "        data[\"company_link\"] = company_link\n",
    "        data[\"company_rating\"] = rating\n",
    "        data[\"location\"] = loc\n",
    "        data[\"salary\"] = salary\n",
    "        data[\"status\"] = status\n",
    "        rows.append(data)\n",
    "    \n",
    "    browser.links.find_by_text(f\"{i+1}\").click()\n",
    "        \n",
    "df = pd.DataFrame(rows)\n",
    "df.head()"
   ]
  },
  {
   "cell_type": "code",
   "execution_count": 19,
   "id": "2b141d3f",
   "metadata": {},
   "outputs": [
    {
     "data": {
      "text/plain": [
       "210"
      ]
     },
     "execution_count": 19,
     "metadata": {},
     "output_type": "execute_result"
    }
   ],
   "source": [
    "len(df)"
   ]
  },
  {
   "cell_type": "code",
   "execution_count": 22,
   "id": "00fbf640",
   "metadata": {},
   "outputs": [
    {
     "name": "stdout",
     "output_type": "stream",
     "text": [
      "<class 'pandas.core.frame.DataFrame'>\n",
      "RangeIndex: 210 entries, 0 to 209\n",
      "Data columns (total 8 columns):\n",
      " #   Column          Non-Null Count  Dtype  \n",
      "---  ------          --------------  -----  \n",
      " 0   job_title       210 non-null    object \n",
      " 1   job_link        210 non-null    object \n",
      " 2   company         210 non-null    object \n",
      " 3   company_link    140 non-null    object \n",
      " 4   company_rating  140 non-null    float64\n",
      " 5   location        210 non-null    object \n",
      " 6   salary          121 non-null    object \n",
      " 7   status          158 non-null    object \n",
      "dtypes: float64(1), object(7)\n",
      "memory usage: 13.2+ KB\n"
     ]
    }
   ],
   "source": [
    "df[\"company_rating\"] = pd.to_numeric(df.company_rating)\n",
    "df.info()"
   ]
  },
  {
   "cell_type": "code",
   "execution_count": 23,
   "id": "7bb157e4",
   "metadata": {},
   "outputs": [
    {
     "data": {
      "text/plain": [
       "Full-time       86\n",
       "Contract        47\n",
       "Full-time +1    14\n",
       "Full-time +2     5\n",
       "Contract +1      2\n",
       "Temporary +1     2\n",
       "Part-time        1\n",
       "Internship       1\n",
       "Name: status, dtype: int64"
      ]
     },
     "execution_count": 23,
     "metadata": {},
     "output_type": "execute_result"
    }
   ],
   "source": [
    "df.status.value_counts()"
   ]
  },
  {
   "cell_type": "code",
   "execution_count": 26,
   "id": "9421d672",
   "metadata": {},
   "outputs": [
    {
     "name": "stderr",
     "output_type": "stream",
     "text": [
      "C:\\Users\\19722\\AppData\\Local\\Temp\\ipykernel_5680\\152645899.py:2: FutureWarning: The default value of regex will change from True to False in a future version.\n",
      "  df[\"status\"] = df.status.str.replace(\"\\s\\+\\d\",\"\")\n"
     ]
    }
   ],
   "source": [
    "#combine with regex s=space d=catch or match all numbers \\+ = plus sign matches plus sign, regex meaning.\n",
    "df[\"status\"] = df.status.str.replace(\"\\s\\+\\d\",\"\")"
   ]
  },
  {
   "cell_type": "code",
   "execution_count": 27,
   "id": "7354a4f7",
   "metadata": {},
   "outputs": [
    {
     "data": {
      "text/plain": [
       "Full-time     105\n",
       "Contract       49\n",
       "Temporary       2\n",
       "Part-time       1\n",
       "Internship      1\n",
       "Name: status, dtype: int64"
      ]
     },
     "execution_count": 27,
     "metadata": {},
     "output_type": "execute_result"
    }
   ],
   "source": [
    "df.status.value_counts()"
   ]
  },
  {
   "cell_type": "code",
   "execution_count": 28,
   "id": "0a060b48",
   "metadata": {},
   "outputs": [
    {
     "data": {
      "text/plain": [
       "array([None, 'Full-time', 'Contract', 'Part-time', 'Internship',\n",
       "       'Temporary'], dtype=object)"
      ]
     },
     "execution_count": 28,
     "metadata": {},
     "output_type": "execute_result"
    }
   ],
   "source": [
    "#Status column -  ID, name, last_updated\n",
    "df.status.unique()"
   ]
  },
  {
   "cell_type": "code",
   "execution_count": 30,
   "id": "7016f5ac",
   "metadata": {},
   "outputs": [
    {
     "data": {
      "text/html": [
       "<div>\n",
       "<style scoped>\n",
       "    .dataframe tbody tr th:only-of-type {\n",
       "        vertical-align: middle;\n",
       "    }\n",
       "\n",
       "    .dataframe tbody tr th {\n",
       "        vertical-align: top;\n",
       "    }\n",
       "\n",
       "    .dataframe thead th {\n",
       "        text-align: right;\n",
       "    }\n",
       "</style>\n",
       "<table border=\"1\" class=\"dataframe\">\n",
       "  <thead>\n",
       "    <tr style=\"text-align: right;\">\n",
       "      <th></th>\n",
       "      <th>status</th>\n",
       "    </tr>\n",
       "  </thead>\n",
       "  <tbody>\n",
       "    <tr>\n",
       "      <th>0</th>\n",
       "      <td>Full-time</td>\n",
       "    </tr>\n",
       "    <tr>\n",
       "      <th>1</th>\n",
       "      <td>Contract</td>\n",
       "    </tr>\n",
       "    <tr>\n",
       "      <th>2</th>\n",
       "      <td>Part-time</td>\n",
       "    </tr>\n",
       "    <tr>\n",
       "      <th>3</th>\n",
       "      <td>Internship</td>\n",
       "    </tr>\n",
       "    <tr>\n",
       "      <th>4</th>\n",
       "      <td>Temporary</td>\n",
       "    </tr>\n",
       "  </tbody>\n",
       "</table>\n",
       "</div>"
      ],
      "text/plain": [
       "       status\n",
       "0   Full-time\n",
       "1    Contract\n",
       "2   Part-time\n",
       "3  Internship\n",
       "4   Temporary"
      ]
     },
     "execution_count": 30,
     "metadata": {},
     "output_type": "execute_result"
    }
   ],
   "source": [
    "#Status lookup table\n",
    "status = df.status.dropna().unique()\n",
    "status_df = pd.DataFrame()\n",
    "status_df[\"status\"] = status\n",
    "status_df"
   ]
  },
  {
   "cell_type": "code",
   "execution_count": 36,
   "id": "2c8dcf87",
   "metadata": {},
   "outputs": [
    {
     "data": {
      "text/plain": [
       "Insight Global                                 2\n",
       "Uline                                          1\n",
       "Clairvoyant                                    1\n",
       "Envision                                       1\n",
       "Halliburton                                    1\n",
       "                                              ..\n",
       "Prysmian Group                                 1\n",
       "US Centers for Medicare & Medicaid Services    1\n",
       "Broadpath                                      1\n",
       "Tesla                                          1\n",
       "Tata Technologies Inc.                         1\n",
       "Name: company, Length: 192, dtype: int64"
      ]
     },
     "execution_count": 36,
     "metadata": {},
     "output_type": "execute_result"
    }
   ],
   "source": [
    "#\n",
    "companies = df.loc[:,[\"company\",\"company_link\", \"company_rating\"]].drop_duplicates().reset_index(drop=True)\n",
    "companies.company.value_counts()"
   ]
  },
  {
   "cell_type": "code",
   "execution_count": 37,
   "id": "18653f26",
   "metadata": {},
   "outputs": [
    {
     "data": {
      "text/html": [
       "<div>\n",
       "<style scoped>\n",
       "    .dataframe tbody tr th:only-of-type {\n",
       "        vertical-align: middle;\n",
       "    }\n",
       "\n",
       "    .dataframe tbody tr th {\n",
       "        vertical-align: top;\n",
       "    }\n",
       "\n",
       "    .dataframe thead th {\n",
       "        text-align: right;\n",
       "    }\n",
       "</style>\n",
       "<table border=\"1\" class=\"dataframe\">\n",
       "  <thead>\n",
       "    <tr style=\"text-align: right;\">\n",
       "      <th></th>\n",
       "      <th>company</th>\n",
       "      <th>company_link</th>\n",
       "      <th>company_rating</th>\n",
       "    </tr>\n",
       "  </thead>\n",
       "  <tbody>\n",
       "    <tr>\n",
       "      <th>32</th>\n",
       "      <td>Insight Global</td>\n",
       "      <td>www.indeed.com/cmp/Insight-Global</td>\n",
       "      <td>3.9</td>\n",
       "    </tr>\n",
       "    <tr>\n",
       "      <th>89</th>\n",
       "      <td>Insight Global</td>\n",
       "      <td>None</td>\n",
       "      <td>NaN</td>\n",
       "    </tr>\n",
       "  </tbody>\n",
       "</table>\n",
       "</div>"
      ],
      "text/plain": [
       "           company                       company_link  company_rating\n",
       "32  Insight Global  www.indeed.com/cmp/Insight-Global             3.9\n",
       "89  Insight Global                               None             NaN"
      ]
     },
     "execution_count": 37,
     "metadata": {},
     "output_type": "execute_result"
    }
   ],
   "source": [
    "companies.loc[companies.company == \"Insight Global\"]"
   ]
  },
  {
   "cell_type": "code",
   "execution_count": 38,
   "id": "98ed3bf7",
   "metadata": {},
   "outputs": [],
   "source": [
    "df.loc[df.company == \"Insight Global\", \"company_link\"] = \"www.indeed.com/cmp/Insight-Global\"\n",
    "df.loc[df.company == \"Insight Global\", \"company_rating\"] = 3.9"
   ]
  },
  {
   "cell_type": "code",
   "execution_count": 39,
   "id": "ad3dd709",
   "metadata": {},
   "outputs": [
    {
     "data": {
      "text/plain": [
       "Uline                                          1\n",
       "Infinity Counseling Group                      1\n",
       "Larsen and Toubro (L&T)                        1\n",
       "Envision                                       1\n",
       "Halliburton                                    1\n",
       "                                              ..\n",
       "Razorfish                                      1\n",
       "Prysmian Group                                 1\n",
       "US Centers for Medicare & Medicaid Services    1\n",
       "Broadpath                                      1\n",
       "Tata Technologies Inc.                         1\n",
       "Name: company, Length: 192, dtype: int64"
      ]
     },
     "execution_count": 39,
     "metadata": {},
     "output_type": "execute_result"
    }
   ],
   "source": [
    "companies = df.loc[:,[\"company\",\"company_link\", \"company_rating\"]].drop_duplicates().reset_index(drop=True)\n",
    "companies.company.value_counts()"
   ]
  },
  {
   "cell_type": "code",
   "execution_count": null,
   "id": "793cb926",
   "metadata": {},
   "outputs": [],
   "source": []
  },
  {
   "cell_type": "code",
   "execution_count": null,
   "id": "90649c31",
   "metadata": {},
   "outputs": [],
   "source": []
  },
  {
   "cell_type": "code",
   "execution_count": 32,
   "id": "b9261458",
   "metadata": {},
   "outputs": [
    {
     "ename": "AttributeError",
     "evalue": "'DataFrame' object has no attribute 'State'",
     "output_type": "error",
     "traceback": [
      "\u001b[1;31m---------------------------------------------------------------------------\u001b[0m",
      "\u001b[1;31mAttributeError\u001b[0m                            Traceback (most recent call last)",
      "Input \u001b[1;32mIn [32]\u001b[0m, in \u001b[0;36m<cell line: 1>\u001b[1;34m()\u001b[0m\n\u001b[1;32m----> 1\u001b[0m state \u001b[38;5;241m=\u001b[39m \u001b[43mdf\u001b[49m\u001b[38;5;241;43m.\u001b[39;49m\u001b[43mState\u001b[49m\u001b[38;5;241m.\u001b[39mdropna()\u001b[38;5;241m.\u001b[39munique()\n\u001b[0;32m      2\u001b[0m state_df \u001b[38;5;241m=\u001b[39m pd\u001b[38;5;241m.\u001b[39mDataFrame()\n\u001b[0;32m      3\u001b[0m state_df[\u001b[38;5;124m\"\u001b[39m\u001b[38;5;124mstate\u001b[39m\u001b[38;5;124m\"\u001b[39m] \u001b[38;5;241m=\u001b[39m state\n",
      "File \u001b[1;32m~\\anaconda3\\lib\\site-packages\\pandas\\core\\generic.py:5575\u001b[0m, in \u001b[0;36mNDFrame.__getattr__\u001b[1;34m(self, name)\u001b[0m\n\u001b[0;32m   5568\u001b[0m \u001b[38;5;28;01mif\u001b[39;00m (\n\u001b[0;32m   5569\u001b[0m     name \u001b[38;5;129;01mnot\u001b[39;00m \u001b[38;5;129;01min\u001b[39;00m \u001b[38;5;28mself\u001b[39m\u001b[38;5;241m.\u001b[39m_internal_names_set\n\u001b[0;32m   5570\u001b[0m     \u001b[38;5;129;01mand\u001b[39;00m name \u001b[38;5;129;01mnot\u001b[39;00m \u001b[38;5;129;01min\u001b[39;00m \u001b[38;5;28mself\u001b[39m\u001b[38;5;241m.\u001b[39m_metadata\n\u001b[0;32m   5571\u001b[0m     \u001b[38;5;129;01mand\u001b[39;00m name \u001b[38;5;129;01mnot\u001b[39;00m \u001b[38;5;129;01min\u001b[39;00m \u001b[38;5;28mself\u001b[39m\u001b[38;5;241m.\u001b[39m_accessors\n\u001b[0;32m   5572\u001b[0m     \u001b[38;5;129;01mand\u001b[39;00m \u001b[38;5;28mself\u001b[39m\u001b[38;5;241m.\u001b[39m_info_axis\u001b[38;5;241m.\u001b[39m_can_hold_identifiers_and_holds_name(name)\n\u001b[0;32m   5573\u001b[0m ):\n\u001b[0;32m   5574\u001b[0m     \u001b[38;5;28;01mreturn\u001b[39;00m \u001b[38;5;28mself\u001b[39m[name]\n\u001b[1;32m-> 5575\u001b[0m \u001b[38;5;28;01mreturn\u001b[39;00m \u001b[38;5;28;43mobject\u001b[39;49m\u001b[38;5;241;43m.\u001b[39;49m\u001b[38;5;21;43m__getattribute__\u001b[39;49m\u001b[43m(\u001b[49m\u001b[38;5;28;43mself\u001b[39;49m\u001b[43m,\u001b[49m\u001b[43m \u001b[49m\u001b[43mname\u001b[49m\u001b[43m)\u001b[49m\n",
      "\u001b[1;31mAttributeError\u001b[0m: 'DataFrame' object has no attribute 'State'"
     ]
    }
   ],
   "source": [
    "#State look-up table\n",
    "state = df.State.dropna().unique()\n",
    "state_df = pd.DataFrame()\n",
    "state_df[\"state\"] = state\n",
    "state_df"
   ]
  },
  {
   "cell_type": "code",
   "execution_count": null,
   "id": "4c523436",
   "metadata": {},
   "outputs": [],
   "source": []
  },
  {
   "cell_type": "code",
   "execution_count": null,
   "id": "6d59858d",
   "metadata": {},
   "outputs": [],
   "source": []
  },
  {
   "cell_type": "code",
   "execution_count": null,
   "id": "b823f8f9",
   "metadata": {},
   "outputs": [],
   "source": []
  },
  {
   "cell_type": "code",
   "execution_count": null,
   "id": "a4a91d1b",
   "metadata": {},
   "outputs": [],
   "source": []
  },
  {
   "cell_type": "code",
   "execution_count": 21,
   "id": "7206c173",
   "metadata": {},
   "outputs": [
    {
     "data": {
      "text/html": [
       "<div>\n",
       "<style scoped>\n",
       "    .dataframe tbody tr th:only-of-type {\n",
       "        vertical-align: middle;\n",
       "    }\n",
       "\n",
       "    .dataframe tbody tr th {\n",
       "        vertical-align: top;\n",
       "    }\n",
       "\n",
       "    .dataframe thead th {\n",
       "        text-align: right;\n",
       "    }\n",
       "</style>\n",
       "<table border=\"1\" class=\"dataframe\">\n",
       "  <thead>\n",
       "    <tr style=\"text-align: right;\">\n",
       "      <th></th>\n",
       "      <th>job_title</th>\n",
       "      <th>job_link</th>\n",
       "      <th>company</th>\n",
       "      <th>company_link</th>\n",
       "      <th>company_rating</th>\n",
       "      <th>location</th>\n",
       "      <th>salary</th>\n",
       "      <th>status</th>\n",
       "    </tr>\n",
       "  </thead>\n",
       "  <tbody>\n",
       "    <tr>\n",
       "      <th>0</th>\n",
       "      <td>Data Analyst</td>\n",
       "      <td>www.indeed.com/pagead/clk?mo=r&amp;ad=-6NYlbfkN0Ad...</td>\n",
       "      <td>Uline</td>\n",
       "      <td>www.indeed.com/cmp/Uline</td>\n",
       "      <td>3.1</td>\n",
       "      <td>Pleasant Prairie, WI 53158</td>\n",
       "      <td>None</td>\n",
       "      <td>None</td>\n",
       "    </tr>\n",
       "    <tr>\n",
       "      <th>1</th>\n",
       "      <td>Board Certified Behavior Analyst</td>\n",
       "      <td>www.indeed.com/pagead/clk?mo=r&amp;ad=-6NYlbfkN0Db...</td>\n",
       "      <td>Infinity Counseling Group</td>\n",
       "      <td>www.indeed.com/cmp/Infinity-Counseling-Group</td>\n",
       "      <td>3.4</td>\n",
       "      <td>Hybrid remote in Norfolk, VA 23502</td>\n",
       "      <td>$50 - $75 an hour</td>\n",
       "      <td>Full-time +1</td>\n",
       "    </tr>\n",
       "    <tr>\n",
       "      <th>2</th>\n",
       "      <td>Business Intelligence Analyst</td>\n",
       "      <td>www.indeed.com/pagead/clk?mo=r&amp;ad=-6NYlbfkN0DS...</td>\n",
       "      <td>iClassPro, Inc.</td>\n",
       "      <td>None</td>\n",
       "      <td>None</td>\n",
       "      <td>Hybrid remote in Longview, TX 75605</td>\n",
       "      <td>$55,000 - $98,757 a year</td>\n",
       "      <td>Full-time</td>\n",
       "    </tr>\n",
       "    <tr>\n",
       "      <th>3</th>\n",
       "      <td>Data Analyst</td>\n",
       "      <td>www.indeed.com/pagead/clk?mo=r&amp;ad=-6NYlbfkN0BU...</td>\n",
       "      <td>CardWorks</td>\n",
       "      <td>www.indeed.com/cmp/Cardworks-Servicing</td>\n",
       "      <td>3.3</td>\n",
       "      <td>South Jordan, UT 84095</td>\n",
       "      <td>From $59,000 a year</td>\n",
       "      <td>Full-time</td>\n",
       "    </tr>\n",
       "    <tr>\n",
       "      <th>4</th>\n",
       "      <td>IT Data Analyst</td>\n",
       "      <td>www.indeed.com/pagead/clk?mo=r&amp;ad=-6NYlbfkN0De...</td>\n",
       "      <td>AFR Services</td>\n",
       "      <td>None</td>\n",
       "      <td>None</td>\n",
       "      <td>Hybrid remote in Plano, TX 75093</td>\n",
       "      <td>None</td>\n",
       "      <td>Full-time</td>\n",
       "    </tr>\n",
       "    <tr>\n",
       "      <th>5</th>\n",
       "      <td>Healthcare Analyst II - Network Development Ma...</td>\n",
       "      <td>www.indeed.com/pagead/clk?mo=r&amp;ad=-6NYlbfkN0Cb...</td>\n",
       "      <td>Fallon Health</td>\n",
       "      <td>www.indeed.com/cmp/Fallon-Health</td>\n",
       "      <td>3.1</td>\n",
       "      <td>Hybrid remote in Worcester, MA 01608</td>\n",
       "      <td>None</td>\n",
       "      <td>Full-time</td>\n",
       "    </tr>\n",
       "    <tr>\n",
       "      <th>6</th>\n",
       "      <td>All-Source Analyst, Mid</td>\n",
       "      <td>www.indeed.com/pagead/clk?mo=r&amp;ad=-6NYlbfkN0Ca...</td>\n",
       "      <td>Booz Allen Hamilton</td>\n",
       "      <td>www.indeed.com/cmp/Booz-Allen-Hamilton</td>\n",
       "      <td>3.9</td>\n",
       "      <td>Charlottesville, VA</td>\n",
       "      <td>None</td>\n",
       "      <td>None</td>\n",
       "    </tr>\n",
       "    <tr>\n",
       "      <th>7</th>\n",
       "      <td>Data Analyst</td>\n",
       "      <td>www.indeed.com/pagead/clk?mo=r&amp;ad=-6NYlbfkN0DS...</td>\n",
       "      <td>The World's Largest Social Network</td>\n",
       "      <td>None</td>\n",
       "      <td>None</td>\n",
       "      <td>Remote in San Diego, CA</td>\n",
       "      <td>$38 - $41 an hour</td>\n",
       "      <td>Full-time +1</td>\n",
       "    </tr>\n",
       "    <tr>\n",
       "      <th>8</th>\n",
       "      <td>Sr Business Data Analyst- Hybrid</td>\n",
       "      <td>www.indeed.com/company/Apisero/jobs/Senior-Bus...</td>\n",
       "      <td>Apisero</td>\n",
       "      <td>None</td>\n",
       "      <td>None</td>\n",
       "      <td>Hybrid remote in Brenham, TX 77833</td>\n",
       "      <td>$70 - $75 an hour</td>\n",
       "      <td>Contract</td>\n",
       "    </tr>\n",
       "    <tr>\n",
       "      <th>9</th>\n",
       "      <td>Data Analyst</td>\n",
       "      <td>www.indeed.com/company/COMTEC-INFORMATION-SYST...</td>\n",
       "      <td>ComTec information system</td>\n",
       "      <td>www.indeed.com/cmp/Comtec-Information-Systems</td>\n",
       "      <td>3.7</td>\n",
       "      <td>Plano, TX 75023</td>\n",
       "      <td>$40 - $47 an hour</td>\n",
       "      <td>Full-time +1</td>\n",
       "    </tr>\n",
       "    <tr>\n",
       "      <th>10</th>\n",
       "      <td>Data Analyst with heavy EXCEL experience (6 mo...</td>\n",
       "      <td>www.indeed.com/company/RPO-Client/jobs/Data-An...</td>\n",
       "      <td>GENUENT</td>\n",
       "      <td>None</td>\n",
       "      <td>None</td>\n",
       "      <td>Remote</td>\n",
       "      <td>$50 an hour</td>\n",
       "      <td>Contract</td>\n",
       "    </tr>\n",
       "    <tr>\n",
       "      <th>11</th>\n",
       "      <td>Master Data Coordinator</td>\n",
       "      <td>www.indeed.com/pagead/clk?mo=r&amp;ad=-6NYlbfkN0Ab...</td>\n",
       "      <td>Quality Custom Distribution</td>\n",
       "      <td>www.indeed.com/cmp/Quality-Custom-Distribution</td>\n",
       "      <td>2.7</td>\n",
       "      <td>Frisco, TX 75034</td>\n",
       "      <td>$55,000 - $59,000 a year</td>\n",
       "      <td>Full-time</td>\n",
       "    </tr>\n",
       "    <tr>\n",
       "      <th>12</th>\n",
       "      <td>Data Analyst</td>\n",
       "      <td>www.indeed.com/company/Zora-Corporation/jobs/D...</td>\n",
       "      <td>Zora</td>\n",
       "      <td>None</td>\n",
       "      <td>None</td>\n",
       "      <td>Remote</td>\n",
       "      <td>From $80 an hour</td>\n",
       "      <td>Contract</td>\n",
       "    </tr>\n",
       "    <tr>\n",
       "      <th>13</th>\n",
       "      <td>Junior Data Analyst (HYBRID)</td>\n",
       "      <td>www.indeed.com/rc/clk?jk=075d8475826a1add&amp;fcci...</td>\n",
       "      <td>SunPlus Data Group, Inc.</td>\n",
       "      <td>www.indeed.com/cmp/Sunplus-Data-Group,-Inc.</td>\n",
       "      <td>3.5</td>\n",
       "      <td>Remote in United States</td>\n",
       "      <td>$66 - $75 an hour</td>\n",
       "      <td>Contract</td>\n",
       "    </tr>\n",
       "    <tr>\n",
       "      <th>14</th>\n",
       "      <td>Data Analyst</td>\n",
       "      <td>www.indeed.com/rc/clk?jk=45fb1e57894adc6d&amp;fcci...</td>\n",
       "      <td>Disney</td>\n",
       "      <td>www.indeed.com/cmp/The-Walt-Disney-Company</td>\n",
       "      <td>4.1</td>\n",
       "      <td>Remote in Santa Monica, CA 90401</td>\n",
       "      <td>$87,900 - $137,300 a year</td>\n",
       "      <td>None</td>\n",
       "    </tr>\n",
       "    <tr>\n",
       "      <th>15</th>\n",
       "      <td>Business Analyst - Korean Speaking</td>\n",
       "      <td>www.indeed.com/pagead/clk?mo=r&amp;ad=-6NYlbfkN0AE...</td>\n",
       "      <td>Metabyte</td>\n",
       "      <td>www.indeed.com/cmp/Metabyte</td>\n",
       "      <td>4.1</td>\n",
       "      <td>Ridgefield Park, NJ</td>\n",
       "      <td>$5,927 - $6,750 a month</td>\n",
       "      <td>Contract</td>\n",
       "    </tr>\n",
       "    <tr>\n",
       "      <th>16</th>\n",
       "      <td>Bravo-Sr Data Analyst - Remote</td>\n",
       "      <td>www.indeed.com/pagead/clk?mo=r&amp;ad=-6NYlbfkN0Bb...</td>\n",
       "      <td>Medical Mutual of Ohio</td>\n",
       "      <td>www.indeed.com/cmp/Medical-Mutual-of-Ohio</td>\n",
       "      <td>3.9</td>\n",
       "      <td>Remote in United States</td>\n",
       "      <td>None</td>\n",
       "      <td>Full-time</td>\n",
       "    </tr>\n",
       "    <tr>\n",
       "      <th>17</th>\n",
       "      <td>Board Certified Behavioral Analysts - Grand Ra...</td>\n",
       "      <td>www.indeed.com/pagead/clk?mo=r&amp;ad=-6NYlbfkN0B4...</td>\n",
       "      <td>Jogan Health</td>\n",
       "      <td>www.indeed.com/cmp/Jogan-Health</td>\n",
       "      <td>4.1</td>\n",
       "      <td>Grand Rapids, MI</td>\n",
       "      <td>$35 an hour</td>\n",
       "      <td>Full-time +2</td>\n",
       "    </tr>\n",
       "    <tr>\n",
       "      <th>18</th>\n",
       "      <td>Entry level Business /Data Analyst</td>\n",
       "      <td>www.indeed.com/company/TRESUME/jobs/Entry-Leve...</td>\n",
       "      <td>TRESUME</td>\n",
       "      <td>None</td>\n",
       "      <td>None</td>\n",
       "      <td>Dallas, TX</td>\n",
       "      <td>$30 - $35 an hour</td>\n",
       "      <td>Full-time</td>\n",
       "    </tr>\n",
       "    <tr>\n",
       "      <th>19</th>\n",
       "      <td>Data Analyst</td>\n",
       "      <td>www.indeed.com/company/Phoenix-Loss-Control/jo...</td>\n",
       "      <td>Phoenix Loss Control</td>\n",
       "      <td>www.indeed.com/cmp/Phoenix-Loss-Control</td>\n",
       "      <td>4.2</td>\n",
       "      <td>Remote</td>\n",
       "      <td>$50,000 - $150,000 a year</td>\n",
       "      <td>Full-time +2</td>\n",
       "    </tr>\n",
       "  </tbody>\n",
       "</table>\n",
       "</div>"
      ],
      "text/plain": [
       "                                            job_title  \\\n",
       "0                                        Data Analyst   \n",
       "1                    Board Certified Behavior Analyst   \n",
       "2                       Business Intelligence Analyst   \n",
       "3                                        Data Analyst   \n",
       "4                                     IT Data Analyst   \n",
       "5   Healthcare Analyst II - Network Development Ma...   \n",
       "6                             All-Source Analyst, Mid   \n",
       "7                                        Data Analyst   \n",
       "8                    Sr Business Data Analyst- Hybrid   \n",
       "9                                        Data Analyst   \n",
       "10  Data Analyst with heavy EXCEL experience (6 mo...   \n",
       "11                            Master Data Coordinator   \n",
       "12                                       Data Analyst   \n",
       "13                       Junior Data Analyst (HYBRID)   \n",
       "14                                       Data Analyst   \n",
       "15                 Business Analyst - Korean Speaking   \n",
       "16                     Bravo-Sr Data Analyst - Remote   \n",
       "17  Board Certified Behavioral Analysts - Grand Ra...   \n",
       "18                 Entry level Business /Data Analyst   \n",
       "19                                       Data Analyst   \n",
       "\n",
       "                                             job_link  \\\n",
       "0   www.indeed.com/pagead/clk?mo=r&ad=-6NYlbfkN0Ad...   \n",
       "1   www.indeed.com/pagead/clk?mo=r&ad=-6NYlbfkN0Db...   \n",
       "2   www.indeed.com/pagead/clk?mo=r&ad=-6NYlbfkN0DS...   \n",
       "3   www.indeed.com/pagead/clk?mo=r&ad=-6NYlbfkN0BU...   \n",
       "4   www.indeed.com/pagead/clk?mo=r&ad=-6NYlbfkN0De...   \n",
       "5   www.indeed.com/pagead/clk?mo=r&ad=-6NYlbfkN0Cb...   \n",
       "6   www.indeed.com/pagead/clk?mo=r&ad=-6NYlbfkN0Ca...   \n",
       "7   www.indeed.com/pagead/clk?mo=r&ad=-6NYlbfkN0DS...   \n",
       "8   www.indeed.com/company/Apisero/jobs/Senior-Bus...   \n",
       "9   www.indeed.com/company/COMTEC-INFORMATION-SYST...   \n",
       "10  www.indeed.com/company/RPO-Client/jobs/Data-An...   \n",
       "11  www.indeed.com/pagead/clk?mo=r&ad=-6NYlbfkN0Ab...   \n",
       "12  www.indeed.com/company/Zora-Corporation/jobs/D...   \n",
       "13  www.indeed.com/rc/clk?jk=075d8475826a1add&fcci...   \n",
       "14  www.indeed.com/rc/clk?jk=45fb1e57894adc6d&fcci...   \n",
       "15  www.indeed.com/pagead/clk?mo=r&ad=-6NYlbfkN0AE...   \n",
       "16  www.indeed.com/pagead/clk?mo=r&ad=-6NYlbfkN0Bb...   \n",
       "17  www.indeed.com/pagead/clk?mo=r&ad=-6NYlbfkN0B4...   \n",
       "18  www.indeed.com/company/TRESUME/jobs/Entry-Leve...   \n",
       "19  www.indeed.com/company/Phoenix-Loss-Control/jo...   \n",
       "\n",
       "                               company  \\\n",
       "0                                Uline   \n",
       "1            Infinity Counseling Group   \n",
       "2                      iClassPro, Inc.   \n",
       "3                            CardWorks   \n",
       "4                         AFR Services   \n",
       "5                        Fallon Health   \n",
       "6                  Booz Allen Hamilton   \n",
       "7   The World's Largest Social Network   \n",
       "8                              Apisero   \n",
       "9            ComTec information system   \n",
       "10                             GENUENT   \n",
       "11         Quality Custom Distribution   \n",
       "12                                Zora   \n",
       "13            SunPlus Data Group, Inc.   \n",
       "14                              Disney   \n",
       "15                            Metabyte   \n",
       "16              Medical Mutual of Ohio   \n",
       "17                        Jogan Health   \n",
       "18                             TRESUME   \n",
       "19                Phoenix Loss Control   \n",
       "\n",
       "                                      company_link company_rating  \\\n",
       "0                         www.indeed.com/cmp/Uline            3.1   \n",
       "1     www.indeed.com/cmp/Infinity-Counseling-Group            3.4   \n",
       "2                                             None           None   \n",
       "3           www.indeed.com/cmp/Cardworks-Servicing            3.3   \n",
       "4                                             None           None   \n",
       "5                 www.indeed.com/cmp/Fallon-Health            3.1   \n",
       "6           www.indeed.com/cmp/Booz-Allen-Hamilton            3.9   \n",
       "7                                             None           None   \n",
       "8                                             None           None   \n",
       "9    www.indeed.com/cmp/Comtec-Information-Systems            3.7   \n",
       "10                                            None           None   \n",
       "11  www.indeed.com/cmp/Quality-Custom-Distribution            2.7   \n",
       "12                                            None           None   \n",
       "13     www.indeed.com/cmp/Sunplus-Data-Group,-Inc.            3.5   \n",
       "14      www.indeed.com/cmp/The-Walt-Disney-Company            4.1   \n",
       "15                     www.indeed.com/cmp/Metabyte            4.1   \n",
       "16       www.indeed.com/cmp/Medical-Mutual-of-Ohio            3.9   \n",
       "17                 www.indeed.com/cmp/Jogan-Health            4.1   \n",
       "18                                            None           None   \n",
       "19         www.indeed.com/cmp/Phoenix-Loss-Control            4.2   \n",
       "\n",
       "                                location                     salary  \\\n",
       "0             Pleasant Prairie, WI 53158                       None   \n",
       "1     Hybrid remote in Norfolk, VA 23502          $50 - $75 an hour   \n",
       "2    Hybrid remote in Longview, TX 75605   $55,000 - $98,757 a year   \n",
       "3                 South Jordan, UT 84095        From $59,000 a year   \n",
       "4       Hybrid remote in Plano, TX 75093                       None   \n",
       "5   Hybrid remote in Worcester, MA 01608                       None   \n",
       "6                    Charlottesville, VA                       None   \n",
       "7                Remote in San Diego, CA          $38 - $41 an hour   \n",
       "8     Hybrid remote in Brenham, TX 77833          $70 - $75 an hour   \n",
       "9                        Plano, TX 75023          $40 - $47 an hour   \n",
       "10                                Remote                $50 an hour   \n",
       "11                      Frisco, TX 75034   $55,000 - $59,000 a year   \n",
       "12                                Remote           From $80 an hour   \n",
       "13               Remote in United States          $66 - $75 an hour   \n",
       "14      Remote in Santa Monica, CA 90401  $87,900 - $137,300 a year   \n",
       "15                   Ridgefield Park, NJ    $5,927 - $6,750 a month   \n",
       "16               Remote in United States                       None   \n",
       "17                      Grand Rapids, MI                $35 an hour   \n",
       "18                            Dallas, TX          $30 - $35 an hour   \n",
       "19                                Remote  $50,000 - $150,000 a year   \n",
       "\n",
       "          status  \n",
       "0           None  \n",
       "1   Full-time +1  \n",
       "2      Full-time  \n",
       "3      Full-time  \n",
       "4      Full-time  \n",
       "5      Full-time  \n",
       "6           None  \n",
       "7   Full-time +1  \n",
       "8       Contract  \n",
       "9   Full-time +1  \n",
       "10      Contract  \n",
       "11     Full-time  \n",
       "12      Contract  \n",
       "13      Contract  \n",
       "14          None  \n",
       "15      Contract  \n",
       "16     Full-time  \n",
       "17  Full-time +2  \n",
       "18     Full-time  \n",
       "19  Full-time +2  "
      ]
     },
     "execution_count": 21,
     "metadata": {},
     "output_type": "execute_result"
    }
   ],
   "source": [
    "df.head(20)"
   ]
  },
  {
   "cell_type": "code",
   "execution_count": null,
   "id": "76e1b8db",
   "metadata": {},
   "outputs": [],
   "source": [
    "#\n",
    "df.info()\n"
   ]
  },
  {
   "cell_type": "code",
   "execution_count": null,
   "id": "7e2e7d26",
   "metadata": {},
   "outputs": [],
   "source": [
    "#\n",
    "df.location.value_counts()"
   ]
  },
  {
   "cell_type": "code",
   "execution_count": null,
   "id": "8676511d",
   "metadata": {},
   "outputs": [],
   "source": [
    "#\n",
    "def getState(loc):\n",
    "    if \",\" in loc:\n",
    "        state = loc.replace(\"\\xa0\", \" \").split(\",\")[1].strip().split(\" \")[0].strip()\n",
    "    else:\n",
    "        state = None\n",
    "        \n",
    "    return(state)\n",
    "        "
   ]
  },
  {
   "cell_type": "code",
   "execution_count": null,
   "id": "523e0e23",
   "metadata": {},
   "outputs": [],
   "source": [
    "#\n",
    "getState(\"Austin, TX (Downtown area)\")"
   ]
  },
  {
   "cell_type": "code",
   "execution_count": null,
   "id": "ddce6ebe",
   "metadata": {},
   "outputs": [],
   "source": [
    "#\n",
    "df[\"state\"] = df.location.apply(lambda x: getState(x))\n",
    "df.info()"
   ]
  },
  {
   "cell_type": "code",
   "execution_count": null,
   "id": "ca5b0431",
   "metadata": {},
   "outputs": [],
   "source": [
    "#\n",
    "df.state.value_counts()"
   ]
  },
  {
   "cell_type": "code",
   "execution_count": null,
   "id": "a1102143",
   "metadata": {},
   "outputs": [],
   "source": [
    "#\n",
    "df.loc[df.location.str.contains(\"\\(Downtown\")]"
   ]
  },
  {
   "cell_type": "code",
   "execution_count": null,
   "id": "f4089ff9",
   "metadata": {},
   "outputs": [],
   "source": [
    "df.iloc[71].location"
   ]
  },
  {
   "cell_type": "code",
   "execution_count": null,
   "id": "f5818baa",
   "metadata": {},
   "outputs": [],
   "source": [
    "#\n",
    "def getRemote(loc):\n",
    "    if \"remote\" in loc.lower():\n",
    "        return(True)\n",
    "    else:\n",
    "        return(False)\n",
    "        \n",
    "  "
   ]
  },
  {
   "cell_type": "code",
   "execution_count": null,
   "id": "1b2d60b1",
   "metadata": {},
   "outputs": [],
   "source": [
    "#\n",
    "df[\"is_remote\"] = df.location.apply(lambda x: getRemote(x))\n",
    "df.info()"
   ]
  },
  {
   "cell_type": "code",
   "execution_count": null,
   "id": "a156a1e1",
   "metadata": {},
   "outputs": [],
   "source": [
    "df.is_remote.value_counts()"
   ]
  },
  {
   "cell_type": "code",
   "execution_count": null,
   "id": "47381c51",
   "metadata": {},
   "outputs": [],
   "source": [
    "#Don't worry about it\n",
    "def getCity(loc):\n",
    "    if \",\" in loc:\n",
    "        city_list = loc.replace(\"\\xa0\", \" \").split(\",\")[0].strip().split(\" \")\n",
    "        city = city_list[0] if len(city_list) ==1 else city_list[1]\n",
    "    else:\n",
    "        city = None\n",
    "        \n",
    "    return(city)"
   ]
  },
  {
   "cell_type": "code",
   "execution_count": null,
   "id": "f93892d8",
   "metadata": {},
   "outputs": [],
   "source": [
    "df[\"city\"] = df.location.apply(lambda x: getCity(x))\n",
    "df.info()"
   ]
  },
  {
   "cell_type": "code",
   "execution_count": null,
   "id": "0279ce4f",
   "metadata": {},
   "outputs": [],
   "source": [
    "#\n",
    "df.city.value_counts()"
   ]
  },
  {
   "cell_type": "code",
   "execution_count": null,
   "id": "b98cda47",
   "metadata": {},
   "outputs": [],
   "source": [
    "#\n",
    "df.loc[df.location.str.contains(\"in\")]"
   ]
  },
  {
   "cell_type": "code",
   "execution_count": null,
   "id": "8b1067da",
   "metadata": {},
   "outputs": [],
   "source": []
  },
  {
   "cell_type": "code",
   "execution_count": null,
   "id": "bba90ee2",
   "metadata": {},
   "outputs": [],
   "source": [
    "#Set-up sleep function\n",
    "# browser.visit(dice_lyst)\n",
    "# time.sleep(2)"
   ]
  },
  {
   "cell_type": "code",
   "execution_count": null,
   "id": "1376716f",
   "metadata": {},
   "outputs": [],
   "source": [
    "def getAd(link):\n",
    "    if \"pagead\" in link.lower():\n",
    "        return(True)\n",
    "    else:\n",
    "        return(False)"
   ]
  },
  {
   "cell_type": "code",
   "execution_count": null,
   "id": "68f3da22",
   "metadata": {},
   "outputs": [],
   "source": [
    "df[\"is_ad\"] = df.job_link.apply(lambda x: getAd(x))\n",
    "df.info()"
   ]
  },
  {
   "cell_type": "code",
   "execution_count": null,
   "id": "c47033cf",
   "metadata": {},
   "outputs": [],
   "source": [
    "df.is_ad.value_counts()"
   ]
  },
  {
   "cell_type": "code",
   "execution_count": null,
   "id": "10129e18",
   "metadata": {},
   "outputs": [],
   "source": [
    "#Paying for Ads, add to main job table as bool\n",
    "df.groupby(\"company\").is_ad.sum().sort_values(ascending=False)"
   ]
  },
  {
   "cell_type": "code",
   "execution_count": null,
   "id": "4915a500",
   "metadata": {},
   "outputs": [],
   "source": []
  },
  {
   "cell_type": "code",
   "execution_count": null,
   "id": "cc0b3c72",
   "metadata": {},
   "outputs": [],
   "source": []
  }
 ],
 "metadata": {
  "kernelspec": {
   "display_name": "Python 3 (ipykernel)",
   "language": "python",
   "name": "python3"
  },
  "language_info": {
   "codemirror_mode": {
    "name": "ipython",
    "version": 3
   },
   "file_extension": ".py",
   "mimetype": "text/x-python",
   "name": "python",
   "nbconvert_exporter": "python",
   "pygments_lexer": "ipython3",
   "version": "3.9.12"
  }
 },
 "nbformat": 4,
 "nbformat_minor": 5
}
