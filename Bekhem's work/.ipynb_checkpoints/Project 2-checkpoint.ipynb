{
 "cells": [
  {
   "cell_type": "code",
   "execution_count": 1,
   "id": "1afd765b",
   "metadata": {},
   "outputs": [],
   "source": [
    "from splinter import Browser\n",
    "from bs4 import BeautifulSoup\n",
    "from webdriver_manager.chrome import ChromeDriverManager\n",
    "import pandas as pd\n",
    "import requests\n",
    "import time\n",
    "from sqlalchemy import inspect, create_engine\n",
    "import matplotlib.pyplot as plt\n",
    "import numpy as np"
   ]
  },
  {
   "cell_type": "code",
   "execution_count": 2,
   "id": "20978fe3",
   "metadata": {},
   "outputs": [
    {
     "name": "stderr",
     "output_type": "stream",
     "text": [
      "[WDM] - Downloading: 100%|████████████████████████████████████████████████████████| 6.58M/6.58M [00:00<00:00, 15.2MB/s]\n"
     ]
    }
   ],
   "source": [
    "#Setup splinter\n",
    "executable_path = {'executable_path': ChromeDriverManager().install()}\n",
    "browser = Browser('chrome', **executable_path, headless=False)"
   ]
  },
  {
   "cell_type": "code",
   "execution_count": 3,
   "id": "392a835a",
   "metadata": {},
   "outputs": [],
   "source": [
    "# HOSTNAME = \"localhost\"\n",
    "# PORT = 5432\n",
    "# DATABASE = \"diapers_db\"\n",
    "# USERNAME = \"postgres\"\n",
    "# PASSWORD = \"password\"\n",
    "# path = f'postgresql+psycopg2://{USERNAME}:{PASSWORD}@{HOSTNAME}:{PORT}/{DATABASE}'\n",
    "# engine = create_engine(path)"
   ]
  },
  {
   "cell_type": "code",
   "execution_count": 4,
   "id": "a874dcd9",
   "metadata": {},
   "outputs": [],
   "source": [
    "# conn = engine.connect()"
   ]
  },
  {
   "cell_type": "code",
   "execution_count": 3,
   "id": "f43ee070",
   "metadata": {},
   "outputs": [],
   "source": [
    "#Website searching Data Analyst positions\n",
    "indeed = \"https://www.indeed.com/jobs?q=data+analyst\"\n",
    "\n",
    "browser.visit(indeed)\n",
    "\n"
   ]
  },
  {
   "cell_type": "code",
   "execution_count": 4,
   "id": "585bae38",
   "metadata": {},
   "outputs": [
    {
     "data": {
      "text/plain": [
       "'<html dir=\"ltr\" lang=\"en\" class=\"js-focus-visible\" data-js-focus-visible=\"\"><head>\\n    <link rel=\"shortcut icon\" href=\"/images/favicon.ico\">\\n    <title>Data Analyst Jobs, Employment | Indeed.com</title>\\n    <meta http-equiv=\"content-type\" content=\"text/html; charset=utf-8\">\\n    <meta name=\"description\" content=\"28,086 Data Analyst jobs available on Indeed.com. Apply to Data Analyst, Entry Level Data Analyst, Senior Data Analyst and more!\">\\n    <meta name=\"keywords\" content=\"Data Analyst Jobs, Em'"
      ]
     },
     "execution_count": 4,
     "metadata": {},
     "output_type": "execute_result"
    }
   ],
   "source": [
    "html = browser.html\n",
    "html[0:500]"
   ]
  },
  {
   "cell_type": "code",
   "execution_count": 5,
   "id": "36617ffd",
   "metadata": {},
   "outputs": [],
   "source": [
    "soup = BeautifulSoup(browser.html, \"html.parser\")\n",
    "#print(soup.prettify())"
   ]
  },
  {
   "cell_type": "code",
   "execution_count": 6,
   "id": "4cddb98a",
   "metadata": {},
   "outputs": [
    {
     "data": {
      "text/plain": [
       "bs4.BeautifulSoup"
      ]
     },
     "execution_count": 6,
     "metadata": {},
     "output_type": "execute_result"
    }
   ],
   "source": [
    "soup= BeautifulSoup(browser.html, 'lxml')\n",
    "type(soup)"
   ]
  },
  {
   "cell_type": "code",
   "execution_count": 7,
   "id": "44b1b46f",
   "metadata": {},
   "outputs": [
    {
     "data": {
      "text/plain": [
       "15"
      ]
     },
     "execution_count": 7,
     "metadata": {},
     "output_type": "execute_result"
    }
   ],
   "source": [
    "#Find code to loop through web page and pull the title of the job and possibly the location, then find code to click the job and acquire the salary.\n",
    "jobs = soup.find_all('div', {'class': 'cardOutline'})\n",
    "len(jobs)\n"
   ]
  },
  {
   "cell_type": "code",
   "execution_count": 8,
   "id": "e9f27e82",
   "metadata": {},
   "outputs": [],
   "source": [
    "#Find the jobs titles for positions and the link IF available\n",
    "job = jobs[0]\n",
    "title = job.find('a', {\"class\": 'jcs-JobTitle'}).text\n",
    "link = \"www.indeed.com\" + job.find('a', {\"class\": 'jcs-JobTitle'})[\"href\"]\n"
   ]
  },
  {
   "cell_type": "code",
   "execution_count": 9,
   "id": "39b2bba7",
   "metadata": {},
   "outputs": [],
   "source": [
    "#Find company name and the link IF available\n",
    "company = job.find('a', {\"class\": 'companyOverviewLink'}).text\n",
    "company_link = \"www.indeed.com\" + job.find('a', {\"class\": 'companyOverviewLink'})[\"href\"]"
   ]
  },
  {
   "cell_type": "code",
   "execution_count": 10,
   "id": "08c1614a",
   "metadata": {},
   "outputs": [
    {
     "data": {
      "text/plain": [
       "'2.6'"
      ]
     },
     "execution_count": 10,
     "metadata": {},
     "output_type": "execute_result"
    }
   ],
   "source": [
    "#Find the rating for the company/job\n",
    "rating = job.find('span', {\"class\": 'ratingNumber'}).text\n",
    "rating"
   ]
  },
  {
   "cell_type": "code",
   "execution_count": 11,
   "id": "300e71f2",
   "metadata": {},
   "outputs": [
    {
     "data": {
      "text/plain": [
       "'Dallas, TX 75229\\xa0(Northwest Dallas area)'"
      ]
     },
     "execution_count": 11,
     "metadata": {},
     "output_type": "execute_result"
    }
   ],
   "source": [
    "#Find the location of the job listing\n",
    "loc = job.find('div', {\"class\": 'companyLocation'}).text\n",
    "loc"
   ]
  },
  {
   "cell_type": "code",
   "execution_count": 55,
   "id": "7afe6475",
   "metadata": {},
   "outputs": [
    {
     "data": {
      "text/plain": [
       "'$83,000 - $88,000 a year'"
      ]
     },
     "execution_count": 55,
     "metadata": {},
     "output_type": "execute_result"
    }
   ],
   "source": [
    "#Find the salary for the job listing\n",
    "salary = job.find('div', {\"class\": 'salary-snippet-container'}).text\n",
    "salary"
   ]
  },
  {
   "cell_type": "code",
   "execution_count": 14,
   "id": "13a439cf",
   "metadata": {},
   "outputs": [
    {
     "data": {
      "text/plain": [
       "'Full-time'"
      ]
     },
     "execution_count": 14,
     "metadata": {},
     "output_type": "execute_result"
    }
   ],
   "source": [
    "#Pull the text only from the parent for job salary\n",
    "job.find('svg', {\"aria-label\": \"Job type\"}).parent.text"
   ]
  },
  {
   "cell_type": "code",
   "execution_count": 56,
   "id": "85f7b28e",
   "metadata": {},
   "outputs": [
    {
     "data": {
      "text/html": [
       "<div>\n",
       "<style scoped>\n",
       "    .dataframe tbody tr th:only-of-type {\n",
       "        vertical-align: middle;\n",
       "    }\n",
       "\n",
       "    .dataframe tbody tr th {\n",
       "        vertical-align: top;\n",
       "    }\n",
       "\n",
       "    .dataframe thead th {\n",
       "        text-align: right;\n",
       "    }\n",
       "</style>\n",
       "<table border=\"1\" class=\"dataframe\">\n",
       "  <thead>\n",
       "    <tr style=\"text-align: right;\">\n",
       "      <th></th>\n",
       "      <th>job_title</th>\n",
       "      <th>job_link</th>\n",
       "      <th>company</th>\n",
       "      <th>company_link</th>\n",
       "      <th>company_rating</th>\n",
       "      <th>location</th>\n",
       "      <th>salary</th>\n",
       "      <th>status</th>\n",
       "    </tr>\n",
       "  </thead>\n",
       "  <tbody>\n",
       "    <tr>\n",
       "      <th>0</th>\n",
       "      <td>ISD Architect I (Senior Data Analyst)</td>\n",
       "      <td>www.indeed.com/pagead/clk?mo=r&amp;ad=-6NYlbfkN0C1...</td>\n",
       "      <td>Navy Federal Credit Union</td>\n",
       "      <td>www.indeed.com/cmp/Navy-Federal-Credit-Union</td>\n",
       "      <td>3.9</td>\n",
       "      <td>Pensacola, FL</td>\n",
       "      <td>$95,600 - $163,500 a year</td>\n",
       "      <td>Full-time +1</td>\n",
       "    </tr>\n",
       "    <tr>\n",
       "      <th>1</th>\n",
       "      <td>Business Data Analyst - Operations</td>\n",
       "      <td>www.indeed.com/pagead/clk?mo=r&amp;ad=-6NYlbfkN0Av...</td>\n",
       "      <td>Summit Companies</td>\n",
       "      <td>www.indeed.com/cmp/Summit-Companies</td>\n",
       "      <td>2.9</td>\n",
       "      <td>Mendota Heights, MN 55120</td>\n",
       "      <td>$65,000 - $85,000 a year</td>\n",
       "      <td>Full-time</td>\n",
       "    </tr>\n",
       "    <tr>\n",
       "      <th>2</th>\n",
       "      <td>Data Analyst</td>\n",
       "      <td>www.indeed.com/pagead/clk?mo=r&amp;ad=-6NYlbfkN0Bb...</td>\n",
       "      <td>Allied Stone Inc</td>\n",
       "      <td>www.indeed.com/cmp/Allied-Stone,-Inc.</td>\n",
       "      <td>2.6</td>\n",
       "      <td>Dallas, TX 75229 (Northwest Dallas area)</td>\n",
       "      <td>None</td>\n",
       "      <td>Full-time</td>\n",
       "    </tr>\n",
       "    <tr>\n",
       "      <th>3</th>\n",
       "      <td>Entry level Business /Data Analyst</td>\n",
       "      <td>www.indeed.com/company/TRESUME/jobs/Entry-Leve...</td>\n",
       "      <td>TRESUME</td>\n",
       "      <td>None</td>\n",
       "      <td>None</td>\n",
       "      <td>Dallas, TX</td>\n",
       "      <td>$30 - $35 an hour</td>\n",
       "      <td>Full-time</td>\n",
       "    </tr>\n",
       "    <tr>\n",
       "      <th>4</th>\n",
       "      <td>Data Analyst</td>\n",
       "      <td>www.indeed.com/rc/clk?jk=45fb1e57894adc6d&amp;fcci...</td>\n",
       "      <td>Disney</td>\n",
       "      <td>www.indeed.com/cmp/The-Walt-Disney-Company</td>\n",
       "      <td>4.1</td>\n",
       "      <td>Remote in Santa Monica, CA 90401</td>\n",
       "      <td>$87,900 - $137,300 a year</td>\n",
       "      <td>None</td>\n",
       "    </tr>\n",
       "  </tbody>\n",
       "</table>\n",
       "</div>"
      ],
      "text/plain": [
       "                               job_title  \\\n",
       "0  ISD Architect I (Senior Data Analyst)   \n",
       "1     Business Data Analyst - Operations   \n",
       "2                           Data Analyst   \n",
       "3     Entry level Business /Data Analyst   \n",
       "4                           Data Analyst   \n",
       "\n",
       "                                            job_link  \\\n",
       "0  www.indeed.com/pagead/clk?mo=r&ad=-6NYlbfkN0C1...   \n",
       "1  www.indeed.com/pagead/clk?mo=r&ad=-6NYlbfkN0Av...   \n",
       "2  www.indeed.com/pagead/clk?mo=r&ad=-6NYlbfkN0Bb...   \n",
       "3  www.indeed.com/company/TRESUME/jobs/Entry-Leve...   \n",
       "4  www.indeed.com/rc/clk?jk=45fb1e57894adc6d&fcci...   \n",
       "\n",
       "                     company                                  company_link  \\\n",
       "0  Navy Federal Credit Union  www.indeed.com/cmp/Navy-Federal-Credit-Union   \n",
       "1           Summit Companies           www.indeed.com/cmp/Summit-Companies   \n",
       "2           Allied Stone Inc         www.indeed.com/cmp/Allied-Stone,-Inc.   \n",
       "3                    TRESUME                                          None   \n",
       "4                     Disney    www.indeed.com/cmp/The-Walt-Disney-Company   \n",
       "\n",
       "  company_rating                                  location  \\\n",
       "0            3.9                             Pensacola, FL   \n",
       "1            2.9                 Mendota Heights, MN 55120   \n",
       "2            2.6  Dallas, TX 75229 (Northwest Dallas area)   \n",
       "3           None                                Dallas, TX   \n",
       "4            4.1          Remote in Santa Monica, CA 90401   \n",
       "\n",
       "                      salary        status  \n",
       "0  $95,600 - $163,500 a year  Full-time +1  \n",
       "1   $65,000 - $85,000 a year     Full-time  \n",
       "2                       None     Full-time  \n",
       "3          $30 - $35 an hour     Full-time  \n",
       "4  $87,900 - $137,300 a year          None  "
      ]
     },
     "execution_count": 56,
     "metadata": {},
     "output_type": "execute_result"
    }
   ],
   "source": [
    "#\n",
    "rows = []\n",
    "browser.visit(indeed)\n",
    "for i in range(1, 50):\n",
    "    \n",
    "    html = browser.html\n",
    "    soup = BeautifulSoup(browser.html, \"html.parser\")\n",
    "    jobs = soup.find_all('div', {'class': 'cardOutline'})\n",
    "    \n",
    "    \n",
    "    for job in jobs:\n",
    "        title = job.find('a', {\"class\": 'jcs-JobTitle'}).text\n",
    "        link = \"www.indeed.com\" + job.find('a', {\"class\": 'jcs-JobTitle'})[\"href\"]\n",
    "\n",
    "        company_name = job.find('span', {'class': 'companyName'})\n",
    "        if company_name: \n",
    "            company = company_name.text\n",
    "        else:\n",
    "            company = None\n",
    "        \n",
    "        company_con = job.find('a', {\"class\": 'companyOverviewLink'})\n",
    "        if company_con: \n",
    "            company_link = \"www.indeed.com\" + company_con[\"href\"]\n",
    "        else:\n",
    "            company_link = None\n",
    "\n",
    "        rating_con = job.find('span', {\"class\": 'ratingNumber'})\n",
    "        if rating_con: \n",
    "            rating = rating_con.text\n",
    "        else:\n",
    "            rating = None\n",
    "\n",
    "\n",
    "        loc = job.find('div', {\"class\": 'companyLocation'}).text\n",
    "\n",
    "        salary_con = job.find('div', {\"class\": 'salary-snippet-container'})\n",
    "        if salary_con: \n",
    "            salary = salary_con.text\n",
    "        else:\n",
    "            salary = None\n",
    "\n",
    "\n",
    "        status_con = job.find('svg', {\"aria-label\": \"Job type\"})\n",
    "        if status_con:\n",
    "            status = status_con.parent.text\n",
    "        else:\n",
    "            status = None\n",
    "\n",
    "        data = {}\n",
    "        data[\"job_title\"] = title\n",
    "        data[\"job_link\"] = link\n",
    "        data[\"company\"] = company\n",
    "        data[\"company_link\"] = company_link\n",
    "        data[\"company_rating\"] = rating\n",
    "        data[\"location\"] = loc\n",
    "        data[\"salary\"] = salary\n",
    "        data[\"status\"] = status\n",
    "        rows.append(data)\n",
    "    \n",
    "    browser.links.find_by_text(f\"{i+1}\").click()\n",
    "        \n",
    "df = pd.DataFrame(rows)\n",
    "df.head()"
   ]
  },
  {
   "cell_type": "code",
   "execution_count": 57,
   "id": "2b141d3f",
   "metadata": {},
   "outputs": [
    {
     "data": {
      "text/plain": [
       "735"
      ]
     },
     "execution_count": 57,
     "metadata": {},
     "output_type": "execute_result"
    }
   ],
   "source": [
    "len(df)"
   ]
  },
  {
   "cell_type": "code",
   "execution_count": 58,
   "id": "00fbf640",
   "metadata": {},
   "outputs": [
    {
     "name": "stdout",
     "output_type": "stream",
     "text": [
      "<class 'pandas.core.frame.DataFrame'>\n",
      "RangeIndex: 735 entries, 0 to 734\n",
      "Data columns (total 8 columns):\n",
      " #   Column          Non-Null Count  Dtype  \n",
      "---  ------          --------------  -----  \n",
      " 0   job_title       735 non-null    object \n",
      " 1   job_link        735 non-null    object \n",
      " 2   company         733 non-null    object \n",
      " 3   company_link    571 non-null    object \n",
      " 4   company_rating  571 non-null    float64\n",
      " 5   location        735 non-null    object \n",
      " 6   salary          338 non-null    object \n",
      " 7   status          551 non-null    object \n",
      "dtypes: float64(1), object(7)\n",
      "memory usage: 46.1+ KB\n"
     ]
    }
   ],
   "source": [
    "df[\"company_rating\"] = pd.to_numeric(df.company_rating)\n",
    "df.info()"
   ]
  },
  {
   "cell_type": "code",
   "execution_count": 59,
   "id": "7bb157e4",
   "metadata": {},
   "outputs": [
    {
     "data": {
      "text/plain": [
       "Full-time       440\n",
       "Contract         49\n",
       "Full-time +1     44\n",
       "Full-time +2      6\n",
       "Part-time         5\n",
       "Contract +1       3\n",
       "Temporary         2\n",
       "Part-time +1      1\n",
       "Temp-to-hire      1\n",
       "Name: status, dtype: int64"
      ]
     },
     "execution_count": 59,
     "metadata": {},
     "output_type": "execute_result"
    }
   ],
   "source": [
    "df.status.value_counts()"
   ]
  },
  {
   "cell_type": "code",
   "execution_count": 60,
   "id": "9421d672",
   "metadata": {},
   "outputs": [
    {
     "name": "stderr",
     "output_type": "stream",
     "text": [
      "C:\\Users\\19722\\AppData\\Local\\Temp\\ipykernel_7444\\152645899.py:2: FutureWarning: The default value of regex will change from True to False in a future version.\n",
      "  df[\"status\"] = df.status.str.replace(\"\\s\\+\\d\",\"\")\n"
     ]
    }
   ],
   "source": [
    "#combine with regex s=space d=catch or match all numbers \\+ = plus sign matches plus sign, regex meaning.\n",
    "df[\"status\"] = df.status.str.replace(\"\\s\\+\\d\",\"\")"
   ]
  },
  {
   "cell_type": "code",
   "execution_count": 61,
   "id": "7354a4f7",
   "metadata": {},
   "outputs": [
    {
     "data": {
      "text/plain": [
       "Full-time       490\n",
       "Contract         52\n",
       "Part-time         6\n",
       "Temporary         2\n",
       "Temp-to-hire      1\n",
       "Name: status, dtype: int64"
      ]
     },
     "execution_count": 61,
     "metadata": {},
     "output_type": "execute_result"
    }
   ],
   "source": [
    "df.status.value_counts()"
   ]
  },
  {
   "cell_type": "code",
   "execution_count": 62,
   "id": "0a060b48",
   "metadata": {},
   "outputs": [
    {
     "data": {
      "text/plain": [
       "array(['Full-time', None, 'Contract', 'Part-time', 'Temporary',\n",
       "       'Temp-to-hire'], dtype=object)"
      ]
     },
     "execution_count": 62,
     "metadata": {},
     "output_type": "execute_result"
    }
   ],
   "source": [
    "#Status column -  ID, name, last_updated\n",
    "df.status.unique()"
   ]
  },
  {
   "cell_type": "code",
   "execution_count": 63,
   "id": "7016f5ac",
   "metadata": {},
   "outputs": [
    {
     "data": {
      "text/html": [
       "<div>\n",
       "<style scoped>\n",
       "    .dataframe tbody tr th:only-of-type {\n",
       "        vertical-align: middle;\n",
       "    }\n",
       "\n",
       "    .dataframe tbody tr th {\n",
       "        vertical-align: top;\n",
       "    }\n",
       "\n",
       "    .dataframe thead th {\n",
       "        text-align: right;\n",
       "    }\n",
       "</style>\n",
       "<table border=\"1\" class=\"dataframe\">\n",
       "  <thead>\n",
       "    <tr style=\"text-align: right;\">\n",
       "      <th></th>\n",
       "      <th>status</th>\n",
       "    </tr>\n",
       "  </thead>\n",
       "  <tbody>\n",
       "    <tr>\n",
       "      <th>0</th>\n",
       "      <td>Full-time</td>\n",
       "    </tr>\n",
       "    <tr>\n",
       "      <th>1</th>\n",
       "      <td>Contract</td>\n",
       "    </tr>\n",
       "    <tr>\n",
       "      <th>2</th>\n",
       "      <td>Part-time</td>\n",
       "    </tr>\n",
       "    <tr>\n",
       "      <th>3</th>\n",
       "      <td>Temporary</td>\n",
       "    </tr>\n",
       "    <tr>\n",
       "      <th>4</th>\n",
       "      <td>Temp-to-hire</td>\n",
       "    </tr>\n",
       "  </tbody>\n",
       "</table>\n",
       "</div>"
      ],
      "text/plain": [
       "         status\n",
       "0     Full-time\n",
       "1      Contract\n",
       "2     Part-time\n",
       "3     Temporary\n",
       "4  Temp-to-hire"
      ]
     },
     "execution_count": 63,
     "metadata": {},
     "output_type": "execute_result"
    }
   ],
   "source": [
    "#Status lookup table\n",
    "status = df.status.dropna().unique()\n",
    "status_df = pd.DataFrame()\n",
    "status_df[\"status\"] = status\n",
    "status_df"
   ]
  },
  {
   "cell_type": "code",
   "execution_count": 64,
   "id": "2c8dcf87",
   "metadata": {},
   "outputs": [
    {
     "data": {
      "text/plain": [
       "Navy Federal Credit Union        1\n",
       "Dept of State Health Services    1\n",
       "RD DIGITAL SOLUTIONS             1\n",
       "Corsearch                        1\n",
       "LeewayHertz                      1\n",
       "                                ..\n",
       "Colgate-Palmolive                1\n",
       "crox                             1\n",
       "HP                               1\n",
       "MNTN                             1\n",
       "Scalepex                         1\n",
       "Name: company, Length: 627, dtype: int64"
      ]
     },
     "execution_count": 64,
     "metadata": {},
     "output_type": "execute_result"
    }
   ],
   "source": [
    "#Company lookup table, revised to drop the 2nd Insight Global below\n",
    "companies = df.loc[:,[\"company\",\"company_link\", \"company_rating\"]].drop_duplicates().reset_index(drop=True)\n",
    "companies.company.value_counts()"
   ]
  },
  {
   "cell_type": "code",
   "execution_count": 65,
   "id": "18653f26",
   "metadata": {},
   "outputs": [
    {
     "data": {
      "text/html": [
       "<div>\n",
       "<style scoped>\n",
       "    .dataframe tbody tr th:only-of-type {\n",
       "        vertical-align: middle;\n",
       "    }\n",
       "\n",
       "    .dataframe tbody tr th {\n",
       "        vertical-align: top;\n",
       "    }\n",
       "\n",
       "    .dataframe thead th {\n",
       "        text-align: right;\n",
       "    }\n",
       "</style>\n",
       "<table border=\"1\" class=\"dataframe\">\n",
       "  <thead>\n",
       "    <tr style=\"text-align: right;\">\n",
       "      <th></th>\n",
       "      <th>company</th>\n",
       "      <th>company_link</th>\n",
       "      <th>company_rating</th>\n",
       "    </tr>\n",
       "  </thead>\n",
       "  <tbody>\n",
       "    <tr>\n",
       "      <th>114</th>\n",
       "      <td>Insight Global</td>\n",
       "      <td>None</td>\n",
       "      <td>NaN</td>\n",
       "    </tr>\n",
       "  </tbody>\n",
       "</table>\n",
       "</div>"
      ],
      "text/plain": [
       "            company company_link  company_rating\n",
       "114  Insight Global         None             NaN"
      ]
     },
     "execution_count": 65,
     "metadata": {},
     "output_type": "execute_result"
    }
   ],
   "source": [
    "companies.loc[companies.company == \"Insight Global\"]"
   ]
  },
  {
   "cell_type": "code",
   "execution_count": 66,
   "id": "98ed3bf7",
   "metadata": {},
   "outputs": [],
   "source": [
    "df.loc[df.company == \"Insight Global\", \"company_link\"] = \"www.indeed.com/cmp/Insight-Global\"\n",
    "df.loc[df.company == \"Insight Global\", \"company_rating\"] = 3.9"
   ]
  },
  {
   "cell_type": "code",
   "execution_count": 67,
   "id": "ad3dd709",
   "metadata": {},
   "outputs": [
    {
     "data": {
      "text/plain": [
       "Navy Federal Credit Union        1\n",
       "Dept of State Health Services    1\n",
       "RD DIGITAL SOLUTIONS             1\n",
       "Corsearch                        1\n",
       "LeewayHertz                      1\n",
       "                                ..\n",
       "Colgate-Palmolive                1\n",
       "crox                             1\n",
       "HP                               1\n",
       "MNTN                             1\n",
       "Scalepex                         1\n",
       "Name: company, Length: 627, dtype: int64"
      ]
     },
     "execution_count": 67,
     "metadata": {},
     "output_type": "execute_result"
    }
   ],
   "source": [
    "companies = df.loc[:,[\"company\",\"company_link\", \"company_rating\"]].drop_duplicates().reset_index(drop=True)\n",
    "companies.company.value_counts()"
   ]
  },
  {
   "cell_type": "code",
   "execution_count": 84,
   "id": "2e312bff",
   "metadata": {},
   "outputs": [
    {
     "data": {
      "text/html": [
       "<div>\n",
       "<style scoped>\n",
       "    .dataframe tbody tr th:only-of-type {\n",
       "        vertical-align: middle;\n",
       "    }\n",
       "\n",
       "    .dataframe tbody tr th {\n",
       "        vertical-align: top;\n",
       "    }\n",
       "\n",
       "    .dataframe thead th {\n",
       "        text-align: right;\n",
       "    }\n",
       "</style>\n",
       "<table border=\"1\" class=\"dataframe\">\n",
       "  <thead>\n",
       "    <tr style=\"text-align: right;\">\n",
       "      <th></th>\n",
       "      <th>company</th>\n",
       "      <th>company_link</th>\n",
       "      <th>company_rating</th>\n",
       "    </tr>\n",
       "  </thead>\n",
       "  <tbody>\n",
       "    <tr>\n",
       "      <th>0</th>\n",
       "      <td>Navy Federal Credit Union</td>\n",
       "      <td>www.indeed.com/cmp/Navy-Federal-Credit-Union</td>\n",
       "      <td>3.9</td>\n",
       "    </tr>\n",
       "    <tr>\n",
       "      <th>1</th>\n",
       "      <td>Summit Companies</td>\n",
       "      <td>www.indeed.com/cmp/Summit-Companies</td>\n",
       "      <td>2.9</td>\n",
       "    </tr>\n",
       "    <tr>\n",
       "      <th>2</th>\n",
       "      <td>Allied Stone Inc</td>\n",
       "      <td>www.indeed.com/cmp/Allied-Stone,-Inc.</td>\n",
       "      <td>2.6</td>\n",
       "    </tr>\n",
       "    <tr>\n",
       "      <th>3</th>\n",
       "      <td>TRESUME</td>\n",
       "      <td>None</td>\n",
       "      <td>NaN</td>\n",
       "    </tr>\n",
       "    <tr>\n",
       "      <th>4</th>\n",
       "      <td>Disney</td>\n",
       "      <td>www.indeed.com/cmp/The-Walt-Disney-Company</td>\n",
       "      <td>4.1</td>\n",
       "    </tr>\n",
       "    <tr>\n",
       "      <th>...</th>\n",
       "      <td>...</td>\n",
       "      <td>...</td>\n",
       "      <td>...</td>\n",
       "    </tr>\n",
       "    <tr>\n",
       "      <th>623</th>\n",
       "      <td>IQVIA</td>\n",
       "      <td>www.indeed.com/cmp/Iqvia</td>\n",
       "      <td>3.8</td>\n",
       "    </tr>\n",
       "    <tr>\n",
       "      <th>624</th>\n",
       "      <td>Change Healthcare</td>\n",
       "      <td>www.indeed.com/cmp/Change-Healthcare</td>\n",
       "      <td>3.0</td>\n",
       "    </tr>\n",
       "    <tr>\n",
       "      <th>625</th>\n",
       "      <td>Citi</td>\n",
       "      <td>www.indeed.com/cmp/Citi</td>\n",
       "      <td>3.9</td>\n",
       "    </tr>\n",
       "    <tr>\n",
       "      <th>626</th>\n",
       "      <td>Pratt &amp; Whitney</td>\n",
       "      <td>www.indeed.com/cmp/Pratt-&amp;-Whitney</td>\n",
       "      <td>3.9</td>\n",
       "    </tr>\n",
       "    <tr>\n",
       "      <th>627</th>\n",
       "      <td>Scalepex</td>\n",
       "      <td>None</td>\n",
       "      <td>NaN</td>\n",
       "    </tr>\n",
       "  </tbody>\n",
       "</table>\n",
       "<p>628 rows × 3 columns</p>\n",
       "</div>"
      ],
      "text/plain": [
       "                       company                                  company_link  \\\n",
       "0    Navy Federal Credit Union  www.indeed.com/cmp/Navy-Federal-Credit-Union   \n",
       "1             Summit Companies           www.indeed.com/cmp/Summit-Companies   \n",
       "2             Allied Stone Inc         www.indeed.com/cmp/Allied-Stone,-Inc.   \n",
       "3                      TRESUME                                          None   \n",
       "4                       Disney    www.indeed.com/cmp/The-Walt-Disney-Company   \n",
       "..                         ...                                           ...   \n",
       "623                      IQVIA                      www.indeed.com/cmp/Iqvia   \n",
       "624          Change Healthcare          www.indeed.com/cmp/Change-Healthcare   \n",
       "625                       Citi                       www.indeed.com/cmp/Citi   \n",
       "626            Pratt & Whitney            www.indeed.com/cmp/Pratt-&-Whitney   \n",
       "627                   Scalepex                                          None   \n",
       "\n",
       "     company_rating  \n",
       "0               3.9  \n",
       "1               2.9  \n",
       "2               2.6  \n",
       "3               NaN  \n",
       "4               4.1  \n",
       "..              ...  \n",
       "623             3.8  \n",
       "624             3.0  \n",
       "625             3.9  \n",
       "626             3.9  \n",
       "627             NaN  \n",
       "\n",
       "[628 rows x 3 columns]"
      ]
     },
     "execution_count": 84,
     "metadata": {},
     "output_type": "execute_result"
    }
   ],
   "source": [
    "#Companies lookup table\n",
    "companies"
   ]
  },
  {
   "cell_type": "code",
   "execution_count": null,
   "id": "2de74620",
   "metadata": {},
   "outputs": [],
   "source": []
  },
  {
   "cell_type": "code",
   "execution_count": null,
   "id": "0ecd8a4d",
   "metadata": {},
   "outputs": [],
   "source": []
  },
  {
   "cell_type": "code",
   "execution_count": 68,
   "id": "793cb926",
   "metadata": {},
   "outputs": [],
   "source": [
    "#State \n",
    "def getState(loc):\n",
    "    if \",\" in loc:\n",
    "        state = loc.replace(\"\\xa0\", \" \").split(\",\")[1].strip().split(\" \")[0].strip()\n",
    "    else:\n",
    "        state = None\n",
    "        \n",
    "    return(state)"
   ]
  },
  {
   "cell_type": "code",
   "execution_count": 69,
   "id": "90649c31",
   "metadata": {},
   "outputs": [
    {
     "data": {
      "text/plain": [
       "'TX'"
      ]
     },
     "execution_count": 69,
     "metadata": {},
     "output_type": "execute_result"
    }
   ],
   "source": [
    "#Find the locations with\"Downtown area\"\n",
    "getState(\"Austin, TX (Downtown area)\")"
   ]
  },
  {
   "cell_type": "code",
   "execution_count": 70,
   "id": "83ae6f0a",
   "metadata": {},
   "outputs": [
    {
     "name": "stdout",
     "output_type": "stream",
     "text": [
      "<class 'pandas.core.frame.DataFrame'>\n",
      "RangeIndex: 735 entries, 0 to 734\n",
      "Data columns (total 9 columns):\n",
      " #   Column          Non-Null Count  Dtype  \n",
      "---  ------          --------------  -----  \n",
      " 0   job_title       735 non-null    object \n",
      " 1   job_link        735 non-null    object \n",
      " 2   company         733 non-null    object \n",
      " 3   company_link    572 non-null    object \n",
      " 4   company_rating  572 non-null    float64\n",
      " 5   location        735 non-null    object \n",
      " 6   salary          338 non-null    object \n",
      " 7   status          551 non-null    object \n",
      " 8   state           527 non-null    object \n",
      "dtypes: float64(1), object(8)\n",
      "memory usage: 51.8+ KB\n"
     ]
    }
   ],
   "source": [
    "#\n",
    "df[\"state\"] = df.location.apply(lambda x: getState(x))\n",
    "df.info()"
   ]
  },
  {
   "cell_type": "code",
   "execution_count": 71,
   "id": "8a315bac",
   "metadata": {},
   "outputs": [
    {
     "data": {
      "text/plain": [
       "TX    223\n",
       "CA     54\n",
       "NY     47\n",
       "VA     18\n",
       "IL     17\n",
       "GA     16\n",
       "FL     10\n",
       "WA     10\n",
       "PA      9\n",
       "MN      9\n",
       "CO      9\n",
       "MD      8\n",
       "NC      8\n",
       "MA      8\n",
       "OK      7\n",
       "AZ      7\n",
       "MI      6\n",
       "DC      5\n",
       "NJ      5\n",
       "OH      5\n",
       "UT      5\n",
       "TN      4\n",
       "WI      4\n",
       "MS      4\n",
       "CT      4\n",
       "OR      3\n",
       "SC      3\n",
       "NM      3\n",
       "IA      2\n",
       "MO      2\n",
       "KY      2\n",
       "IN      2\n",
       "KS      1\n",
       "RI      1\n",
       "AR      1\n",
       "NV      1\n",
       "LA      1\n",
       "DE      1\n",
       "VT      1\n",
       "ME      1\n",
       "Name: state, dtype: int64"
      ]
     },
     "execution_count": 71,
     "metadata": {},
     "output_type": "execute_result"
    }
   ],
   "source": [
    "#\n",
    "df.state.value_counts()"
   ]
  },
  {
   "cell_type": "code",
   "execution_count": 72,
   "id": "91e03734",
   "metadata": {},
   "outputs": [
    {
     "data": {
      "text/html": [
       "<div>\n",
       "<style scoped>\n",
       "    .dataframe tbody tr th:only-of-type {\n",
       "        vertical-align: middle;\n",
       "    }\n",
       "\n",
       "    .dataframe tbody tr th {\n",
       "        vertical-align: top;\n",
       "    }\n",
       "\n",
       "    .dataframe thead th {\n",
       "        text-align: right;\n",
       "    }\n",
       "</style>\n",
       "<table border=\"1\" class=\"dataframe\">\n",
       "  <thead>\n",
       "    <tr style=\"text-align: right;\">\n",
       "      <th></th>\n",
       "      <th>job_title</th>\n",
       "      <th>job_link</th>\n",
       "      <th>company</th>\n",
       "      <th>company_link</th>\n",
       "      <th>company_rating</th>\n",
       "      <th>location</th>\n",
       "      <th>salary</th>\n",
       "      <th>status</th>\n",
       "      <th>state</th>\n",
       "    </tr>\n",
       "  </thead>\n",
       "  <tbody>\n",
       "    <tr>\n",
       "      <th>104</th>\n",
       "      <td>Cloud Consultant, Big Data Analytics, Looker, ...</td>\n",
       "      <td>www.indeed.com/rc/clk?jk=abf4ea6cd747a933&amp;fcci...</td>\n",
       "      <td>Google</td>\n",
       "      <td>www.indeed.com/cmp/Google</td>\n",
       "      <td>4.3</td>\n",
       "      <td>Austin, TX (Downtown area)</td>\n",
       "      <td>None</td>\n",
       "      <td>Full-time</td>\n",
       "      <td>TX</td>\n",
       "    </tr>\n",
       "    <tr>\n",
       "      <th>148</th>\n",
       "      <td>Data Analyst</td>\n",
       "      <td>www.indeed.com/company/Imprimis/jobs/Data-Anal...</td>\n",
       "      <td>Imprimis</td>\n",
       "      <td>www.indeed.com/cmp/Imprimis</td>\n",
       "      <td>4.4</td>\n",
       "      <td>Dallas, TX 75201 (Downtown area)</td>\n",
       "      <td>$26 - $33 an hour</td>\n",
       "      <td>Contract</td>\n",
       "      <td>TX</td>\n",
       "    </tr>\n",
       "    <tr>\n",
       "      <th>176</th>\n",
       "      <td>Part-Time Data Entry Analyst - Solvas Financia...</td>\n",
       "      <td>www.indeed.com/rc/clk?jk=3f46b3d784904a0a&amp;fcci...</td>\n",
       "      <td>Deloitte</td>\n",
       "      <td>www.indeed.com/cmp/Deloitte</td>\n",
       "      <td>3.9</td>\n",
       "      <td>Dallas, TX 75201 (Downtown area)</td>\n",
       "      <td>$20 an hour</td>\n",
       "      <td>Full-time</td>\n",
       "      <td>TX</td>\n",
       "    </tr>\n",
       "    <tr>\n",
       "      <th>179</th>\n",
       "      <td>Senior Analyst Data &amp; Analytics Visualizations...</td>\n",
       "      <td>www.indeed.com/rc/clk?jk=618489124496ca55&amp;fcci...</td>\n",
       "      <td>The Coca-Cola Company</td>\n",
       "      <td>www.indeed.com/cmp/The-Coca--cola-Company</td>\n",
       "      <td>3.8</td>\n",
       "      <td>Atlanta, GA 30313 (Downtown area)</td>\n",
       "      <td>None</td>\n",
       "      <td>Full-time</td>\n",
       "      <td>GA</td>\n",
       "    </tr>\n",
       "    <tr>\n",
       "      <th>205</th>\n",
       "      <td>Jr. Data Analyst/ Assistant</td>\n",
       "      <td>www.indeed.com/company/RPO-International/jobs/...</td>\n",
       "      <td>RPO International</td>\n",
       "      <td>None</td>\n",
       "      <td>NaN</td>\n",
       "      <td>Houston, TX 77002 (Downtown area)</td>\n",
       "      <td>Up to $28 an hour</td>\n",
       "      <td>Contract</td>\n",
       "      <td>TX</td>\n",
       "    </tr>\n",
       "    <tr>\n",
       "      <th>292</th>\n",
       "      <td>Data Analytics and Business Intelligence | Ana...</td>\n",
       "      <td>www.indeed.com/rc/clk?jk=381b673be9ee0b6c&amp;fcci...</td>\n",
       "      <td>Goldman Sachs</td>\n",
       "      <td>www.indeed.com/cmp/Goldman-Sachs</td>\n",
       "      <td>4.0</td>\n",
       "      <td>Salt Lake City, UT 84111 (Downtown area)</td>\n",
       "      <td>None</td>\n",
       "      <td>None</td>\n",
       "      <td>UT</td>\n",
       "    </tr>\n",
       "    <tr>\n",
       "      <th>293</th>\n",
       "      <td>THECB - Data Analyst V, Visualization</td>\n",
       "      <td>www.indeed.com/rc/clk?jk=87d4703c7888a6f7&amp;fcci...</td>\n",
       "      <td>TEXAS HIGHER EDUCATION COORDINATING BOARD</td>\n",
       "      <td>www.indeed.com/cmp/Texas-Higher-Education-Coor...</td>\n",
       "      <td>3.8</td>\n",
       "      <td>Austin, TX 78701 (Downtown area)</td>\n",
       "      <td>$6,017 - $8,266 a month</td>\n",
       "      <td>Full-time</td>\n",
       "      <td>TX</td>\n",
       "    </tr>\n",
       "    <tr>\n",
       "      <th>386</th>\n",
       "      <td>Policy Data Analyst (Research Specialist I) 20...</td>\n",
       "      <td>www.indeed.com/company/Governor-of-Texas/jobs/...</td>\n",
       "      <td>Office of the Governor</td>\n",
       "      <td>None</td>\n",
       "      <td>NaN</td>\n",
       "      <td>Austin, TX 78701 (Downtown area)</td>\n",
       "      <td>$4,000 - $4,333 a month</td>\n",
       "      <td>Full-time</td>\n",
       "      <td>TX</td>\n",
       "    </tr>\n",
       "    <tr>\n",
       "      <th>416</th>\n",
       "      <td>Data Analyst - Student Health</td>\n",
       "      <td>www.indeed.com/rc/clk?jk=666c016ed596d204&amp;fcci...</td>\n",
       "      <td>Keck Medical Center of USC</td>\n",
       "      <td>www.indeed.com/cmp/Keck-Medicine-of-Usc</td>\n",
       "      <td>3.8</td>\n",
       "      <td>Los Angeles, CA 90015 (Downtown area)</td>\n",
       "      <td>None</td>\n",
       "      <td>None</td>\n",
       "      <td>CA</td>\n",
       "    </tr>\n",
       "    <tr>\n",
       "      <th>509</th>\n",
       "      <td>Data Analyst</td>\n",
       "      <td>www.indeed.com/rc/clk?jk=d65bcc5382483a02&amp;fcci...</td>\n",
       "      <td>Baylor University</td>\n",
       "      <td>www.indeed.com/cmp/Baylor-University</td>\n",
       "      <td>4.4</td>\n",
       "      <td>Waco, TX 76706 (Downtown area)</td>\n",
       "      <td>None</td>\n",
       "      <td>Full-time</td>\n",
       "      <td>TX</td>\n",
       "    </tr>\n",
       "    <tr>\n",
       "      <th>524</th>\n",
       "      <td>SENIOR DATA ANALYST</td>\n",
       "      <td>www.indeed.com/rc/clk?jk=a60e331125e2f38c&amp;fcci...</td>\n",
       "      <td>Peak6</td>\n",
       "      <td>www.indeed.com/cmp/Peak6</td>\n",
       "      <td>4.0</td>\n",
       "      <td>Dallas, TX 75201 (Downtown area)</td>\n",
       "      <td>None</td>\n",
       "      <td>None</td>\n",
       "      <td>TX</td>\n",
       "    </tr>\n",
       "    <tr>\n",
       "      <th>626</th>\n",
       "      <td>RRC - Data Analyst III - Critical Infrastructu...</td>\n",
       "      <td>www.indeed.com/rc/clk?jk=d28cfbf250d04f43&amp;fcci...</td>\n",
       "      <td>RAILROAD COMMISSION OF TEXAS</td>\n",
       "      <td>www.indeed.com/cmp/Railroad-Commission-of-Texas</td>\n",
       "      <td>3.6</td>\n",
       "      <td>Austin, TX 78701 (Downtown area)</td>\n",
       "      <td>$4,301 - $7,040 a month</td>\n",
       "      <td>Full-time</td>\n",
       "      <td>TX</td>\n",
       "    </tr>\n",
       "    <tr>\n",
       "      <th>690</th>\n",
       "      <td>Data Warehouse Analyst- 20066934</td>\n",
       "      <td>www.indeed.com/rc/clk?jk=61c5f1dc0fd1e9ed&amp;fcci...</td>\n",
       "      <td>State of Ohio Jobs</td>\n",
       "      <td>www.indeed.com/cmp/State-of-Ohio</td>\n",
       "      <td>3.7</td>\n",
       "      <td>Columbus, OH 43215 (Downtown area)</td>\n",
       "      <td>$29.66 - $43.51 an hour</td>\n",
       "      <td>Full-time</td>\n",
       "      <td>OH</td>\n",
       "    </tr>\n",
       "    <tr>\n",
       "      <th>718</th>\n",
       "      <td>Business Intelligence Reporting Analyst (Gover...</td>\n",
       "      <td>www.indeed.com/rc/clk?jk=679c4aff13e831b5&amp;fcci...</td>\n",
       "      <td>Deloitte</td>\n",
       "      <td>www.indeed.com/cmp/Deloitte</td>\n",
       "      <td>3.9</td>\n",
       "      <td>Los Angeles, CA 90013 (Downtown area)</td>\n",
       "      <td>None</td>\n",
       "      <td>Full-time</td>\n",
       "      <td>CA</td>\n",
       "    </tr>\n",
       "  </tbody>\n",
       "</table>\n",
       "</div>"
      ],
      "text/plain": [
       "                                             job_title  \\\n",
       "104  Cloud Consultant, Big Data Analytics, Looker, ...   \n",
       "148                                       Data Analyst   \n",
       "176  Part-Time Data Entry Analyst - Solvas Financia...   \n",
       "179  Senior Analyst Data & Analytics Visualizations...   \n",
       "205                        Jr. Data Analyst/ Assistant   \n",
       "292  Data Analytics and Business Intelligence | Ana...   \n",
       "293              THECB - Data Analyst V, Visualization   \n",
       "386  Policy Data Analyst (Research Specialist I) 20...   \n",
       "416                      Data Analyst - Student Health   \n",
       "509                                       Data Analyst   \n",
       "524                                SENIOR DATA ANALYST   \n",
       "626  RRC - Data Analyst III - Critical Infrastructu...   \n",
       "690                   Data Warehouse Analyst- 20066934   \n",
       "718  Business Intelligence Reporting Analyst (Gover...   \n",
       "\n",
       "                                              job_link  \\\n",
       "104  www.indeed.com/rc/clk?jk=abf4ea6cd747a933&fcci...   \n",
       "148  www.indeed.com/company/Imprimis/jobs/Data-Anal...   \n",
       "176  www.indeed.com/rc/clk?jk=3f46b3d784904a0a&fcci...   \n",
       "179  www.indeed.com/rc/clk?jk=618489124496ca55&fcci...   \n",
       "205  www.indeed.com/company/RPO-International/jobs/...   \n",
       "292  www.indeed.com/rc/clk?jk=381b673be9ee0b6c&fcci...   \n",
       "293  www.indeed.com/rc/clk?jk=87d4703c7888a6f7&fcci...   \n",
       "386  www.indeed.com/company/Governor-of-Texas/jobs/...   \n",
       "416  www.indeed.com/rc/clk?jk=666c016ed596d204&fcci...   \n",
       "509  www.indeed.com/rc/clk?jk=d65bcc5382483a02&fcci...   \n",
       "524  www.indeed.com/rc/clk?jk=a60e331125e2f38c&fcci...   \n",
       "626  www.indeed.com/rc/clk?jk=d28cfbf250d04f43&fcci...   \n",
       "690  www.indeed.com/rc/clk?jk=61c5f1dc0fd1e9ed&fcci...   \n",
       "718  www.indeed.com/rc/clk?jk=679c4aff13e831b5&fcci...   \n",
       "\n",
       "                                       company  \\\n",
       "104                                     Google   \n",
       "148                                   Imprimis   \n",
       "176                                   Deloitte   \n",
       "179                      The Coca-Cola Company   \n",
       "205                          RPO International   \n",
       "292                              Goldman Sachs   \n",
       "293  TEXAS HIGHER EDUCATION COORDINATING BOARD   \n",
       "386                     Office of the Governor   \n",
       "416                 Keck Medical Center of USC   \n",
       "509                          Baylor University   \n",
       "524                                      Peak6   \n",
       "626               RAILROAD COMMISSION OF TEXAS   \n",
       "690                         State of Ohio Jobs   \n",
       "718                                   Deloitte   \n",
       "\n",
       "                                          company_link  company_rating  \\\n",
       "104                          www.indeed.com/cmp/Google             4.3   \n",
       "148                        www.indeed.com/cmp/Imprimis             4.4   \n",
       "176                        www.indeed.com/cmp/Deloitte             3.9   \n",
       "179          www.indeed.com/cmp/The-Coca--cola-Company             3.8   \n",
       "205                                               None             NaN   \n",
       "292                   www.indeed.com/cmp/Goldman-Sachs             4.0   \n",
       "293  www.indeed.com/cmp/Texas-Higher-Education-Coor...             3.8   \n",
       "386                                               None             NaN   \n",
       "416            www.indeed.com/cmp/Keck-Medicine-of-Usc             3.8   \n",
       "509               www.indeed.com/cmp/Baylor-University             4.4   \n",
       "524                           www.indeed.com/cmp/Peak6             4.0   \n",
       "626    www.indeed.com/cmp/Railroad-Commission-of-Texas             3.6   \n",
       "690                   www.indeed.com/cmp/State-of-Ohio             3.7   \n",
       "718                        www.indeed.com/cmp/Deloitte             3.9   \n",
       "\n",
       "                                     location                   salary  \\\n",
       "104                Austin, TX (Downtown area)                     None   \n",
       "148          Dallas, TX 75201 (Downtown area)        $26 - $33 an hour   \n",
       "176          Dallas, TX 75201 (Downtown area)              $20 an hour   \n",
       "179         Atlanta, GA 30313 (Downtown area)                     None   \n",
       "205         Houston, TX 77002 (Downtown area)        Up to $28 an hour   \n",
       "292  Salt Lake City, UT 84111 (Downtown area)                     None   \n",
       "293          Austin, TX 78701 (Downtown area)  $6,017 - $8,266 a month   \n",
       "386          Austin, TX 78701 (Downtown area)  $4,000 - $4,333 a month   \n",
       "416     Los Angeles, CA 90015 (Downtown area)                     None   \n",
       "509            Waco, TX 76706 (Downtown area)                     None   \n",
       "524          Dallas, TX 75201 (Downtown area)                     None   \n",
       "626          Austin, TX 78701 (Downtown area)  $4,301 - $7,040 a month   \n",
       "690        Columbus, OH 43215 (Downtown area)  $29.66 - $43.51 an hour   \n",
       "718     Los Angeles, CA 90013 (Downtown area)                     None   \n",
       "\n",
       "        status state  \n",
       "104  Full-time    TX  \n",
       "148   Contract    TX  \n",
       "176  Full-time    TX  \n",
       "179  Full-time    GA  \n",
       "205   Contract    TX  \n",
       "292       None    UT  \n",
       "293  Full-time    TX  \n",
       "386  Full-time    TX  \n",
       "416       None    CA  \n",
       "509  Full-time    TX  \n",
       "524       None    TX  \n",
       "626  Full-time    TX  \n",
       "690  Full-time    OH  \n",
       "718  Full-time    CA  "
      ]
     },
     "execution_count": 72,
     "metadata": {},
     "output_type": "execute_result"
    }
   ],
   "source": [
    "#\n",
    "df.loc[df.location.str.contains(\"\\(Downtown\")]"
   ]
  },
  {
   "cell_type": "code",
   "execution_count": 73,
   "id": "cbe941a3",
   "metadata": {},
   "outputs": [
    {
     "data": {
      "text/plain": [
       "'Detroit, MI'"
      ]
     },
     "execution_count": 73,
     "metadata": {},
     "output_type": "execute_result"
    }
   ],
   "source": [
    "df.iloc[71].location"
   ]
  },
  {
   "cell_type": "code",
   "execution_count": null,
   "id": "209afce7",
   "metadata": {},
   "outputs": [],
   "source": []
  },
  {
   "cell_type": "code",
   "execution_count": null,
   "id": "26f4934a",
   "metadata": {},
   "outputs": [],
   "source": []
  },
  {
   "cell_type": "code",
   "execution_count": 74,
   "id": "b9261458",
   "metadata": {},
   "outputs": [
    {
     "data": {
      "text/html": [
       "<div>\n",
       "<style scoped>\n",
       "    .dataframe tbody tr th:only-of-type {\n",
       "        vertical-align: middle;\n",
       "    }\n",
       "\n",
       "    .dataframe tbody tr th {\n",
       "        vertical-align: top;\n",
       "    }\n",
       "\n",
       "    .dataframe thead th {\n",
       "        text-align: right;\n",
       "    }\n",
       "</style>\n",
       "<table border=\"1\" class=\"dataframe\">\n",
       "  <thead>\n",
       "    <tr style=\"text-align: right;\">\n",
       "      <th></th>\n",
       "      <th>state</th>\n",
       "    </tr>\n",
       "  </thead>\n",
       "  <tbody>\n",
       "    <tr>\n",
       "      <th>0</th>\n",
       "      <td>FL</td>\n",
       "    </tr>\n",
       "    <tr>\n",
       "      <th>1</th>\n",
       "      <td>MN</td>\n",
       "    </tr>\n",
       "    <tr>\n",
       "      <th>2</th>\n",
       "      <td>TX</td>\n",
       "    </tr>\n",
       "    <tr>\n",
       "      <th>3</th>\n",
       "      <td>CA</td>\n",
       "    </tr>\n",
       "    <tr>\n",
       "      <th>4</th>\n",
       "      <td>OR</td>\n",
       "    </tr>\n",
       "    <tr>\n",
       "      <th>5</th>\n",
       "      <td>IL</td>\n",
       "    </tr>\n",
       "    <tr>\n",
       "      <th>6</th>\n",
       "      <td>GA</td>\n",
       "    </tr>\n",
       "    <tr>\n",
       "      <th>7</th>\n",
       "      <td>VA</td>\n",
       "    </tr>\n",
       "    <tr>\n",
       "      <th>8</th>\n",
       "      <td>NC</td>\n",
       "    </tr>\n",
       "    <tr>\n",
       "      <th>9</th>\n",
       "      <td>NY</td>\n",
       "    </tr>\n",
       "    <tr>\n",
       "      <th>10</th>\n",
       "      <td>WA</td>\n",
       "    </tr>\n",
       "    <tr>\n",
       "      <th>11</th>\n",
       "      <td>WI</td>\n",
       "    </tr>\n",
       "    <tr>\n",
       "      <th>12</th>\n",
       "      <td>AR</td>\n",
       "    </tr>\n",
       "    <tr>\n",
       "      <th>13</th>\n",
       "      <td>OK</td>\n",
       "    </tr>\n",
       "    <tr>\n",
       "      <th>14</th>\n",
       "      <td>MI</td>\n",
       "    </tr>\n",
       "    <tr>\n",
       "      <th>15</th>\n",
       "      <td>CT</td>\n",
       "    </tr>\n",
       "    <tr>\n",
       "      <th>16</th>\n",
       "      <td>SC</td>\n",
       "    </tr>\n",
       "    <tr>\n",
       "      <th>17</th>\n",
       "      <td>OH</td>\n",
       "    </tr>\n",
       "    <tr>\n",
       "      <th>18</th>\n",
       "      <td>AZ</td>\n",
       "    </tr>\n",
       "    <tr>\n",
       "      <th>19</th>\n",
       "      <td>IN</td>\n",
       "    </tr>\n",
       "    <tr>\n",
       "      <th>20</th>\n",
       "      <td>CO</td>\n",
       "    </tr>\n",
       "    <tr>\n",
       "      <th>21</th>\n",
       "      <td>KY</td>\n",
       "    </tr>\n",
       "    <tr>\n",
       "      <th>22</th>\n",
       "      <td>PA</td>\n",
       "    </tr>\n",
       "    <tr>\n",
       "      <th>23</th>\n",
       "      <td>NJ</td>\n",
       "    </tr>\n",
       "    <tr>\n",
       "      <th>24</th>\n",
       "      <td>MA</td>\n",
       "    </tr>\n",
       "    <tr>\n",
       "      <th>25</th>\n",
       "      <td>IA</td>\n",
       "    </tr>\n",
       "    <tr>\n",
       "      <th>26</th>\n",
       "      <td>MD</td>\n",
       "    </tr>\n",
       "    <tr>\n",
       "      <th>27</th>\n",
       "      <td>DC</td>\n",
       "    </tr>\n",
       "    <tr>\n",
       "      <th>28</th>\n",
       "      <td>MO</td>\n",
       "    </tr>\n",
       "    <tr>\n",
       "      <th>29</th>\n",
       "      <td>UT</td>\n",
       "    </tr>\n",
       "    <tr>\n",
       "      <th>30</th>\n",
       "      <td>KS</td>\n",
       "    </tr>\n",
       "    <tr>\n",
       "      <th>31</th>\n",
       "      <td>RI</td>\n",
       "    </tr>\n",
       "    <tr>\n",
       "      <th>32</th>\n",
       "      <td>TN</td>\n",
       "    </tr>\n",
       "    <tr>\n",
       "      <th>33</th>\n",
       "      <td>MS</td>\n",
       "    </tr>\n",
       "    <tr>\n",
       "      <th>34</th>\n",
       "      <td>NV</td>\n",
       "    </tr>\n",
       "    <tr>\n",
       "      <th>35</th>\n",
       "      <td>LA</td>\n",
       "    </tr>\n",
       "    <tr>\n",
       "      <th>36</th>\n",
       "      <td>NM</td>\n",
       "    </tr>\n",
       "    <tr>\n",
       "      <th>37</th>\n",
       "      <td>DE</td>\n",
       "    </tr>\n",
       "    <tr>\n",
       "      <th>38</th>\n",
       "      <td>VT</td>\n",
       "    </tr>\n",
       "    <tr>\n",
       "      <th>39</th>\n",
       "      <td>ME</td>\n",
       "    </tr>\n",
       "  </tbody>\n",
       "</table>\n",
       "</div>"
      ],
      "text/plain": [
       "   state\n",
       "0     FL\n",
       "1     MN\n",
       "2     TX\n",
       "3     CA\n",
       "4     OR\n",
       "5     IL\n",
       "6     GA\n",
       "7     VA\n",
       "8     NC\n",
       "9     NY\n",
       "10    WA\n",
       "11    WI\n",
       "12    AR\n",
       "13    OK\n",
       "14    MI\n",
       "15    CT\n",
       "16    SC\n",
       "17    OH\n",
       "18    AZ\n",
       "19    IN\n",
       "20    CO\n",
       "21    KY\n",
       "22    PA\n",
       "23    NJ\n",
       "24    MA\n",
       "25    IA\n",
       "26    MD\n",
       "27    DC\n",
       "28    MO\n",
       "29    UT\n",
       "30    KS\n",
       "31    RI\n",
       "32    TN\n",
       "33    MS\n",
       "34    NV\n",
       "35    LA\n",
       "36    NM\n",
       "37    DE\n",
       "38    VT\n",
       "39    ME"
      ]
     },
     "execution_count": 74,
     "metadata": {},
     "output_type": "execute_result"
    }
   ],
   "source": [
    "#State look-up table\n",
    "state = df.state.dropna().unique()\n",
    "state_df = pd.DataFrame()\n",
    "state_df[\"state\"] = state\n",
    "state_df"
   ]
  },
  {
   "cell_type": "code",
   "execution_count": null,
   "id": "4c523436",
   "metadata": {},
   "outputs": [],
   "source": []
  },
  {
   "cell_type": "code",
   "execution_count": null,
   "id": "6d59858d",
   "metadata": {},
   "outputs": [],
   "source": []
  },
  {
   "cell_type": "code",
   "execution_count": null,
   "id": "b823f8f9",
   "metadata": {},
   "outputs": [],
   "source": []
  },
  {
   "cell_type": "code",
   "execution_count": null,
   "id": "a4a91d1b",
   "metadata": {},
   "outputs": [],
   "source": []
  },
  {
   "cell_type": "code",
   "execution_count": 75,
   "id": "f5818baa",
   "metadata": {},
   "outputs": [],
   "source": [
    "#\n",
    "def getRemote(loc):\n",
    "    if \"remote\" in loc.lower():\n",
    "        return(True)\n",
    "    else:\n",
    "        return(False)\n",
    "        \n",
    "  "
   ]
  },
  {
   "cell_type": "code",
   "execution_count": 77,
   "id": "1b2d60b1",
   "metadata": {},
   "outputs": [
    {
     "name": "stdout",
     "output_type": "stream",
     "text": [
      "<class 'pandas.core.frame.DataFrame'>\n",
      "RangeIndex: 735 entries, 0 to 734\n",
      "Data columns (total 10 columns):\n",
      " #   Column          Non-Null Count  Dtype  \n",
      "---  ------          --------------  -----  \n",
      " 0   job_title       735 non-null    object \n",
      " 1   job_link        735 non-null    object \n",
      " 2   company         733 non-null    object \n",
      " 3   company_link    572 non-null    object \n",
      " 4   company_rating  572 non-null    float64\n",
      " 5   location        735 non-null    object \n",
      " 6   salary          338 non-null    object \n",
      " 7   status          551 non-null    object \n",
      " 8   state           527 non-null    object \n",
      " 9   is_remote       735 non-null    bool   \n",
      "dtypes: bool(1), float64(1), object(8)\n",
      "memory usage: 52.5+ KB\n"
     ]
    }
   ],
   "source": [
    "#\n",
    "df[\"is_remote\"] = df.location.apply(lambda x: getRemote(x))\n",
    "df.info()"
   ]
  },
  {
   "cell_type": "code",
   "execution_count": 78,
   "id": "a156a1e1",
   "metadata": {},
   "outputs": [
    {
     "data": {
      "text/plain": [
       "True     368\n",
       "False    367\n",
       "Name: is_remote, dtype: int64"
      ]
     },
     "execution_count": 78,
     "metadata": {},
     "output_type": "execute_result"
    }
   ],
   "source": [
    "df.is_remote.value_counts()"
   ]
  },
  {
   "cell_type": "code",
   "execution_count": 79,
   "id": "7c0dcff4",
   "metadata": {},
   "outputs": [],
   "source": [
    "#Find the companies paying for ads\n",
    "def getAd(link):\n",
    "    if \"pagead\" in link.lower():\n",
    "        return(True)\n",
    "    else:\n",
    "        return(False)"
   ]
  },
  {
   "cell_type": "code",
   "execution_count": 80,
   "id": "6d24e69c",
   "metadata": {},
   "outputs": [
    {
     "name": "stdout",
     "output_type": "stream",
     "text": [
      "<class 'pandas.core.frame.DataFrame'>\n",
      "RangeIndex: 735 entries, 0 to 734\n",
      "Data columns (total 11 columns):\n",
      " #   Column          Non-Null Count  Dtype  \n",
      "---  ------          --------------  -----  \n",
      " 0   job_title       735 non-null    object \n",
      " 1   job_link        735 non-null    object \n",
      " 2   company         733 non-null    object \n",
      " 3   company_link    572 non-null    object \n",
      " 4   company_rating  572 non-null    float64\n",
      " 5   location        735 non-null    object \n",
      " 6   salary          338 non-null    object \n",
      " 7   status          551 non-null    object \n",
      " 8   state           527 non-null    object \n",
      " 9   is_remote       735 non-null    bool   \n",
      " 10  is_ad           735 non-null    bool   \n",
      "dtypes: bool(2), float64(1), object(8)\n",
      "memory usage: 53.2+ KB\n"
     ]
    }
   ],
   "source": [
    "df[\"is_ad\"] = df.job_link.apply(lambda x: getAd(x))\n",
    "df.info()"
   ]
  },
  {
   "cell_type": "code",
   "execution_count": 81,
   "id": "5173478d",
   "metadata": {},
   "outputs": [
    {
     "data": {
      "text/plain": [
       "False    620\n",
       "True     115\n",
       "Name: is_ad, dtype: int64"
      ]
     },
     "execution_count": 81,
     "metadata": {},
     "output_type": "execute_result"
    }
   ],
   "source": [
    "df.is_ad.value_counts()"
   ]
  },
  {
   "cell_type": "code",
   "execution_count": 82,
   "id": "e1c6618d",
   "metadata": {},
   "outputs": [
    {
     "data": {
      "text/plain": [
       "company\n",
       "Kforce                                 4\n",
       "Guidehouse                             2\n",
       "DISYS                                  2\n",
       "Vanguard                               2\n",
       "Cancer Treatment Centers of America    2\n",
       "                                      ..\n",
       "GENUENT                                0\n",
       "Frontiers                              0\n",
       "Front End                              0\n",
       "FreedomCare                            0\n",
       "sgsco                                  0\n",
       "Name: is_ad, Length: 627, dtype: int64"
      ]
     },
     "execution_count": 82,
     "metadata": {},
     "output_type": "execute_result"
    }
   ],
   "source": [
    "#Paying for Ads, add to main job table as bool\n",
    "df.groupby(\"company\").is_ad.sum().sort_values(ascending=False)"
   ]
  },
  {
   "cell_type": "code",
   "execution_count": null,
   "id": "5bc3d865",
   "metadata": {},
   "outputs": [],
   "source": []
  },
  {
   "cell_type": "code",
   "execution_count": 83,
   "id": "47381c51",
   "metadata": {},
   "outputs": [],
   "source": [
    "#Don't worry about it\n",
    "# def getCity(loc):\n",
    "#     if \",\" in loc:\n",
    "#         city_list = loc.replace(\"\\xa0\", \" \").split(\",\")[0].strip().split(\" \")\n",
    "#         city = city_list[0] if len(city_list) ==1 else city_list[1]\n",
    "#     else:\n",
    "#         city = None\n",
    "        \n",
    "#     return(city)"
   ]
  },
  {
   "cell_type": "code",
   "execution_count": null,
   "id": "f93892d8",
   "metadata": {},
   "outputs": [],
   "source": [
    "# df[\"city\"] = df.location.apply(lambda x: getCity(x))\n",
    "# df.info()"
   ]
  },
  {
   "cell_type": "code",
   "execution_count": null,
   "id": "0279ce4f",
   "metadata": {},
   "outputs": [],
   "source": [
    "# #\n",
    "# df.city.value_counts()"
   ]
  },
  {
   "cell_type": "code",
   "execution_count": null,
   "id": "b98cda47",
   "metadata": {},
   "outputs": [],
   "source": [
    "#\n",
    "# df.loc[df.location.str.contains(\"in\")]"
   ]
  },
  {
   "cell_type": "code",
   "execution_count": null,
   "id": "8b1067da",
   "metadata": {},
   "outputs": [],
   "source": []
  },
  {
   "cell_type": "code",
   "execution_count": null,
   "id": "4915a500",
   "metadata": {},
   "outputs": [],
   "source": []
  },
  {
   "cell_type": "code",
   "execution_count": null,
   "id": "cc0b3c72",
   "metadata": {},
   "outputs": [],
   "source": [
    "#Set-up sleep function if needed\n",
    "# browser.visit(dice_lyst)\n",
    "# time.sleep(2)"
   ]
  }
 ],
 "metadata": {
  "kernelspec": {
   "display_name": "Python 3 (ipykernel)",
   "language": "python",
   "name": "python3"
  },
  "language_info": {
   "codemirror_mode": {
    "name": "ipython",
    "version": 3
   },
   "file_extension": ".py",
   "mimetype": "text/x-python",
   "name": "python",
   "nbconvert_exporter": "python",
   "pygments_lexer": "ipython3",
   "version": "3.9.12"
  }
 },
 "nbformat": 4,
 "nbformat_minor": 5
}
