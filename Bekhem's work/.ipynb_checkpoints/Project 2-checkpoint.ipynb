{
 "cells": [
  {
   "cell_type": "code",
   "execution_count": 1,
   "id": "1afd765b",
   "metadata": {},
   "outputs": [],
   "source": [
    "from splinter import Browser\n",
    "from bs4 import BeautifulSoup\n",
    "from webdriver_manager.chrome import ChromeDriverManager\n",
    "import pandas as pd\n",
    "import requests\n",
    "import time\n",
    "from sqlalchemy import inspect, create_engine\n",
    "import matplotlib.pyplot as plt\n",
    "import numpy as np"
   ]
  },
  {
   "cell_type": "code",
   "execution_count": 2,
   "id": "20978fe3",
   "metadata": {},
   "outputs": [],
   "source": [
    "#Setup splinter\n",
    "executable_path = {'executable_path': ChromeDriverManager().install()}\n",
    "browser = Browser('chrome', **executable_path, headless=False)"
   ]
  },
  {
   "cell_type": "markdown",
   "id": "db3fecc1",
   "metadata": {},
   "source": [
    "# Create brower location to pull "
   ]
  },
  {
   "cell_type": "code",
   "execution_count": 3,
   "id": "f43ee070",
   "metadata": {},
   "outputs": [],
   "source": [
    "#Website searching Data Analyst positions\n",
    "indeed = \"https://www.indeed.com/jobs?q=data+analyst\"\n",
    "\n",
    "browser.visit(indeed)\n",
    "\n"
   ]
  },
  {
   "cell_type": "code",
   "execution_count": 4,
   "id": "585bae38",
   "metadata": {},
   "outputs": [
    {
     "data": {
      "text/plain": [
       "'<html dir=\"ltr\" lang=\"en\" class=\"js-focus-visible\" data-js-focus-visible=\"\"><head>\\n    <link rel=\"shortcut icon\" href=\"/images/favicon.ico\">\\n    <title>Data Analyst Jobs, Employment | Indeed.com</title>\\n    <meta http-equiv=\"content-type\" content=\"text/html; charset=utf-8\">\\n    <meta name=\"description\" content=\"28,333 Data Analyst jobs available on Indeed.com. Apply to Data Analyst, Entry Level Data Analyst, Senior Data Analyst and more!\">\\n    <meta name=\"keywords\" content=\"Data Analyst Jobs, Em'"
      ]
     },
     "execution_count": 4,
     "metadata": {},
     "output_type": "execute_result"
    }
   ],
   "source": [
    "html = browser.html\n",
    "html[0:500]"
   ]
  },
  {
   "cell_type": "code",
   "execution_count": 5,
   "id": "4cddb98a",
   "metadata": {},
   "outputs": [
    {
     "data": {
      "text/plain": [
       "bs4.BeautifulSoup"
      ]
     },
     "execution_count": 5,
     "metadata": {},
     "output_type": "execute_result"
    }
   ],
   "source": [
    "soup= BeautifulSoup(browser.html, 'lxml')\n",
    "type(soup)"
   ]
  },
  {
   "cell_type": "code",
   "execution_count": null,
   "id": "44b1b46f",
   "metadata": {},
   "outputs": [],
   "source": [
    "#Find code to loop through web page and pull the title of the job and possibly the location, then find code to click the job and acquire the salary.\n",
    "# jobs = soup.find_all('div', {'class': 'cardOutline'})\n",
    "# len(jobs)\n"
   ]
  },
  {
   "cell_type": "code",
   "execution_count": 6,
   "id": "85f7b28e",
   "metadata": {},
   "outputs": [
    {
     "data": {
      "text/html": [
       "<div>\n",
       "<style scoped>\n",
       "    .dataframe tbody tr th:only-of-type {\n",
       "        vertical-align: middle;\n",
       "    }\n",
       "\n",
       "    .dataframe tbody tr th {\n",
       "        vertical-align: top;\n",
       "    }\n",
       "\n",
       "    .dataframe thead th {\n",
       "        text-align: right;\n",
       "    }\n",
       "</style>\n",
       "<table border=\"1\" class=\"dataframe\">\n",
       "  <thead>\n",
       "    <tr style=\"text-align: right;\">\n",
       "      <th></th>\n",
       "      <th>job_title</th>\n",
       "      <th>job_link</th>\n",
       "      <th>company</th>\n",
       "      <th>company_link</th>\n",
       "      <th>company_rating</th>\n",
       "      <th>location</th>\n",
       "      <th>salary</th>\n",
       "      <th>status</th>\n",
       "    </tr>\n",
       "  </thead>\n",
       "  <tbody>\n",
       "    <tr>\n",
       "      <th>0</th>\n",
       "      <td>Customer Service Data Analyst/Support Services...</td>\n",
       "      <td>www.indeed.com/pagead/clk?mo=r&amp;ad=-6NYlbfkN0CK...</td>\n",
       "      <td>VSP Technologies</td>\n",
       "      <td>www.indeed.com/cmp/Vsp-Technologies</td>\n",
       "      <td>3.1</td>\n",
       "      <td>Prince George, VA 23875</td>\n",
       "      <td>None</td>\n",
       "      <td>Full-time</td>\n",
       "    </tr>\n",
       "    <tr>\n",
       "      <th>1</th>\n",
       "      <td>Actimize Business Analyst - US Remote</td>\n",
       "      <td>www.indeed.com/pagead/clk?mo=r&amp;ad=-6NYlbfkN0CM...</td>\n",
       "      <td>MoneyGram</td>\n",
       "      <td>www.indeed.com/cmp/Moneygram</td>\n",
       "      <td>3.7</td>\n",
       "      <td>Remote in Dallas, TX 75206</td>\n",
       "      <td>$90,000 - $107,000 a year Employer est.</td>\n",
       "      <td>Full-time</td>\n",
       "    </tr>\n",
       "    <tr>\n",
       "      <th>2</th>\n",
       "      <td>Data Analyst Programming Specialist</td>\n",
       "      <td>www.indeed.com/pagead/clk?mo=r&amp;ad=-6NYlbfkN0CD...</td>\n",
       "      <td>National Indemnity Company</td>\n",
       "      <td>www.indeed.com/cmp/National-Indemnity-Company</td>\n",
       "      <td>4.1</td>\n",
       "      <td>Omaha, NE</td>\n",
       "      <td>None</td>\n",
       "      <td>Full-time</td>\n",
       "    </tr>\n",
       "    <tr>\n",
       "      <th>3</th>\n",
       "      <td>Data Analyst</td>\n",
       "      <td>www.indeed.com/pagead/clk?mo=r&amp;ad=-6NYlbfkN0Bb...</td>\n",
       "      <td>Allied Stone Inc</td>\n",
       "      <td>www.indeed.com/cmp/Allied-Stone,-Inc.</td>\n",
       "      <td>2.6</td>\n",
       "      <td>Dallas, TX 75229 (Northwest Dallas area)</td>\n",
       "      <td>None</td>\n",
       "      <td>Full-time</td>\n",
       "    </tr>\n",
       "    <tr>\n",
       "      <th>4</th>\n",
       "      <td>Operating Systems Analyst - Corporate Office</td>\n",
       "      <td>www.indeed.com/pagead/clk?mo=r&amp;ad=-6NYlbfkN0B1...</td>\n",
       "      <td>Lettuce Entertain You Restaurants (Chicago)</td>\n",
       "      <td>www.indeed.com/cmp/Lettuce-Entertain-You</td>\n",
       "      <td>4.0</td>\n",
       "      <td>Chicago, IL 60631 (Norwood Park area)</td>\n",
       "      <td>None</td>\n",
       "      <td>Full-time</td>\n",
       "    </tr>\n",
       "  </tbody>\n",
       "</table>\n",
       "</div>"
      ],
      "text/plain": [
       "                                           job_title  \\\n",
       "0  Customer Service Data Analyst/Support Services...   \n",
       "1              Actimize Business Analyst - US Remote   \n",
       "2                Data Analyst Programming Specialist   \n",
       "3                                       Data Analyst   \n",
       "4       Operating Systems Analyst - Corporate Office   \n",
       "\n",
       "                                            job_link  \\\n",
       "0  www.indeed.com/pagead/clk?mo=r&ad=-6NYlbfkN0CK...   \n",
       "1  www.indeed.com/pagead/clk?mo=r&ad=-6NYlbfkN0CM...   \n",
       "2  www.indeed.com/pagead/clk?mo=r&ad=-6NYlbfkN0CD...   \n",
       "3  www.indeed.com/pagead/clk?mo=r&ad=-6NYlbfkN0Bb...   \n",
       "4  www.indeed.com/pagead/clk?mo=r&ad=-6NYlbfkN0B1...   \n",
       "\n",
       "                                       company  \\\n",
       "0                             VSP Technologies   \n",
       "1                                    MoneyGram   \n",
       "2                   National Indemnity Company   \n",
       "3                             Allied Stone Inc   \n",
       "4  Lettuce Entertain You Restaurants (Chicago)   \n",
       "\n",
       "                                    company_link company_rating  \\\n",
       "0            www.indeed.com/cmp/Vsp-Technologies            3.1   \n",
       "1                   www.indeed.com/cmp/Moneygram            3.7   \n",
       "2  www.indeed.com/cmp/National-Indemnity-Company            4.1   \n",
       "3          www.indeed.com/cmp/Allied-Stone,-Inc.            2.6   \n",
       "4       www.indeed.com/cmp/Lettuce-Entertain-You            4.0   \n",
       "\n",
       "                                   location  \\\n",
       "0                   Prince George, VA 23875   \n",
       "1                Remote in Dallas, TX 75206   \n",
       "2                                 Omaha, NE   \n",
       "3  Dallas, TX 75229 (Northwest Dallas area)   \n",
       "4     Chicago, IL 60631 (Norwood Park area)   \n",
       "\n",
       "                                    salary     status  \n",
       "0                                     None  Full-time  \n",
       "1  $90,000 - $107,000 a year Employer est.  Full-time  \n",
       "2                                     None  Full-time  \n",
       "3                                     None  Full-time  \n",
       "4                                     None  Full-time  "
      ]
     },
     "execution_count": 6,
     "metadata": {},
     "output_type": "execute_result"
    }
   ],
   "source": [
    "#Create for loops \n",
    "rows = []\n",
    "browser.visit(indeed)\n",
    "for i in range(1, 50):\n",
    "    \n",
    "    html = browser.html\n",
    "    soup = BeautifulSoup(browser.html, \"html.parser\")\n",
    "    jobs = soup.find_all('div', {'class': 'cardOutline'})\n",
    "    \n",
    "    #Within the Jobs for loop we are pulling the job title and link , we added the beginning of the website in our code to correct the format.\n",
    "    for job in jobs:\n",
    "        title = job.find('a', {\"class\": 'jcs-JobTitle'}).text\n",
    "        link = \"www.indeed.com\" + job.find('a', {\"class\": 'jcs-JobTitle'})[\"href\"]\n",
    "        #Within the Company for loop we had to include an if statement due to some job listings not having a company.\n",
    "        company_name = job.find('span', {'class': 'companyName'})\n",
    "        if company_name: \n",
    "            company = company_name.text\n",
    "        else:\n",
    "            company = None\n",
    "        #Within the Company link for loop we also had to include an if statement due to some listings not having a company link.\n",
    "        company_con = job.find('a', {\"class\": 'companyOverviewLink'})\n",
    "        if company_con: \n",
    "            company_link = \"www.indeed.com\" + company_con[\"href\"]\n",
    "        else:\n",
    "            company_link = None\n",
    "        #Within the rating for loop we had to include an if statement due to some listings not having a rating.\n",
    "        rating_con = job.find('span', {\"class\": 'ratingNumber'})\n",
    "        if rating_con: \n",
    "            rating = rating_con.text\n",
    "        else:\n",
    "            rating = None\n",
    "\n",
    "        #We found the location of the jobs\n",
    "        loc = job.find('div', {\"class\": 'companyLocation'}).text\n",
    "        \n",
    "        #Within the Salary for loop we had to include an if statement due to some listings not showing the salary for the position\n",
    "        salary_con = job.find('div', {\"class\": 'salary-snippet-container'})\n",
    "        if salary_con: \n",
    "            salary = salary_con.text\n",
    "        else:\n",
    "            salary = None\n",
    "\n",
    "        #Within the status we are finding the employment status of the position, we had to include an if statement due to some listings not showing the employment status.\n",
    "        status_con = job.find('svg', {\"aria-label\": \"Job type\"})\n",
    "        if status_con:\n",
    "            status = status_con.parent.text\n",
    "        else:\n",
    "            status = None\n",
    "\n",
    "        data = {}\n",
    "        data[\"job_title\"] = title\n",
    "        data[\"job_link\"] = link\n",
    "        data[\"company\"] = company\n",
    "        data[\"company_link\"] = company_link\n",
    "        data[\"company_rating\"] = rating\n",
    "        data[\"location\"] = loc\n",
    "        data[\"salary\"] = salary\n",
    "        data[\"status\"] = status\n",
    "        rows.append(data)\n",
    "    \n",
    "    browser.links.find_by_text(f\"{i+1}\").click()\n",
    "        \n",
    "df = pd.DataFrame(rows)\n",
    "df.head()"
   ]
  },
  {
   "cell_type": "code",
   "execution_count": 7,
   "id": "2b141d3f",
   "metadata": {},
   "outputs": [
    {
     "data": {
      "text/plain": [
       "735"
      ]
     },
     "execution_count": 7,
     "metadata": {},
     "output_type": "execute_result"
    }
   ],
   "source": [
    "len(df)"
   ]
  },
  {
   "cell_type": "code",
   "execution_count": 8,
   "id": "00fbf640",
   "metadata": {},
   "outputs": [
    {
     "name": "stdout",
     "output_type": "stream",
     "text": [
      "<class 'pandas.core.frame.DataFrame'>\n",
      "RangeIndex: 735 entries, 0 to 734\n",
      "Data columns (total 8 columns):\n",
      " #   Column          Non-Null Count  Dtype  \n",
      "---  ------          --------------  -----  \n",
      " 0   job_title       735 non-null    object \n",
      " 1   job_link        735 non-null    object \n",
      " 2   company         733 non-null    object \n",
      " 3   company_link    536 non-null    object \n",
      " 4   company_rating  536 non-null    float64\n",
      " 5   location        735 non-null    object \n",
      " 6   salary          359 non-null    object \n",
      " 7   status          562 non-null    object \n",
      "dtypes: float64(1), object(7)\n",
      "memory usage: 46.1+ KB\n"
     ]
    }
   ],
   "source": [
    "df[\"company_rating\"] = pd.to_numeric(df.company_rating)\n",
    "df.info()"
   ]
  },
  {
   "cell_type": "code",
   "execution_count": 9,
   "id": "9421d672",
   "metadata": {},
   "outputs": [
    {
     "name": "stderr",
     "output_type": "stream",
     "text": [
      "C:\\Users\\19722\\AppData\\Local\\Temp\\ipykernel_3488\\152645899.py:2: FutureWarning: The default value of regex will change from True to False in a future version.\n",
      "  df[\"status\"] = df.status.str.replace(\"\\s\\+\\d\",\"\")\n"
     ]
    }
   ],
   "source": [
    "#combine with regex s=space d=catch or match all numbers \\+ = plus sign matches plus sign, regex meaning.\n",
    "df[\"status\"] = df.status.str.replace(\"\\s\\+\\d\",\"\")"
   ]
  },
  {
   "cell_type": "code",
   "execution_count": 10,
   "id": "7354a4f7",
   "metadata": {},
   "outputs": [
    {
     "data": {
      "text/plain": [
       "Full-time     467\n",
       "Contract       84\n",
       "Part-time       5\n",
       "Temporary       3\n",
       "Seasonal        2\n",
       "Internship      1\n",
       "Name: status, dtype: int64"
      ]
     },
     "execution_count": 10,
     "metadata": {},
     "output_type": "execute_result"
    }
   ],
   "source": [
    "df.status.value_counts()"
   ]
  },
  {
   "cell_type": "code",
   "execution_count": 11,
   "id": "0a060b48",
   "metadata": {},
   "outputs": [
    {
     "data": {
      "text/plain": [
       "array(['Full-time', None, 'Contract', 'Internship', 'Temporary',\n",
       "       'Part-time', 'Seasonal'], dtype=object)"
      ]
     },
     "execution_count": 11,
     "metadata": {},
     "output_type": "execute_result"
    }
   ],
   "source": [
    "#Status column -  ID, name, last_updated\n",
    "df.status.unique()"
   ]
  },
  {
   "cell_type": "code",
   "execution_count": 12,
   "id": "7016f5ac",
   "metadata": {},
   "outputs": [
    {
     "data": {
      "text/html": [
       "<div>\n",
       "<style scoped>\n",
       "    .dataframe tbody tr th:only-of-type {\n",
       "        vertical-align: middle;\n",
       "    }\n",
       "\n",
       "    .dataframe tbody tr th {\n",
       "        vertical-align: top;\n",
       "    }\n",
       "\n",
       "    .dataframe thead th {\n",
       "        text-align: right;\n",
       "    }\n",
       "</style>\n",
       "<table border=\"1\" class=\"dataframe\">\n",
       "  <thead>\n",
       "    <tr style=\"text-align: right;\">\n",
       "      <th></th>\n",
       "      <th>status</th>\n",
       "    </tr>\n",
       "  </thead>\n",
       "  <tbody>\n",
       "    <tr>\n",
       "      <th>0</th>\n",
       "      <td>Full-time</td>\n",
       "    </tr>\n",
       "    <tr>\n",
       "      <th>1</th>\n",
       "      <td>Contract</td>\n",
       "    </tr>\n",
       "    <tr>\n",
       "      <th>2</th>\n",
       "      <td>Internship</td>\n",
       "    </tr>\n",
       "    <tr>\n",
       "      <th>3</th>\n",
       "      <td>Temporary</td>\n",
       "    </tr>\n",
       "    <tr>\n",
       "      <th>4</th>\n",
       "      <td>Part-time</td>\n",
       "    </tr>\n",
       "    <tr>\n",
       "      <th>5</th>\n",
       "      <td>Seasonal</td>\n",
       "    </tr>\n",
       "  </tbody>\n",
       "</table>\n",
       "</div>"
      ],
      "text/plain": [
       "       status\n",
       "0   Full-time\n",
       "1    Contract\n",
       "2  Internship\n",
       "3   Temporary\n",
       "4   Part-time\n",
       "5    Seasonal"
      ]
     },
     "execution_count": 12,
     "metadata": {},
     "output_type": "execute_result"
    }
   ],
   "source": [
    "#Status lookup table\n",
    "status = df.status.dropna().unique()\n",
    "status_df = pd.DataFrame()\n",
    "status_df[\"status\"] = status\n",
    "status_df"
   ]
  },
  {
   "cell_type": "code",
   "execution_count": 13,
   "id": "2c8dcf87",
   "metadata": {},
   "outputs": [
    {
     "data": {
      "text/plain": [
       "VSP Technologies                    1\n",
       "Christus Health                     1\n",
       "iflow                               1\n",
       "Citi                                1\n",
       "Coahoma Community College           1\n",
       "                                   ..\n",
       "Bioderm Inc.                        1\n",
       "Michael Kors                        1\n",
       "Somatus                             1\n",
       "Trinity Technology Solutions LLC    1\n",
       "Mace                                1\n",
       "Name: company, Length: 626, dtype: int64"
      ]
     },
     "execution_count": 13,
     "metadata": {},
     "output_type": "execute_result"
    }
   ],
   "source": [
    "#Company lookup table, revised to drop the 2nd Insight Global below\n",
    "companies = df.loc[:,[\"company\",\"company_link\", \"company_rating\"]].drop_duplicates().reset_index(drop=True)\n",
    "companies.company.value_counts()"
   ]
  },
  {
   "cell_type": "code",
   "execution_count": 14,
   "id": "18653f26",
   "metadata": {},
   "outputs": [
    {
     "data": {
      "text/html": [
       "<div>\n",
       "<style scoped>\n",
       "    .dataframe tbody tr th:only-of-type {\n",
       "        vertical-align: middle;\n",
       "    }\n",
       "\n",
       "    .dataframe tbody tr th {\n",
       "        vertical-align: top;\n",
       "    }\n",
       "\n",
       "    .dataframe thead th {\n",
       "        text-align: right;\n",
       "    }\n",
       "</style>\n",
       "<table border=\"1\" class=\"dataframe\">\n",
       "  <thead>\n",
       "    <tr style=\"text-align: right;\">\n",
       "      <th></th>\n",
       "      <th>company</th>\n",
       "      <th>company_link</th>\n",
       "      <th>company_rating</th>\n",
       "    </tr>\n",
       "  </thead>\n",
       "  <tbody>\n",
       "    <tr>\n",
       "      <th>78</th>\n",
       "      <td>Insight Global</td>\n",
       "      <td>www.indeed.com/cmp/Insight-Global</td>\n",
       "      <td>3.9</td>\n",
       "    </tr>\n",
       "  </tbody>\n",
       "</table>\n",
       "</div>"
      ],
      "text/plain": [
       "           company                       company_link  company_rating\n",
       "78  Insight Global  www.indeed.com/cmp/Insight-Global             3.9"
      ]
     },
     "execution_count": 14,
     "metadata": {},
     "output_type": "execute_result"
    }
   ],
   "source": [
    "companies.loc[companies.company == \"Insight Global\"]"
   ]
  },
  {
   "cell_type": "code",
   "execution_count": 15,
   "id": "98ed3bf7",
   "metadata": {},
   "outputs": [],
   "source": [
    "df.loc[df.company == \"Insight Global\", \"company_link\"] = \"www.indeed.com/cmp/Insight-Global\"\n",
    "df.loc[df.company == \"Insight Global\", \"company_rating\"] = 3.9"
   ]
  },
  {
   "cell_type": "code",
   "execution_count": 16,
   "id": "ad3dd709",
   "metadata": {},
   "outputs": [
    {
     "data": {
      "text/plain": [
       "VSP Technologies                    1\n",
       "Christus Health                     1\n",
       "iflow                               1\n",
       "Citi                                1\n",
       "Coahoma Community College           1\n",
       "                                   ..\n",
       "Bioderm Inc.                        1\n",
       "Michael Kors                        1\n",
       "Somatus                             1\n",
       "Trinity Technology Solutions LLC    1\n",
       "Mace                                1\n",
       "Name: company, Length: 626, dtype: int64"
      ]
     },
     "execution_count": 16,
     "metadata": {},
     "output_type": "execute_result"
    }
   ],
   "source": [
    "companies = df.loc[:,[\"company\",\"company_link\", \"company_rating\"]].drop_duplicates().reset_index(drop=True)\n",
    "companies.company.value_counts()"
   ]
  },
  {
   "cell_type": "code",
   "execution_count": 17,
   "id": "d1b1c455",
   "metadata": {},
   "outputs": [
    {
     "data": {
      "text/html": [
       "<div>\n",
       "<style scoped>\n",
       "    .dataframe tbody tr th:only-of-type {\n",
       "        vertical-align: middle;\n",
       "    }\n",
       "\n",
       "    .dataframe tbody tr th {\n",
       "        vertical-align: top;\n",
       "    }\n",
       "\n",
       "    .dataframe thead th {\n",
       "        text-align: right;\n",
       "    }\n",
       "</style>\n",
       "<table border=\"1\" class=\"dataframe\">\n",
       "  <thead>\n",
       "    <tr style=\"text-align: right;\">\n",
       "      <th></th>\n",
       "      <th>company</th>\n",
       "      <th>company_link</th>\n",
       "      <th>company_rating</th>\n",
       "    </tr>\n",
       "  </thead>\n",
       "  <tbody>\n",
       "    <tr>\n",
       "      <th>0</th>\n",
       "      <td>VSP Technologies</td>\n",
       "      <td>www.indeed.com/cmp/Vsp-Technologies</td>\n",
       "      <td>3.1</td>\n",
       "    </tr>\n",
       "    <tr>\n",
       "      <th>1</th>\n",
       "      <td>MoneyGram</td>\n",
       "      <td>www.indeed.com/cmp/Moneygram</td>\n",
       "      <td>3.7</td>\n",
       "    </tr>\n",
       "    <tr>\n",
       "      <th>2</th>\n",
       "      <td>National Indemnity Company</td>\n",
       "      <td>www.indeed.com/cmp/National-Indemnity-Company</td>\n",
       "      <td>4.1</td>\n",
       "    </tr>\n",
       "    <tr>\n",
       "      <th>3</th>\n",
       "      <td>Allied Stone Inc</td>\n",
       "      <td>www.indeed.com/cmp/Allied-Stone,-Inc.</td>\n",
       "      <td>2.6</td>\n",
       "    </tr>\n",
       "    <tr>\n",
       "      <th>4</th>\n",
       "      <td>Lettuce Entertain You Restaurants (Chicago)</td>\n",
       "      <td>www.indeed.com/cmp/Lettuce-Entertain-You</td>\n",
       "      <td>4.0</td>\n",
       "    </tr>\n",
       "    <tr>\n",
       "      <th>...</th>\n",
       "      <td>...</td>\n",
       "      <td>...</td>\n",
       "      <td>...</td>\n",
       "    </tr>\n",
       "    <tr>\n",
       "      <th>622</th>\n",
       "      <td>MAGRABBIT</td>\n",
       "      <td>None</td>\n",
       "      <td>NaN</td>\n",
       "    </tr>\n",
       "    <tr>\n",
       "      <th>623</th>\n",
       "      <td>Massachusetts General Hospital(MGH)</td>\n",
       "      <td>www.indeed.com/cmp/Massachusetts-General-Hospital</td>\n",
       "      <td>4.2</td>\n",
       "    </tr>\n",
       "    <tr>\n",
       "      <th>624</th>\n",
       "      <td>Center for Sports Medicine &amp; Orthopaedics</td>\n",
       "      <td>www.indeed.com/cmp/Center-For-Sports-Medicine-...</td>\n",
       "      <td>4.1</td>\n",
       "    </tr>\n",
       "    <tr>\n",
       "      <th>625</th>\n",
       "      <td>Michaels</td>\n",
       "      <td>www.indeed.com/cmp/Michaels</td>\n",
       "      <td>3.5</td>\n",
       "    </tr>\n",
       "    <tr>\n",
       "      <th>626</th>\n",
       "      <td>Mace</td>\n",
       "      <td>www.indeed.com/cmp/Mace-Group</td>\n",
       "      <td>4.0</td>\n",
       "    </tr>\n",
       "  </tbody>\n",
       "</table>\n",
       "<p>627 rows × 3 columns</p>\n",
       "</div>"
      ],
      "text/plain": [
       "                                         company  \\\n",
       "0                               VSP Technologies   \n",
       "1                                      MoneyGram   \n",
       "2                     National Indemnity Company   \n",
       "3                               Allied Stone Inc   \n",
       "4    Lettuce Entertain You Restaurants (Chicago)   \n",
       "..                                           ...   \n",
       "622                                    MAGRABBIT   \n",
       "623          Massachusetts General Hospital(MGH)   \n",
       "624    Center for Sports Medicine & Orthopaedics   \n",
       "625                                     Michaels   \n",
       "626                                         Mace   \n",
       "\n",
       "                                          company_link  company_rating  \n",
       "0                  www.indeed.com/cmp/Vsp-Technologies             3.1  \n",
       "1                         www.indeed.com/cmp/Moneygram             3.7  \n",
       "2        www.indeed.com/cmp/National-Indemnity-Company             4.1  \n",
       "3                www.indeed.com/cmp/Allied-Stone,-Inc.             2.6  \n",
       "4             www.indeed.com/cmp/Lettuce-Entertain-You             4.0  \n",
       "..                                                 ...             ...  \n",
       "622                                               None             NaN  \n",
       "623  www.indeed.com/cmp/Massachusetts-General-Hospital             4.2  \n",
       "624  www.indeed.com/cmp/Center-For-Sports-Medicine-...             4.1  \n",
       "625                        www.indeed.com/cmp/Michaels             3.5  \n",
       "626                      www.indeed.com/cmp/Mace-Group             4.0  \n",
       "\n",
       "[627 rows x 3 columns]"
      ]
     },
     "execution_count": 17,
     "metadata": {},
     "output_type": "execute_result"
    }
   ],
   "source": [
    "#Companies lookup table\n",
    "companies"
   ]
  },
  {
   "cell_type": "code",
   "execution_count": 18,
   "id": "793cb926",
   "metadata": {},
   "outputs": [],
   "source": [
    "#State \n",
    "def getState(loc):\n",
    "    if \",\" in loc:\n",
    "        state = loc.replace(\"\\xa0\", \" \").split(\",\")[1].strip().split(\" \")[0].strip()\n",
    "    else:\n",
    "        state = None\n",
    "        \n",
    "    return(state)"
   ]
  },
  {
   "cell_type": "code",
   "execution_count": 19,
   "id": "90649c31",
   "metadata": {},
   "outputs": [
    {
     "data": {
      "text/plain": [
       "'TX'"
      ]
     },
     "execution_count": 19,
     "metadata": {},
     "output_type": "execute_result"
    }
   ],
   "source": [
    "#Find the locations with\"Downtown area\"\n",
    "getState(\"Austin, TX (Downtown area)\")"
   ]
  },
  {
   "cell_type": "code",
   "execution_count": 20,
   "id": "403f3040",
   "metadata": {},
   "outputs": [
    {
     "name": "stdout",
     "output_type": "stream",
     "text": [
      "<class 'pandas.core.frame.DataFrame'>\n",
      "RangeIndex: 735 entries, 0 to 734\n",
      "Data columns (total 9 columns):\n",
      " #   Column          Non-Null Count  Dtype  \n",
      "---  ------          --------------  -----  \n",
      " 0   job_title       735 non-null    object \n",
      " 1   job_link        735 non-null    object \n",
      " 2   company         733 non-null    object \n",
      " 3   company_link    536 non-null    object \n",
      " 4   company_rating  536 non-null    float64\n",
      " 5   location        735 non-null    object \n",
      " 6   salary          359 non-null    object \n",
      " 7   status          562 non-null    object \n",
      " 8   state           527 non-null    object \n",
      "dtypes: float64(1), object(8)\n",
      "memory usage: 51.8+ KB\n"
     ]
    }
   ],
   "source": [
    "#\n",
    "df[\"state\"] = df.location.apply(lambda x: getState(x))\n",
    "df.info()"
   ]
  },
  {
   "cell_type": "code",
   "execution_count": 21,
   "id": "62a8436d",
   "metadata": {},
   "outputs": [
    {
     "data": {
      "text/plain": [
       "TX    236\n",
       "CA     60\n",
       "NY     45\n",
       "IL     17\n",
       "GA     15\n",
       "VA     14\n",
       "PA     13\n",
       "FL     12\n",
       "WA     10\n",
       "MN      9\n",
       "CO      9\n",
       "NC      8\n",
       "OK      8\n",
       "UT      7\n",
       "AZ      5\n",
       "MA      5\n",
       "TN      5\n",
       "MD      4\n",
       "DC      4\n",
       "NJ      3\n",
       "MI      3\n",
       "MS      3\n",
       "CT      3\n",
       "OH      3\n",
       "NE      2\n",
       "KY      2\n",
       "OR      2\n",
       "IN      2\n",
       "AL      2\n",
       "NV      2\n",
       "DE      2\n",
       "PR      1\n",
       "NM      1\n",
       "RI      1\n",
       "VT      1\n",
       "WI      1\n",
       "AR      1\n",
       "SD      1\n",
       "KS      1\n",
       "MO      1\n",
       "SC      1\n",
       "IA      1\n",
       "LA      1\n",
       "Name: state, dtype: int64"
      ]
     },
     "execution_count": 21,
     "metadata": {},
     "output_type": "execute_result"
    }
   ],
   "source": [
    "#\n",
    "df.state.value_counts()"
   ]
  },
  {
   "cell_type": "code",
   "execution_count": null,
   "id": "97cd5932",
   "metadata": {},
   "outputs": [],
   "source": []
  },
  {
   "cell_type": "markdown",
   "id": "de685203",
   "metadata": {},
   "source": [
    "State lookup table"
   ]
  },
  {
   "cell_type": "code",
   "execution_count": 22,
   "id": "b9261458",
   "metadata": {},
   "outputs": [
    {
     "data": {
      "text/html": [
       "<div>\n",
       "<style scoped>\n",
       "    .dataframe tbody tr th:only-of-type {\n",
       "        vertical-align: middle;\n",
       "    }\n",
       "\n",
       "    .dataframe tbody tr th {\n",
       "        vertical-align: top;\n",
       "    }\n",
       "\n",
       "    .dataframe thead th {\n",
       "        text-align: right;\n",
       "    }\n",
       "</style>\n",
       "<table border=\"1\" class=\"dataframe\">\n",
       "  <thead>\n",
       "    <tr style=\"text-align: right;\">\n",
       "      <th></th>\n",
       "      <th>state</th>\n",
       "    </tr>\n",
       "  </thead>\n",
       "  <tbody>\n",
       "    <tr>\n",
       "      <th>0</th>\n",
       "      <td>VA</td>\n",
       "    </tr>\n",
       "    <tr>\n",
       "      <th>1</th>\n",
       "      <td>TX</td>\n",
       "    </tr>\n",
       "    <tr>\n",
       "      <th>2</th>\n",
       "      <td>NE</td>\n",
       "    </tr>\n",
       "    <tr>\n",
       "      <th>3</th>\n",
       "      <td>IL</td>\n",
       "    </tr>\n",
       "    <tr>\n",
       "      <th>4</th>\n",
       "      <td>MD</td>\n",
       "    </tr>\n",
       "    <tr>\n",
       "      <th>5</th>\n",
       "      <td>GA</td>\n",
       "    </tr>\n",
       "    <tr>\n",
       "      <th>6</th>\n",
       "      <td>CA</td>\n",
       "    </tr>\n",
       "    <tr>\n",
       "      <th>7</th>\n",
       "      <td>NV</td>\n",
       "    </tr>\n",
       "    <tr>\n",
       "      <th>8</th>\n",
       "      <td>NY</td>\n",
       "    </tr>\n",
       "    <tr>\n",
       "      <th>9</th>\n",
       "      <td>WI</td>\n",
       "    </tr>\n",
       "    <tr>\n",
       "      <th>10</th>\n",
       "      <td>FL</td>\n",
       "    </tr>\n",
       "    <tr>\n",
       "      <th>11</th>\n",
       "      <td>WA</td>\n",
       "    </tr>\n",
       "    <tr>\n",
       "      <th>12</th>\n",
       "      <td>UT</td>\n",
       "    </tr>\n",
       "    <tr>\n",
       "      <th>13</th>\n",
       "      <td>PA</td>\n",
       "    </tr>\n",
       "    <tr>\n",
       "      <th>14</th>\n",
       "      <td>MN</td>\n",
       "    </tr>\n",
       "    <tr>\n",
       "      <th>15</th>\n",
       "      <td>NC</td>\n",
       "    </tr>\n",
       "    <tr>\n",
       "      <th>16</th>\n",
       "      <td>OH</td>\n",
       "    </tr>\n",
       "    <tr>\n",
       "      <th>17</th>\n",
       "      <td>MA</td>\n",
       "    </tr>\n",
       "    <tr>\n",
       "      <th>18</th>\n",
       "      <td>TN</td>\n",
       "    </tr>\n",
       "    <tr>\n",
       "      <th>19</th>\n",
       "      <td>AL</td>\n",
       "    </tr>\n",
       "    <tr>\n",
       "      <th>20</th>\n",
       "      <td>DC</td>\n",
       "    </tr>\n",
       "    <tr>\n",
       "      <th>21</th>\n",
       "      <td>CO</td>\n",
       "    </tr>\n",
       "    <tr>\n",
       "      <th>22</th>\n",
       "      <td>MI</td>\n",
       "    </tr>\n",
       "    <tr>\n",
       "      <th>23</th>\n",
       "      <td>NJ</td>\n",
       "    </tr>\n",
       "    <tr>\n",
       "      <th>24</th>\n",
       "      <td>KY</td>\n",
       "    </tr>\n",
       "    <tr>\n",
       "      <th>25</th>\n",
       "      <td>OR</td>\n",
       "    </tr>\n",
       "    <tr>\n",
       "      <th>26</th>\n",
       "      <td>IN</td>\n",
       "    </tr>\n",
       "    <tr>\n",
       "      <th>27</th>\n",
       "      <td>AR</td>\n",
       "    </tr>\n",
       "    <tr>\n",
       "      <th>28</th>\n",
       "      <td>OK</td>\n",
       "    </tr>\n",
       "    <tr>\n",
       "      <th>29</th>\n",
       "      <td>IA</td>\n",
       "    </tr>\n",
       "    <tr>\n",
       "      <th>30</th>\n",
       "      <td>SC</td>\n",
       "    </tr>\n",
       "    <tr>\n",
       "      <th>31</th>\n",
       "      <td>MO</td>\n",
       "    </tr>\n",
       "    <tr>\n",
       "      <th>32</th>\n",
       "      <td>AZ</td>\n",
       "    </tr>\n",
       "    <tr>\n",
       "      <th>33</th>\n",
       "      <td>KS</td>\n",
       "    </tr>\n",
       "    <tr>\n",
       "      <th>34</th>\n",
       "      <td>DE</td>\n",
       "    </tr>\n",
       "    <tr>\n",
       "      <th>35</th>\n",
       "      <td>SD</td>\n",
       "    </tr>\n",
       "    <tr>\n",
       "      <th>36</th>\n",
       "      <td>MS</td>\n",
       "    </tr>\n",
       "    <tr>\n",
       "      <th>37</th>\n",
       "      <td>CT</td>\n",
       "    </tr>\n",
       "    <tr>\n",
       "      <th>38</th>\n",
       "      <td>VT</td>\n",
       "    </tr>\n",
       "    <tr>\n",
       "      <th>39</th>\n",
       "      <td>RI</td>\n",
       "    </tr>\n",
       "    <tr>\n",
       "      <th>40</th>\n",
       "      <td>NM</td>\n",
       "    </tr>\n",
       "    <tr>\n",
       "      <th>41</th>\n",
       "      <td>PR</td>\n",
       "    </tr>\n",
       "    <tr>\n",
       "      <th>42</th>\n",
       "      <td>LA</td>\n",
       "    </tr>\n",
       "  </tbody>\n",
       "</table>\n",
       "</div>"
      ],
      "text/plain": [
       "   state\n",
       "0     VA\n",
       "1     TX\n",
       "2     NE\n",
       "3     IL\n",
       "4     MD\n",
       "5     GA\n",
       "6     CA\n",
       "7     NV\n",
       "8     NY\n",
       "9     WI\n",
       "10    FL\n",
       "11    WA\n",
       "12    UT\n",
       "13    PA\n",
       "14    MN\n",
       "15    NC\n",
       "16    OH\n",
       "17    MA\n",
       "18    TN\n",
       "19    AL\n",
       "20    DC\n",
       "21    CO\n",
       "22    MI\n",
       "23    NJ\n",
       "24    KY\n",
       "25    OR\n",
       "26    IN\n",
       "27    AR\n",
       "28    OK\n",
       "29    IA\n",
       "30    SC\n",
       "31    MO\n",
       "32    AZ\n",
       "33    KS\n",
       "34    DE\n",
       "35    SD\n",
       "36    MS\n",
       "37    CT\n",
       "38    VT\n",
       "39    RI\n",
       "40    NM\n",
       "41    PR\n",
       "42    LA"
      ]
     },
     "execution_count": 22,
     "metadata": {},
     "output_type": "execute_result"
    }
   ],
   "source": [
    "#State look-up table\n",
    "state = df.state.dropna().unique()\n",
    "state_df = pd.DataFrame()\n",
    "state_df[\"state\"] = state\n",
    "state_df"
   ]
  },
  {
   "cell_type": "code",
   "execution_count": null,
   "id": "a4a91d1b",
   "metadata": {},
   "outputs": [],
   "source": []
  },
  {
   "cell_type": "code",
   "execution_count": 23,
   "id": "f5818baa",
   "metadata": {},
   "outputs": [],
   "source": [
    "#Find Remote job\n",
    "def getRemote(loc):\n",
    "    if \"remote\" in loc.lower():\n",
    "        return(True)\n",
    "    else:\n",
    "        return(False)\n",
    "        \n",
    "  "
   ]
  },
  {
   "cell_type": "code",
   "execution_count": 24,
   "id": "1b2d60b1",
   "metadata": {},
   "outputs": [
    {
     "name": "stdout",
     "output_type": "stream",
     "text": [
      "<class 'pandas.core.frame.DataFrame'>\n",
      "RangeIndex: 735 entries, 0 to 734\n",
      "Data columns (total 10 columns):\n",
      " #   Column          Non-Null Count  Dtype  \n",
      "---  ------          --------------  -----  \n",
      " 0   job_title       735 non-null    object \n",
      " 1   job_link        735 non-null    object \n",
      " 2   company         733 non-null    object \n",
      " 3   company_link    536 non-null    object \n",
      " 4   company_rating  536 non-null    float64\n",
      " 5   location        735 non-null    object \n",
      " 6   salary          359 non-null    object \n",
      " 7   status          562 non-null    object \n",
      " 8   state           527 non-null    object \n",
      " 9   is_remote       735 non-null    bool   \n",
      "dtypes: bool(1), float64(1), object(8)\n",
      "memory usage: 52.5+ KB\n"
     ]
    }
   ],
   "source": [
    "#\n",
    "df[\"is_remote\"] = df.location.apply(lambda x: getRemote(x))\n",
    "df.info()"
   ]
  },
  {
   "cell_type": "code",
   "execution_count": 25,
   "id": "a156a1e1",
   "metadata": {},
   "outputs": [
    {
     "data": {
      "text/plain": [
       "True     374\n",
       "False    361\n",
       "Name: is_remote, dtype: int64"
      ]
     },
     "execution_count": 25,
     "metadata": {},
     "output_type": "execute_result"
    }
   ],
   "source": [
    "df.is_remote.value_counts()"
   ]
  },
  {
   "cell_type": "code",
   "execution_count": 26,
   "id": "32e0ca94",
   "metadata": {},
   "outputs": [
    {
     "name": "stdout",
     "output_type": "stream",
     "text": [
      "<class 'pandas.core.series.Series'>\n",
      "RangeIndex: 735 entries, 0 to 734\n",
      "Series name: is_remote\n",
      "Non-Null Count  Dtype\n",
      "--------------  -----\n",
      "735 non-null    bool \n",
      "dtypes: bool(1)\n",
      "memory usage: 863.0 bytes\n"
     ]
    }
   ],
   "source": [
    "df.is_remote.info()"
   ]
  },
  {
   "cell_type": "code",
   "execution_count": 27,
   "id": "8276ea58",
   "metadata": {},
   "outputs": [
    {
     "data": {
      "text/html": [
       "<div>\n",
       "<style scoped>\n",
       "    .dataframe tbody tr th:only-of-type {\n",
       "        vertical-align: middle;\n",
       "    }\n",
       "\n",
       "    .dataframe tbody tr th {\n",
       "        vertical-align: top;\n",
       "    }\n",
       "\n",
       "    .dataframe thead th {\n",
       "        text-align: right;\n",
       "    }\n",
       "</style>\n",
       "<table border=\"1\" class=\"dataframe\">\n",
       "  <thead>\n",
       "    <tr style=\"text-align: right;\">\n",
       "      <th></th>\n",
       "      <th>is_remote</th>\n",
       "    </tr>\n",
       "  </thead>\n",
       "  <tbody>\n",
       "    <tr>\n",
       "      <th>0</th>\n",
       "      <td>False</td>\n",
       "    </tr>\n",
       "    <tr>\n",
       "      <th>1</th>\n",
       "      <td>True</td>\n",
       "    </tr>\n",
       "  </tbody>\n",
       "</table>\n",
       "</div>"
      ],
      "text/plain": [
       "   is_remote\n",
       "0      False\n",
       "1       True"
      ]
     },
     "execution_count": 27,
     "metadata": {},
     "output_type": "execute_result"
    }
   ],
   "source": [
    "is_remote = df.is_remote.dropna().unique()\n",
    "is_remote_df = pd.DataFrame()\n",
    "is_remote_df[\"is_remote\"] = is_remote\n",
    "is_remote_df"
   ]
  },
  {
   "cell_type": "code",
   "execution_count": null,
   "id": "84e2c0c0",
   "metadata": {},
   "outputs": [],
   "source": []
  },
  {
   "cell_type": "code",
   "execution_count": 28,
   "id": "63f9457a",
   "metadata": {},
   "outputs": [],
   "source": [
    "#Find the companies paying for ads\n",
    "def getAd(link):\n",
    "    if \"pagead\" in link.lower():\n",
    "        return(True)\n",
    "    else:\n",
    "        return(False)"
   ]
  },
  {
   "cell_type": "code",
   "execution_count": 29,
   "id": "a507c6e2",
   "metadata": {},
   "outputs": [
    {
     "name": "stdout",
     "output_type": "stream",
     "text": [
      "<class 'pandas.core.frame.DataFrame'>\n",
      "RangeIndex: 735 entries, 0 to 734\n",
      "Data columns (total 11 columns):\n",
      " #   Column          Non-Null Count  Dtype  \n",
      "---  ------          --------------  -----  \n",
      " 0   job_title       735 non-null    object \n",
      " 1   job_link        735 non-null    object \n",
      " 2   company         733 non-null    object \n",
      " 3   company_link    536 non-null    object \n",
      " 4   company_rating  536 non-null    float64\n",
      " 5   location        735 non-null    object \n",
      " 6   salary          359 non-null    object \n",
      " 7   status          562 non-null    object \n",
      " 8   state           527 non-null    object \n",
      " 9   is_remote       735 non-null    bool   \n",
      " 10  is_ad           735 non-null    bool   \n",
      "dtypes: bool(2), float64(1), object(8)\n",
      "memory usage: 53.2+ KB\n"
     ]
    }
   ],
   "source": [
    "df[\"is_ad\"] = df.job_link.apply(lambda x: getAd(x))\n",
    "df.info()"
   ]
  },
  {
   "cell_type": "code",
   "execution_count": 30,
   "id": "17824cdd",
   "metadata": {},
   "outputs": [
    {
     "data": {
      "text/plain": [
       "False    623\n",
       "True     112\n",
       "Name: is_ad, dtype: int64"
      ]
     },
     "execution_count": 30,
     "metadata": {},
     "output_type": "execute_result"
    }
   ],
   "source": [
    "df.is_ad.value_counts()"
   ]
  },
  {
   "cell_type": "code",
   "execution_count": 31,
   "id": "625ddaac",
   "metadata": {},
   "outputs": [
    {
     "data": {
      "text/plain": [
       "company\n",
       "Insight Global                         5\n",
       "CyberCoders                            3\n",
       "Cancer Treatment Centers of America    3\n",
       "Uber                                   2\n",
       "Computer Enterprises, Inc. (CEI)       2\n",
       "                                      ..\n",
       "Fidelity Investments                   0\n",
       "Federal Reserve Bank of Richmond       0\n",
       "Federal Reserve Bank of New York       0\n",
       "Fannie Mae                             0\n",
       "pulseData                              0\n",
       "Name: is_ad, Length: 626, dtype: int64"
      ]
     },
     "execution_count": 31,
     "metadata": {},
     "output_type": "execute_result"
    }
   ],
   "source": [
    "#Paying for Ads, add to main job table as bool\n",
    "df.groupby(\"company\").is_ad.sum().sort_values(ascending=False)"
   ]
  },
  {
   "cell_type": "code",
   "execution_count": null,
   "id": "df1729f3",
   "metadata": {},
   "outputs": [],
   "source": []
  },
  {
   "cell_type": "code",
   "execution_count": null,
   "id": "aa1af77a",
   "metadata": {},
   "outputs": [],
   "source": []
  },
  {
   "cell_type": "code",
   "execution_count": 32,
   "id": "06f45aad",
   "metadata": {},
   "outputs": [],
   "source": [
    "import pandas as pd\n",
    "from sqlalchemy import create_engine, inspect"
   ]
  },
  {
   "cell_type": "code",
   "execution_count": 33,
   "id": "a7997956",
   "metadata": {},
   "outputs": [],
   "source": [
    "USERNAME = \"postgres\"\n",
    "PASSWORD = \"fAr3st!290\"\n",
    "URL = \"localhost\"\n",
    "PORT = 5432\n",
    "DATABASE = \"Jobs_db\"\n",
    "\n",
    "connection_str = f\"postgresql+psycopg2://{USERNAME}:{PASSWORD}@{URL}:{PORT}/{DATABASE}\"\n",
    "#print(connection_str)\n",
    "\n",
    "engine = create_engine(connection_str)"
   ]
  },
  {
   "cell_type": "code",
   "execution_count": 34,
   "id": "44d59927",
   "metadata": {},
   "outputs": [
    {
     "name": "stdout",
     "output_type": "stream",
     "text": [
      "status\n",
      "{'name': 'id', 'type': INTEGER(), 'nullable': False, 'default': \"nextval('status_id_seq'::regclass)\", 'autoincrement': True, 'comment': None}\n",
      "{'name': 'status', 'type': VARCHAR(length=20), 'nullable': False, 'default': None, 'autoincrement': False, 'comment': None}\n",
      "{'name': 'last_updated', 'type': TIMESTAMP(), 'nullable': False, 'default': 'LOCALTIMESTAMP', 'autoincrement': False, 'comment': None}\n",
      "\n",
      "state\n",
      "{'name': 'id', 'type': INTEGER(), 'nullable': False, 'default': \"nextval('state_id_seq'::regclass)\", 'autoincrement': True, 'comment': None}\n",
      "{'name': 'state', 'type': VARCHAR(length=10), 'nullable': False, 'default': None, 'autoincrement': False, 'comment': None}\n",
      "{'name': 'last_updated', 'type': TIMESTAMP(), 'nullable': False, 'default': 'LOCALTIMESTAMP', 'autoincrement': False, 'comment': None}\n",
      "\n",
      "company\n",
      "{'name': 'id', 'type': INTEGER(), 'nullable': False, 'default': \"nextval('company_id_seq'::regclass)\", 'autoincrement': True, 'comment': None}\n",
      "{'name': 'company', 'type': VARCHAR(length=100), 'nullable': False, 'default': None, 'autoincrement': False, 'comment': None}\n",
      "{'name': 'company_link', 'type': VARCHAR(length=500), 'nullable': True, 'default': None, 'autoincrement': False, 'comment': None}\n",
      "{'name': 'company_rating', 'type': DOUBLE_PRECISION(precision=53), 'nullable': True, 'default': None, 'autoincrement': False, 'comment': None}\n",
      "{'name': 'last_updated', 'type': TIMESTAMP(), 'nullable': False, 'default': 'LOCALTIMESTAMP', 'autoincrement': False, 'comment': None}\n",
      "\n",
      "job\n",
      "{'name': 'id', 'type': INTEGER(), 'nullable': False, 'default': \"nextval('job_id_seq'::regclass)\", 'autoincrement': True, 'comment': None}\n",
      "{'name': 'job_title', 'type': VARCHAR(length=100), 'nullable': False, 'default': None, 'autoincrement': False, 'comment': None}\n",
      "{'name': 'job_link', 'type': VARCHAR(length=2000), 'nullable': False, 'default': None, 'autoincrement': False, 'comment': None}\n",
      "{'name': 'company_id', 'type': INTEGER(), 'nullable': True, 'default': None, 'autoincrement': False, 'comment': None}\n",
      "{'name': 'location', 'type': VARCHAR(length=2000), 'nullable': True, 'default': None, 'autoincrement': False, 'comment': None}\n",
      "{'name': 'salary', 'type': VARCHAR(length=100), 'nullable': True, 'default': None, 'autoincrement': False, 'comment': None}\n",
      "{'name': 'status_id', 'type': INTEGER(), 'nullable': True, 'default': None, 'autoincrement': False, 'comment': None}\n",
      "{'name': 'state_id', 'type': INTEGER(), 'nullable': True, 'default': None, 'autoincrement': False, 'comment': None}\n",
      "{'name': 'is_remote', 'type': BOOLEAN(), 'nullable': True, 'default': None, 'autoincrement': False, 'comment': None}\n",
      "{'name': 'is_ad', 'type': BOOLEAN(), 'nullable': True, 'default': None, 'autoincrement': False, 'comment': None}\n",
      "{'name': 'last_updated', 'type': TIMESTAMP(), 'nullable': False, 'default': 'LOCALTIMESTAMP', 'autoincrement': False, 'comment': None}\n",
      "\n"
     ]
    }
   ],
   "source": [
    "# create the inspector and connect to the engine\n",
    "inspector_gadget = inspect(engine)\n",
    "\n",
    "tables = inspector_gadget.get_table_names()\n",
    "for table in tables:\n",
    "    print(table)\n",
    "    \n",
    "    # get all columns in table\n",
    "    columns = inspector_gadget.get_columns(table)\n",
    "    for column in columns:\n",
    "        print(column)\n",
    "    print()"
   ]
  },
  {
   "cell_type": "code",
   "execution_count": 35,
   "id": "38973658",
   "metadata": {},
   "outputs": [
    {
     "data": {
      "text/html": [
       "<div>\n",
       "<style scoped>\n",
       "    .dataframe tbody tr th:only-of-type {\n",
       "        vertical-align: middle;\n",
       "    }\n",
       "\n",
       "    .dataframe tbody tr th {\n",
       "        vertical-align: top;\n",
       "    }\n",
       "\n",
       "    .dataframe thead th {\n",
       "        text-align: right;\n",
       "    }\n",
       "</style>\n",
       "<table border=\"1\" class=\"dataframe\">\n",
       "  <thead>\n",
       "    <tr style=\"text-align: right;\">\n",
       "      <th></th>\n",
       "      <th>status</th>\n",
       "    </tr>\n",
       "  </thead>\n",
       "  <tbody>\n",
       "    <tr>\n",
       "      <th>0</th>\n",
       "      <td>Full-time</td>\n",
       "    </tr>\n",
       "    <tr>\n",
       "      <th>1</th>\n",
       "      <td>Contract</td>\n",
       "    </tr>\n",
       "    <tr>\n",
       "      <th>2</th>\n",
       "      <td>Internship</td>\n",
       "    </tr>\n",
       "    <tr>\n",
       "      <th>3</th>\n",
       "      <td>Temporary</td>\n",
       "    </tr>\n",
       "    <tr>\n",
       "      <th>4</th>\n",
       "      <td>Part-time</td>\n",
       "    </tr>\n",
       "  </tbody>\n",
       "</table>\n",
       "</div>"
      ],
      "text/plain": [
       "       status\n",
       "0   Full-time\n",
       "1    Contract\n",
       "2  Internship\n",
       "3   Temporary\n",
       "4   Part-time"
      ]
     },
     "execution_count": 35,
     "metadata": {},
     "output_type": "execute_result"
    }
   ],
   "source": [
    "status_df.head()"
   ]
  },
  {
   "cell_type": "code",
   "execution_count": 36,
   "id": "22c914bf",
   "metadata": {},
   "outputs": [
    {
     "data": {
      "text/plain": [
       "6"
      ]
     },
     "execution_count": 36,
     "metadata": {},
     "output_type": "execute_result"
    }
   ],
   "source": [
    "engine.execute(\"truncate table status restart identity cascade\")\n",
    "status_df.to_sql(\"status\", engine, method=\"multi\", if_exists = \"append\", index=False)"
   ]
  },
  {
   "cell_type": "code",
   "execution_count": 37,
   "id": "b873441e",
   "metadata": {},
   "outputs": [
    {
     "data": {
      "text/plain": [
       "43"
      ]
     },
     "execution_count": 37,
     "metadata": {},
     "output_type": "execute_result"
    }
   ],
   "source": [
    "engine.execute(\"truncate table state restart identity cascade\")\n",
    "state_df.to_sql(\"state\", engine, method=\"multi\", if_exists = \"append\", index=False)"
   ]
  },
  {
   "cell_type": "code",
   "execution_count": 38,
   "id": "0db60a8c",
   "metadata": {},
   "outputs": [
    {
     "name": "stdout",
     "output_type": "stream",
     "text": [
      "<class 'pandas.core.frame.DataFrame'>\n",
      "RangeIndex: 626 entries, 0 to 625\n",
      "Data columns (total 3 columns):\n",
      " #   Column          Non-Null Count  Dtype  \n",
      "---  ------          --------------  -----  \n",
      " 0   company         626 non-null    object \n",
      " 1   company_link    442 non-null    object \n",
      " 2   company_rating  442 non-null    float64\n",
      "dtypes: float64(1), object(2)\n",
      "memory usage: 14.8+ KB\n"
     ]
    }
   ],
   "source": [
    "#Drop one company with no name, inclue in writeup\n",
    "companies = companies.loc[pd.notnull(companies.company)].reset_index(drop=True)\n",
    "companies.info()"
   ]
  },
  {
   "cell_type": "code",
   "execution_count": 39,
   "id": "a423c79d",
   "metadata": {},
   "outputs": [
    {
     "data": {
      "text/plain": [
       "626"
      ]
     },
     "execution_count": 39,
     "metadata": {},
     "output_type": "execute_result"
    }
   ],
   "source": [
    "engine.execute(\"truncate table company restart identity cascade\")\n",
    "companies.to_sql(\"company\", engine, method=\"multi\", if_exists = \"append\", index=False)"
   ]
  },
  {
   "cell_type": "code",
   "execution_count": null,
   "id": "7b657c57",
   "metadata": {},
   "outputs": [],
   "source": []
  },
  {
   "cell_type": "code",
   "execution_count": null,
   "id": "059b11c5",
   "metadata": {},
   "outputs": [],
   "source": []
  },
  {
   "cell_type": "code",
   "execution_count": null,
   "id": "a1961493",
   "metadata": {},
   "outputs": [],
   "source": [
    "df.head()"
   ]
  },
  {
   "cell_type": "code",
   "execution_count": 40,
   "id": "acaf4490",
   "metadata": {},
   "outputs": [
    {
     "data": {
      "text/html": [
       "<div>\n",
       "<style scoped>\n",
       "    .dataframe tbody tr th:only-of-type {\n",
       "        vertical-align: middle;\n",
       "    }\n",
       "\n",
       "    .dataframe tbody tr th {\n",
       "        vertical-align: top;\n",
       "    }\n",
       "\n",
       "    .dataframe thead th {\n",
       "        text-align: right;\n",
       "    }\n",
       "</style>\n",
       "<table border=\"1\" class=\"dataframe\">\n",
       "  <thead>\n",
       "    <tr style=\"text-align: right;\">\n",
       "      <th></th>\n",
       "      <th>status_id</th>\n",
       "      <th>status</th>\n",
       "    </tr>\n",
       "  </thead>\n",
       "  <tbody>\n",
       "    <tr>\n",
       "      <th>0</th>\n",
       "      <td>1</td>\n",
       "      <td>Full-time</td>\n",
       "    </tr>\n",
       "    <tr>\n",
       "      <th>1</th>\n",
       "      <td>2</td>\n",
       "      <td>Contract</td>\n",
       "    </tr>\n",
       "    <tr>\n",
       "      <th>2</th>\n",
       "      <td>3</td>\n",
       "      <td>Internship</td>\n",
       "    </tr>\n",
       "    <tr>\n",
       "      <th>3</th>\n",
       "      <td>4</td>\n",
       "      <td>Temporary</td>\n",
       "    </tr>\n",
       "    <tr>\n",
       "      <th>4</th>\n",
       "      <td>5</td>\n",
       "      <td>Part-time</td>\n",
       "    </tr>\n",
       "    <tr>\n",
       "      <th>5</th>\n",
       "      <td>6</td>\n",
       "      <td>Seasonal</td>\n",
       "    </tr>\n",
       "  </tbody>\n",
       "</table>\n",
       "</div>"
      ],
      "text/plain": [
       "   status_id      status\n",
       "0          1   Full-time\n",
       "1          2    Contract\n",
       "2          3  Internship\n",
       "3          4   Temporary\n",
       "4          5   Part-time\n",
       "5          6    Seasonal"
      ]
     },
     "execution_count": 40,
     "metadata": {},
     "output_type": "execute_result"
    }
   ],
   "source": [
    "status2 = pd.read_sql(\"select id as status_id, status from status\", engine)\n",
    "status2.head(20)"
   ]
  },
  {
   "cell_type": "code",
   "execution_count": 41,
   "id": "ced3f77d",
   "metadata": {},
   "outputs": [
    {
     "data": {
      "text/html": [
       "<div>\n",
       "<style scoped>\n",
       "    .dataframe tbody tr th:only-of-type {\n",
       "        vertical-align: middle;\n",
       "    }\n",
       "\n",
       "    .dataframe tbody tr th {\n",
       "        vertical-align: top;\n",
       "    }\n",
       "\n",
       "    .dataframe thead th {\n",
       "        text-align: right;\n",
       "    }\n",
       "</style>\n",
       "<table border=\"1\" class=\"dataframe\">\n",
       "  <thead>\n",
       "    <tr style=\"text-align: right;\">\n",
       "      <th></th>\n",
       "      <th>job_title</th>\n",
       "      <th>job_link</th>\n",
       "      <th>company</th>\n",
       "      <th>company_link</th>\n",
       "      <th>company_rating</th>\n",
       "      <th>location</th>\n",
       "      <th>salary</th>\n",
       "      <th>state</th>\n",
       "      <th>is_remote</th>\n",
       "      <th>is_ad</th>\n",
       "      <th>status_id</th>\n",
       "    </tr>\n",
       "  </thead>\n",
       "  <tbody>\n",
       "    <tr>\n",
       "      <th>0</th>\n",
       "      <td>Customer Service Data Analyst/Support Services...</td>\n",
       "      <td>www.indeed.com/pagead/clk?mo=r&amp;ad=-6NYlbfkN0CK...</td>\n",
       "      <td>VSP Technologies</td>\n",
       "      <td>www.indeed.com/cmp/Vsp-Technologies</td>\n",
       "      <td>3.1</td>\n",
       "      <td>Prince George, VA 23875</td>\n",
       "      <td>None</td>\n",
       "      <td>VA</td>\n",
       "      <td>False</td>\n",
       "      <td>True</td>\n",
       "      <td>1.0</td>\n",
       "    </tr>\n",
       "    <tr>\n",
       "      <th>1</th>\n",
       "      <td>Actimize Business Analyst - US Remote</td>\n",
       "      <td>www.indeed.com/pagead/clk?mo=r&amp;ad=-6NYlbfkN0CM...</td>\n",
       "      <td>MoneyGram</td>\n",
       "      <td>www.indeed.com/cmp/Moneygram</td>\n",
       "      <td>3.7</td>\n",
       "      <td>Remote in Dallas, TX 75206</td>\n",
       "      <td>$90,000 - $107,000 a year Employer est.</td>\n",
       "      <td>TX</td>\n",
       "      <td>True</td>\n",
       "      <td>True</td>\n",
       "      <td>1.0</td>\n",
       "    </tr>\n",
       "    <tr>\n",
       "      <th>2</th>\n",
       "      <td>Data Analyst Programming Specialist</td>\n",
       "      <td>www.indeed.com/pagead/clk?mo=r&amp;ad=-6NYlbfkN0CD...</td>\n",
       "      <td>National Indemnity Company</td>\n",
       "      <td>www.indeed.com/cmp/National-Indemnity-Company</td>\n",
       "      <td>4.1</td>\n",
       "      <td>Omaha, NE</td>\n",
       "      <td>None</td>\n",
       "      <td>NE</td>\n",
       "      <td>False</td>\n",
       "      <td>True</td>\n",
       "      <td>1.0</td>\n",
       "    </tr>\n",
       "    <tr>\n",
       "      <th>3</th>\n",
       "      <td>Data Analyst</td>\n",
       "      <td>www.indeed.com/pagead/clk?mo=r&amp;ad=-6NYlbfkN0Bb...</td>\n",
       "      <td>Allied Stone Inc</td>\n",
       "      <td>www.indeed.com/cmp/Allied-Stone,-Inc.</td>\n",
       "      <td>2.6</td>\n",
       "      <td>Dallas, TX 75229 (Northwest Dallas area)</td>\n",
       "      <td>None</td>\n",
       "      <td>TX</td>\n",
       "      <td>False</td>\n",
       "      <td>True</td>\n",
       "      <td>1.0</td>\n",
       "    </tr>\n",
       "    <tr>\n",
       "      <th>4</th>\n",
       "      <td>Operating Systems Analyst - Corporate Office</td>\n",
       "      <td>www.indeed.com/pagead/clk?mo=r&amp;ad=-6NYlbfkN0B1...</td>\n",
       "      <td>Lettuce Entertain You Restaurants (Chicago)</td>\n",
       "      <td>www.indeed.com/cmp/Lettuce-Entertain-You</td>\n",
       "      <td>4.0</td>\n",
       "      <td>Chicago, IL 60631 (Norwood Park area)</td>\n",
       "      <td>None</td>\n",
       "      <td>IL</td>\n",
       "      <td>False</td>\n",
       "      <td>True</td>\n",
       "      <td>1.0</td>\n",
       "    </tr>\n",
       "  </tbody>\n",
       "</table>\n",
       "</div>"
      ],
      "text/plain": [
       "                                           job_title  \\\n",
       "0  Customer Service Data Analyst/Support Services...   \n",
       "1              Actimize Business Analyst - US Remote   \n",
       "2                Data Analyst Programming Specialist   \n",
       "3                                       Data Analyst   \n",
       "4       Operating Systems Analyst - Corporate Office   \n",
       "\n",
       "                                            job_link  \\\n",
       "0  www.indeed.com/pagead/clk?mo=r&ad=-6NYlbfkN0CK...   \n",
       "1  www.indeed.com/pagead/clk?mo=r&ad=-6NYlbfkN0CM...   \n",
       "2  www.indeed.com/pagead/clk?mo=r&ad=-6NYlbfkN0CD...   \n",
       "3  www.indeed.com/pagead/clk?mo=r&ad=-6NYlbfkN0Bb...   \n",
       "4  www.indeed.com/pagead/clk?mo=r&ad=-6NYlbfkN0B1...   \n",
       "\n",
       "                                       company  \\\n",
       "0                             VSP Technologies   \n",
       "1                                    MoneyGram   \n",
       "2                   National Indemnity Company   \n",
       "3                             Allied Stone Inc   \n",
       "4  Lettuce Entertain You Restaurants (Chicago)   \n",
       "\n",
       "                                    company_link  company_rating  \\\n",
       "0            www.indeed.com/cmp/Vsp-Technologies             3.1   \n",
       "1                   www.indeed.com/cmp/Moneygram             3.7   \n",
       "2  www.indeed.com/cmp/National-Indemnity-Company             4.1   \n",
       "3          www.indeed.com/cmp/Allied-Stone,-Inc.             2.6   \n",
       "4       www.indeed.com/cmp/Lettuce-Entertain-You             4.0   \n",
       "\n",
       "                                   location  \\\n",
       "0                   Prince George, VA 23875   \n",
       "1                Remote in Dallas, TX 75206   \n",
       "2                                 Omaha, NE   \n",
       "3  Dallas, TX 75229 (Northwest Dallas area)   \n",
       "4     Chicago, IL 60631 (Norwood Park area)   \n",
       "\n",
       "                                    salary state  is_remote  is_ad  status_id  \n",
       "0                                     None    VA      False   True        1.0  \n",
       "1  $90,000 - $107,000 a year Employer est.    TX       True   True        1.0  \n",
       "2                                     None    NE      False   True        1.0  \n",
       "3                                     None    TX      False   True        1.0  \n",
       "4                                     None    IL      False   True        1.0  "
      ]
     },
     "execution_count": 41,
     "metadata": {},
     "output_type": "execute_result"
    }
   ],
   "source": [
    "df = pd.merge(df, status2, on = \"status\", how =\"left\")\n",
    "df.drop(\"status\", axis=1, inplace=True)\n",
    "df.head()"
   ]
  },
  {
   "cell_type": "code",
   "execution_count": 43,
   "id": "fbc6abcf",
   "metadata": {},
   "outputs": [
    {
     "data": {
      "text/html": [
       "<div>\n",
       "<style scoped>\n",
       "    .dataframe tbody tr th:only-of-type {\n",
       "        vertical-align: middle;\n",
       "    }\n",
       "\n",
       "    .dataframe tbody tr th {\n",
       "        vertical-align: top;\n",
       "    }\n",
       "\n",
       "    .dataframe thead th {\n",
       "        text-align: right;\n",
       "    }\n",
       "</style>\n",
       "<table border=\"1\" class=\"dataframe\">\n",
       "  <thead>\n",
       "    <tr style=\"text-align: right;\">\n",
       "      <th></th>\n",
       "      <th>job_title</th>\n",
       "      <th>job_link</th>\n",
       "      <th>company</th>\n",
       "      <th>company_link</th>\n",
       "      <th>company_rating</th>\n",
       "      <th>location</th>\n",
       "      <th>salary</th>\n",
       "      <th>is_remote</th>\n",
       "      <th>is_ad</th>\n",
       "      <th>status_id</th>\n",
       "      <th>state_id</th>\n",
       "    </tr>\n",
       "  </thead>\n",
       "  <tbody>\n",
       "    <tr>\n",
       "      <th>0</th>\n",
       "      <td>Customer Service Data Analyst/Support Services...</td>\n",
       "      <td>www.indeed.com/pagead/clk?mo=r&amp;ad=-6NYlbfkN0CK...</td>\n",
       "      <td>VSP Technologies</td>\n",
       "      <td>www.indeed.com/cmp/Vsp-Technologies</td>\n",
       "      <td>3.1</td>\n",
       "      <td>Prince George, VA 23875</td>\n",
       "      <td>None</td>\n",
       "      <td>False</td>\n",
       "      <td>True</td>\n",
       "      <td>1.0</td>\n",
       "      <td>1.0</td>\n",
       "    </tr>\n",
       "    <tr>\n",
       "      <th>1</th>\n",
       "      <td>Actimize Business Analyst - US Remote</td>\n",
       "      <td>www.indeed.com/pagead/clk?mo=r&amp;ad=-6NYlbfkN0CM...</td>\n",
       "      <td>MoneyGram</td>\n",
       "      <td>www.indeed.com/cmp/Moneygram</td>\n",
       "      <td>3.7</td>\n",
       "      <td>Remote in Dallas, TX 75206</td>\n",
       "      <td>$90,000 - $107,000 a year Employer est.</td>\n",
       "      <td>True</td>\n",
       "      <td>True</td>\n",
       "      <td>1.0</td>\n",
       "      <td>2.0</td>\n",
       "    </tr>\n",
       "    <tr>\n",
       "      <th>2</th>\n",
       "      <td>Data Analyst Programming Specialist</td>\n",
       "      <td>www.indeed.com/pagead/clk?mo=r&amp;ad=-6NYlbfkN0CD...</td>\n",
       "      <td>National Indemnity Company</td>\n",
       "      <td>www.indeed.com/cmp/National-Indemnity-Company</td>\n",
       "      <td>4.1</td>\n",
       "      <td>Omaha, NE</td>\n",
       "      <td>None</td>\n",
       "      <td>False</td>\n",
       "      <td>True</td>\n",
       "      <td>1.0</td>\n",
       "      <td>3.0</td>\n",
       "    </tr>\n",
       "    <tr>\n",
       "      <th>3</th>\n",
       "      <td>Data Analyst</td>\n",
       "      <td>www.indeed.com/pagead/clk?mo=r&amp;ad=-6NYlbfkN0Bb...</td>\n",
       "      <td>Allied Stone Inc</td>\n",
       "      <td>www.indeed.com/cmp/Allied-Stone,-Inc.</td>\n",
       "      <td>2.6</td>\n",
       "      <td>Dallas, TX 75229 (Northwest Dallas area)</td>\n",
       "      <td>None</td>\n",
       "      <td>False</td>\n",
       "      <td>True</td>\n",
       "      <td>1.0</td>\n",
       "      <td>2.0</td>\n",
       "    </tr>\n",
       "    <tr>\n",
       "      <th>4</th>\n",
       "      <td>Operating Systems Analyst - Corporate Office</td>\n",
       "      <td>www.indeed.com/pagead/clk?mo=r&amp;ad=-6NYlbfkN0B1...</td>\n",
       "      <td>Lettuce Entertain You Restaurants (Chicago)</td>\n",
       "      <td>www.indeed.com/cmp/Lettuce-Entertain-You</td>\n",
       "      <td>4.0</td>\n",
       "      <td>Chicago, IL 60631 (Norwood Park area)</td>\n",
       "      <td>None</td>\n",
       "      <td>False</td>\n",
       "      <td>True</td>\n",
       "      <td>1.0</td>\n",
       "      <td>4.0</td>\n",
       "    </tr>\n",
       "  </tbody>\n",
       "</table>\n",
       "</div>"
      ],
      "text/plain": [
       "                                           job_title  \\\n",
       "0  Customer Service Data Analyst/Support Services...   \n",
       "1              Actimize Business Analyst - US Remote   \n",
       "2                Data Analyst Programming Specialist   \n",
       "3                                       Data Analyst   \n",
       "4       Operating Systems Analyst - Corporate Office   \n",
       "\n",
       "                                            job_link  \\\n",
       "0  www.indeed.com/pagead/clk?mo=r&ad=-6NYlbfkN0CK...   \n",
       "1  www.indeed.com/pagead/clk?mo=r&ad=-6NYlbfkN0CM...   \n",
       "2  www.indeed.com/pagead/clk?mo=r&ad=-6NYlbfkN0CD...   \n",
       "3  www.indeed.com/pagead/clk?mo=r&ad=-6NYlbfkN0Bb...   \n",
       "4  www.indeed.com/pagead/clk?mo=r&ad=-6NYlbfkN0B1...   \n",
       "\n",
       "                                       company  \\\n",
       "0                             VSP Technologies   \n",
       "1                                    MoneyGram   \n",
       "2                   National Indemnity Company   \n",
       "3                             Allied Stone Inc   \n",
       "4  Lettuce Entertain You Restaurants (Chicago)   \n",
       "\n",
       "                                    company_link  company_rating  \\\n",
       "0            www.indeed.com/cmp/Vsp-Technologies             3.1   \n",
       "1                   www.indeed.com/cmp/Moneygram             3.7   \n",
       "2  www.indeed.com/cmp/National-Indemnity-Company             4.1   \n",
       "3          www.indeed.com/cmp/Allied-Stone,-Inc.             2.6   \n",
       "4       www.indeed.com/cmp/Lettuce-Entertain-You             4.0   \n",
       "\n",
       "                                   location  \\\n",
       "0                   Prince George, VA 23875   \n",
       "1                Remote in Dallas, TX 75206   \n",
       "2                                 Omaha, NE   \n",
       "3  Dallas, TX 75229 (Northwest Dallas area)   \n",
       "4     Chicago, IL 60631 (Norwood Park area)   \n",
       "\n",
       "                                    salary  is_remote  is_ad  status_id  \\\n",
       "0                                     None      False   True        1.0   \n",
       "1  $90,000 - $107,000 a year Employer est.       True   True        1.0   \n",
       "2                                     None      False   True        1.0   \n",
       "3                                     None      False   True        1.0   \n",
       "4                                     None      False   True        1.0   \n",
       "\n",
       "   state_id  \n",
       "0       1.0  \n",
       "1       2.0  \n",
       "2       3.0  \n",
       "3       2.0  \n",
       "4       4.0  "
      ]
     },
     "execution_count": 43,
     "metadata": {},
     "output_type": "execute_result"
    }
   ],
   "source": [
    "state2 = pd.read_sql(\"select id as state_id, state from state\", engine)\n",
    "df = pd.merge(df, state2, on = \"state\", how =\"left\")\n",
    "df.drop(\"state\", axis=1, inplace=True)\n",
    "df.head()"
   ]
  },
  {
   "cell_type": "code",
   "execution_count": 44,
   "id": "d016635f",
   "metadata": {},
   "outputs": [
    {
     "data": {
      "text/html": [
       "<div>\n",
       "<style scoped>\n",
       "    .dataframe tbody tr th:only-of-type {\n",
       "        vertical-align: middle;\n",
       "    }\n",
       "\n",
       "    .dataframe tbody tr th {\n",
       "        vertical-align: top;\n",
       "    }\n",
       "\n",
       "    .dataframe thead th {\n",
       "        text-align: right;\n",
       "    }\n",
       "</style>\n",
       "<table border=\"1\" class=\"dataframe\">\n",
       "  <thead>\n",
       "    <tr style=\"text-align: right;\">\n",
       "      <th></th>\n",
       "      <th>job_title</th>\n",
       "      <th>job_link</th>\n",
       "      <th>location</th>\n",
       "      <th>salary</th>\n",
       "      <th>is_remote</th>\n",
       "      <th>is_ad</th>\n",
       "      <th>status_id</th>\n",
       "      <th>state_id</th>\n",
       "      <th>company_id</th>\n",
       "    </tr>\n",
       "  </thead>\n",
       "  <tbody>\n",
       "    <tr>\n",
       "      <th>0</th>\n",
       "      <td>Customer Service Data Analyst/Support Services...</td>\n",
       "      <td>www.indeed.com/pagead/clk?mo=r&amp;ad=-6NYlbfkN0CK...</td>\n",
       "      <td>Prince George, VA 23875</td>\n",
       "      <td>None</td>\n",
       "      <td>False</td>\n",
       "      <td>True</td>\n",
       "      <td>1.0</td>\n",
       "      <td>1.0</td>\n",
       "      <td>1.0</td>\n",
       "    </tr>\n",
       "    <tr>\n",
       "      <th>1</th>\n",
       "      <td>Actimize Business Analyst - US Remote</td>\n",
       "      <td>www.indeed.com/pagead/clk?mo=r&amp;ad=-6NYlbfkN0CM...</td>\n",
       "      <td>Remote in Dallas, TX 75206</td>\n",
       "      <td>$90,000 - $107,000 a year Employer est.</td>\n",
       "      <td>True</td>\n",
       "      <td>True</td>\n",
       "      <td>1.0</td>\n",
       "      <td>2.0</td>\n",
       "      <td>2.0</td>\n",
       "    </tr>\n",
       "    <tr>\n",
       "      <th>2</th>\n",
       "      <td>Data Analyst Programming Specialist</td>\n",
       "      <td>www.indeed.com/pagead/clk?mo=r&amp;ad=-6NYlbfkN0CD...</td>\n",
       "      <td>Omaha, NE</td>\n",
       "      <td>None</td>\n",
       "      <td>False</td>\n",
       "      <td>True</td>\n",
       "      <td>1.0</td>\n",
       "      <td>3.0</td>\n",
       "      <td>3.0</td>\n",
       "    </tr>\n",
       "    <tr>\n",
       "      <th>3</th>\n",
       "      <td>Data Analyst</td>\n",
       "      <td>www.indeed.com/pagead/clk?mo=r&amp;ad=-6NYlbfkN0Bb...</td>\n",
       "      <td>Dallas, TX 75229 (Northwest Dallas area)</td>\n",
       "      <td>None</td>\n",
       "      <td>False</td>\n",
       "      <td>True</td>\n",
       "      <td>1.0</td>\n",
       "      <td>2.0</td>\n",
       "      <td>4.0</td>\n",
       "    </tr>\n",
       "    <tr>\n",
       "      <th>4</th>\n",
       "      <td>Operating Systems Analyst - Corporate Office</td>\n",
       "      <td>www.indeed.com/pagead/clk?mo=r&amp;ad=-6NYlbfkN0B1...</td>\n",
       "      <td>Chicago, IL 60631 (Norwood Park area)</td>\n",
       "      <td>None</td>\n",
       "      <td>False</td>\n",
       "      <td>True</td>\n",
       "      <td>1.0</td>\n",
       "      <td>4.0</td>\n",
       "      <td>5.0</td>\n",
       "    </tr>\n",
       "  </tbody>\n",
       "</table>\n",
       "</div>"
      ],
      "text/plain": [
       "                                           job_title  \\\n",
       "0  Customer Service Data Analyst/Support Services...   \n",
       "1              Actimize Business Analyst - US Remote   \n",
       "2                Data Analyst Programming Specialist   \n",
       "3                                       Data Analyst   \n",
       "4       Operating Systems Analyst - Corporate Office   \n",
       "\n",
       "                                            job_link  \\\n",
       "0  www.indeed.com/pagead/clk?mo=r&ad=-6NYlbfkN0CK...   \n",
       "1  www.indeed.com/pagead/clk?mo=r&ad=-6NYlbfkN0CM...   \n",
       "2  www.indeed.com/pagead/clk?mo=r&ad=-6NYlbfkN0CD...   \n",
       "3  www.indeed.com/pagead/clk?mo=r&ad=-6NYlbfkN0Bb...   \n",
       "4  www.indeed.com/pagead/clk?mo=r&ad=-6NYlbfkN0B1...   \n",
       "\n",
       "                                   location  \\\n",
       "0                   Prince George, VA 23875   \n",
       "1                Remote in Dallas, TX 75206   \n",
       "2                                 Omaha, NE   \n",
       "3  Dallas, TX 75229 (Northwest Dallas area)   \n",
       "4     Chicago, IL 60631 (Norwood Park area)   \n",
       "\n",
       "                                    salary  is_remote  is_ad  status_id  \\\n",
       "0                                     None      False   True        1.0   \n",
       "1  $90,000 - $107,000 a year Employer est.       True   True        1.0   \n",
       "2                                     None      False   True        1.0   \n",
       "3                                     None      False   True        1.0   \n",
       "4                                     None      False   True        1.0   \n",
       "\n",
       "   state_id  company_id  \n",
       "0       1.0         1.0  \n",
       "1       2.0         2.0  \n",
       "2       3.0         3.0  \n",
       "3       2.0         4.0  \n",
       "4       4.0         5.0  "
      ]
     },
     "execution_count": 44,
     "metadata": {},
     "output_type": "execute_result"
    }
   ],
   "source": [
    "company2 = pd.read_sql(\"select id as company_id, company from company\", engine)\n",
    "df = pd.merge(df, company2, on = \"company\", how =\"left\")\n",
    "df.drop([\"company\", \"company_link\", \"company_rating\"], axis=1, inplace=True)\n",
    "df.head()"
   ]
  },
  {
   "cell_type": "code",
   "execution_count": 48,
   "id": "063e74a7",
   "metadata": {},
   "outputs": [],
   "source": [
    "#Database\n",
    "df.to_sql(\"job\", engine, method=\"multi\", if_exists = \"append\", index=False)"
   ]
  },
  {
   "cell_type": "code",
   "execution_count": null,
   "id": "56e88978",
   "metadata": {},
   "outputs": [],
   "source": []
  },
  {
   "cell_type": "code",
   "execution_count": null,
   "id": "bc83a515",
   "metadata": {},
   "outputs": [],
   "source": []
  },
  {
   "cell_type": "markdown",
   "id": "57f994d0",
   "metadata": {},
   "source": [
    "Code we used as tests and attempts"
   ]
  },
  {
   "cell_type": "code",
   "execution_count": null,
   "id": "505055f7",
   "metadata": {},
   "outputs": [],
   "source": [
    "#Don't worry about it\n",
    "# def getCity(loc):\n",
    "#     if \",\" in loc:\n",
    "#         city_list = loc.replace(\"\\xa0\", \" \").split(\",\")[0].strip().split(\" \")\n",
    "#         city = city_list[0] if len(city_list) ==1 else city_list[1]\n",
    "#     else:\n",
    "#         city = None\n",
    "        \n",
    "#     return(city)"
   ]
  },
  {
   "cell_type": "code",
   "execution_count": null,
   "id": "7443f04c",
   "metadata": {},
   "outputs": [],
   "source": [
    "# df[\"city\"] = df.location.apply(lambda x: getCity(x))\n",
    "# df.info()"
   ]
  },
  {
   "cell_type": "code",
   "execution_count": null,
   "id": "44df1f8f",
   "metadata": {},
   "outputs": [],
   "source": [
    "# df.city.value_counts()"
   ]
  },
  {
   "cell_type": "code",
   "execution_count": null,
   "id": "aea10d17",
   "metadata": {},
   "outputs": [],
   "source": [
    "# df.loc[df.location.str.contains(\"in\")]"
   ]
  },
  {
   "cell_type": "code",
   "execution_count": null,
   "id": "6f443067",
   "metadata": {},
   "outputs": [],
   "source": [
    "#Create a CSV for companies \n",
    "#companies.to_csv('companies.csv', index=False)"
   ]
  },
  {
   "cell_type": "code",
   "execution_count": null,
   "id": "01c3e69c",
   "metadata": {},
   "outputs": [],
   "source": [
    "#companies_file = pd.read_csv('companies.csv')\n",
    "#companies_file"
   ]
  },
  {
   "cell_type": "code",
   "execution_count": null,
   "id": "75f0fa7c",
   "metadata": {},
   "outputs": [],
   "source": [
    "#Create a CSV for States\n",
    "#state_df.to_csv('state.csv', index=False)"
   ]
  },
  {
   "cell_type": "code",
   "execution_count": null,
   "id": "d6f424df",
   "metadata": {},
   "outputs": [],
   "source": [
    "#state_file = pd.read_csv('state.csv')\n",
    "#state_file"
   ]
  },
  {
   "cell_type": "code",
   "execution_count": null,
   "id": "3a281f5b",
   "metadata": {},
   "outputs": [],
   "source": [
    "#Create a CSV for status (Full-time/part-time)\n",
    "#status_df.to_csv('status.csv', index=False)"
   ]
  },
  {
   "cell_type": "code",
   "execution_count": null,
   "id": "9b87a38f",
   "metadata": {},
   "outputs": [],
   "source": [
    "#status_file = pd.read_csv('status.csv')\n",
    "#status_file"
   ]
  },
  {
   "cell_type": "code",
   "execution_count": null,
   "id": "5496bdd9",
   "metadata": {},
   "outputs": [],
   "source": []
  },
  {
   "cell_type": "code",
   "execution_count": null,
   "id": "e75efe6b",
   "metadata": {},
   "outputs": [],
   "source": [
    "#Set-up sleep function if needed\n",
    "# browser.visit(dice_lyst)\n",
    "# time.sleep(2)"
   ]
  }
 ],
 "metadata": {
  "kernelspec": {
   "display_name": "Python 3 (ipykernel)",
   "language": "python",
   "name": "python3"
  },
  "language_info": {
   "codemirror_mode": {
    "name": "ipython",
    "version": 3
   },
   "file_extension": ".py",
   "mimetype": "text/x-python",
   "name": "python",
   "nbconvert_exporter": "python",
   "pygments_lexer": "ipython3",
   "version": "3.9.12"
  }
 },
 "nbformat": 4,
 "nbformat_minor": 5
}
