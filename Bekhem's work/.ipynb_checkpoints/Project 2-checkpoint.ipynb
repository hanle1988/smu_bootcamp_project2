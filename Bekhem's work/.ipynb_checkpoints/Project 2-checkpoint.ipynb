{
 "cells": [
  {
   "cell_type": "code",
   "execution_count": 1,
   "id": "1afd765b",
   "metadata": {},
   "outputs": [],
   "source": [
    "from splinter import Browser\n",
    "from bs4 import BeautifulSoup\n",
    "from webdriver_manager.chrome import ChromeDriverManager\n",
    "import pandas as pd\n",
    "import requests\n",
    "import time\n",
    "from sqlalchemy import inspect, create_engine\n",
    "import matplotlib.pyplot as plt\n",
    "import numpy as np"
   ]
  },
  {
   "cell_type": "code",
   "execution_count": 2,
   "id": "20978fe3",
   "metadata": {},
   "outputs": [
    {
     "name": "stderr",
     "output_type": "stream",
     "text": [
      "[WDM] - Downloading: 100%|████████████████████████████████████████████████████████| 6.58M/6.58M [00:00<00:00, 19.2MB/s]\n"
     ]
    }
   ],
   "source": [
    "#Setup splinter\n",
    "executable_path = {'executable_path': ChromeDriverManager().install()}\n",
    "browser = Browser('chrome', **executable_path, headless=False)"
   ]
  },
  {
   "cell_type": "code",
   "execution_count": null,
   "id": "392a835a",
   "metadata": {},
   "outputs": [],
   "source": [
    "# HOSTNAME = \"localhost\"\n",
    "# PORT = 5432\n",
    "# DATABASE = \"diapers_db\"\n",
    "# USERNAME = \"postgres\"\n",
    "# PASSWORD = \"password\"\n",
    "# path = f'postgresql+psycopg2://{USERNAME}:{PASSWORD}@{HOSTNAME}:{PORT}/{DATABASE}'\n",
    "# engine = create_engine(path)"
   ]
  },
  {
   "cell_type": "code",
   "execution_count": null,
   "id": "a874dcd9",
   "metadata": {},
   "outputs": [],
   "source": [
    "# conn = engine.connect()"
   ]
  },
  {
   "cell_type": "code",
   "execution_count": 4,
   "id": "f43ee070",
   "metadata": {},
   "outputs": [],
   "source": [
    "#Three websites searching Data Analyst positions\n",
    "#dice = \"https://www.dice.com/jobs?q=data%20analyst&countryCode=US&radius=30&radiusUnit=mi&page=1&pageSize=20&language=en&eid=S2Q_,bw_0\"\n",
    "indeed = \"https://www.indeed.com/jobs?q=data+analyst\"\n",
    "#glass_lyst = \"https://www.glassdoor.com/Job/data-analyst-jobs-SRCH_KO0,12.htm?suggestCount=0&suggestChosen=false&clickSource=searchBtn&typedKeyword=data%2520analyst\"\n",
    "\n",
    "\n",
    "browser.visit(indeed)\n",
    "\n"
   ]
  },
  {
   "cell_type": "code",
   "execution_count": 5,
   "id": "585bae38",
   "metadata": {},
   "outputs": [
    {
     "data": {
      "text/plain": [
       "'<html dir=\"ltr\" lang=\"en\" class=\"js-focus-visible\" data-js-focus-visible=\"\"><head>\\n    <link rel=\"shortcut icon\" href=\"/images/favicon.ico\">\\n    <title>Data Analyst Jobs, Employment | Indeed.com</title>\\n    <meta http-equiv=\"content-type\" content=\"text/html; charset=utf-8\">\\n    <meta name=\"description\" content=\"28,371 Data Analyst jobs available on Indeed.com. Apply to Data Analyst, Entry Level Data Analyst, Senior Data Analyst and more!\">\\n    <meta name=\"keywords\" content=\"Data Analyst Jobs, Em'"
      ]
     },
     "execution_count": 5,
     "metadata": {},
     "output_type": "execute_result"
    }
   ],
   "source": [
    "html = browser.html\n",
    "html[0:500]"
   ]
  },
  {
   "cell_type": "code",
   "execution_count": 6,
   "id": "36617ffd",
   "metadata": {},
   "outputs": [],
   "source": [
    "soup = BeautifulSoup(browser.html, \"html.parser\")\n",
    "#print(soup.prettify())"
   ]
  },
  {
   "cell_type": "code",
   "execution_count": 19,
   "id": "4cddb98a",
   "metadata": {},
   "outputs": [
    {
     "data": {
      "text/plain": [
       "bs4.BeautifulSoup"
      ]
     },
     "execution_count": 19,
     "metadata": {},
     "output_type": "execute_result"
    }
   ],
   "source": [
    "soup= BeautifulSoup(browser.html, 'lxml')\n",
    "type(soup)"
   ]
  },
  {
   "cell_type": "code",
   "execution_count": 8,
   "id": "44b1b46f",
   "metadata": {},
   "outputs": [
    {
     "data": {
      "text/plain": [
       "15"
      ]
     },
     "execution_count": 8,
     "metadata": {},
     "output_type": "execute_result"
    }
   ],
   "source": [
    "#Find code to loop through web page and pull the title of the job and possibly the location, then find code to click the job and acquire the salary.\n",
    "jobs = soup.find_all('div', {'class': 'cardOutline'})\n",
    "len(jobs)\n"
   ]
  },
  {
   "cell_type": "code",
   "execution_count": 13,
   "id": "e9f27e82",
   "metadata": {},
   "outputs": [
    {
     "data": {
      "text/plain": [
       "'www.indeed.com/pagead/clk?mo=r&ad=-6NYlbfkN0Btxs39KmTzjw_u_hUXcyTcLpNeUj18C2Nw5A7DCW0FWEaocruVgz_JdyOkwRWkR1-6FDpKBan7Rwj_OkizRiqsRTb19epOF0Ps6jRYB0UEQg6rHaG4lZL6vq092dq27Ot5j-27VST4fuO4TQH6NaYdwCUrThawGouccUkdZNwWbMVHGycw9-7D-xYwgaT0PUxjs4xFPpQidLy33dIXrV9LPsBJ1NaPvQ88nT2pfQQh-6JvUK4UtSfQysIAhB79r6uullea4KitKQqUCTjunppWNIwJDvcH-nFSwSUK2hyfSc3xsvhkbxtjKlAPr5gB1Lv_0a-Pm7zINHIC1Wr_-eeKQmUcPbrVfHZ1e431tPJfP8dx1s2w9WMESAVlfNcjqE6ByxLXDvRKiie-GmdN7tt86rLjpHNaiEdREeckkbojD9bwYgbHEJTFb9l5Sg6v7JZlswZ5_3t3JDZk8UE7pId9p2FlFGm3xWyNhDSrQvYoHoSfZbigf3d2fqqxB-sp_QCJDC4b9HJKuni_reqpJrIys8cVyiBjinIgY5QzKrRcnWWY7Wy3bybptI3X0ErrOCHuxwA2zry4zE5gZRH63aM1pV5vLqjTBecI02d0NTXlnNLf2XT0HBVcPVnfx_BCTiJbyAeXlXWGemrAYKX1OWz7zqdaz8LGxnF4-6S-ZYEc68iCkGaB5vn1JfHisTDXUd1b_EGKegnWZ9Upkuau_EFxj0ZCyvhtMuDRTbDMHXqBKIfOwz7tZqvf&xkcb=SoAd-_M3VWrRa0AINb0LbzkdCdPP&p=0&fvj=0&vjs=3'"
      ]
     },
     "execution_count": 13,
     "metadata": {},
     "output_type": "execute_result"
    }
   ],
   "source": [
    "#\n",
    "job = jobs[0]\n",
    "title = job.find('a', {\"class\": 'jcs-JobTitle'}).text\n",
    "link = \"www.indeed.com\" + job.find('a', {\"class\": 'jcs-JobTitle'})[\"href\"]\n"
   ]
  },
  {
   "cell_type": "code",
   "execution_count": 14,
   "id": "39b2bba7",
   "metadata": {},
   "outputs": [],
   "source": [
    "company = job.find('a', {\"class\": 'companyOverviewLink'}).text\n",
    "company_link = \"www.indeed.com\" + job.find('a', {\"class\": 'companyOverviewLink'})[\"href\"]"
   ]
  },
  {
   "cell_type": "code",
   "execution_count": 17,
   "id": "08c1614a",
   "metadata": {},
   "outputs": [
    {
     "data": {
      "text/plain": [
       "'2.9'"
      ]
     },
     "execution_count": 17,
     "metadata": {},
     "output_type": "execute_result"
    }
   ],
   "source": [
    "rating = job.find('span', {\"class\": 'ratingNumber'}).text\n",
    "rating"
   ]
  },
  {
   "cell_type": "code",
   "execution_count": 18,
   "id": "300e71f2",
   "metadata": {},
   "outputs": [
    {
     "data": {
      "text/plain": [
       "'Plano, TX 75074'"
      ]
     },
     "execution_count": 18,
     "metadata": {},
     "output_type": "execute_result"
    }
   ],
   "source": [
    "loc = job.find('div', {\"class\": 'companyLocation'}).text\n",
    "loc"
   ]
  },
  {
   "cell_type": "code",
   "execution_count": 19,
   "id": "1418037e",
   "metadata": {},
   "outputs": [
    {
     "data": {
      "text/plain": [
       "'$116,800 a year'"
      ]
     },
     "execution_count": 19,
     "metadata": {},
     "output_type": "execute_result"
    }
   ],
   "source": [
    "salary = job.find('div', {\"class\": 'salary-snippet-container'}).text\n",
    "salary"
   ]
  },
  {
   "cell_type": "code",
   "execution_count": 22,
   "id": "0407f658",
   "metadata": {},
   "outputs": [
    {
     "data": {
      "text/plain": [
       "'Full-time'"
      ]
     },
     "execution_count": 22,
     "metadata": {},
     "output_type": "execute_result"
    }
   ],
   "source": [
    "job.find('svg', {\"aria-label\": \"Job type\"}).parent.text"
   ]
  },
  {
   "cell_type": "code",
   "execution_count": 40,
   "id": "80f88390",
   "metadata": {},
   "outputs": [
    {
     "data": {
      "text/html": [
       "<div>\n",
       "<style scoped>\n",
       "    .dataframe tbody tr th:only-of-type {\n",
       "        vertical-align: middle;\n",
       "    }\n",
       "\n",
       "    .dataframe tbody tr th {\n",
       "        vertical-align: top;\n",
       "    }\n",
       "\n",
       "    .dataframe thead th {\n",
       "        text-align: right;\n",
       "    }\n",
       "</style>\n",
       "<table border=\"1\" class=\"dataframe\">\n",
       "  <thead>\n",
       "    <tr style=\"text-align: right;\">\n",
       "      <th></th>\n",
       "      <th>job_title</th>\n",
       "      <th>job_link</th>\n",
       "      <th>company</th>\n",
       "      <th>company_link</th>\n",
       "      <th>company_rating</th>\n",
       "      <th>location</th>\n",
       "      <th>salary</th>\n",
       "      <th>status</th>\n",
       "    </tr>\n",
       "  </thead>\n",
       "  <tbody>\n",
       "    <tr>\n",
       "      <th>0</th>\n",
       "      <td>IT Business Analyst III Virtual Hiring Event</td>\n",
       "      <td>www.indeed.com/pagead/clk?mo=r&amp;ad=-6NYlbfkN0Bt...</td>\n",
       "      <td>Inogen, Inc.</td>\n",
       "      <td>www.indeed.com/cmp/Inogen</td>\n",
       "      <td>2.9</td>\n",
       "      <td>Plano, TX 75074</td>\n",
       "      <td>$116,800 a year</td>\n",
       "      <td>Full-time</td>\n",
       "    </tr>\n",
       "    <tr>\n",
       "      <th>1</th>\n",
       "      <td>Board Certified Behavior Analyst (BCBA)</td>\n",
       "      <td>www.indeed.com/pagead/clk?mo=r&amp;ad=-6NYlbfkN0A6...</td>\n",
       "      <td>Club Z! Tutoring</td>\n",
       "      <td>www.indeed.com/cmp/Club-Z!-In--home-Tutoring-S...</td>\n",
       "      <td>4.3</td>\n",
       "      <td>Sarasota, FL</td>\n",
       "      <td>$65,000 - $85,000 a year</td>\n",
       "      <td>Full-time</td>\n",
       "    </tr>\n",
       "    <tr>\n",
       "      <th>2</th>\n",
       "      <td>IT Business Analyst</td>\n",
       "      <td>www.indeed.com/pagead/clk?mo=r&amp;ad=-6NYlbfkN0A1...</td>\n",
       "      <td>Vital Services</td>\n",
       "      <td>www.indeed.com/cmp/Vital-Services</td>\n",
       "      <td>4.1</td>\n",
       "      <td>Richardson, TX 75080</td>\n",
       "      <td>$66,000 - $88,000 a year</td>\n",
       "      <td>Full-time</td>\n",
       "    </tr>\n",
       "    <tr>\n",
       "      <th>3</th>\n",
       "      <td>Business Analyst</td>\n",
       "      <td>www.indeed.com/rc/clk?jk=d8cd96e907b342d2&amp;fcci...</td>\n",
       "      <td>City of Plano, Texas</td>\n",
       "      <td>www.indeed.com/cmp/City-of-Plano,-Texas-1</td>\n",
       "      <td>4.0</td>\n",
       "      <td>Plano, TX</td>\n",
       "      <td>$41.60 an hour</td>\n",
       "      <td>Full-time</td>\n",
       "    </tr>\n",
       "    <tr>\n",
       "      <th>4</th>\n",
       "      <td>Data Analyst Programming Specialist</td>\n",
       "      <td>www.indeed.com/pagead/clk?mo=r&amp;ad=-6NYlbfkN0CD...</td>\n",
       "      <td>National Indemnity Company</td>\n",
       "      <td>www.indeed.com/cmp/National-Indemnity-Company</td>\n",
       "      <td>4.1</td>\n",
       "      <td>Omaha, NE</td>\n",
       "      <td>None</td>\n",
       "      <td>Full-time</td>\n",
       "    </tr>\n",
       "  </tbody>\n",
       "</table>\n",
       "</div>"
      ],
      "text/plain": [
       "                                      job_title  \\\n",
       "0  IT Business Analyst III Virtual Hiring Event   \n",
       "1       Board Certified Behavior Analyst (BCBA)   \n",
       "2                           IT Business Analyst   \n",
       "3                              Business Analyst   \n",
       "4           Data Analyst Programming Specialist   \n",
       "\n",
       "                                            job_link  \\\n",
       "0  www.indeed.com/pagead/clk?mo=r&ad=-6NYlbfkN0Bt...   \n",
       "1  www.indeed.com/pagead/clk?mo=r&ad=-6NYlbfkN0A6...   \n",
       "2  www.indeed.com/pagead/clk?mo=r&ad=-6NYlbfkN0A1...   \n",
       "3  www.indeed.com/rc/clk?jk=d8cd96e907b342d2&fcci...   \n",
       "4  www.indeed.com/pagead/clk?mo=r&ad=-6NYlbfkN0CD...   \n",
       "\n",
       "                      company  \\\n",
       "0                Inogen, Inc.   \n",
       "1            Club Z! Tutoring   \n",
       "2              Vital Services   \n",
       "3        City of Plano, Texas   \n",
       "4  National Indemnity Company   \n",
       "\n",
       "                                        company_link company_rating  \\\n",
       "0                          www.indeed.com/cmp/Inogen            2.9   \n",
       "1  www.indeed.com/cmp/Club-Z!-In--home-Tutoring-S...            4.3   \n",
       "2                  www.indeed.com/cmp/Vital-Services            4.1   \n",
       "3          www.indeed.com/cmp/City-of-Plano,-Texas-1            4.0   \n",
       "4      www.indeed.com/cmp/National-Indemnity-Company            4.1   \n",
       "\n",
       "               location                    salary     status  \n",
       "0       Plano, TX 75074           $116,800 a year  Full-time  \n",
       "1          Sarasota, FL  $65,000 - $85,000 a year  Full-time  \n",
       "2  Richardson, TX 75080  $66,000 - $88,000 a year  Full-time  \n",
       "3             Plano, TX            $41.60 an hour  Full-time  \n",
       "4             Omaha, NE                      None  Full-time  "
      ]
     },
     "execution_count": 40,
     "metadata": {},
     "output_type": "execute_result"
    }
   ],
   "source": [
    "#\n",
    "rows = []\n",
    "browser.visit(indeed)\n",
    "for i in range(1, 15):\n",
    "    \n",
    "    html = browser.html\n",
    "    soup = BeautifulSoup(browser.html, \"html.parser\")\n",
    "    jobs = soup.find_all('div', {'class': 'cardOutline'})\n",
    "    \n",
    "    \n",
    "    for job in jobs:\n",
    "        title = job.find('a', {\"class\": 'jcs-JobTitle'}).text\n",
    "        link = \"www.indeed.com\" + job.find('a', {\"class\": 'jcs-JobTitle'})[\"href\"]\n",
    "\n",
    "        company_name = job.find('span', {'class': 'companyName'})\n",
    "        if company_name: \n",
    "            company = company_name.text\n",
    "        else:\n",
    "            company = None\n",
    "        \n",
    "        company_con = job.find('a', {\"class\": 'companyOverviewLink'})\n",
    "        if company_con: \n",
    "            company_link = \"www.indeed.com\" + company_con[\"href\"]\n",
    "        else:\n",
    "            company_link = None\n",
    "\n",
    "        rating_con = job.find('span', {\"class\": 'ratingNumber'})\n",
    "        if rating_con: \n",
    "            rating = rating_con.text\n",
    "        else:\n",
    "            rating = None\n",
    "\n",
    "\n",
    "        loc = job.find('div', {\"class\": 'companyLocation'}).text\n",
    "\n",
    "        salary_con = job.find('div', {\"class\": 'salary-snippet-container'})\n",
    "        if salary_con: \n",
    "            salary = salary_con.text\n",
    "        else:\n",
    "            salary = None\n",
    "\n",
    "\n",
    "        status_con = job.find('svg', {\"aria-label\": \"Job type\"})\n",
    "        if status_con:\n",
    "            status = status_con.parent.text\n",
    "        else:\n",
    "            status = None\n",
    "\n",
    "        data = {}\n",
    "        data[\"job_title\"] = title\n",
    "        data[\"job_link\"] = link\n",
    "        data[\"company\"] = company\n",
    "        data[\"company_link\"] = company_link\n",
    "        data[\"company_rating\"] = rating\n",
    "        data[\"location\"] = loc\n",
    "        data[\"salary\"] = salary\n",
    "        data[\"status\"] = status\n",
    "        rows.append(data)\n",
    "    \n",
    "    browser.links.find_by_text(f\"{i+1}\").click()\n",
    "        \n",
    "df = pd.DataFrame(rows)\n",
    "df.head()"
   ]
  },
  {
   "cell_type": "code",
   "execution_count": 41,
   "id": "8da905f9",
   "metadata": {},
   "outputs": [
    {
     "data": {
      "text/plain": [
       "210"
      ]
     },
     "execution_count": 41,
     "metadata": {},
     "output_type": "execute_result"
    }
   ],
   "source": [
    "len(df)"
   ]
  },
  {
   "cell_type": "code",
   "execution_count": 28,
   "id": "96eaf7e7",
   "metadata": {},
   "outputs": [],
   "source": [
    "browser.links.find_by_text(\"2\").click()"
   ]
  },
  {
   "cell_type": "code",
   "execution_count": 32,
   "id": "3cfa23aa",
   "metadata": {},
   "outputs": [
    {
     "data": {
      "text/plain": [
       "210"
      ]
     },
     "execution_count": 32,
     "metadata": {},
     "output_type": "execute_result"
    }
   ],
   "source": [
    "len(df)"
   ]
  },
  {
   "cell_type": "code",
   "execution_count": 42,
   "id": "7ee3edba",
   "metadata": {},
   "outputs": [
    {
     "data": {
      "text/html": [
       "<div>\n",
       "<style scoped>\n",
       "    .dataframe tbody tr th:only-of-type {\n",
       "        vertical-align: middle;\n",
       "    }\n",
       "\n",
       "    .dataframe tbody tr th {\n",
       "        vertical-align: top;\n",
       "    }\n",
       "\n",
       "    .dataframe thead th {\n",
       "        text-align: right;\n",
       "    }\n",
       "</style>\n",
       "<table border=\"1\" class=\"dataframe\">\n",
       "  <thead>\n",
       "    <tr style=\"text-align: right;\">\n",
       "      <th></th>\n",
       "      <th>job_title</th>\n",
       "      <th>job_link</th>\n",
       "      <th>company</th>\n",
       "      <th>company_link</th>\n",
       "      <th>company_rating</th>\n",
       "      <th>location</th>\n",
       "      <th>salary</th>\n",
       "      <th>status</th>\n",
       "    </tr>\n",
       "  </thead>\n",
       "  <tbody>\n",
       "    <tr>\n",
       "      <th>0</th>\n",
       "      <td>IT Business Analyst III Virtual Hiring Event</td>\n",
       "      <td>www.indeed.com/pagead/clk?mo=r&amp;ad=-6NYlbfkN0Bt...</td>\n",
       "      <td>Inogen, Inc.</td>\n",
       "      <td>www.indeed.com/cmp/Inogen</td>\n",
       "      <td>2.9</td>\n",
       "      <td>Plano, TX 75074</td>\n",
       "      <td>$116,800 a year</td>\n",
       "      <td>Full-time</td>\n",
       "    </tr>\n",
       "    <tr>\n",
       "      <th>1</th>\n",
       "      <td>Board Certified Behavior Analyst (BCBA)</td>\n",
       "      <td>www.indeed.com/pagead/clk?mo=r&amp;ad=-6NYlbfkN0A6...</td>\n",
       "      <td>Club Z! Tutoring</td>\n",
       "      <td>www.indeed.com/cmp/Club-Z!-In--home-Tutoring-S...</td>\n",
       "      <td>4.3</td>\n",
       "      <td>Sarasota, FL</td>\n",
       "      <td>$65,000 - $85,000 a year</td>\n",
       "      <td>Full-time</td>\n",
       "    </tr>\n",
       "    <tr>\n",
       "      <th>2</th>\n",
       "      <td>IT Business Analyst</td>\n",
       "      <td>www.indeed.com/pagead/clk?mo=r&amp;ad=-6NYlbfkN0A1...</td>\n",
       "      <td>Vital Services</td>\n",
       "      <td>www.indeed.com/cmp/Vital-Services</td>\n",
       "      <td>4.1</td>\n",
       "      <td>Richardson, TX 75080</td>\n",
       "      <td>$66,000 - $88,000 a year</td>\n",
       "      <td>Full-time</td>\n",
       "    </tr>\n",
       "    <tr>\n",
       "      <th>3</th>\n",
       "      <td>Business Analyst</td>\n",
       "      <td>www.indeed.com/rc/clk?jk=d8cd96e907b342d2&amp;fcci...</td>\n",
       "      <td>City of Plano, Texas</td>\n",
       "      <td>www.indeed.com/cmp/City-of-Plano,-Texas-1</td>\n",
       "      <td>4.0</td>\n",
       "      <td>Plano, TX</td>\n",
       "      <td>$41.60 an hour</td>\n",
       "      <td>Full-time</td>\n",
       "    </tr>\n",
       "    <tr>\n",
       "      <th>4</th>\n",
       "      <td>Data Analyst Programming Specialist</td>\n",
       "      <td>www.indeed.com/pagead/clk?mo=r&amp;ad=-6NYlbfkN0CD...</td>\n",
       "      <td>National Indemnity Company</td>\n",
       "      <td>www.indeed.com/cmp/National-Indemnity-Company</td>\n",
       "      <td>4.1</td>\n",
       "      <td>Omaha, NE</td>\n",
       "      <td>None</td>\n",
       "      <td>Full-time</td>\n",
       "    </tr>\n",
       "    <tr>\n",
       "      <th>5</th>\n",
       "      <td>Data Analyst II</td>\n",
       "      <td>www.indeed.com/pagead/clk?mo=r&amp;ad=-6NYlbfkN0CR...</td>\n",
       "      <td>Superior HealthPlan</td>\n",
       "      <td>www.indeed.com/cmp/Centene</td>\n",
       "      <td>3.2</td>\n",
       "      <td>Remote in Texas</td>\n",
       "      <td>None</td>\n",
       "      <td>None</td>\n",
       "    </tr>\n",
       "    <tr>\n",
       "      <th>6</th>\n",
       "      <td>Data Analyst</td>\n",
       "      <td>www.indeed.com/rc/clk?jk=45fb1e57894adc6d&amp;fcci...</td>\n",
       "      <td>Disney</td>\n",
       "      <td>www.indeed.com/cmp/The-Walt-Disney-Company</td>\n",
       "      <td>4.1</td>\n",
       "      <td>Remote in Santa Monica, CA 90401</td>\n",
       "      <td>$87,900 - $137,300 a year</td>\n",
       "      <td>None</td>\n",
       "    </tr>\n",
       "    <tr>\n",
       "      <th>7</th>\n",
       "      <td>Enterprise Data Analyst Junior</td>\n",
       "      <td>www.indeed.com/pagead/clk?mo=r&amp;ad=-6NYlbfkN0A_...</td>\n",
       "      <td>GENERIS TEK STAFFING PRIVATE LIMITED</td>\n",
       "      <td>None</td>\n",
       "      <td>None</td>\n",
       "      <td>Denver, CO 80204 (Sun Valley area)</td>\n",
       "      <td>$62 - $100 an hour</td>\n",
       "      <td>Contract</td>\n",
       "    </tr>\n",
       "    <tr>\n",
       "      <th>8</th>\n",
       "      <td>Program Analyst</td>\n",
       "      <td>www.indeed.com/rc/clk?jk=63865d3dee1a1675&amp;fcci...</td>\n",
       "      <td>US Centers for Medicare &amp; Medicaid Services</td>\n",
       "      <td>www.indeed.com/cmp/Centers-For-Medicare-and-Me...</td>\n",
       "      <td>4.0</td>\n",
       "      <td>Remote in Wallops Island, VA</td>\n",
       "      <td>$81,216 - $105,579 a year</td>\n",
       "      <td>Full-time +1</td>\n",
       "    </tr>\n",
       "    <tr>\n",
       "      <th>9</th>\n",
       "      <td>Lead IT Business Analyst – Power &amp; Natural Gas</td>\n",
       "      <td>www.indeed.com/pagead/clk?mo=r&amp;ad=-6NYlbfkN0C5...</td>\n",
       "      <td>Trafigura</td>\n",
       "      <td>www.indeed.com/cmp/Trafigura</td>\n",
       "      <td>3.7</td>\n",
       "      <td>Houston, TX</td>\n",
       "      <td>None</td>\n",
       "      <td>Full-time</td>\n",
       "    </tr>\n",
       "    <tr>\n",
       "      <th>10</th>\n",
       "      <td>Pharmacy Operations Support Data Analyst</td>\n",
       "      <td>www.indeed.com/pagead/clk?mo=r&amp;ad=-6NYlbfkN0BY...</td>\n",
       "      <td>MMM Holdings</td>\n",
       "      <td>None</td>\n",
       "      <td>None</td>\n",
       "      <td>San Juan, PR</td>\n",
       "      <td>None</td>\n",
       "      <td>Full-time</td>\n",
       "    </tr>\n",
       "    <tr>\n",
       "      <th>11</th>\n",
       "      <td>Business Analyst</td>\n",
       "      <td>www.indeed.com/pagead/clk?mo=r&amp;ad=-6NYlbfkN0A-...</td>\n",
       "      <td>Doosan Bobcat</td>\n",
       "      <td>www.indeed.com/cmp/Doosan</td>\n",
       "      <td>3.7</td>\n",
       "      <td>Johnson Creek, WI 53038</td>\n",
       "      <td>None</td>\n",
       "      <td>Full-time</td>\n",
       "    </tr>\n",
       "    <tr>\n",
       "      <th>12</th>\n",
       "      <td>Data Analyst - Remote</td>\n",
       "      <td>www.indeed.com/pagead/clk?mo=r&amp;ad=-6NYlbfkN0Dx...</td>\n",
       "      <td>Symetra</td>\n",
       "      <td>www.indeed.com/cmp/Symetra</td>\n",
       "      <td>3.2</td>\n",
       "      <td>Remote in Bellevue, WA 98004</td>\n",
       "      <td>$71,700 - $119,500 a year</td>\n",
       "      <td>Full-time</td>\n",
       "    </tr>\n",
       "    <tr>\n",
       "      <th>13</th>\n",
       "      <td>Analyst Data – New York, NY - Hybrid-Remote – Day</td>\n",
       "      <td>www.indeed.com/rc/clk?jk=fe79bba748edfca7&amp;fcci...</td>\n",
       "      <td>NewYork-Presbyterian Hospital</td>\n",
       "      <td>www.indeed.com/cmp/Newyork--presbyterian-Hospital</td>\n",
       "      <td>4.2</td>\n",
       "      <td>Remote in Manhattan, NY 10065</td>\n",
       "      <td>$68,500 - $92,500 a year</td>\n",
       "      <td>Full-time</td>\n",
       "    </tr>\n",
       "    <tr>\n",
       "      <th>14</th>\n",
       "      <td>Fiscal Planning Analytics Team Analyst</td>\n",
       "      <td>www.indeed.com/pagead/clk?mo=r&amp;ad=-6NYlbfkN0DA...</td>\n",
       "      <td>Disney Parks, Experiences and Products</td>\n",
       "      <td>www.indeed.com/cmp/Disney-Parks,-Experiences-a...</td>\n",
       "      <td>4.2</td>\n",
       "      <td>Celebration, FL 34747</td>\n",
       "      <td>None</td>\n",
       "      <td>None</td>\n",
       "    </tr>\n",
       "    <tr>\n",
       "      <th>15</th>\n",
       "      <td>Integrity Analyst</td>\n",
       "      <td>www.indeed.com/rc/clk?jk=e18500acd7bd1cc3&amp;fcci...</td>\n",
       "      <td>Pinterest</td>\n",
       "      <td>www.indeed.com/cmp/Pinterest</td>\n",
       "      <td>4.2</td>\n",
       "      <td>Remote</td>\n",
       "      <td>None</td>\n",
       "      <td>None</td>\n",
       "    </tr>\n",
       "    <tr>\n",
       "      <th>16</th>\n",
       "      <td>Data Analyst - Remote</td>\n",
       "      <td>www.indeed.com/pagead/clk?mo=r&amp;ad=-6NYlbfkN0Dx...</td>\n",
       "      <td>Symetra</td>\n",
       "      <td>www.indeed.com/cmp/Symetra</td>\n",
       "      <td>3.2</td>\n",
       "      <td>Remote in Bellevue, WA 98004</td>\n",
       "      <td>$71,700 - $119,500 a year</td>\n",
       "      <td>Full-time</td>\n",
       "    </tr>\n",
       "    <tr>\n",
       "      <th>17</th>\n",
       "      <td>Data Analyst</td>\n",
       "      <td>www.indeed.com/rc/clk?jk=058f2488553cccd6&amp;fcci...</td>\n",
       "      <td>Autodesk</td>\n",
       "      <td>www.indeed.com/cmp/Autodesk</td>\n",
       "      <td>4.1</td>\n",
       "      <td>Remote in San Francisco, CA</td>\n",
       "      <td>None</td>\n",
       "      <td>Full-time</td>\n",
       "    </tr>\n",
       "    <tr>\n",
       "      <th>18</th>\n",
       "      <td>Strategy &amp; Planning Analyst, New Verticals</td>\n",
       "      <td>www.indeed.com/pagead/clk?mo=r&amp;ad=-6NYlbfkN0AV...</td>\n",
       "      <td>Uber</td>\n",
       "      <td>www.indeed.com/cmp/Uber</td>\n",
       "      <td>3.6</td>\n",
       "      <td>Dallas, TX 75226</td>\n",
       "      <td>None</td>\n",
       "      <td>Full-time</td>\n",
       "    </tr>\n",
       "    <tr>\n",
       "      <th>19</th>\n",
       "      <td>Business Intelligence Analyst III (Marketing W...</td>\n",
       "      <td>www.indeed.com/pagead/clk?mo=r&amp;ad=-6NYlbfkN0Cs...</td>\n",
       "      <td>The Pokémon Company International</td>\n",
       "      <td>www.indeed.com/cmp/The-Pok%C3%A9mon-Company-In...</td>\n",
       "      <td>3.9</td>\n",
       "      <td>Hybrid remote in Bellevue, WA</td>\n",
       "      <td>$97,000 - $147,000 a year</td>\n",
       "      <td>None</td>\n",
       "    </tr>\n",
       "  </tbody>\n",
       "</table>\n",
       "</div>"
      ],
      "text/plain": [
       "                                            job_title  \\\n",
       "0        IT Business Analyst III Virtual Hiring Event   \n",
       "1             Board Certified Behavior Analyst (BCBA)   \n",
       "2                                 IT Business Analyst   \n",
       "3                                    Business Analyst   \n",
       "4                 Data Analyst Programming Specialist   \n",
       "5                                     Data Analyst II   \n",
       "6                                        Data Analyst   \n",
       "7                      Enterprise Data Analyst Junior   \n",
       "8                                     Program Analyst   \n",
       "9      Lead IT Business Analyst – Power & Natural Gas   \n",
       "10           Pharmacy Operations Support Data Analyst   \n",
       "11                                   Business Analyst   \n",
       "12                              Data Analyst - Remote   \n",
       "13  Analyst Data – New York, NY - Hybrid-Remote – Day   \n",
       "14             Fiscal Planning Analytics Team Analyst   \n",
       "15                                  Integrity Analyst   \n",
       "16                              Data Analyst - Remote   \n",
       "17                                       Data Analyst   \n",
       "18         Strategy & Planning Analyst, New Verticals   \n",
       "19  Business Intelligence Analyst III (Marketing W...   \n",
       "\n",
       "                                             job_link  \\\n",
       "0   www.indeed.com/pagead/clk?mo=r&ad=-6NYlbfkN0Bt...   \n",
       "1   www.indeed.com/pagead/clk?mo=r&ad=-6NYlbfkN0A6...   \n",
       "2   www.indeed.com/pagead/clk?mo=r&ad=-6NYlbfkN0A1...   \n",
       "3   www.indeed.com/rc/clk?jk=d8cd96e907b342d2&fcci...   \n",
       "4   www.indeed.com/pagead/clk?mo=r&ad=-6NYlbfkN0CD...   \n",
       "5   www.indeed.com/pagead/clk?mo=r&ad=-6NYlbfkN0CR...   \n",
       "6   www.indeed.com/rc/clk?jk=45fb1e57894adc6d&fcci...   \n",
       "7   www.indeed.com/pagead/clk?mo=r&ad=-6NYlbfkN0A_...   \n",
       "8   www.indeed.com/rc/clk?jk=63865d3dee1a1675&fcci...   \n",
       "9   www.indeed.com/pagead/clk?mo=r&ad=-6NYlbfkN0C5...   \n",
       "10  www.indeed.com/pagead/clk?mo=r&ad=-6NYlbfkN0BY...   \n",
       "11  www.indeed.com/pagead/clk?mo=r&ad=-6NYlbfkN0A-...   \n",
       "12  www.indeed.com/pagead/clk?mo=r&ad=-6NYlbfkN0Dx...   \n",
       "13  www.indeed.com/rc/clk?jk=fe79bba748edfca7&fcci...   \n",
       "14  www.indeed.com/pagead/clk?mo=r&ad=-6NYlbfkN0DA...   \n",
       "15  www.indeed.com/rc/clk?jk=e18500acd7bd1cc3&fcci...   \n",
       "16  www.indeed.com/pagead/clk?mo=r&ad=-6NYlbfkN0Dx...   \n",
       "17  www.indeed.com/rc/clk?jk=058f2488553cccd6&fcci...   \n",
       "18  www.indeed.com/pagead/clk?mo=r&ad=-6NYlbfkN0AV...   \n",
       "19  www.indeed.com/pagead/clk?mo=r&ad=-6NYlbfkN0Cs...   \n",
       "\n",
       "                                        company  \\\n",
       "0                                  Inogen, Inc.   \n",
       "1                              Club Z! Tutoring   \n",
       "2                                Vital Services   \n",
       "3                          City of Plano, Texas   \n",
       "4                    National Indemnity Company   \n",
       "5                           Superior HealthPlan   \n",
       "6                                        Disney   \n",
       "7          GENERIS TEK STAFFING PRIVATE LIMITED   \n",
       "8   US Centers for Medicare & Medicaid Services   \n",
       "9                                     Trafigura   \n",
       "10                                 MMM Holdings   \n",
       "11                                Doosan Bobcat   \n",
       "12                                      Symetra   \n",
       "13                NewYork-Presbyterian Hospital   \n",
       "14       Disney Parks, Experiences and Products   \n",
       "15                                    Pinterest   \n",
       "16                                      Symetra   \n",
       "17                                     Autodesk   \n",
       "18                                         Uber   \n",
       "19            The Pokémon Company International   \n",
       "\n",
       "                                         company_link company_rating  \\\n",
       "0                           www.indeed.com/cmp/Inogen            2.9   \n",
       "1   www.indeed.com/cmp/Club-Z!-In--home-Tutoring-S...            4.3   \n",
       "2                   www.indeed.com/cmp/Vital-Services            4.1   \n",
       "3           www.indeed.com/cmp/City-of-Plano,-Texas-1            4.0   \n",
       "4       www.indeed.com/cmp/National-Indemnity-Company            4.1   \n",
       "5                          www.indeed.com/cmp/Centene            3.2   \n",
       "6          www.indeed.com/cmp/The-Walt-Disney-Company            4.1   \n",
       "7                                                None           None   \n",
       "8   www.indeed.com/cmp/Centers-For-Medicare-and-Me...            4.0   \n",
       "9                        www.indeed.com/cmp/Trafigura            3.7   \n",
       "10                                               None           None   \n",
       "11                          www.indeed.com/cmp/Doosan            3.7   \n",
       "12                         www.indeed.com/cmp/Symetra            3.2   \n",
       "13  www.indeed.com/cmp/Newyork--presbyterian-Hospital            4.2   \n",
       "14  www.indeed.com/cmp/Disney-Parks,-Experiences-a...            4.2   \n",
       "15                       www.indeed.com/cmp/Pinterest            4.2   \n",
       "16                         www.indeed.com/cmp/Symetra            3.2   \n",
       "17                        www.indeed.com/cmp/Autodesk            4.1   \n",
       "18                            www.indeed.com/cmp/Uber            3.6   \n",
       "19  www.indeed.com/cmp/The-Pok%C3%A9mon-Company-In...            3.9   \n",
       "\n",
       "                              location                     salary  \\\n",
       "0                      Plano, TX 75074            $116,800 a year   \n",
       "1                         Sarasota, FL   $65,000 - $85,000 a year   \n",
       "2                 Richardson, TX 75080   $66,000 - $88,000 a year   \n",
       "3                            Plano, TX             $41.60 an hour   \n",
       "4                            Omaha, NE                       None   \n",
       "5                      Remote in Texas                       None   \n",
       "6     Remote in Santa Monica, CA 90401  $87,900 - $137,300 a year   \n",
       "7   Denver, CO 80204 (Sun Valley area)         $62 - $100 an hour   \n",
       "8         Remote in Wallops Island, VA  $81,216 - $105,579 a year   \n",
       "9                          Houston, TX                       None   \n",
       "10                        San Juan, PR                       None   \n",
       "11             Johnson Creek, WI 53038                       None   \n",
       "12        Remote in Bellevue, WA 98004  $71,700 - $119,500 a year   \n",
       "13       Remote in Manhattan, NY 10065   $68,500 - $92,500 a year   \n",
       "14               Celebration, FL 34747                       None   \n",
       "15                              Remote                       None   \n",
       "16        Remote in Bellevue, WA 98004  $71,700 - $119,500 a year   \n",
       "17         Remote in San Francisco, CA                       None   \n",
       "18                    Dallas, TX 75226                       None   \n",
       "19       Hybrid remote in Bellevue, WA  $97,000 - $147,000 a year   \n",
       "\n",
       "          status  \n",
       "0      Full-time  \n",
       "1      Full-time  \n",
       "2      Full-time  \n",
       "3      Full-time  \n",
       "4      Full-time  \n",
       "5           None  \n",
       "6           None  \n",
       "7       Contract  \n",
       "8   Full-time +1  \n",
       "9      Full-time  \n",
       "10     Full-time  \n",
       "11     Full-time  \n",
       "12     Full-time  \n",
       "13     Full-time  \n",
       "14          None  \n",
       "15          None  \n",
       "16     Full-time  \n",
       "17     Full-time  \n",
       "18     Full-time  \n",
       "19          None  "
      ]
     },
     "execution_count": 42,
     "metadata": {},
     "output_type": "execute_result"
    }
   ],
   "source": [
    "df.head(20)"
   ]
  },
  {
   "cell_type": "code",
   "execution_count": 43,
   "id": "f77ec5b3",
   "metadata": {},
   "outputs": [
    {
     "name": "stdout",
     "output_type": "stream",
     "text": [
      "<class 'pandas.core.frame.DataFrame'>\n",
      "RangeIndex: 210 entries, 0 to 209\n",
      "Data columns (total 8 columns):\n",
      " #   Column          Non-Null Count  Dtype \n",
      "---  ------          --------------  ----- \n",
      " 0   job_title       210 non-null    object\n",
      " 1   job_link        210 non-null    object\n",
      " 2   company         209 non-null    object\n",
      " 3   company_link    161 non-null    object\n",
      " 4   company_rating  161 non-null    object\n",
      " 5   location        210 non-null    object\n",
      " 6   salary          99 non-null     object\n",
      " 7   status          150 non-null    object\n",
      "dtypes: object(8)\n",
      "memory usage: 13.2+ KB\n"
     ]
    }
   ],
   "source": [
    "#\n",
    "df.info()\n"
   ]
  },
  {
   "cell_type": "code",
   "execution_count": 46,
   "id": "2d0993c5",
   "metadata": {},
   "outputs": [
    {
     "data": {
      "text/plain": [
       "Remote                                        42\n",
       "Plano, TX                                     10\n",
       "Austin, TX                                     8\n",
       "Remote in United States                        7\n",
       "Plano, TX 75024                                7\n",
       "                                              ..\n",
       "Irving, TX 75038                               1\n",
       "Hybrid remote in Seattle, WA                   1\n",
       "Remote in Melville, NY 11747                   1\n",
       "Frisco, TX                                     1\n",
       "Irving, TX 75063 (Freeport/Hackberry area)     1\n",
       "Name: location, Length: 114, dtype: int64"
      ]
     },
     "execution_count": 46,
     "metadata": {},
     "output_type": "execute_result"
    }
   ],
   "source": [
    "#\n",
    "df.location.value_counts()"
   ]
  },
  {
   "cell_type": "code",
   "execution_count": 64,
   "id": "777f65f9",
   "metadata": {},
   "outputs": [],
   "source": [
    "#\n",
    "def getState(loc):\n",
    "    if \",\" in loc:\n",
    "        state = loc.replace(\"\\xa0\", \" \").split(\",\")[1].strip().split(\" \")[0].strip()\n",
    "    else:\n",
    "        state = None\n",
    "        \n",
    "    return(state)\n",
    "        "
   ]
  },
  {
   "cell_type": "code",
   "execution_count": 62,
   "id": "d6a01cfa",
   "metadata": {},
   "outputs": [
    {
     "data": {
      "text/plain": [
       "'TX'"
      ]
     },
     "execution_count": 62,
     "metadata": {},
     "output_type": "execute_result"
    }
   ],
   "source": [
    "#\n",
    "getState(\"Austin, TX (Downtown area)\")"
   ]
  },
  {
   "cell_type": "code",
   "execution_count": 65,
   "id": "4e61dbf8",
   "metadata": {},
   "outputs": [
    {
     "name": "stdout",
     "output_type": "stream",
     "text": [
      "<class 'pandas.core.frame.DataFrame'>\n",
      "RangeIndex: 210 entries, 0 to 209\n",
      "Data columns (total 9 columns):\n",
      " #   Column          Non-Null Count  Dtype \n",
      "---  ------          --------------  ----- \n",
      " 0   job_title       210 non-null    object\n",
      " 1   job_link        210 non-null    object\n",
      " 2   company         209 non-null    object\n",
      " 3   company_link    161 non-null    object\n",
      " 4   company_rating  161 non-null    object\n",
      " 5   location        210 non-null    object\n",
      " 6   salary          99 non-null     object\n",
      " 7   status          150 non-null    object\n",
      " 8   state           151 non-null    object\n",
      "dtypes: object(9)\n",
      "memory usage: 14.9+ KB\n"
     ]
    }
   ],
   "source": [
    "#\n",
    "df[\"state\"] = df.location.apply(lambda x: getState(x))\n",
    "df.info()"
   ]
  },
  {
   "cell_type": "code",
   "execution_count": 66,
   "id": "fb11969b",
   "metadata": {},
   "outputs": [
    {
     "data": {
      "text/plain": [
       "TX    88\n",
       "CA    12\n",
       "NY    12\n",
       "WA     7\n",
       "GA     4\n",
       "FL     3\n",
       "VA     3\n",
       "MA     3\n",
       "CT     2\n",
       "MI     2\n",
       "PA     2\n",
       "OR     2\n",
       "CO     2\n",
       "MN     1\n",
       "MO     1\n",
       "UT     1\n",
       "WI     1\n",
       "PR     1\n",
       "TN     1\n",
       "NE     1\n",
       "NJ     1\n",
       "OK     1\n",
       "Name: state, dtype: int64"
      ]
     },
     "execution_count": 66,
     "metadata": {},
     "output_type": "execute_result"
    }
   ],
   "source": [
    "#\n",
    "df.state.value_counts()"
   ]
  },
  {
   "cell_type": "code",
   "execution_count": 61,
   "id": "400793cb",
   "metadata": {},
   "outputs": [
    {
     "data": {
      "text/html": [
       "<div>\n",
       "<style scoped>\n",
       "    .dataframe tbody tr th:only-of-type {\n",
       "        vertical-align: middle;\n",
       "    }\n",
       "\n",
       "    .dataframe tbody tr th {\n",
       "        vertical-align: top;\n",
       "    }\n",
       "\n",
       "    .dataframe thead th {\n",
       "        text-align: right;\n",
       "    }\n",
       "</style>\n",
       "<table border=\"1\" class=\"dataframe\">\n",
       "  <thead>\n",
       "    <tr style=\"text-align: right;\">\n",
       "      <th></th>\n",
       "      <th>job_title</th>\n",
       "      <th>job_link</th>\n",
       "      <th>company</th>\n",
       "      <th>company_link</th>\n",
       "      <th>company_rating</th>\n",
       "      <th>location</th>\n",
       "      <th>salary</th>\n",
       "      <th>status</th>\n",
       "      <th>state</th>\n",
       "    </tr>\n",
       "  </thead>\n",
       "  <tbody>\n",
       "    <tr>\n",
       "      <th>27</th>\n",
       "      <td>Analyst Sr. - IS Technical, Microsoft BI/SQL</td>\n",
       "      <td>www.indeed.com/pagead/clk?mo=r&amp;ad=-6NYlbfkN0Ay...</td>\n",
       "      <td>Westlake Corporation</td>\n",
       "      <td>www.indeed.com/cmp/Westlake-Chemical</td>\n",
       "      <td>3.4</td>\n",
       "      <td>Houston, TX 77002 (Downtown area)</td>\n",
       "      <td>None</td>\n",
       "      <td>Full-time</td>\n",
       "      <td>TX</td>\n",
       "    </tr>\n",
       "    <tr>\n",
       "      <th>32</th>\n",
       "      <td>Analyst Sr. - IS Technical, Microsoft BI/SQL</td>\n",
       "      <td>www.indeed.com/pagead/clk?mo=r&amp;ad=-6NYlbfkN0Ay...</td>\n",
       "      <td>Westlake Corporation</td>\n",
       "      <td>www.indeed.com/cmp/Westlake-Chemical</td>\n",
       "      <td>3.4</td>\n",
       "      <td>Houston, TX 77002 (Downtown area)</td>\n",
       "      <td>None</td>\n",
       "      <td>Full-time</td>\n",
       "      <td>TX</td>\n",
       "    </tr>\n",
       "    <tr>\n",
       "      <th>39</th>\n",
       "      <td>THECB - Data Analyst V, Visualization</td>\n",
       "      <td>www.indeed.com/rc/clk?jk=87d4703c7888a6f7&amp;fcci...</td>\n",
       "      <td>TEXAS HIGHER EDUCATION COORDINATING BOARD</td>\n",
       "      <td>www.indeed.com/cmp/Texas-Higher-Education-Coor...</td>\n",
       "      <td>3.8</td>\n",
       "      <td>Austin, TX 78701 (Downtown area)</td>\n",
       "      <td>$6,017 - $8,266 a month</td>\n",
       "      <td>Full-time</td>\n",
       "      <td>TX</td>\n",
       "    </tr>\n",
       "    <tr>\n",
       "      <th>61</th>\n",
       "      <td>Analyst Sr. - IS Technical, Microsoft BI/SQL</td>\n",
       "      <td>www.indeed.com/pagead/clk?mo=r&amp;ad=-6NYlbfkN0Ay...</td>\n",
       "      <td>Westlake Corporation</td>\n",
       "      <td>www.indeed.com/cmp/Westlake-Chemical</td>\n",
       "      <td>3.4</td>\n",
       "      <td>Houston, TX 77002 (Downtown area)</td>\n",
       "      <td>None</td>\n",
       "      <td>Full-time</td>\n",
       "      <td>TX</td>\n",
       "    </tr>\n",
       "    <tr>\n",
       "      <th>71</th>\n",
       "      <td>Cloud Consultant, Big Data Analytics, Looker, ...</td>\n",
       "      <td>www.indeed.com/rc/clk?jk=abf4ea6cd747a933&amp;fcci...</td>\n",
       "      <td>Google</td>\n",
       "      <td>www.indeed.com/cmp/Google</td>\n",
       "      <td>4.3</td>\n",
       "      <td>Austin, TX (Downtown area)</td>\n",
       "      <td>None</td>\n",
       "      <td>Full-time</td>\n",
       "      <td>TX (Downtown</td>\n",
       "    </tr>\n",
       "  </tbody>\n",
       "</table>\n",
       "</div>"
      ],
      "text/plain": [
       "                                            job_title  \\\n",
       "27       Analyst Sr. - IS Technical, Microsoft BI/SQL   \n",
       "32       Analyst Sr. - IS Technical, Microsoft BI/SQL   \n",
       "39              THECB - Data Analyst V, Visualization   \n",
       "61       Analyst Sr. - IS Technical, Microsoft BI/SQL   \n",
       "71  Cloud Consultant, Big Data Analytics, Looker, ...   \n",
       "\n",
       "                                             job_link  \\\n",
       "27  www.indeed.com/pagead/clk?mo=r&ad=-6NYlbfkN0Ay...   \n",
       "32  www.indeed.com/pagead/clk?mo=r&ad=-6NYlbfkN0Ay...   \n",
       "39  www.indeed.com/rc/clk?jk=87d4703c7888a6f7&fcci...   \n",
       "61  www.indeed.com/pagead/clk?mo=r&ad=-6NYlbfkN0Ay...   \n",
       "71  www.indeed.com/rc/clk?jk=abf4ea6cd747a933&fcci...   \n",
       "\n",
       "                                      company  \\\n",
       "27                       Westlake Corporation   \n",
       "32                       Westlake Corporation   \n",
       "39  TEXAS HIGHER EDUCATION COORDINATING BOARD   \n",
       "61                       Westlake Corporation   \n",
       "71                                     Google   \n",
       "\n",
       "                                         company_link company_rating  \\\n",
       "27               www.indeed.com/cmp/Westlake-Chemical            3.4   \n",
       "32               www.indeed.com/cmp/Westlake-Chemical            3.4   \n",
       "39  www.indeed.com/cmp/Texas-Higher-Education-Coor...            3.8   \n",
       "61               www.indeed.com/cmp/Westlake-Chemical            3.4   \n",
       "71                          www.indeed.com/cmp/Google            4.3   \n",
       "\n",
       "                             location                   salary     status  \\\n",
       "27  Houston, TX 77002 (Downtown area)                     None  Full-time   \n",
       "32  Houston, TX 77002 (Downtown area)                     None  Full-time   \n",
       "39   Austin, TX 78701 (Downtown area)  $6,017 - $8,266 a month  Full-time   \n",
       "61  Houston, TX 77002 (Downtown area)                     None  Full-time   \n",
       "71         Austin, TX (Downtown area)                     None  Full-time   \n",
       "\n",
       "           state  \n",
       "27            TX  \n",
       "32            TX  \n",
       "39            TX  \n",
       "61            TX  \n",
       "71  TX (Downtown  "
      ]
     },
     "execution_count": 61,
     "metadata": {},
     "output_type": "execute_result"
    }
   ],
   "source": [
    "#\n",
    "df.loc[df.location.str.contains(\"\\(Downtown\")]"
   ]
  },
  {
   "cell_type": "code",
   "execution_count": 63,
   "id": "e981be24",
   "metadata": {},
   "outputs": [
    {
     "data": {
      "text/plain": [
       "'Austin, TX\\xa0(Downtown area)'"
      ]
     },
     "execution_count": 63,
     "metadata": {},
     "output_type": "execute_result"
    }
   ],
   "source": [
    "df.iloc[71].location"
   ]
  },
  {
   "cell_type": "code",
   "execution_count": 72,
   "id": "555bbadb",
   "metadata": {},
   "outputs": [],
   "source": [
    "#\n",
    "def getRemote(loc):\n",
    "    if \"remote\" in loc.lower():\n",
    "        return(True)\n",
    "    else:\n",
    "        return(False)\n",
    "        \n",
    "  "
   ]
  },
  {
   "cell_type": "code",
   "execution_count": 73,
   "id": "a3939084",
   "metadata": {},
   "outputs": [
    {
     "name": "stdout",
     "output_type": "stream",
     "text": [
      "<class 'pandas.core.frame.DataFrame'>\n",
      "RangeIndex: 210 entries, 0 to 209\n",
      "Data columns (total 10 columns):\n",
      " #   Column          Non-Null Count  Dtype \n",
      "---  ------          --------------  ----- \n",
      " 0   job_title       210 non-null    object\n",
      " 1   job_link        210 non-null    object\n",
      " 2   company         209 non-null    object\n",
      " 3   company_link    161 non-null    object\n",
      " 4   company_rating  161 non-null    object\n",
      " 5   location        210 non-null    object\n",
      " 6   salary          99 non-null     object\n",
      " 7   status          150 non-null    object\n",
      " 8   state           151 non-null    object\n",
      " 9   is_remote       210 non-null    bool  \n",
      "dtypes: bool(1), object(9)\n",
      "memory usage: 15.1+ KB\n"
     ]
    }
   ],
   "source": [
    "#\n",
    "df[\"is_remote\"] = df.location.apply(lambda x: getRemote(x))\n",
    "df.info()"
   ]
  },
  {
   "cell_type": "code",
   "execution_count": 74,
   "id": "120aaa0a",
   "metadata": {},
   "outputs": [
    {
     "data": {
      "text/plain": [
       "False    114\n",
       "True      96\n",
       "Name: is_remote, dtype: int64"
      ]
     },
     "execution_count": 74,
     "metadata": {},
     "output_type": "execute_result"
    }
   ],
   "source": [
    "df.is_remote.value_counts()"
   ]
  },
  {
   "cell_type": "code",
   "execution_count": 76,
   "id": "eb69013c",
   "metadata": {},
   "outputs": [],
   "source": [
    "#\n",
    "def getCity(loc):\n",
    "    if \",\" in loc:\n",
    "        city_list = loc.replace(\"\\xa0\", \" \").split(\",\")[0].strip().split(\" \")\n",
    "        city = city_list[0] if len(city_list) ==1 else city_list[1]\n",
    "    else:\n",
    "        city = None\n",
    "        \n",
    "    return(city)"
   ]
  },
  {
   "cell_type": "code",
   "execution_count": 77,
   "id": "7b04fc3d",
   "metadata": {},
   "outputs": [
    {
     "name": "stdout",
     "output_type": "stream",
     "text": [
      "<class 'pandas.core.frame.DataFrame'>\n",
      "RangeIndex: 210 entries, 0 to 209\n",
      "Data columns (total 11 columns):\n",
      " #   Column          Non-Null Count  Dtype \n",
      "---  ------          --------------  ----- \n",
      " 0   job_title       210 non-null    object\n",
      " 1   job_link        210 non-null    object\n",
      " 2   company         209 non-null    object\n",
      " 3   company_link    161 non-null    object\n",
      " 4   company_rating  161 non-null    object\n",
      " 5   location        210 non-null    object\n",
      " 6   salary          99 non-null     object\n",
      " 7   status          150 non-null    object\n",
      " 8   state           151 non-null    object\n",
      " 9   is_remote       210 non-null    bool  \n",
      " 10  city            151 non-null    object\n",
      "dtypes: bool(1), object(10)\n",
      "memory usage: 16.7+ KB\n"
     ]
    }
   ],
   "source": [
    "df[\"city\"] = df.location.apply(lambda x: getCity(x))\n",
    "df.info()"
   ]
  },
  {
   "cell_type": "code",
   "execution_count": 78,
   "id": "cd1046a4",
   "metadata": {},
   "outputs": [
    {
     "data": {
      "text/plain": [
       "in             32\n",
       "Plano          25\n",
       "Dallas         15\n",
       "Austin         11\n",
       "remote          8\n",
       "York            7\n",
       "Houston         5\n",
       "Richardson      4\n",
       "Irving          3\n",
       "Detroit         2\n",
       "Worth           2\n",
       "Seattle         2\n",
       "Addison         2\n",
       "Francisco       2\n",
       "Gables          1\n",
       "Beaverton       1\n",
       "Carrollton      1\n",
       "Duncan          1\n",
       "Princeton       1\n",
       "Pittsburgh      1\n",
       "Cambridge       1\n",
       "Boston          1\n",
       "Antonio         1\n",
       "Omaha           1\n",
       "Monica          1\n",
       "Reston          1\n",
       "Denver          1\n",
       "Pleasant        1\n",
       "Denton          1\n",
       "City            1\n",
       "Rochester       1\n",
       "Beach           1\n",
       "Lake            1\n",
       "Juan            1\n",
       "Creek           1\n",
       "O'Fallon        1\n",
       "Celebration     1\n",
       "Sarasota        1\n",
       "Lewisville      1\n",
       "Frisco          1\n",
       "Katy            1\n",
       "Coppell         1\n",
       "Westlake        1\n",
       "Macon           1\n",
       "McKinney        1\n",
       "Name: city, dtype: int64"
      ]
     },
     "execution_count": 78,
     "metadata": {},
     "output_type": "execute_result"
    }
   ],
   "source": [
    "#\n",
    "df.city.value_counts()"
   ]
  },
  {
   "cell_type": "code",
   "execution_count": 79,
   "id": "985636c0",
   "metadata": {},
   "outputs": [
    {
     "data": {
      "text/html": [
       "<div>\n",
       "<style scoped>\n",
       "    .dataframe tbody tr th:only-of-type {\n",
       "        vertical-align: middle;\n",
       "    }\n",
       "\n",
       "    .dataframe tbody tr th {\n",
       "        vertical-align: top;\n",
       "    }\n",
       "\n",
       "    .dataframe thead th {\n",
       "        text-align: right;\n",
       "    }\n",
       "</style>\n",
       "<table border=\"1\" class=\"dataframe\">\n",
       "  <thead>\n",
       "    <tr style=\"text-align: right;\">\n",
       "      <th></th>\n",
       "      <th>job_title</th>\n",
       "      <th>job_link</th>\n",
       "      <th>company</th>\n",
       "      <th>company_link</th>\n",
       "      <th>company_rating</th>\n",
       "      <th>location</th>\n",
       "      <th>salary</th>\n",
       "      <th>status</th>\n",
       "      <th>state</th>\n",
       "      <th>is_remote</th>\n",
       "      <th>city</th>\n",
       "    </tr>\n",
       "  </thead>\n",
       "  <tbody>\n",
       "    <tr>\n",
       "      <th>5</th>\n",
       "      <td>Data Analyst II</td>\n",
       "      <td>www.indeed.com/pagead/clk?mo=r&amp;ad=-6NYlbfkN0CR...</td>\n",
       "      <td>Superior HealthPlan</td>\n",
       "      <td>www.indeed.com/cmp/Centene</td>\n",
       "      <td>3.2</td>\n",
       "      <td>Remote in Texas</td>\n",
       "      <td>None</td>\n",
       "      <td>None</td>\n",
       "      <td>None</td>\n",
       "      <td>True</td>\n",
       "      <td>None</td>\n",
       "    </tr>\n",
       "    <tr>\n",
       "      <th>6</th>\n",
       "      <td>Data Analyst</td>\n",
       "      <td>www.indeed.com/rc/clk?jk=45fb1e57894adc6d&amp;fcci...</td>\n",
       "      <td>Disney</td>\n",
       "      <td>www.indeed.com/cmp/The-Walt-Disney-Company</td>\n",
       "      <td>4.1</td>\n",
       "      <td>Remote in Santa Monica, CA 90401</td>\n",
       "      <td>$87,900 - $137,300 a year</td>\n",
       "      <td>None</td>\n",
       "      <td>CA</td>\n",
       "      <td>True</td>\n",
       "      <td>in</td>\n",
       "    </tr>\n",
       "    <tr>\n",
       "      <th>8</th>\n",
       "      <td>Program Analyst</td>\n",
       "      <td>www.indeed.com/rc/clk?jk=63865d3dee1a1675&amp;fcci...</td>\n",
       "      <td>US Centers for Medicare &amp; Medicaid Services</td>\n",
       "      <td>www.indeed.com/cmp/Centers-For-Medicare-and-Me...</td>\n",
       "      <td>4.0</td>\n",
       "      <td>Remote in Wallops Island, VA</td>\n",
       "      <td>$81,216 - $105,579 a year</td>\n",
       "      <td>Full-time +1</td>\n",
       "      <td>VA</td>\n",
       "      <td>True</td>\n",
       "      <td>in</td>\n",
       "    </tr>\n",
       "    <tr>\n",
       "      <th>12</th>\n",
       "      <td>Data Analyst - Remote</td>\n",
       "      <td>www.indeed.com/pagead/clk?mo=r&amp;ad=-6NYlbfkN0Dx...</td>\n",
       "      <td>Symetra</td>\n",
       "      <td>www.indeed.com/cmp/Symetra</td>\n",
       "      <td>3.2</td>\n",
       "      <td>Remote in Bellevue, WA 98004</td>\n",
       "      <td>$71,700 - $119,500 a year</td>\n",
       "      <td>Full-time</td>\n",
       "      <td>WA</td>\n",
       "      <td>True</td>\n",
       "      <td>in</td>\n",
       "    </tr>\n",
       "    <tr>\n",
       "      <th>13</th>\n",
       "      <td>Analyst Data – New York, NY - Hybrid-Remote – Day</td>\n",
       "      <td>www.indeed.com/rc/clk?jk=fe79bba748edfca7&amp;fcci...</td>\n",
       "      <td>NewYork-Presbyterian Hospital</td>\n",
       "      <td>www.indeed.com/cmp/Newyork--presbyterian-Hospital</td>\n",
       "      <td>4.2</td>\n",
       "      <td>Remote in Manhattan, NY 10065</td>\n",
       "      <td>$68,500 - $92,500 a year</td>\n",
       "      <td>Full-time</td>\n",
       "      <td>NY</td>\n",
       "      <td>True</td>\n",
       "      <td>in</td>\n",
       "    </tr>\n",
       "    <tr>\n",
       "      <th>...</th>\n",
       "      <td>...</td>\n",
       "      <td>...</td>\n",
       "      <td>...</td>\n",
       "      <td>...</td>\n",
       "      <td>...</td>\n",
       "      <td>...</td>\n",
       "      <td>...</td>\n",
       "      <td>...</td>\n",
       "      <td>...</td>\n",
       "      <td>...</td>\n",
       "      <td>...</td>\n",
       "    </tr>\n",
       "    <tr>\n",
       "      <th>200</th>\n",
       "      <td>Data Analyst, Privacy</td>\n",
       "      <td>www.indeed.com/rc/clk?jk=e24bcf2b3be14573&amp;fcci...</td>\n",
       "      <td>Datavant</td>\n",
       "      <td>www.indeed.com/cmp/Datavant</td>\n",
       "      <td>3.1</td>\n",
       "      <td>Remote in New York, NY</td>\n",
       "      <td>None</td>\n",
       "      <td>None</td>\n",
       "      <td>NY</td>\n",
       "      <td>True</td>\n",
       "      <td>in</td>\n",
       "    </tr>\n",
       "    <tr>\n",
       "      <th>203</th>\n",
       "      <td>Hybrid Threat Intelligence Analyst - Remote</td>\n",
       "      <td>www.indeed.com/rc/clk?jk=f4377d03103c4bf1&amp;fcci...</td>\n",
       "      <td>Center for Internet Security, Inc.</td>\n",
       "      <td>www.indeed.com/cmp/Center-For-Internet-Security</td>\n",
       "      <td>4.5</td>\n",
       "      <td>Remote in United States</td>\n",
       "      <td>None</td>\n",
       "      <td>Full-time</td>\n",
       "      <td>None</td>\n",
       "      <td>True</td>\n",
       "      <td>None</td>\n",
       "    </tr>\n",
       "    <tr>\n",
       "      <th>205</th>\n",
       "      <td>Technical Business Analyst</td>\n",
       "      <td>www.indeed.com/rc/clk?jk=5925960f673de598&amp;fcci...</td>\n",
       "      <td>Warner Music Group</td>\n",
       "      <td>www.indeed.com/cmp/Warner-Music-Group</td>\n",
       "      <td>4.1</td>\n",
       "      <td>Remote in Los Angeles, CA 90028</td>\n",
       "      <td>$85,000 - $95,000 a year</td>\n",
       "      <td>Full-time</td>\n",
       "      <td>CA</td>\n",
       "      <td>True</td>\n",
       "      <td>in</td>\n",
       "    </tr>\n",
       "    <tr>\n",
       "      <th>208</th>\n",
       "      <td>BI Analyst</td>\n",
       "      <td>www.indeed.com/rc/clk?jk=f59038df41b1b296&amp;fcci...</td>\n",
       "      <td>Nuanza</td>\n",
       "      <td>None</td>\n",
       "      <td>None</td>\n",
       "      <td>McKinney, TX 75070</td>\n",
       "      <td>None</td>\n",
       "      <td>None</td>\n",
       "      <td>TX</td>\n",
       "      <td>False</td>\n",
       "      <td>McKinney</td>\n",
       "    </tr>\n",
       "    <tr>\n",
       "      <th>209</th>\n",
       "      <td>Web Data Analyst</td>\n",
       "      <td>www.indeed.com/company/Michaels/jobs/Web-Data-...</td>\n",
       "      <td>Michaels</td>\n",
       "      <td>www.indeed.com/cmp/Michaels</td>\n",
       "      <td>3.5</td>\n",
       "      <td>Irving, TX 75063 (Freeport/Hackberry area)</td>\n",
       "      <td>None</td>\n",
       "      <td>Full-time</td>\n",
       "      <td>TX</td>\n",
       "      <td>False</td>\n",
       "      <td>Irving</td>\n",
       "    </tr>\n",
       "  </tbody>\n",
       "</table>\n",
       "<p>71 rows × 11 columns</p>\n",
       "</div>"
      ],
      "text/plain": [
       "                                             job_title  \\\n",
       "5                                      Data Analyst II   \n",
       "6                                         Data Analyst   \n",
       "8                                      Program Analyst   \n",
       "12                               Data Analyst - Remote   \n",
       "13   Analyst Data – New York, NY - Hybrid-Remote – Day   \n",
       "..                                                 ...   \n",
       "200                              Data Analyst, Privacy   \n",
       "203        Hybrid Threat Intelligence Analyst - Remote   \n",
       "205                         Technical Business Analyst   \n",
       "208                                         BI Analyst   \n",
       "209                                   Web Data Analyst   \n",
       "\n",
       "                                              job_link  \\\n",
       "5    www.indeed.com/pagead/clk?mo=r&ad=-6NYlbfkN0CR...   \n",
       "6    www.indeed.com/rc/clk?jk=45fb1e57894adc6d&fcci...   \n",
       "8    www.indeed.com/rc/clk?jk=63865d3dee1a1675&fcci...   \n",
       "12   www.indeed.com/pagead/clk?mo=r&ad=-6NYlbfkN0Dx...   \n",
       "13   www.indeed.com/rc/clk?jk=fe79bba748edfca7&fcci...   \n",
       "..                                                 ...   \n",
       "200  www.indeed.com/rc/clk?jk=e24bcf2b3be14573&fcci...   \n",
       "203  www.indeed.com/rc/clk?jk=f4377d03103c4bf1&fcci...   \n",
       "205  www.indeed.com/rc/clk?jk=5925960f673de598&fcci...   \n",
       "208  www.indeed.com/rc/clk?jk=f59038df41b1b296&fcci...   \n",
       "209  www.indeed.com/company/Michaels/jobs/Web-Data-...   \n",
       "\n",
       "                                         company  \\\n",
       "5                            Superior HealthPlan   \n",
       "6                                         Disney   \n",
       "8    US Centers for Medicare & Medicaid Services   \n",
       "12                                       Symetra   \n",
       "13                 NewYork-Presbyterian Hospital   \n",
       "..                                           ...   \n",
       "200                                     Datavant   \n",
       "203           Center for Internet Security, Inc.   \n",
       "205                           Warner Music Group   \n",
       "208                                       Nuanza   \n",
       "209                                     Michaels   \n",
       "\n",
       "                                          company_link company_rating  \\\n",
       "5                           www.indeed.com/cmp/Centene            3.2   \n",
       "6           www.indeed.com/cmp/The-Walt-Disney-Company            4.1   \n",
       "8    www.indeed.com/cmp/Centers-For-Medicare-and-Me...            4.0   \n",
       "12                          www.indeed.com/cmp/Symetra            3.2   \n",
       "13   www.indeed.com/cmp/Newyork--presbyterian-Hospital            4.2   \n",
       "..                                                 ...            ...   \n",
       "200                        www.indeed.com/cmp/Datavant            3.1   \n",
       "203    www.indeed.com/cmp/Center-For-Internet-Security            4.5   \n",
       "205              www.indeed.com/cmp/Warner-Music-Group            4.1   \n",
       "208                                               None           None   \n",
       "209                        www.indeed.com/cmp/Michaels            3.5   \n",
       "\n",
       "                                       location                     salary  \\\n",
       "5                               Remote in Texas                       None   \n",
       "6              Remote in Santa Monica, CA 90401  $87,900 - $137,300 a year   \n",
       "8                  Remote in Wallops Island, VA  $81,216 - $105,579 a year   \n",
       "12                 Remote in Bellevue, WA 98004  $71,700 - $119,500 a year   \n",
       "13                Remote in Manhattan, NY 10065   $68,500 - $92,500 a year   \n",
       "..                                          ...                        ...   \n",
       "200                      Remote in New York, NY                       None   \n",
       "203                     Remote in United States                       None   \n",
       "205             Remote in Los Angeles, CA 90028   $85,000 - $95,000 a year   \n",
       "208                          McKinney, TX 75070                       None   \n",
       "209  Irving, TX 75063 (Freeport/Hackberry area)                       None   \n",
       "\n",
       "           status state  is_remote      city  \n",
       "5            None  None       True      None  \n",
       "6            None    CA       True        in  \n",
       "8    Full-time +1    VA       True        in  \n",
       "12      Full-time    WA       True        in  \n",
       "13      Full-time    NY       True        in  \n",
       "..            ...   ...        ...       ...  \n",
       "200          None    NY       True        in  \n",
       "203     Full-time  None       True      None  \n",
       "205     Full-time    CA       True        in  \n",
       "208          None    TX      False  McKinney  \n",
       "209     Full-time    TX      False    Irving  \n",
       "\n",
       "[71 rows x 11 columns]"
      ]
     },
     "execution_count": 79,
     "metadata": {},
     "output_type": "execute_result"
    }
   ],
   "source": [
    "df.loc[df.location.str.contains(\"in\")]"
   ]
  },
  {
   "cell_type": "code",
   "execution_count": null,
   "id": "b6396ec0",
   "metadata": {},
   "outputs": [],
   "source": []
  },
  {
   "cell_type": "code",
   "execution_count": null,
   "id": "bba90ee2",
   "metadata": {},
   "outputs": [],
   "source": [
    "#Set-up sleep function\n",
    "# browser.visit(dice_lyst)\n",
    "# time.sleep(2)"
   ]
  },
  {
   "cell_type": "code",
   "execution_count": 80,
   "id": "70f99df0",
   "metadata": {},
   "outputs": [],
   "source": [
    "def getAd(link):\n",
    "    if \"pagead\" in link.lower():\n",
    "        return(True)\n",
    "    else:\n",
    "        return(False)"
   ]
  },
  {
   "cell_type": "code",
   "execution_count": 81,
   "id": "68f3da22",
   "metadata": {},
   "outputs": [
    {
     "name": "stdout",
     "output_type": "stream",
     "text": [
      "<class 'pandas.core.frame.DataFrame'>\n",
      "RangeIndex: 210 entries, 0 to 209\n",
      "Data columns (total 12 columns):\n",
      " #   Column          Non-Null Count  Dtype \n",
      "---  ------          --------------  ----- \n",
      " 0   job_title       210 non-null    object\n",
      " 1   job_link        210 non-null    object\n",
      " 2   company         209 non-null    object\n",
      " 3   company_link    161 non-null    object\n",
      " 4   company_rating  161 non-null    object\n",
      " 5   location        210 non-null    object\n",
      " 6   salary          99 non-null     object\n",
      " 7   status          150 non-null    object\n",
      " 8   state           151 non-null    object\n",
      " 9   is_remote       210 non-null    bool  \n",
      " 10  city            151 non-null    object\n",
      " 11  is_ad           210 non-null    bool  \n",
      "dtypes: bool(2), object(10)\n",
      "memory usage: 16.9+ KB\n"
     ]
    }
   ],
   "source": [
    "df[\"is_ad\"] = df.job_link.apply(lambda x: getAd(x))\n",
    "df.info()"
   ]
  },
  {
   "cell_type": "code",
   "execution_count": 82,
   "id": "c47033cf",
   "metadata": {},
   "outputs": [
    {
     "data": {
      "text/plain": [
       "False    179\n",
       "True      31\n",
       "Name: is_ad, dtype: int64"
      ]
     },
     "execution_count": 82,
     "metadata": {},
     "output_type": "execute_result"
    }
   ],
   "source": [
    "df.is_ad.value_counts()"
   ]
  },
  {
   "cell_type": "code",
   "execution_count": 85,
   "id": "10129e18",
   "metadata": {},
   "outputs": [
    {
     "data": {
      "text/plain": [
       "company\n",
       "MST Solutions                              3\n",
       "Westlake Corporation                       3\n",
       "Leadstack Inc                              2\n",
       "Wollborg Michelson Recruiting              2\n",
       "Merchant Centric                           2\n",
       "                                          ..\n",
       "GP Mobile, A T-Mobile Premium Retailer     0\n",
       "GeneDx                                     0\n",
       "General Dynamics Information Technology    0\n",
       "General Motors                             0\n",
       "precision technologies corp                0\n",
       "Name: is_ad, Length: 176, dtype: int64"
      ]
     },
     "execution_count": 85,
     "metadata": {},
     "output_type": "execute_result"
    }
   ],
   "source": [
    "#Paying for Ads, add to main job table as bool\n",
    "df.groupby(\"company\").is_ad.sum().sort_values(ascending=False)"
   ]
  },
  {
   "cell_type": "code",
   "execution_count": null,
   "id": "4915a500",
   "metadata": {},
   "outputs": [],
   "source": []
  },
  {
   "cell_type": "code",
   "execution_count": null,
   "id": "cc0b3c72",
   "metadata": {},
   "outputs": [],
   "source": []
  }
 ],
 "metadata": {
  "kernelspec": {
   "display_name": "Python 3 (ipykernel)",
   "language": "python",
   "name": "python3"
  },
  "language_info": {
   "codemirror_mode": {
    "name": "ipython",
    "version": 3
   },
   "file_extension": ".py",
   "mimetype": "text/x-python",
   "name": "python",
   "nbconvert_exporter": "python",
   "pygments_lexer": "ipython3",
   "version": "3.9.12"
  }
 },
 "nbformat": 4,
 "nbformat_minor": 5
}
