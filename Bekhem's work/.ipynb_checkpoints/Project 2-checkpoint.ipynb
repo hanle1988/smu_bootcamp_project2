{
 "cells": [
  {
   "cell_type": "code",
   "execution_count": 3,
   "id": "6d216ee0",
   "metadata": {},
   "outputs": [],
   "source": [
    "from splinter import Browser\n",
    "from bs4 import BeautifulSoup\n",
    "from webdriver_manager.chrome import ChromeDriverManager\n",
    "import pandas as pd\n",
    "import requests\n",
    "import time\n",
    "from sqlalchemy import inspect, create_engine\n",
    "import matplotlib.pyplot as plt\n",
    "import numpy as np"
   ]
  },
  {
   "cell_type": "code",
   "execution_count": 5,
   "id": "97d5f661",
   "metadata": {},
   "outputs": [
    {
     "name": "stderr",
     "output_type": "stream",
     "text": [
      "[WDM] - Downloading: 100%|████████████████████████████████████████████████████████| 6.58M/6.58M [00:00<00:00, 20.1MB/s]\n"
     ]
    }
   ],
   "source": [
    "#Setup splinter\n",
    "executable_path = {'executable_path': ChromeDriverManager().install()}\n",
    "browser = Browser('chrome', **executable_path, headless=False)"
   ]
  },
  {
   "cell_type": "code",
   "execution_count": null,
   "id": "b6da692b",
   "metadata": {},
   "outputs": [],
   "source": [
    "# HOSTNAME = \"localhost\"\n",
    "# PORT = 5432\n",
    "# DATABASE = \"diapers_db\"\n",
    "# USERNAME = \"postgres\"\n",
    "# PASSWORD = \"password\"\n",
    "# path = f'postgresql+psycopg2://{USERNAME}:{PASSWORD}@{HOSTNAME}:{PORT}/{DATABASE}'\n",
    "# engine = create_engine(path)"
   ]
  },
  {
   "cell_type": "code",
   "execution_count": null,
   "id": "c05d343a",
   "metadata": {},
   "outputs": [],
   "source": [
    "# conn = engine.connect()"
   ]
  },
  {
   "cell_type": "code",
   "execution_count": 6,
   "id": "f653b99a",
   "metadata": {},
   "outputs": [],
   "source": [
    "#Three websites searching Data Analyst positions\n",
    "dice_lyst = \"https://www.dice.com/jobs?q=data%20analyst&countryCode=US&radius=30&radiusUnit=mi&page=1&pageSize=20&language=en&eid=S2Q_,bw_0\"\n",
    "#indeed_lyst = \"https://www.indeed.com/jobs?q=data+analyst&l=&from=searchOnHP&vjk=f43749e32d279328\"\n",
    "#glass_lyst = \"https://www.glassdoor.com/Job/data-analyst-jobs-SRCH_KO0,12.htm?suggestCount=0&suggestChosen=false&clickSource=searchBtn&typedKeyword=data%2520analyst\""
   ]
  },
  {
   "cell_type": "code",
   "execution_count": null,
   "id": "f9516241",
   "metadata": {},
   "outputs": [],
   "source": []
  },
  {
   "cell_type": "code",
   "execution_count": null,
   "id": "f7ed3c68",
   "metadata": {},
   "outputs": [],
   "source": [
    "#Set-up sleep function\n",
    "# browser.visit(dice_lyst)\n",
    "# time.sleep(2)"
   ]
  },
  {
   "cell_type": "code",
   "execution_count": null,
   "id": "c3b0312b",
   "metadata": {},
   "outputs": [],
   "source": []
  },
  {
   "cell_type": "code",
   "execution_count": null,
   "id": "e132301c",
   "metadata": {},
   "outputs": [],
   "source": []
  },
  {
   "cell_type": "code",
   "execution_count": null,
   "id": "80a73dc7",
   "metadata": {},
   "outputs": [],
   "source": []
  },
  {
   "cell_type": "code",
   "execution_count": null,
   "id": "323fbbe6",
   "metadata": {},
   "outputs": [],
   "source": []
  },
  {
   "cell_type": "code",
   "execution_count": null,
   "id": "945037ab",
   "metadata": {},
   "outputs": [],
   "source": []
  }
 ],
 "metadata": {
  "kernelspec": {
   "display_name": "Python 3 (ipykernel)",
   "language": "python",
   "name": "python3"
  },
  "language_info": {
   "codemirror_mode": {
    "name": "ipython",
    "version": 3
   },
   "file_extension": ".py",
   "mimetype": "text/x-python",
   "name": "python",
   "nbconvert_exporter": "python",
   "pygments_lexer": "ipython3",
   "version": "3.9.12"
  }
 },
 "nbformat": 4,
 "nbformat_minor": 5
}
