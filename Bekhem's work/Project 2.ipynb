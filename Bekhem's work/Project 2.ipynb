{
 "cells": [
  {
   "cell_type": "code",
   "execution_count": 1,
   "id": "1afd765b",
   "metadata": {},
   "outputs": [],
   "source": [
    "from splinter import Browser\n",
    "from bs4 import BeautifulSoup\n",
    "from webdriver_manager.chrome import ChromeDriverManager\n",
    "import pandas as pd\n",
    "import requests\n",
    "import time\n",
    "from sqlalchemy import inspect, create_engine\n",
    "import matplotlib.pyplot as plt\n",
    "import numpy as np"
   ]
  },
  {
   "cell_type": "code",
   "execution_count": 2,
   "id": "20978fe3",
   "metadata": {},
   "outputs": [
    {
     "name": "stderr",
     "output_type": "stream",
     "text": [
      "[WDM] - Downloading: 100%|████████████████████████████████████████████████████████| 6.58M/6.58M [00:00<00:00, 15.2MB/s]\n"
     ]
    }
   ],
   "source": [
    "#Setup splinter\n",
    "executable_path = {'executable_path': ChromeDriverManager().install()}\n",
    "browser = Browser('chrome', **executable_path, headless=False)"
   ]
  },
  {
   "cell_type": "code",
   "execution_count": 3,
   "id": "392a835a",
   "metadata": {},
   "outputs": [],
   "source": [
    "# HOSTNAME = \"localhost\"\n",
    "# PORT = 5432\n",
    "# DATABASE = \"diapers_db\"\n",
    "# USERNAME = \"postgres\"\n",
    "# PASSWORD = \"password\"\n",
    "# path = f'postgresql+psycopg2://{USERNAME}:{PASSWORD}@{HOSTNAME}:{PORT}/{DATABASE}'\n",
    "# engine = create_engine(path)"
   ]
  },
  {
   "cell_type": "code",
   "execution_count": 4,
   "id": "a874dcd9",
   "metadata": {},
   "outputs": [],
   "source": [
    "# conn = engine.connect()"
   ]
  },
  {
   "cell_type": "code",
   "execution_count": 3,
   "id": "f43ee070",
   "metadata": {},
   "outputs": [],
   "source": [
    "#Website searching Data Analyst positions\n",
    "indeed = \"https://www.indeed.com/jobs?q=data+analyst\"\n",
    "\n",
    "browser.visit(indeed)\n",
    "\n"
   ]
  },
  {
   "cell_type": "code",
   "execution_count": 4,
   "id": "585bae38",
   "metadata": {},
   "outputs": [
    {
     "data": {
      "text/plain": [
       "'<html dir=\"ltr\" lang=\"en\" class=\"js-focus-visible\" data-js-focus-visible=\"\"><head>\\n    <link rel=\"shortcut icon\" href=\"/images/favicon.ico\">\\n    <title>Data Analyst Jobs, Employment | Indeed.com</title>\\n    <meta http-equiv=\"content-type\" content=\"text/html; charset=utf-8\">\\n    <meta name=\"description\" content=\"28,086 Data Analyst jobs available on Indeed.com. Apply to Data Analyst, Entry Level Data Analyst, Senior Data Analyst and more!\">\\n    <meta name=\"keywords\" content=\"Data Analyst Jobs, Em'"
      ]
     },
     "execution_count": 4,
     "metadata": {},
     "output_type": "execute_result"
    }
   ],
   "source": [
    "html = browser.html\n",
    "html[0:500]"
   ]
  },
  {
   "cell_type": "code",
   "execution_count": 5,
   "id": "36617ffd",
   "metadata": {},
   "outputs": [],
   "source": [
    "soup = BeautifulSoup(browser.html, \"html.parser\")\n",
    "#print(soup.prettify())"
   ]
  },
  {
   "cell_type": "code",
   "execution_count": 6,
   "id": "4cddb98a",
   "metadata": {},
   "outputs": [
    {
     "data": {
      "text/plain": [
       "bs4.BeautifulSoup"
      ]
     },
     "execution_count": 6,
     "metadata": {},
     "output_type": "execute_result"
    }
   ],
   "source": [
    "soup= BeautifulSoup(browser.html, 'lxml')\n",
    "type(soup)"
   ]
  },
  {
   "cell_type": "code",
   "execution_count": 7,
   "id": "44b1b46f",
   "metadata": {},
   "outputs": [
    {
     "data": {
      "text/plain": [
       "15"
      ]
     },
     "execution_count": 7,
     "metadata": {},
     "output_type": "execute_result"
    }
   ],
   "source": [
    "#Find code to loop through web page and pull the title of the job and possibly the location, then find code to click the job and acquire the salary.\n",
    "jobs = soup.find_all('div', {'class': 'cardOutline'})\n",
    "len(jobs)\n"
   ]
  },
  {
   "cell_type": "code",
   "execution_count": 8,
   "id": "e9f27e82",
   "metadata": {},
   "outputs": [],
   "source": [
    "#Find the jobs titles for positions and the link IF available\n",
    "job = jobs[0]\n",
    "title = job.find('a', {\"class\": 'jcs-JobTitle'}).text\n",
    "link = \"www.indeed.com\" + job.find('a', {\"class\": 'jcs-JobTitle'})[\"href\"]\n"
   ]
  },
  {
   "cell_type": "code",
   "execution_count": 9,
   "id": "39b2bba7",
   "metadata": {},
   "outputs": [],
   "source": [
    "#Find company name and the link IF available\n",
    "company = job.find('a', {\"class\": 'companyOverviewLink'}).text\n",
    "company_link = \"www.indeed.com\" + job.find('a', {\"class\": 'companyOverviewLink'})[\"href\"]"
   ]
  },
  {
   "cell_type": "code",
   "execution_count": 10,
   "id": "08c1614a",
   "metadata": {},
   "outputs": [
    {
     "data": {
      "text/plain": [
       "'2.6'"
      ]
     },
     "execution_count": 10,
     "metadata": {},
     "output_type": "execute_result"
    }
   ],
   "source": [
    "#Find the rating for the company/job\n",
    "rating = job.find('span', {\"class\": 'ratingNumber'}).text\n",
    "rating"
   ]
  },
  {
   "cell_type": "code",
   "execution_count": 11,
   "id": "300e71f2",
   "metadata": {},
   "outputs": [
    {
     "data": {
      "text/plain": [
       "'Dallas, TX 75229\\xa0(Northwest Dallas area)'"
      ]
     },
     "execution_count": 11,
     "metadata": {},
     "output_type": "execute_result"
    }
   ],
   "source": [
    "#Find the location of the job listing\n",
    "loc = job.find('div', {\"class\": 'companyLocation'}).text\n",
    "loc"
   ]
  },
  {
   "cell_type": "code",
   "execution_count": 55,
   "id": "7afe6475",
   "metadata": {},
   "outputs": [
    {
     "data": {
      "text/plain": [
       "'$83,000 - $88,000 a year'"
      ]
     },
     "execution_count": 55,
     "metadata": {},
     "output_type": "execute_result"
    }
   ],
   "source": [
    "#Find the salary for the job listing\n",
    "salary = job.find('div', {\"class\": 'salary-snippet-container'}).text\n",
    "salary"
   ]
  },
  {
   "cell_type": "code",
   "execution_count": 14,
   "id": "13a439cf",
   "metadata": {},
   "outputs": [
    {
     "data": {
      "text/plain": [
       "'Full-time'"
      ]
     },
     "execution_count": 14,
     "metadata": {},
     "output_type": "execute_result"
    }
   ],
   "source": [
    "#Pull the text only from the parent for job salary\n",
    "job.find('svg', {\"aria-label\": \"Job type\"}).parent.text"
   ]
  },
  {
   "cell_type": "code",
   "execution_count": 15,
   "id": "85f7b28e",
   "metadata": {},
   "outputs": [
    {
     "data": {
      "text/html": [
       "<div>\n",
       "<style scoped>\n",
       "    .dataframe tbody tr th:only-of-type {\n",
       "        vertical-align: middle;\n",
       "    }\n",
       "\n",
       "    .dataframe tbody tr th {\n",
       "        vertical-align: top;\n",
       "    }\n",
       "\n",
       "    .dataframe thead th {\n",
       "        text-align: right;\n",
       "    }\n",
       "</style>\n",
       "<table border=\"1\" class=\"dataframe\">\n",
       "  <thead>\n",
       "    <tr style=\"text-align: right;\">\n",
       "      <th></th>\n",
       "      <th>job_title</th>\n",
       "      <th>job_link</th>\n",
       "      <th>company</th>\n",
       "      <th>company_link</th>\n",
       "      <th>company_rating</th>\n",
       "      <th>location</th>\n",
       "      <th>salary</th>\n",
       "      <th>status</th>\n",
       "    </tr>\n",
       "  </thead>\n",
       "  <tbody>\n",
       "    <tr>\n",
       "      <th>0</th>\n",
       "      <td>ISD Architect I (Senior Data Analyst)</td>\n",
       "      <td>www.indeed.com/pagead/clk?mo=r&amp;ad=-6NYlbfkN0C1...</td>\n",
       "      <td>Navy Federal Credit Union</td>\n",
       "      <td>www.indeed.com/cmp/Navy-Federal-Credit-Union</td>\n",
       "      <td>3.9</td>\n",
       "      <td>Pensacola, FL</td>\n",
       "      <td>$95,600 - $163,500 a year</td>\n",
       "      <td>Full-time +1</td>\n",
       "    </tr>\n",
       "    <tr>\n",
       "      <th>1</th>\n",
       "      <td>Business Data Analyst - Operations</td>\n",
       "      <td>www.indeed.com/pagead/clk?mo=r&amp;ad=-6NYlbfkN0Av...</td>\n",
       "      <td>Summit Companies</td>\n",
       "      <td>www.indeed.com/cmp/Summit-Companies</td>\n",
       "      <td>2.9</td>\n",
       "      <td>Mendota Heights, MN 55120</td>\n",
       "      <td>$65,000 - $85,000 a year</td>\n",
       "      <td>Full-time</td>\n",
       "    </tr>\n",
       "    <tr>\n",
       "      <th>2</th>\n",
       "      <td>Data Analyst</td>\n",
       "      <td>www.indeed.com/pagead/clk?mo=r&amp;ad=-6NYlbfkN0Bb...</td>\n",
       "      <td>Allied Stone Inc</td>\n",
       "      <td>www.indeed.com/cmp/Allied-Stone,-Inc.</td>\n",
       "      <td>2.6</td>\n",
       "      <td>Dallas, TX 75229 (Northwest Dallas area)</td>\n",
       "      <td>None</td>\n",
       "      <td>Full-time</td>\n",
       "    </tr>\n",
       "    <tr>\n",
       "      <th>3</th>\n",
       "      <td>Entry level Business /Data Analyst</td>\n",
       "      <td>www.indeed.com/company/TRESUME/jobs/Entry-Leve...</td>\n",
       "      <td>TRESUME</td>\n",
       "      <td>None</td>\n",
       "      <td>None</td>\n",
       "      <td>Dallas, TX</td>\n",
       "      <td>$30 - $35 an hour</td>\n",
       "      <td>Full-time</td>\n",
       "    </tr>\n",
       "    <tr>\n",
       "      <th>4</th>\n",
       "      <td>Data Analyst</td>\n",
       "      <td>www.indeed.com/company/Devcare-Solutions/jobs/...</td>\n",
       "      <td>Devcare Solutions</td>\n",
       "      <td>www.indeed.com/cmp/Devcare-Solutions</td>\n",
       "      <td>3.7</td>\n",
       "      <td>Remote</td>\n",
       "      <td>$100,000 - $110,000 a year</td>\n",
       "      <td>Full-time +1</td>\n",
       "    </tr>\n",
       "  </tbody>\n",
       "</table>\n",
       "</div>"
      ],
      "text/plain": [
       "                               job_title  \\\n",
       "0  ISD Architect I (Senior Data Analyst)   \n",
       "1     Business Data Analyst - Operations   \n",
       "2                           Data Analyst   \n",
       "3     Entry level Business /Data Analyst   \n",
       "4                           Data Analyst   \n",
       "\n",
       "                                            job_link  \\\n",
       "0  www.indeed.com/pagead/clk?mo=r&ad=-6NYlbfkN0C1...   \n",
       "1  www.indeed.com/pagead/clk?mo=r&ad=-6NYlbfkN0Av...   \n",
       "2  www.indeed.com/pagead/clk?mo=r&ad=-6NYlbfkN0Bb...   \n",
       "3  www.indeed.com/company/TRESUME/jobs/Entry-Leve...   \n",
       "4  www.indeed.com/company/Devcare-Solutions/jobs/...   \n",
       "\n",
       "                     company                                  company_link  \\\n",
       "0  Navy Federal Credit Union  www.indeed.com/cmp/Navy-Federal-Credit-Union   \n",
       "1           Summit Companies           www.indeed.com/cmp/Summit-Companies   \n",
       "2           Allied Stone Inc         www.indeed.com/cmp/Allied-Stone,-Inc.   \n",
       "3                    TRESUME                                          None   \n",
       "4          Devcare Solutions          www.indeed.com/cmp/Devcare-Solutions   \n",
       "\n",
       "  company_rating                                  location  \\\n",
       "0            3.9                             Pensacola, FL   \n",
       "1            2.9                 Mendota Heights, MN 55120   \n",
       "2            2.6  Dallas, TX 75229 (Northwest Dallas area)   \n",
       "3           None                                Dallas, TX   \n",
       "4            3.7                                    Remote   \n",
       "\n",
       "                       salary        status  \n",
       "0   $95,600 - $163,500 a year  Full-time +1  \n",
       "1    $65,000 - $85,000 a year     Full-time  \n",
       "2                        None     Full-time  \n",
       "3           $30 - $35 an hour     Full-time  \n",
       "4  $100,000 - $110,000 a year  Full-time +1  "
      ]
     },
     "execution_count": 15,
     "metadata": {},
     "output_type": "execute_result"
    }
   ],
   "source": [
    "#\n",
    "rows = []\n",
    "browser.visit(indeed)\n",
    "for i in range(1, 15):\n",
    "    \n",
    "    html = browser.html\n",
    "    soup = BeautifulSoup(browser.html, \"html.parser\")\n",
    "    jobs = soup.find_all('div', {'class': 'cardOutline'})\n",
    "    \n",
    "    \n",
    "    for job in jobs:\n",
    "        title = job.find('a', {\"class\": 'jcs-JobTitle'}).text\n",
    "        link = \"www.indeed.com\" + job.find('a', {\"class\": 'jcs-JobTitle'})[\"href\"]\n",
    "\n",
    "        company_name = job.find('span', {'class': 'companyName'})\n",
    "        if company_name: \n",
    "            company = company_name.text\n",
    "        else:\n",
    "            company = None\n",
    "        \n",
    "        company_con = job.find('a', {\"class\": 'companyOverviewLink'})\n",
    "        if company_con: \n",
    "            company_link = \"www.indeed.com\" + company_con[\"href\"]\n",
    "        else:\n",
    "            company_link = None\n",
    "\n",
    "        rating_con = job.find('span', {\"class\": 'ratingNumber'})\n",
    "        if rating_con: \n",
    "            rating = rating_con.text\n",
    "        else:\n",
    "            rating = None\n",
    "\n",
    "\n",
    "        loc = job.find('div', {\"class\": 'companyLocation'}).text\n",
    "\n",
    "        salary_con = job.find('div', {\"class\": 'salary-snippet-container'})\n",
    "        if salary_con: \n",
    "            salary = salary_con.text\n",
    "        else:\n",
    "            salary = None\n",
    "\n",
    "\n",
    "        status_con = job.find('svg', {\"aria-label\": \"Job type\"})\n",
    "        if status_con:\n",
    "            status = status_con.parent.text\n",
    "        else:\n",
    "            status = None\n",
    "\n",
    "        data = {}\n",
    "        data[\"job_title\"] = title\n",
    "        data[\"job_link\"] = link\n",
    "        data[\"company\"] = company\n",
    "        data[\"company_link\"] = company_link\n",
    "        data[\"company_rating\"] = rating\n",
    "        data[\"location\"] = loc\n",
    "        data[\"salary\"] = salary\n",
    "        data[\"status\"] = status\n",
    "        rows.append(data)\n",
    "    \n",
    "    browser.links.find_by_text(f\"{i+1}\").click()\n",
    "        \n",
    "df = pd.DataFrame(rows)\n",
    "df.head()"
   ]
  },
  {
   "cell_type": "code",
   "execution_count": 16,
   "id": "2b141d3f",
   "metadata": {},
   "outputs": [
    {
     "data": {
      "text/plain": [
       "210"
      ]
     },
     "execution_count": 16,
     "metadata": {},
     "output_type": "execute_result"
    }
   ],
   "source": [
    "len(df)"
   ]
  },
  {
   "cell_type": "code",
   "execution_count": 17,
   "id": "00fbf640",
   "metadata": {},
   "outputs": [
    {
     "name": "stdout",
     "output_type": "stream",
     "text": [
      "<class 'pandas.core.frame.DataFrame'>\n",
      "RangeIndex: 210 entries, 0 to 209\n",
      "Data columns (total 8 columns):\n",
      " #   Column          Non-Null Count  Dtype  \n",
      "---  ------          --------------  -----  \n",
      " 0   job_title       210 non-null    object \n",
      " 1   job_link        210 non-null    object \n",
      " 2   company         210 non-null    object \n",
      " 3   company_link    140 non-null    object \n",
      " 4   company_rating  140 non-null    float64\n",
      " 5   location        210 non-null    object \n",
      " 6   salary          121 non-null    object \n",
      " 7   status          163 non-null    object \n",
      "dtypes: float64(1), object(7)\n",
      "memory usage: 13.2+ KB\n"
     ]
    }
   ],
   "source": [
    "df[\"company_rating\"] = pd.to_numeric(df.company_rating)\n",
    "df.info()"
   ]
  },
  {
   "cell_type": "code",
   "execution_count": 18,
   "id": "7bb157e4",
   "metadata": {},
   "outputs": [
    {
     "data": {
      "text/plain": [
       "Full-time       98\n",
       "Contract        40\n",
       "Full-time +1    13\n",
       "Full-time +2     4\n",
       "Contract +1      3\n",
       "Part-time        2\n",
       "Temporary        2\n",
       "Internship       1\n",
       "Name: status, dtype: int64"
      ]
     },
     "execution_count": 18,
     "metadata": {},
     "output_type": "execute_result"
    }
   ],
   "source": [
    "df.status.value_counts()"
   ]
  },
  {
   "cell_type": "code",
   "execution_count": 19,
   "id": "9421d672",
   "metadata": {},
   "outputs": [
    {
     "name": "stderr",
     "output_type": "stream",
     "text": [
      "C:\\Users\\19722\\AppData\\Local\\Temp\\ipykernel_7444\\152645899.py:2: FutureWarning: The default value of regex will change from True to False in a future version.\n",
      "  df[\"status\"] = df.status.str.replace(\"\\s\\+\\d\",\"\")\n"
     ]
    }
   ],
   "source": [
    "#combine with regex s=space d=catch or match all numbers \\+ = plus sign matches plus sign, regex meaning.\n",
    "df[\"status\"] = df.status.str.replace(\"\\s\\+\\d\",\"\")"
   ]
  },
  {
   "cell_type": "code",
   "execution_count": 20,
   "id": "7354a4f7",
   "metadata": {},
   "outputs": [
    {
     "data": {
      "text/plain": [
       "Full-time     115\n",
       "Contract       43\n",
       "Part-time       2\n",
       "Temporary       2\n",
       "Internship      1\n",
       "Name: status, dtype: int64"
      ]
     },
     "execution_count": 20,
     "metadata": {},
     "output_type": "execute_result"
    }
   ],
   "source": [
    "df.status.value_counts()"
   ]
  },
  {
   "cell_type": "code",
   "execution_count": 21,
   "id": "0a060b48",
   "metadata": {},
   "outputs": [
    {
     "data": {
      "text/plain": [
       "array(['Full-time', 'Contract', 'Part-time', None, 'Temporary',\n",
       "       'Internship'], dtype=object)"
      ]
     },
     "execution_count": 21,
     "metadata": {},
     "output_type": "execute_result"
    }
   ],
   "source": [
    "#Status column -  ID, name, last_updated\n",
    "df.status.unique()"
   ]
  },
  {
   "cell_type": "code",
   "execution_count": 22,
   "id": "7016f5ac",
   "metadata": {},
   "outputs": [
    {
     "data": {
      "text/html": [
       "<div>\n",
       "<style scoped>\n",
       "    .dataframe tbody tr th:only-of-type {\n",
       "        vertical-align: middle;\n",
       "    }\n",
       "\n",
       "    .dataframe tbody tr th {\n",
       "        vertical-align: top;\n",
       "    }\n",
       "\n",
       "    .dataframe thead th {\n",
       "        text-align: right;\n",
       "    }\n",
       "</style>\n",
       "<table border=\"1\" class=\"dataframe\">\n",
       "  <thead>\n",
       "    <tr style=\"text-align: right;\">\n",
       "      <th></th>\n",
       "      <th>status</th>\n",
       "    </tr>\n",
       "  </thead>\n",
       "  <tbody>\n",
       "    <tr>\n",
       "      <th>0</th>\n",
       "      <td>Full-time</td>\n",
       "    </tr>\n",
       "    <tr>\n",
       "      <th>1</th>\n",
       "      <td>Contract</td>\n",
       "    </tr>\n",
       "    <tr>\n",
       "      <th>2</th>\n",
       "      <td>Part-time</td>\n",
       "    </tr>\n",
       "    <tr>\n",
       "      <th>3</th>\n",
       "      <td>Temporary</td>\n",
       "    </tr>\n",
       "    <tr>\n",
       "      <th>4</th>\n",
       "      <td>Internship</td>\n",
       "    </tr>\n",
       "  </tbody>\n",
       "</table>\n",
       "</div>"
      ],
      "text/plain": [
       "       status\n",
       "0   Full-time\n",
       "1    Contract\n",
       "2   Part-time\n",
       "3   Temporary\n",
       "4  Internship"
      ]
     },
     "execution_count": 22,
     "metadata": {},
     "output_type": "execute_result"
    }
   ],
   "source": [
    "#Status lookup table\n",
    "status = df.status.dropna().unique()\n",
    "status_df = pd.DataFrame()\n",
    "status_df[\"status\"] = status\n",
    "status_df"
   ]
  },
  {
   "cell_type": "code",
   "execution_count": 24,
   "id": "2c8dcf87",
   "metadata": {},
   "outputs": [
    {
     "data": {
      "text/plain": [
       "Insight Global                                  2\n",
       "Navy Federal Credit Union                       1\n",
       "Scope Services Inc                              1\n",
       "Clairvoyant                                     1\n",
       "KesarWeb                                        1\n",
       "                                               ..\n",
       "Toyota                                          1\n",
       "RAC Brands                                      1\n",
       "Booz Allen Hamilton                             1\n",
       "Raytheon Technologies Corporate Headquarters    1\n",
       "Planned Parenthood Federation of America        1\n",
       "Name: company, Length: 196, dtype: int64"
      ]
     },
     "execution_count": 24,
     "metadata": {},
     "output_type": "execute_result"
    }
   ],
   "source": [
    "#Company lookup table, revised to drop the 2nd Insight Global below\n",
    "companies = df.loc[:,[\"company\",\"company_link\", \"company_rating\"]].drop_duplicates().reset_index(drop=True)\n",
    "companies.company.value_counts()"
   ]
  },
  {
   "cell_type": "code",
   "execution_count": 25,
   "id": "18653f26",
   "metadata": {},
   "outputs": [
    {
     "data": {
      "text/html": [
       "<div>\n",
       "<style scoped>\n",
       "    .dataframe tbody tr th:only-of-type {\n",
       "        vertical-align: middle;\n",
       "    }\n",
       "\n",
       "    .dataframe tbody tr th {\n",
       "        vertical-align: top;\n",
       "    }\n",
       "\n",
       "    .dataframe thead th {\n",
       "        text-align: right;\n",
       "    }\n",
       "</style>\n",
       "<table border=\"1\" class=\"dataframe\">\n",
       "  <thead>\n",
       "    <tr style=\"text-align: right;\">\n",
       "      <th></th>\n",
       "      <th>company</th>\n",
       "      <th>company_link</th>\n",
       "      <th>company_rating</th>\n",
       "    </tr>\n",
       "  </thead>\n",
       "  <tbody>\n",
       "    <tr>\n",
       "      <th>121</th>\n",
       "      <td>Insight Global</td>\n",
       "      <td>None</td>\n",
       "      <td>NaN</td>\n",
       "    </tr>\n",
       "    <tr>\n",
       "      <th>130</th>\n",
       "      <td>Insight Global</td>\n",
       "      <td>www.indeed.com/cmp/Insight-Global</td>\n",
       "      <td>3.9</td>\n",
       "    </tr>\n",
       "  </tbody>\n",
       "</table>\n",
       "</div>"
      ],
      "text/plain": [
       "            company                       company_link  company_rating\n",
       "121  Insight Global                               None             NaN\n",
       "130  Insight Global  www.indeed.com/cmp/Insight-Global             3.9"
      ]
     },
     "execution_count": 25,
     "metadata": {},
     "output_type": "execute_result"
    }
   ],
   "source": [
    "companies.loc[companies.company == \"Insight Global\"]"
   ]
  },
  {
   "cell_type": "code",
   "execution_count": 26,
   "id": "98ed3bf7",
   "metadata": {},
   "outputs": [],
   "source": [
    "df.loc[df.company == \"Insight Global\", \"company_link\"] = \"www.indeed.com/cmp/Insight-Global\"\n",
    "df.loc[df.company == \"Insight Global\", \"company_rating\"] = 3.9"
   ]
  },
  {
   "cell_type": "code",
   "execution_count": 38,
   "id": "ad3dd709",
   "metadata": {},
   "outputs": [
    {
     "data": {
      "text/plain": [
       "Navy Federal Credit Union                       1\n",
       "Larsen and Toubro (L&T)                         1\n",
       "Clairvoyant                                     1\n",
       "KesarWeb                                        1\n",
       "TikTok                                          1\n",
       "                                               ..\n",
       "Toyota                                          1\n",
       "RAC Brands                                      1\n",
       "Booz Allen Hamilton                             1\n",
       "Raytheon Technologies Corporate Headquarters    1\n",
       "Planned Parenthood Federation of America        1\n",
       "Name: company, Length: 196, dtype: int64"
      ]
     },
     "execution_count": 38,
     "metadata": {},
     "output_type": "execute_result"
    }
   ],
   "source": [
    "companies = df.loc[:,[\"company\",\"company_link\", \"company_rating\"]].drop_duplicates().reset_index(drop=True)\n",
    "companies.company.value_counts()"
   ]
  },
  {
   "cell_type": "code",
   "execution_count": 39,
   "id": "793cb926",
   "metadata": {},
   "outputs": [],
   "source": [
    "#State \n",
    "def getState(loc):\n",
    "    if \",\" in loc:\n",
    "        state = loc.replace(\"\\xa0\", \" \").split(\",\")[1].strip().split(\" \")[0].strip()\n",
    "    else:\n",
    "        state = None\n",
    "        \n",
    "    return(state)"
   ]
  },
  {
   "cell_type": "code",
   "execution_count": 40,
   "id": "90649c31",
   "metadata": {},
   "outputs": [
    {
     "data": {
      "text/plain": [
       "'TX'"
      ]
     },
     "execution_count": 40,
     "metadata": {},
     "output_type": "execute_result"
    }
   ],
   "source": [
    "#Find the locations with\"Downtown area\"\n",
    "getState(\"Austin, TX (Downtown area)\")"
   ]
  },
  {
   "cell_type": "code",
   "execution_count": 41,
   "id": "2dc2bee0",
   "metadata": {},
   "outputs": [
    {
     "name": "stdout",
     "output_type": "stream",
     "text": [
      "<class 'pandas.core.frame.DataFrame'>\n",
      "RangeIndex: 210 entries, 0 to 209\n",
      "Data columns (total 9 columns):\n",
      " #   Column          Non-Null Count  Dtype  \n",
      "---  ------          --------------  -----  \n",
      " 0   job_title       210 non-null    object \n",
      " 1   job_link        210 non-null    object \n",
      " 2   company         210 non-null    object \n",
      " 3   company_link    141 non-null    object \n",
      " 4   company_rating  141 non-null    float64\n",
      " 5   location        210 non-null    object \n",
      " 6   salary          121 non-null    object \n",
      " 7   status          163 non-null    object \n",
      " 8   state           160 non-null    object \n",
      "dtypes: float64(1), object(8)\n",
      "memory usage: 14.9+ KB\n"
     ]
    }
   ],
   "source": [
    "#\n",
    "df[\"state\"] = df.location.apply(lambda x: getState(x))\n",
    "df.info()"
   ]
  },
  {
   "cell_type": "code",
   "execution_count": 42,
   "id": "0d4ee652",
   "metadata": {},
   "outputs": [
    {
     "data": {
      "text/plain": [
       "TX    61\n",
       "CA    21\n",
       "NY    11\n",
       "IL     8\n",
       "VA     8\n",
       "GA     6\n",
       "CO     5\n",
       "FL     4\n",
       "NC     4\n",
       "NJ     3\n",
       "PA     3\n",
       "WA     3\n",
       "MA     2\n",
       "MD     2\n",
       "OH     2\n",
       "IN     2\n",
       "KY     2\n",
       "WI     2\n",
       "OR     2\n",
       "CT     1\n",
       "SC     1\n",
       "MN     1\n",
       "DC     1\n",
       "AZ     1\n",
       "AR     1\n",
       "IA     1\n",
       "OK     1\n",
       "MI     1\n",
       "Name: state, dtype: int64"
      ]
     },
     "execution_count": 42,
     "metadata": {},
     "output_type": "execute_result"
    }
   ],
   "source": [
    "#\n",
    "df.state.value_counts()"
   ]
  },
  {
   "cell_type": "code",
   "execution_count": 43,
   "id": "d797a0d5",
   "metadata": {},
   "outputs": [
    {
     "data": {
      "text/html": [
       "<div>\n",
       "<style scoped>\n",
       "    .dataframe tbody tr th:only-of-type {\n",
       "        vertical-align: middle;\n",
       "    }\n",
       "\n",
       "    .dataframe tbody tr th {\n",
       "        vertical-align: top;\n",
       "    }\n",
       "\n",
       "    .dataframe thead th {\n",
       "        text-align: right;\n",
       "    }\n",
       "</style>\n",
       "<table border=\"1\" class=\"dataframe\">\n",
       "  <thead>\n",
       "    <tr style=\"text-align: right;\">\n",
       "      <th></th>\n",
       "      <th>job_title</th>\n",
       "      <th>job_link</th>\n",
       "      <th>company</th>\n",
       "      <th>company_link</th>\n",
       "      <th>company_rating</th>\n",
       "      <th>location</th>\n",
       "      <th>salary</th>\n",
       "      <th>status</th>\n",
       "      <th>state</th>\n",
       "    </tr>\n",
       "  </thead>\n",
       "  <tbody>\n",
       "    <tr>\n",
       "      <th>87</th>\n",
       "      <td>Jr. Data Analyst/ Assistant</td>\n",
       "      <td>www.indeed.com/company/RPO-International/jobs/...</td>\n",
       "      <td>RPO International</td>\n",
       "      <td>None</td>\n",
       "      <td>NaN</td>\n",
       "      <td>Houston, TX 77002 (Downtown area)</td>\n",
       "      <td>Up to $28 an hour</td>\n",
       "      <td>Contract</td>\n",
       "      <td>TX</td>\n",
       "    </tr>\n",
       "  </tbody>\n",
       "</table>\n",
       "</div>"
      ],
      "text/plain": [
       "                      job_title  \\\n",
       "87  Jr. Data Analyst/ Assistant   \n",
       "\n",
       "                                             job_link            company  \\\n",
       "87  www.indeed.com/company/RPO-International/jobs/...  RPO International   \n",
       "\n",
       "   company_link  company_rating                           location  \\\n",
       "87         None             NaN  Houston, TX 77002 (Downtown area)   \n",
       "\n",
       "               salary    status state  \n",
       "87  Up to $28 an hour  Contract    TX  "
      ]
     },
     "execution_count": 43,
     "metadata": {},
     "output_type": "execute_result"
    }
   ],
   "source": [
    "#\n",
    "df.loc[df.location.str.contains(\"\\(Downtown\")]"
   ]
  },
  {
   "cell_type": "code",
   "execution_count": 44,
   "id": "96ac332e",
   "metadata": {},
   "outputs": [
    {
     "data": {
      "text/plain": [
       "'Remote in Katy, TX 77449'"
      ]
     },
     "execution_count": 44,
     "metadata": {},
     "output_type": "execute_result"
    }
   ],
   "source": [
    "df.iloc[71].location"
   ]
  },
  {
   "cell_type": "code",
   "execution_count": null,
   "id": "8346c1fe",
   "metadata": {},
   "outputs": [],
   "source": []
  },
  {
   "cell_type": "code",
   "execution_count": null,
   "id": "e69b9210",
   "metadata": {},
   "outputs": [],
   "source": []
  },
  {
   "cell_type": "code",
   "execution_count": 46,
   "id": "b9261458",
   "metadata": {},
   "outputs": [
    {
     "data": {
      "text/html": [
       "<div>\n",
       "<style scoped>\n",
       "    .dataframe tbody tr th:only-of-type {\n",
       "        vertical-align: middle;\n",
       "    }\n",
       "\n",
       "    .dataframe tbody tr th {\n",
       "        vertical-align: top;\n",
       "    }\n",
       "\n",
       "    .dataframe thead th {\n",
       "        text-align: right;\n",
       "    }\n",
       "</style>\n",
       "<table border=\"1\" class=\"dataframe\">\n",
       "  <thead>\n",
       "    <tr style=\"text-align: right;\">\n",
       "      <th></th>\n",
       "      <th>state</th>\n",
       "    </tr>\n",
       "  </thead>\n",
       "  <tbody>\n",
       "    <tr>\n",
       "      <th>0</th>\n",
       "      <td>FL</td>\n",
       "    </tr>\n",
       "    <tr>\n",
       "      <th>1</th>\n",
       "      <td>MN</td>\n",
       "    </tr>\n",
       "    <tr>\n",
       "      <th>2</th>\n",
       "      <td>TX</td>\n",
       "    </tr>\n",
       "    <tr>\n",
       "      <th>3</th>\n",
       "      <td>IL</td>\n",
       "    </tr>\n",
       "    <tr>\n",
       "      <th>4</th>\n",
       "      <td>CA</td>\n",
       "    </tr>\n",
       "    <tr>\n",
       "      <th>5</th>\n",
       "      <td>NC</td>\n",
       "    </tr>\n",
       "    <tr>\n",
       "      <th>6</th>\n",
       "      <td>OR</td>\n",
       "    </tr>\n",
       "    <tr>\n",
       "      <th>7</th>\n",
       "      <td>CO</td>\n",
       "    </tr>\n",
       "    <tr>\n",
       "      <th>8</th>\n",
       "      <td>VA</td>\n",
       "    </tr>\n",
       "    <tr>\n",
       "      <th>9</th>\n",
       "      <td>GA</td>\n",
       "    </tr>\n",
       "    <tr>\n",
       "      <th>10</th>\n",
       "      <td>NY</td>\n",
       "    </tr>\n",
       "    <tr>\n",
       "      <th>11</th>\n",
       "      <td>WI</td>\n",
       "    </tr>\n",
       "    <tr>\n",
       "      <th>12</th>\n",
       "      <td>AR</td>\n",
       "    </tr>\n",
       "    <tr>\n",
       "      <th>13</th>\n",
       "      <td>KY</td>\n",
       "    </tr>\n",
       "    <tr>\n",
       "      <th>14</th>\n",
       "      <td>IN</td>\n",
       "    </tr>\n",
       "    <tr>\n",
       "      <th>15</th>\n",
       "      <td>CT</td>\n",
       "    </tr>\n",
       "    <tr>\n",
       "      <th>16</th>\n",
       "      <td>NJ</td>\n",
       "    </tr>\n",
       "    <tr>\n",
       "      <th>17</th>\n",
       "      <td>SC</td>\n",
       "    </tr>\n",
       "    <tr>\n",
       "      <th>18</th>\n",
       "      <td>WA</td>\n",
       "    </tr>\n",
       "    <tr>\n",
       "      <th>19</th>\n",
       "      <td>DC</td>\n",
       "    </tr>\n",
       "    <tr>\n",
       "      <th>20</th>\n",
       "      <td>OH</td>\n",
       "    </tr>\n",
       "    <tr>\n",
       "      <th>21</th>\n",
       "      <td>AZ</td>\n",
       "    </tr>\n",
       "    <tr>\n",
       "      <th>22</th>\n",
       "      <td>PA</td>\n",
       "    </tr>\n",
       "    <tr>\n",
       "      <th>23</th>\n",
       "      <td>IA</td>\n",
       "    </tr>\n",
       "    <tr>\n",
       "      <th>24</th>\n",
       "      <td>MD</td>\n",
       "    </tr>\n",
       "    <tr>\n",
       "      <th>25</th>\n",
       "      <td>MA</td>\n",
       "    </tr>\n",
       "    <tr>\n",
       "      <th>26</th>\n",
       "      <td>OK</td>\n",
       "    </tr>\n",
       "    <tr>\n",
       "      <th>27</th>\n",
       "      <td>MI</td>\n",
       "    </tr>\n",
       "  </tbody>\n",
       "</table>\n",
       "</div>"
      ],
      "text/plain": [
       "   state\n",
       "0     FL\n",
       "1     MN\n",
       "2     TX\n",
       "3     IL\n",
       "4     CA\n",
       "5     NC\n",
       "6     OR\n",
       "7     CO\n",
       "8     VA\n",
       "9     GA\n",
       "10    NY\n",
       "11    WI\n",
       "12    AR\n",
       "13    KY\n",
       "14    IN\n",
       "15    CT\n",
       "16    NJ\n",
       "17    SC\n",
       "18    WA\n",
       "19    DC\n",
       "20    OH\n",
       "21    AZ\n",
       "22    PA\n",
       "23    IA\n",
       "24    MD\n",
       "25    MA\n",
       "26    OK\n",
       "27    MI"
      ]
     },
     "execution_count": 46,
     "metadata": {},
     "output_type": "execute_result"
    }
   ],
   "source": [
    "#State look-up table\n",
    "state = df.state.dropna().unique()\n",
    "state_df = pd.DataFrame()\n",
    "state_df[\"state\"] = state\n",
    "state_df"
   ]
  },
  {
   "cell_type": "code",
   "execution_count": null,
   "id": "4c523436",
   "metadata": {},
   "outputs": [],
   "source": []
  },
  {
   "cell_type": "code",
   "execution_count": null,
   "id": "6d59858d",
   "metadata": {},
   "outputs": [],
   "source": []
  },
  {
   "cell_type": "code",
   "execution_count": null,
   "id": "b823f8f9",
   "metadata": {},
   "outputs": [],
   "source": []
  },
  {
   "cell_type": "code",
   "execution_count": null,
   "id": "a4a91d1b",
   "metadata": {},
   "outputs": [],
   "source": []
  },
  {
   "cell_type": "code",
   "execution_count": 47,
   "id": "f5818baa",
   "metadata": {},
   "outputs": [],
   "source": [
    "#\n",
    "def getRemote(loc):\n",
    "    if \"remote\" in loc.lower():\n",
    "        return(True)\n",
    "    else:\n",
    "        return(False)\n",
    "        \n",
    "  "
   ]
  },
  {
   "cell_type": "code",
   "execution_count": 48,
   "id": "1b2d60b1",
   "metadata": {},
   "outputs": [
    {
     "name": "stdout",
     "output_type": "stream",
     "text": [
      "<class 'pandas.core.frame.DataFrame'>\n",
      "RangeIndex: 210 entries, 0 to 209\n",
      "Data columns (total 10 columns):\n",
      " #   Column          Non-Null Count  Dtype  \n",
      "---  ------          --------------  -----  \n",
      " 0   job_title       210 non-null    object \n",
      " 1   job_link        210 non-null    object \n",
      " 2   company         210 non-null    object \n",
      " 3   company_link    141 non-null    object \n",
      " 4   company_rating  141 non-null    float64\n",
      " 5   location        210 non-null    object \n",
      " 6   salary          121 non-null    object \n",
      " 7   status          163 non-null    object \n",
      " 8   state           160 non-null    object \n",
      " 9   is_remote       210 non-null    bool   \n",
      "dtypes: bool(1), float64(1), object(8)\n",
      "memory usage: 15.1+ KB\n"
     ]
    }
   ],
   "source": [
    "#\n",
    "df[\"is_remote\"] = df.location.apply(lambda x: getRemote(x))\n",
    "df.info()"
   ]
  },
  {
   "cell_type": "code",
   "execution_count": 49,
   "id": "a156a1e1",
   "metadata": {},
   "outputs": [
    {
     "data": {
      "text/plain": [
       "False    112\n",
       "True      98\n",
       "Name: is_remote, dtype: int64"
      ]
     },
     "execution_count": 49,
     "metadata": {},
     "output_type": "execute_result"
    }
   ],
   "source": [
    "df.is_remote.value_counts()"
   ]
  },
  {
   "cell_type": "code",
   "execution_count": 51,
   "id": "57c1b7ee",
   "metadata": {},
   "outputs": [],
   "source": [
    "#Find the companies paying for ads\n",
    "def getAd(link):\n",
    "    if \"pagead\" in link.lower():\n",
    "        return(True)\n",
    "    else:\n",
    "        return(False)"
   ]
  },
  {
   "cell_type": "code",
   "execution_count": 52,
   "id": "69849c96",
   "metadata": {},
   "outputs": [
    {
     "name": "stdout",
     "output_type": "stream",
     "text": [
      "<class 'pandas.core.frame.DataFrame'>\n",
      "RangeIndex: 210 entries, 0 to 209\n",
      "Data columns (total 11 columns):\n",
      " #   Column          Non-Null Count  Dtype  \n",
      "---  ------          --------------  -----  \n",
      " 0   job_title       210 non-null    object \n",
      " 1   job_link        210 non-null    object \n",
      " 2   company         210 non-null    object \n",
      " 3   company_link    141 non-null    object \n",
      " 4   company_rating  141 non-null    float64\n",
      " 5   location        210 non-null    object \n",
      " 6   salary          121 non-null    object \n",
      " 7   status          163 non-null    object \n",
      " 8   state           160 non-null    object \n",
      " 9   is_remote       210 non-null    bool   \n",
      " 10  is_ad           210 non-null    bool   \n",
      "dtypes: bool(2), float64(1), object(8)\n",
      "memory usage: 15.3+ KB\n"
     ]
    }
   ],
   "source": [
    "df[\"is_ad\"] = df.job_link.apply(lambda x: getAd(x))\n",
    "df.info()"
   ]
  },
  {
   "cell_type": "code",
   "execution_count": 53,
   "id": "05a28772",
   "metadata": {},
   "outputs": [
    {
     "data": {
      "text/plain": [
       "False    126\n",
       "True      84\n",
       "Name: is_ad, dtype: int64"
      ]
     },
     "execution_count": 53,
     "metadata": {},
     "output_type": "execute_result"
    }
   ],
   "source": [
    "df.is_ad.value_counts()"
   ]
  },
  {
   "cell_type": "code",
   "execution_count": 54,
   "id": "02c65f4f",
   "metadata": {},
   "outputs": [
    {
     "data": {
      "text/plain": [
       "company\n",
       "Guidehouse                         2\n",
       "Liberty Mutual Insurance           2\n",
       "Kforce                             2\n",
       "NATIONAL GRID CO USA (NE POWER)    2\n",
       "NPAworldwide                       2\n",
       "                                  ..\n",
       "Home Depot / THD                   0\n",
       "HomeRiver Group                    0\n",
       "Imprimis                           0\n",
       "Ingress IT Solutions               0\n",
       "itexpertus                         0\n",
       "Name: is_ad, Length: 196, dtype: int64"
      ]
     },
     "execution_count": 54,
     "metadata": {},
     "output_type": "execute_result"
    }
   ],
   "source": [
    "#Paying for Ads, add to main job table as bool\n",
    "df.groupby(\"company\").is_ad.sum().sort_values(ascending=False)"
   ]
  },
  {
   "cell_type": "code",
   "execution_count": null,
   "id": "231d1cf7",
   "metadata": {},
   "outputs": [],
   "source": []
  },
  {
   "cell_type": "code",
   "execution_count": 50,
   "id": "47381c51",
   "metadata": {},
   "outputs": [],
   "source": [
    "#Don't worry about it\n",
    "# def getCity(loc):\n",
    "#     if \",\" in loc:\n",
    "#         city_list = loc.replace(\"\\xa0\", \" \").split(\",\")[0].strip().split(\" \")\n",
    "#         city = city_list[0] if len(city_list) ==1 else city_list[1]\n",
    "#     else:\n",
    "#         city = None\n",
    "        \n",
    "#     return(city)"
   ]
  },
  {
   "cell_type": "code",
   "execution_count": null,
   "id": "f93892d8",
   "metadata": {},
   "outputs": [],
   "source": [
    "# df[\"city\"] = df.location.apply(lambda x: getCity(x))\n",
    "# df.info()"
   ]
  },
  {
   "cell_type": "code",
   "execution_count": null,
   "id": "0279ce4f",
   "metadata": {},
   "outputs": [],
   "source": [
    "# #\n",
    "# df.city.value_counts()"
   ]
  },
  {
   "cell_type": "code",
   "execution_count": null,
   "id": "b98cda47",
   "metadata": {},
   "outputs": [],
   "source": [
    "#\n",
    "# df.loc[df.location.str.contains(\"in\")]"
   ]
  },
  {
   "cell_type": "code",
   "execution_count": null,
   "id": "8b1067da",
   "metadata": {},
   "outputs": [],
   "source": []
  },
  {
   "cell_type": "code",
   "execution_count": null,
   "id": "4915a500",
   "metadata": {},
   "outputs": [],
   "source": []
  },
  {
   "cell_type": "code",
   "execution_count": null,
   "id": "cc0b3c72",
   "metadata": {},
   "outputs": [],
   "source": [
    "#Set-up sleep function if needed\n",
    "# browser.visit(dice_lyst)\n",
    "# time.sleep(2)"
   ]
  }
 ],
 "metadata": {
  "kernelspec": {
   "display_name": "Python 3 (ipykernel)",
   "language": "python",
   "name": "python3"
  },
  "language_info": {
   "codemirror_mode": {
    "name": "ipython",
    "version": 3
   },
   "file_extension": ".py",
   "mimetype": "text/x-python",
   "name": "python",
   "nbconvert_exporter": "python",
   "pygments_lexer": "ipython3",
   "version": "3.9.12"
  }
 },
 "nbformat": 4,
 "nbformat_minor": 5
}
