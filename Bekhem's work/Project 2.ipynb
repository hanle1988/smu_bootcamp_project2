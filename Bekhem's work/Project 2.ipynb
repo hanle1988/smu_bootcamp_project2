{
 "cells": [
  {
   "cell_type": "code",
   "execution_count": 1,
   "id": "1afd765b",
   "metadata": {},
   "outputs": [],
   "source": [
    "from splinter import Browser\n",
    "from bs4 import BeautifulSoup\n",
    "from webdriver_manager.chrome import ChromeDriverManager\n",
    "import pandas as pd\n",
    "import requests\n",
    "import time\n",
    "from sqlalchemy import inspect, create_engine\n",
    "import matplotlib.pyplot as plt\n",
    "import numpy as np"
   ]
  },
  {
   "cell_type": "code",
   "execution_count": 2,
   "id": "20978fe3",
   "metadata": {},
   "outputs": [],
   "source": [
    "#Setup splinter\n",
    "executable_path = {'executable_path': ChromeDriverManager().install()}\n",
    "browser = Browser('chrome', **executable_path, headless=False)"
   ]
  },
  {
   "cell_type": "markdown",
   "id": "db3fecc1",
   "metadata": {},
   "source": [
    "# Create brower location to pull "
   ]
  },
  {
   "cell_type": "code",
   "execution_count": 5,
   "id": "f43ee070",
   "metadata": {},
   "outputs": [],
   "source": [
    "#Website searching Data Analyst positions\n",
    "indeed = \"https://www.indeed.com/jobs?q=data+analyst\"\n",
    "\n",
    "browser.visit(indeed)\n",
    "\n"
   ]
  },
  {
   "cell_type": "code",
   "execution_count": 6,
   "id": "585bae38",
   "metadata": {},
   "outputs": [
    {
     "data": {
      "text/plain": [
       "'<html dir=\"ltr\" lang=\"en\" class=\"js-focus-visible\" data-js-focus-visible=\"\"><head>\\n    <link rel=\"shortcut icon\" href=\"/images/favicon.ico\">\\n    <title>Data Analyst Jobs, Employment | Indeed.com</title>\\n    <meta http-equiv=\"content-type\" content=\"text/html; charset=utf-8\">\\n    <meta name=\"description\" content=\"28,052 Data Analyst jobs available on Indeed.com. Apply to Data Analyst, Entry Level Data Analyst, Senior Data Analyst and more!\">\\n    <meta name=\"keywords\" content=\"Data Analyst Jobs, Em'"
      ]
     },
     "execution_count": 6,
     "metadata": {},
     "output_type": "execute_result"
    }
   ],
   "source": [
    "html = browser.html\n",
    "html[0:500]"
   ]
  },
  {
   "cell_type": "code",
   "execution_count": 8,
   "id": "4cddb98a",
   "metadata": {},
   "outputs": [
    {
     "data": {
      "text/plain": [
       "bs4.BeautifulSoup"
      ]
     },
     "execution_count": 8,
     "metadata": {},
     "output_type": "execute_result"
    }
   ],
   "source": [
    "soup= BeautifulSoup(browser.html, 'lxml')\n",
    "type(soup)"
   ]
  },
  {
   "cell_type": "code",
   "execution_count": 9,
   "id": "44b1b46f",
   "metadata": {},
   "outputs": [
    {
     "data": {
      "text/plain": [
       "15"
      ]
     },
     "execution_count": 9,
     "metadata": {},
     "output_type": "execute_result"
    }
   ],
   "source": [
    "#Find code to loop through web page and pull the title of the job and possibly the location, then find code to click the job and acquire the salary.\n",
    "jobs = soup.find_all('div', {'class': 'cardOutline'})\n",
    "len(jobs)\n"
   ]
  },
  {
   "cell_type": "code",
   "execution_count": 11,
   "id": "85f7b28e",
   "metadata": {},
   "outputs": [
    {
     "data": {
      "text/html": [
       "<div>\n",
       "<style scoped>\n",
       "    .dataframe tbody tr th:only-of-type {\n",
       "        vertical-align: middle;\n",
       "    }\n",
       "\n",
       "    .dataframe tbody tr th {\n",
       "        vertical-align: top;\n",
       "    }\n",
       "\n",
       "    .dataframe thead th {\n",
       "        text-align: right;\n",
       "    }\n",
       "</style>\n",
       "<table border=\"1\" class=\"dataframe\">\n",
       "  <thead>\n",
       "    <tr style=\"text-align: right;\">\n",
       "      <th></th>\n",
       "      <th>job_title</th>\n",
       "      <th>job_link</th>\n",
       "      <th>company</th>\n",
       "      <th>company_link</th>\n",
       "      <th>company_rating</th>\n",
       "      <th>location</th>\n",
       "      <th>salary</th>\n",
       "      <th>status</th>\n",
       "    </tr>\n",
       "  </thead>\n",
       "  <tbody>\n",
       "    <tr>\n",
       "      <th>0</th>\n",
       "      <td>Behavior Analyst</td>\n",
       "      <td>www.indeed.com/pagead/clk?mo=r&amp;ad=-6NYlbfkN0CX...</td>\n",
       "      <td>Centre For Neuro Skills</td>\n",
       "      <td>www.indeed.com/cmp/Centre-For-Neuro-Skills</td>\n",
       "      <td>3.4</td>\n",
       "      <td>Bakersfield, CA 93313 (Silver Creek area)</td>\n",
       "      <td>None</td>\n",
       "      <td>Full-time</td>\n",
       "    </tr>\n",
       "    <tr>\n",
       "      <th>1</th>\n",
       "      <td>Sr. Business Analyst</td>\n",
       "      <td>www.indeed.com/pagead/clk?mo=r&amp;ad=-6NYlbfkN0Cz...</td>\n",
       "      <td>MidFirst Bank</td>\n",
       "      <td>www.indeed.com/cmp/Midfirst-Bank</td>\n",
       "      <td>3.4</td>\n",
       "      <td>Oklahoma City, OK 73118</td>\n",
       "      <td>None</td>\n",
       "      <td>Full-time</td>\n",
       "    </tr>\n",
       "    <tr>\n",
       "      <th>2</th>\n",
       "      <td>Data, Reporting, and CRM Specialist</td>\n",
       "      <td>www.indeed.com/pagead/clk?mo=r&amp;ad=-6NYlbfkN0D6...</td>\n",
       "      <td>BrandTech Scientific, Inc.</td>\n",
       "      <td>None</td>\n",
       "      <td>None</td>\n",
       "      <td>Hybrid remote in Essex, CT 06426</td>\n",
       "      <td>$65,000 - $75,000 a year Employer est.</td>\n",
       "      <td>Full-time</td>\n",
       "    </tr>\n",
       "    <tr>\n",
       "      <th>3</th>\n",
       "      <td>Board Certified Behavior Analyst (BCBA)</td>\n",
       "      <td>www.indeed.com/pagead/clk?mo=r&amp;ad=-6NYlbfkN0BP...</td>\n",
       "      <td>Pathways Autism Center</td>\n",
       "      <td>www.indeed.com/cmp/Pathways-Behavioral-Consult...</td>\n",
       "      <td>2.5</td>\n",
       "      <td>Atlanta, GA 30338</td>\n",
       "      <td>$70,000 - $90,000 a year Employer est.</td>\n",
       "      <td>Full-time</td>\n",
       "    </tr>\n",
       "    <tr>\n",
       "      <th>4</th>\n",
       "      <td>Business Analyst</td>\n",
       "      <td>www.indeed.com/pagead/clk?mo=r&amp;ad=-6NYlbfkN0C_...</td>\n",
       "      <td>Piper Aircraft Inc</td>\n",
       "      <td>www.indeed.com/cmp/Piper-Aircraft-Inc</td>\n",
       "      <td>3.2</td>\n",
       "      <td>Vero Beach, FL 32960 (Vero Beach Regional Airp...</td>\n",
       "      <td>None</td>\n",
       "      <td>Full-time</td>\n",
       "    </tr>\n",
       "  </tbody>\n",
       "</table>\n",
       "</div>"
      ],
      "text/plain": [
       "                                 job_title  \\\n",
       "0                         Behavior Analyst   \n",
       "1                     Sr. Business Analyst   \n",
       "2      Data, Reporting, and CRM Specialist   \n",
       "3  Board Certified Behavior Analyst (BCBA)   \n",
       "4                         Business Analyst   \n",
       "\n",
       "                                            job_link  \\\n",
       "0  www.indeed.com/pagead/clk?mo=r&ad=-6NYlbfkN0CX...   \n",
       "1  www.indeed.com/pagead/clk?mo=r&ad=-6NYlbfkN0Cz...   \n",
       "2  www.indeed.com/pagead/clk?mo=r&ad=-6NYlbfkN0D6...   \n",
       "3  www.indeed.com/pagead/clk?mo=r&ad=-6NYlbfkN0BP...   \n",
       "4  www.indeed.com/pagead/clk?mo=r&ad=-6NYlbfkN0C_...   \n",
       "\n",
       "                      company  \\\n",
       "0     Centre For Neuro Skills   \n",
       "1               MidFirst Bank   \n",
       "2  BrandTech Scientific, Inc.   \n",
       "3      Pathways Autism Center   \n",
       "4          Piper Aircraft Inc   \n",
       "\n",
       "                                        company_link company_rating  \\\n",
       "0         www.indeed.com/cmp/Centre-For-Neuro-Skills            3.4   \n",
       "1                   www.indeed.com/cmp/Midfirst-Bank            3.4   \n",
       "2                                               None           None   \n",
       "3  www.indeed.com/cmp/Pathways-Behavioral-Consult...            2.5   \n",
       "4              www.indeed.com/cmp/Piper-Aircraft-Inc            3.2   \n",
       "\n",
       "                                            location  \\\n",
       "0          Bakersfield, CA 93313 (Silver Creek area)   \n",
       "1                            Oklahoma City, OK 73118   \n",
       "2                   Hybrid remote in Essex, CT 06426   \n",
       "3                                  Atlanta, GA 30338   \n",
       "4  Vero Beach, FL 32960 (Vero Beach Regional Airp...   \n",
       "\n",
       "                                   salary     status  \n",
       "0                                    None  Full-time  \n",
       "1                                    None  Full-time  \n",
       "2  $65,000 - $75,000 a year Employer est.  Full-time  \n",
       "3  $70,000 - $90,000 a year Employer est.  Full-time  \n",
       "4                                    None  Full-time  "
      ]
     },
     "execution_count": 11,
     "metadata": {},
     "output_type": "execute_result"
    }
   ],
   "source": [
    "#Create for loops \n",
    "rows = []\n",
    "browser.visit(indeed)\n",
    "for i in range(1, 50):\n",
    "    \n",
    "    html = browser.html\n",
    "    soup = BeautifulSoup(browser.html, \"html.parser\")\n",
    "    jobs = soup.find_all('div', {'class': 'cardOutline'})\n",
    "    \n",
    "    \n",
    "    for job in jobs:\n",
    "        title = job.find('a', {\"class\": 'jcs-JobTitle'}).text\n",
    "        link = \"www.indeed.com\" + job.find('a', {\"class\": 'jcs-JobTitle'})[\"href\"]\n",
    "\n",
    "        company_name = job.find('span', {'class': 'companyName'})\n",
    "        if company_name: \n",
    "            company = company_name.text\n",
    "        else:\n",
    "            company = None\n",
    "        \n",
    "        company_con = job.find('a', {\"class\": 'companyOverviewLink'})\n",
    "        if company_con: \n",
    "            company_link = \"www.indeed.com\" + company_con[\"href\"]\n",
    "        else:\n",
    "            company_link = None\n",
    "\n",
    "        rating_con = job.find('span', {\"class\": 'ratingNumber'})\n",
    "        if rating_con: \n",
    "            rating = rating_con.text\n",
    "        else:\n",
    "            rating = None\n",
    "\n",
    "\n",
    "        loc = job.find('div', {\"class\": 'companyLocation'}).text\n",
    "\n",
    "        salary_con = job.find('div', {\"class\": 'salary-snippet-container'})\n",
    "        if salary_con: \n",
    "            salary = salary_con.text\n",
    "        else:\n",
    "            salary = None\n",
    "\n",
    "\n",
    "        status_con = job.find('svg', {\"aria-label\": \"Job type\"})\n",
    "        if status_con:\n",
    "            status = status_con.parent.text\n",
    "        else:\n",
    "            status = None\n",
    "\n",
    "        data = {}\n",
    "        data[\"job_title\"] = title\n",
    "        data[\"job_link\"] = link\n",
    "        data[\"company\"] = company\n",
    "        data[\"company_link\"] = company_link\n",
    "        data[\"company_rating\"] = rating\n",
    "        data[\"location\"] = loc\n",
    "        data[\"salary\"] = salary\n",
    "        data[\"status\"] = status\n",
    "        rows.append(data)\n",
    "    \n",
    "    browser.links.find_by_text(f\"{i+1}\").click()\n",
    "        \n",
    "df = pd.DataFrame(rows)\n",
    "df.head()"
   ]
  },
  {
   "cell_type": "code",
   "execution_count": 12,
   "id": "2b141d3f",
   "metadata": {},
   "outputs": [
    {
     "data": {
      "text/plain": [
       "735"
      ]
     },
     "execution_count": 12,
     "metadata": {},
     "output_type": "execute_result"
    }
   ],
   "source": [
    "len(df)"
   ]
  },
  {
   "cell_type": "code",
   "execution_count": 13,
   "id": "00fbf640",
   "metadata": {},
   "outputs": [
    {
     "name": "stdout",
     "output_type": "stream",
     "text": [
      "<class 'pandas.core.frame.DataFrame'>\n",
      "RangeIndex: 735 entries, 0 to 734\n",
      "Data columns (total 8 columns):\n",
      " #   Column          Non-Null Count  Dtype  \n",
      "---  ------          --------------  -----  \n",
      " 0   job_title       735 non-null    object \n",
      " 1   job_link        735 non-null    object \n",
      " 2   company         733 non-null    object \n",
      " 3   company_link    530 non-null    object \n",
      " 4   company_rating  530 non-null    float64\n",
      " 5   location        735 non-null    object \n",
      " 6   salary          355 non-null    object \n",
      " 7   status          555 non-null    object \n",
      "dtypes: float64(1), object(7)\n",
      "memory usage: 46.1+ KB\n"
     ]
    }
   ],
   "source": [
    "df[\"company_rating\"] = pd.to_numeric(df.company_rating)\n",
    "df.info()"
   ]
  },
  {
   "cell_type": "code",
   "execution_count": 14,
   "id": "9421d672",
   "metadata": {},
   "outputs": [
    {
     "name": "stderr",
     "output_type": "stream",
     "text": [
      "C:\\Users\\19722\\AppData\\Local\\Temp\\ipykernel_15192\\152645899.py:2: FutureWarning: The default value of regex will change from True to False in a future version.\n",
      "  df[\"status\"] = df.status.str.replace(\"\\s\\+\\d\",\"\")\n"
     ]
    }
   ],
   "source": [
    "#combine with regex s=space d=catch or match all numbers \\+ = plus sign matches plus sign, regex meaning.\n",
    "df[\"status\"] = df.status.str.replace(\"\\s\\+\\d\",\"\")"
   ]
  },
  {
   "cell_type": "code",
   "execution_count": 15,
   "id": "7354a4f7",
   "metadata": {},
   "outputs": [
    {
     "data": {
      "text/plain": [
       "Full-time     440\n",
       "Contract      104\n",
       "Part-time       7\n",
       "Temporary       2\n",
       "Internship      1\n",
       "Seasonal        1\n",
       "Name: status, dtype: int64"
      ]
     },
     "execution_count": 15,
     "metadata": {},
     "output_type": "execute_result"
    }
   ],
   "source": [
    "df.status.value_counts()"
   ]
  },
  {
   "cell_type": "code",
   "execution_count": 16,
   "id": "0a060b48",
   "metadata": {},
   "outputs": [
    {
     "data": {
      "text/plain": [
       "array(['Full-time', 'Contract', None, 'Internship', 'Part-time',\n",
       "       'Temporary', 'Seasonal'], dtype=object)"
      ]
     },
     "execution_count": 16,
     "metadata": {},
     "output_type": "execute_result"
    }
   ],
   "source": [
    "#Status column -  ID, name, last_updated\n",
    "df.status.unique()"
   ]
  },
  {
   "cell_type": "code",
   "execution_count": 17,
   "id": "7016f5ac",
   "metadata": {},
   "outputs": [
    {
     "data": {
      "text/html": [
       "<div>\n",
       "<style scoped>\n",
       "    .dataframe tbody tr th:only-of-type {\n",
       "        vertical-align: middle;\n",
       "    }\n",
       "\n",
       "    .dataframe tbody tr th {\n",
       "        vertical-align: top;\n",
       "    }\n",
       "\n",
       "    .dataframe thead th {\n",
       "        text-align: right;\n",
       "    }\n",
       "</style>\n",
       "<table border=\"1\" class=\"dataframe\">\n",
       "  <thead>\n",
       "    <tr style=\"text-align: right;\">\n",
       "      <th></th>\n",
       "      <th>status</th>\n",
       "    </tr>\n",
       "  </thead>\n",
       "  <tbody>\n",
       "    <tr>\n",
       "      <th>0</th>\n",
       "      <td>Full-time</td>\n",
       "    </tr>\n",
       "    <tr>\n",
       "      <th>1</th>\n",
       "      <td>Contract</td>\n",
       "    </tr>\n",
       "    <tr>\n",
       "      <th>2</th>\n",
       "      <td>Internship</td>\n",
       "    </tr>\n",
       "    <tr>\n",
       "      <th>3</th>\n",
       "      <td>Part-time</td>\n",
       "    </tr>\n",
       "    <tr>\n",
       "      <th>4</th>\n",
       "      <td>Temporary</td>\n",
       "    </tr>\n",
       "    <tr>\n",
       "      <th>5</th>\n",
       "      <td>Seasonal</td>\n",
       "    </tr>\n",
       "  </tbody>\n",
       "</table>\n",
       "</div>"
      ],
      "text/plain": [
       "       status\n",
       "0   Full-time\n",
       "1    Contract\n",
       "2  Internship\n",
       "3   Part-time\n",
       "4   Temporary\n",
       "5    Seasonal"
      ]
     },
     "execution_count": 17,
     "metadata": {},
     "output_type": "execute_result"
    }
   ],
   "source": [
    "#Status lookup table\n",
    "status = df.status.dropna().unique()\n",
    "status_df = pd.DataFrame()\n",
    "status_df[\"status\"] = status\n",
    "status_df"
   ]
  },
  {
   "cell_type": "code",
   "execution_count": 18,
   "id": "2c8dcf87",
   "metadata": {},
   "outputs": [
    {
     "data": {
      "text/plain": [
       "Centre For Neuro Skills                      1\n",
       "MidFirst Bank                                1\n",
       "Disney Media & Entertainment Distribution    1\n",
       "DoorDash, Inc.                               1\n",
       "Pearson                                      1\n",
       "                                            ..\n",
       "Granify                                      1\n",
       "Allied Stone Inc                             1\n",
       "Live Nation                                  1\n",
       "X2Logics                                     1\n",
       "SCO Family of Services                       1\n",
       "Name: company, Length: 576, dtype: int64"
      ]
     },
     "execution_count": 18,
     "metadata": {},
     "output_type": "execute_result"
    }
   ],
   "source": [
    "#Company lookup table, revised to drop the 2nd Insight Global below\n",
    "companies = df.loc[:,[\"company\",\"company_link\", \"company_rating\"]].drop_duplicates().reset_index(drop=True)\n",
    "companies.company.value_counts()"
   ]
  },
  {
   "cell_type": "code",
   "execution_count": 19,
   "id": "18653f26",
   "metadata": {},
   "outputs": [
    {
     "data": {
      "text/html": [
       "<div>\n",
       "<style scoped>\n",
       "    .dataframe tbody tr th:only-of-type {\n",
       "        vertical-align: middle;\n",
       "    }\n",
       "\n",
       "    .dataframe tbody tr th {\n",
       "        vertical-align: top;\n",
       "    }\n",
       "\n",
       "    .dataframe thead th {\n",
       "        text-align: right;\n",
       "    }\n",
       "</style>\n",
       "<table border=\"1\" class=\"dataframe\">\n",
       "  <thead>\n",
       "    <tr style=\"text-align: right;\">\n",
       "      <th></th>\n",
       "      <th>company</th>\n",
       "      <th>company_link</th>\n",
       "      <th>company_rating</th>\n",
       "    </tr>\n",
       "  </thead>\n",
       "  <tbody>\n",
       "    <tr>\n",
       "      <th>128</th>\n",
       "      <td>Insight Global</td>\n",
       "      <td>www.indeed.com/cmp/Insight-Global</td>\n",
       "      <td>3.9</td>\n",
       "    </tr>\n",
       "  </tbody>\n",
       "</table>\n",
       "</div>"
      ],
      "text/plain": [
       "            company                       company_link  company_rating\n",
       "128  Insight Global  www.indeed.com/cmp/Insight-Global             3.9"
      ]
     },
     "execution_count": 19,
     "metadata": {},
     "output_type": "execute_result"
    }
   ],
   "source": [
    "companies.loc[companies.company == \"Insight Global\"]"
   ]
  },
  {
   "cell_type": "code",
   "execution_count": 20,
   "id": "98ed3bf7",
   "metadata": {},
   "outputs": [],
   "source": [
    "df.loc[df.company == \"Insight Global\", \"company_link\"] = \"www.indeed.com/cmp/Insight-Global\"\n",
    "df.loc[df.company == \"Insight Global\", \"company_rating\"] = 3.9"
   ]
  },
  {
   "cell_type": "code",
   "execution_count": 21,
   "id": "ad3dd709",
   "metadata": {},
   "outputs": [
    {
     "data": {
      "text/plain": [
       "Centre For Neuro Skills                      1\n",
       "MidFirst Bank                                1\n",
       "Disney Media & Entertainment Distribution    1\n",
       "DoorDash, Inc.                               1\n",
       "Pearson                                      1\n",
       "                                            ..\n",
       "Granify                                      1\n",
       "Allied Stone Inc                             1\n",
       "Live Nation                                  1\n",
       "X2Logics                                     1\n",
       "SCO Family of Services                       1\n",
       "Name: company, Length: 576, dtype: int64"
      ]
     },
     "execution_count": 21,
     "metadata": {},
     "output_type": "execute_result"
    }
   ],
   "source": [
    "companies = df.loc[:,[\"company\",\"company_link\", \"company_rating\"]].drop_duplicates().reset_index(drop=True)\n",
    "companies.company.value_counts()"
   ]
  },
  {
   "cell_type": "code",
   "execution_count": 22,
   "id": "d1b1c455",
   "metadata": {},
   "outputs": [
    {
     "data": {
      "text/html": [
       "<div>\n",
       "<style scoped>\n",
       "    .dataframe tbody tr th:only-of-type {\n",
       "        vertical-align: middle;\n",
       "    }\n",
       "\n",
       "    .dataframe tbody tr th {\n",
       "        vertical-align: top;\n",
       "    }\n",
       "\n",
       "    .dataframe thead th {\n",
       "        text-align: right;\n",
       "    }\n",
       "</style>\n",
       "<table border=\"1\" class=\"dataframe\">\n",
       "  <thead>\n",
       "    <tr style=\"text-align: right;\">\n",
       "      <th></th>\n",
       "      <th>company</th>\n",
       "      <th>company_link</th>\n",
       "      <th>company_rating</th>\n",
       "    </tr>\n",
       "  </thead>\n",
       "  <tbody>\n",
       "    <tr>\n",
       "      <th>0</th>\n",
       "      <td>Centre For Neuro Skills</td>\n",
       "      <td>www.indeed.com/cmp/Centre-For-Neuro-Skills</td>\n",
       "      <td>3.4</td>\n",
       "    </tr>\n",
       "    <tr>\n",
       "      <th>1</th>\n",
       "      <td>MidFirst Bank</td>\n",
       "      <td>www.indeed.com/cmp/Midfirst-Bank</td>\n",
       "      <td>3.4</td>\n",
       "    </tr>\n",
       "    <tr>\n",
       "      <th>2</th>\n",
       "      <td>BrandTech Scientific, Inc.</td>\n",
       "      <td>None</td>\n",
       "      <td>NaN</td>\n",
       "    </tr>\n",
       "    <tr>\n",
       "      <th>3</th>\n",
       "      <td>Pathways Autism Center</td>\n",
       "      <td>www.indeed.com/cmp/Pathways-Behavioral-Consult...</td>\n",
       "      <td>2.5</td>\n",
       "    </tr>\n",
       "    <tr>\n",
       "      <th>4</th>\n",
       "      <td>Piper Aircraft Inc</td>\n",
       "      <td>www.indeed.com/cmp/Piper-Aircraft-Inc</td>\n",
       "      <td>3.2</td>\n",
       "    </tr>\n",
       "    <tr>\n",
       "      <th>...</th>\n",
       "      <td>...</td>\n",
       "      <td>...</td>\n",
       "      <td>...</td>\n",
       "    </tr>\n",
       "    <tr>\n",
       "      <th>572</th>\n",
       "      <td>ARCXIS</td>\n",
       "      <td>www.indeed.com/cmp/Arcxis</td>\n",
       "      <td>3.1</td>\n",
       "    </tr>\n",
       "    <tr>\n",
       "      <th>573</th>\n",
       "      <td>LeewayHertz</td>\n",
       "      <td>None</td>\n",
       "      <td>NaN</td>\n",
       "    </tr>\n",
       "    <tr>\n",
       "      <th>574</th>\n",
       "      <td>Citizens</td>\n",
       "      <td>www.indeed.com/cmp/Citizens-2</td>\n",
       "      <td>3.4</td>\n",
       "    </tr>\n",
       "    <tr>\n",
       "      <th>575</th>\n",
       "      <td>New York University</td>\n",
       "      <td>www.indeed.com/cmp/New-York-University</td>\n",
       "      <td>4.2</td>\n",
       "    </tr>\n",
       "    <tr>\n",
       "      <th>576</th>\n",
       "      <td>SCO Family of Services</td>\n",
       "      <td>www.indeed.com/cmp/Sco-Family-of-Services</td>\n",
       "      <td>3.2</td>\n",
       "    </tr>\n",
       "  </tbody>\n",
       "</table>\n",
       "<p>577 rows × 3 columns</p>\n",
       "</div>"
      ],
      "text/plain": [
       "                        company  \\\n",
       "0       Centre For Neuro Skills   \n",
       "1                 MidFirst Bank   \n",
       "2    BrandTech Scientific, Inc.   \n",
       "3        Pathways Autism Center   \n",
       "4            Piper Aircraft Inc   \n",
       "..                          ...   \n",
       "572                      ARCXIS   \n",
       "573                 LeewayHertz   \n",
       "574                    Citizens   \n",
       "575         New York University   \n",
       "576      SCO Family of Services   \n",
       "\n",
       "                                          company_link  company_rating  \n",
       "0           www.indeed.com/cmp/Centre-For-Neuro-Skills             3.4  \n",
       "1                     www.indeed.com/cmp/Midfirst-Bank             3.4  \n",
       "2                                                 None             NaN  \n",
       "3    www.indeed.com/cmp/Pathways-Behavioral-Consult...             2.5  \n",
       "4                www.indeed.com/cmp/Piper-Aircraft-Inc             3.2  \n",
       "..                                                 ...             ...  \n",
       "572                          www.indeed.com/cmp/Arcxis             3.1  \n",
       "573                                               None             NaN  \n",
       "574                      www.indeed.com/cmp/Citizens-2             3.4  \n",
       "575             www.indeed.com/cmp/New-York-University             4.2  \n",
       "576          www.indeed.com/cmp/Sco-Family-of-Services             3.2  \n",
       "\n",
       "[577 rows x 3 columns]"
      ]
     },
     "execution_count": 22,
     "metadata": {},
     "output_type": "execute_result"
    }
   ],
   "source": [
    "#Companies lookup table\n",
    "companies"
   ]
  },
  {
   "cell_type": "code",
   "execution_count": 23,
   "id": "793cb926",
   "metadata": {},
   "outputs": [],
   "source": [
    "#State \n",
    "def getState(loc):\n",
    "    if \",\" in loc:\n",
    "        state = loc.replace(\"\\xa0\", \" \").split(\",\")[1].strip().split(\" \")[0].strip()\n",
    "    else:\n",
    "        state = None\n",
    "        \n",
    "    return(state)"
   ]
  },
  {
   "cell_type": "code",
   "execution_count": 24,
   "id": "90649c31",
   "metadata": {},
   "outputs": [
    {
     "data": {
      "text/plain": [
       "'TX'"
      ]
     },
     "execution_count": 24,
     "metadata": {},
     "output_type": "execute_result"
    }
   ],
   "source": [
    "#Find the locations with\"Downtown area\"\n",
    "getState(\"Austin, TX (Downtown area)\")"
   ]
  },
  {
   "cell_type": "code",
   "execution_count": 25,
   "id": "403f3040",
   "metadata": {},
   "outputs": [
    {
     "name": "stdout",
     "output_type": "stream",
     "text": [
      "<class 'pandas.core.frame.DataFrame'>\n",
      "RangeIndex: 735 entries, 0 to 734\n",
      "Data columns (total 9 columns):\n",
      " #   Column          Non-Null Count  Dtype  \n",
      "---  ------          --------------  -----  \n",
      " 0   job_title       735 non-null    object \n",
      " 1   job_link        735 non-null    object \n",
      " 2   company         733 non-null    object \n",
      " 3   company_link    530 non-null    object \n",
      " 4   company_rating  530 non-null    float64\n",
      " 5   location        735 non-null    object \n",
      " 6   salary          355 non-null    object \n",
      " 7   status          555 non-null    object \n",
      " 8   state           545 non-null    object \n",
      "dtypes: float64(1), object(8)\n",
      "memory usage: 51.8+ KB\n"
     ]
    }
   ],
   "source": [
    "#\n",
    "df[\"state\"] = df.location.apply(lambda x: getState(x))\n",
    "df.info()"
   ]
  },
  {
   "cell_type": "code",
   "execution_count": 26,
   "id": "62a8436d",
   "metadata": {},
   "outputs": [
    {
     "data": {
      "text/plain": [
       "TX    218\n",
       "CA     73\n",
       "NY     48\n",
       "VA     21\n",
       "FL     15\n",
       "GA     15\n",
       "IL     15\n",
       "WA     13\n",
       "MN     12\n",
       "PA     10\n",
       "CO      9\n",
       "NC      9\n",
       "MA      8\n",
       "OK      7\n",
       "AZ      7\n",
       "NJ      6\n",
       "MS      5\n",
       "TN      5\n",
       "MI      5\n",
       "CT      4\n",
       "DC      4\n",
       "UT      4\n",
       "MO      4\n",
       "IA      4\n",
       "WI      3\n",
       "OR      3\n",
       "DE      2\n",
       "MD      2\n",
       "LA      2\n",
       "SC      2\n",
       "OH      2\n",
       "VT      1\n",
       "NV      1\n",
       "NE      1\n",
       "NH      1\n",
       "KS      1\n",
       "KY      1\n",
       "AL      1\n",
       "NM      1\n",
       "Name: state, dtype: int64"
      ]
     },
     "execution_count": 26,
     "metadata": {},
     "output_type": "execute_result"
    }
   ],
   "source": [
    "#\n",
    "df.state.value_counts()"
   ]
  },
  {
   "cell_type": "code",
   "execution_count": null,
   "id": "97cd5932",
   "metadata": {},
   "outputs": [],
   "source": []
  },
  {
   "cell_type": "markdown",
   "id": "de685203",
   "metadata": {},
   "source": [
    "State lookup table"
   ]
  },
  {
   "cell_type": "code",
   "execution_count": 29,
   "id": "b9261458",
   "metadata": {},
   "outputs": [
    {
     "data": {
      "text/html": [
       "<div>\n",
       "<style scoped>\n",
       "    .dataframe tbody tr th:only-of-type {\n",
       "        vertical-align: middle;\n",
       "    }\n",
       "\n",
       "    .dataframe tbody tr th {\n",
       "        vertical-align: top;\n",
       "    }\n",
       "\n",
       "    .dataframe thead th {\n",
       "        text-align: right;\n",
       "    }\n",
       "</style>\n",
       "<table border=\"1\" class=\"dataframe\">\n",
       "  <thead>\n",
       "    <tr style=\"text-align: right;\">\n",
       "      <th></th>\n",
       "      <th>state</th>\n",
       "    </tr>\n",
       "  </thead>\n",
       "  <tbody>\n",
       "    <tr>\n",
       "      <th>0</th>\n",
       "      <td>CA</td>\n",
       "    </tr>\n",
       "    <tr>\n",
       "      <th>1</th>\n",
       "      <td>OK</td>\n",
       "    </tr>\n",
       "    <tr>\n",
       "      <th>2</th>\n",
       "      <td>CT</td>\n",
       "    </tr>\n",
       "    <tr>\n",
       "      <th>3</th>\n",
       "      <td>GA</td>\n",
       "    </tr>\n",
       "    <tr>\n",
       "      <th>4</th>\n",
       "      <td>FL</td>\n",
       "    </tr>\n",
       "    <tr>\n",
       "      <th>5</th>\n",
       "      <td>TX</td>\n",
       "    </tr>\n",
       "    <tr>\n",
       "      <th>6</th>\n",
       "      <td>AL</td>\n",
       "    </tr>\n",
       "    <tr>\n",
       "      <th>7</th>\n",
       "      <td>NY</td>\n",
       "    </tr>\n",
       "    <tr>\n",
       "      <th>8</th>\n",
       "      <td>OR</td>\n",
       "    </tr>\n",
       "    <tr>\n",
       "      <th>9</th>\n",
       "      <td>WI</td>\n",
       "    </tr>\n",
       "    <tr>\n",
       "      <th>10</th>\n",
       "      <td>WA</td>\n",
       "    </tr>\n",
       "    <tr>\n",
       "      <th>11</th>\n",
       "      <td>MI</td>\n",
       "    </tr>\n",
       "    <tr>\n",
       "      <th>12</th>\n",
       "      <td>IL</td>\n",
       "    </tr>\n",
       "    <tr>\n",
       "      <th>13</th>\n",
       "      <td>TN</td>\n",
       "    </tr>\n",
       "    <tr>\n",
       "      <th>14</th>\n",
       "      <td>MN</td>\n",
       "    </tr>\n",
       "    <tr>\n",
       "      <th>15</th>\n",
       "      <td>NH</td>\n",
       "    </tr>\n",
       "    <tr>\n",
       "      <th>16</th>\n",
       "      <td>NJ</td>\n",
       "    </tr>\n",
       "    <tr>\n",
       "      <th>17</th>\n",
       "      <td>MA</td>\n",
       "    </tr>\n",
       "    <tr>\n",
       "      <th>18</th>\n",
       "      <td>AZ</td>\n",
       "    </tr>\n",
       "    <tr>\n",
       "      <th>19</th>\n",
       "      <td>VA</td>\n",
       "    </tr>\n",
       "    <tr>\n",
       "      <th>20</th>\n",
       "      <td>NC</td>\n",
       "    </tr>\n",
       "    <tr>\n",
       "      <th>21</th>\n",
       "      <td>SC</td>\n",
       "    </tr>\n",
       "    <tr>\n",
       "      <th>22</th>\n",
       "      <td>NE</td>\n",
       "    </tr>\n",
       "    <tr>\n",
       "      <th>23</th>\n",
       "      <td>PA</td>\n",
       "    </tr>\n",
       "    <tr>\n",
       "      <th>24</th>\n",
       "      <td>DC</td>\n",
       "    </tr>\n",
       "    <tr>\n",
       "      <th>25</th>\n",
       "      <td>OH</td>\n",
       "    </tr>\n",
       "    <tr>\n",
       "      <th>26</th>\n",
       "      <td>MO</td>\n",
       "    </tr>\n",
       "    <tr>\n",
       "      <th>27</th>\n",
       "      <td>CO</td>\n",
       "    </tr>\n",
       "    <tr>\n",
       "      <th>28</th>\n",
       "      <td>IA</td>\n",
       "    </tr>\n",
       "    <tr>\n",
       "      <th>29</th>\n",
       "      <td>DE</td>\n",
       "    </tr>\n",
       "    <tr>\n",
       "      <th>30</th>\n",
       "      <td>VT</td>\n",
       "    </tr>\n",
       "    <tr>\n",
       "      <th>31</th>\n",
       "      <td>UT</td>\n",
       "    </tr>\n",
       "    <tr>\n",
       "      <th>32</th>\n",
       "      <td>NV</td>\n",
       "    </tr>\n",
       "    <tr>\n",
       "      <th>33</th>\n",
       "      <td>MD</td>\n",
       "    </tr>\n",
       "    <tr>\n",
       "      <th>34</th>\n",
       "      <td>MS</td>\n",
       "    </tr>\n",
       "    <tr>\n",
       "      <th>35</th>\n",
       "      <td>KS</td>\n",
       "    </tr>\n",
       "    <tr>\n",
       "      <th>36</th>\n",
       "      <td>KY</td>\n",
       "    </tr>\n",
       "    <tr>\n",
       "      <th>37</th>\n",
       "      <td>LA</td>\n",
       "    </tr>\n",
       "    <tr>\n",
       "      <th>38</th>\n",
       "      <td>NM</td>\n",
       "    </tr>\n",
       "  </tbody>\n",
       "</table>\n",
       "</div>"
      ],
      "text/plain": [
       "   state\n",
       "0     CA\n",
       "1     OK\n",
       "2     CT\n",
       "3     GA\n",
       "4     FL\n",
       "5     TX\n",
       "6     AL\n",
       "7     NY\n",
       "8     OR\n",
       "9     WI\n",
       "10    WA\n",
       "11    MI\n",
       "12    IL\n",
       "13    TN\n",
       "14    MN\n",
       "15    NH\n",
       "16    NJ\n",
       "17    MA\n",
       "18    AZ\n",
       "19    VA\n",
       "20    NC\n",
       "21    SC\n",
       "22    NE\n",
       "23    PA\n",
       "24    DC\n",
       "25    OH\n",
       "26    MO\n",
       "27    CO\n",
       "28    IA\n",
       "29    DE\n",
       "30    VT\n",
       "31    UT\n",
       "32    NV\n",
       "33    MD\n",
       "34    MS\n",
       "35    KS\n",
       "36    KY\n",
       "37    LA\n",
       "38    NM"
      ]
     },
     "execution_count": 29,
     "metadata": {},
     "output_type": "execute_result"
    }
   ],
   "source": [
    "#State look-up table\n",
    "state = df.state.dropna().unique()\n",
    "state_df = pd.DataFrame()\n",
    "state_df[\"state\"] = state\n",
    "state_df"
   ]
  },
  {
   "cell_type": "code",
   "execution_count": null,
   "id": "a4a91d1b",
   "metadata": {},
   "outputs": [],
   "source": []
  },
  {
   "cell_type": "code",
   "execution_count": 30,
   "id": "f5818baa",
   "metadata": {},
   "outputs": [],
   "source": [
    "#\n",
    "def getRemote(loc):\n",
    "    if \"remote\" in loc.lower():\n",
    "        return(True)\n",
    "    else:\n",
    "        return(False)\n",
    "        \n",
    "  "
   ]
  },
  {
   "cell_type": "code",
   "execution_count": 31,
   "id": "1b2d60b1",
   "metadata": {},
   "outputs": [
    {
     "name": "stdout",
     "output_type": "stream",
     "text": [
      "<class 'pandas.core.frame.DataFrame'>\n",
      "RangeIndex: 735 entries, 0 to 734\n",
      "Data columns (total 10 columns):\n",
      " #   Column          Non-Null Count  Dtype  \n",
      "---  ------          --------------  -----  \n",
      " 0   job_title       735 non-null    object \n",
      " 1   job_link        735 non-null    object \n",
      " 2   company         733 non-null    object \n",
      " 3   company_link    530 non-null    object \n",
      " 4   company_rating  530 non-null    float64\n",
      " 5   location        735 non-null    object \n",
      " 6   salary          355 non-null    object \n",
      " 7   status          555 non-null    object \n",
      " 8   state           545 non-null    object \n",
      " 9   is_remote       735 non-null    bool   \n",
      "dtypes: bool(1), float64(1), object(8)\n",
      "memory usage: 52.5+ KB\n"
     ]
    }
   ],
   "source": [
    "#\n",
    "df[\"is_remote\"] = df.location.apply(lambda x: getRemote(x))\n",
    "df.info()"
   ]
  },
  {
   "cell_type": "code",
   "execution_count": 32,
   "id": "a156a1e1",
   "metadata": {},
   "outputs": [
    {
     "data": {
      "text/plain": [
       "True     368\n",
       "False    367\n",
       "Name: is_remote, dtype: int64"
      ]
     },
     "execution_count": 32,
     "metadata": {},
     "output_type": "execute_result"
    }
   ],
   "source": [
    "df.is_remote.value_counts()"
   ]
  },
  {
   "cell_type": "code",
   "execution_count": 33,
   "id": "32e0ca94",
   "metadata": {},
   "outputs": [
    {
     "name": "stdout",
     "output_type": "stream",
     "text": [
      "<class 'pandas.core.series.Series'>\n",
      "RangeIndex: 735 entries, 0 to 734\n",
      "Series name: is_remote\n",
      "Non-Null Count  Dtype\n",
      "--------------  -----\n",
      "735 non-null    bool \n",
      "dtypes: bool(1)\n",
      "memory usage: 863.0 bytes\n"
     ]
    }
   ],
   "source": [
    "df.is_remote.info()"
   ]
  },
  {
   "cell_type": "code",
   "execution_count": 34,
   "id": "8276ea58",
   "metadata": {},
   "outputs": [
    {
     "data": {
      "text/html": [
       "<div>\n",
       "<style scoped>\n",
       "    .dataframe tbody tr th:only-of-type {\n",
       "        vertical-align: middle;\n",
       "    }\n",
       "\n",
       "    .dataframe tbody tr th {\n",
       "        vertical-align: top;\n",
       "    }\n",
       "\n",
       "    .dataframe thead th {\n",
       "        text-align: right;\n",
       "    }\n",
       "</style>\n",
       "<table border=\"1\" class=\"dataframe\">\n",
       "  <thead>\n",
       "    <tr style=\"text-align: right;\">\n",
       "      <th></th>\n",
       "      <th>is_remote</th>\n",
       "    </tr>\n",
       "  </thead>\n",
       "  <tbody>\n",
       "    <tr>\n",
       "      <th>0</th>\n",
       "      <td>False</td>\n",
       "    </tr>\n",
       "    <tr>\n",
       "      <th>1</th>\n",
       "      <td>True</td>\n",
       "    </tr>\n",
       "  </tbody>\n",
       "</table>\n",
       "</div>"
      ],
      "text/plain": [
       "   is_remote\n",
       "0      False\n",
       "1       True"
      ]
     },
     "execution_count": 34,
     "metadata": {},
     "output_type": "execute_result"
    }
   ],
   "source": [
    "is_remote = df.is_remote.dropna().unique()\n",
    "is_remote_df = pd.DataFrame()\n",
    "is_remote_df[\"is_remote\"] = is_remote\n",
    "is_remote_df"
   ]
  },
  {
   "cell_type": "code",
   "execution_count": null,
   "id": "170cb7d8",
   "metadata": {},
   "outputs": [],
   "source": []
  },
  {
   "cell_type": "code",
   "execution_count": null,
   "id": "a9e86929",
   "metadata": {},
   "outputs": [],
   "source": []
  },
  {
   "cell_type": "code",
   "execution_count": null,
   "id": "84e2c0c0",
   "metadata": {},
   "outputs": [],
   "source": []
  },
  {
   "cell_type": "code",
   "execution_count": 35,
   "id": "63f9457a",
   "metadata": {},
   "outputs": [],
   "source": [
    "#Find the companies paying for ads\n",
    "def getAd(link):\n",
    "    if \"pagead\" in link.lower():\n",
    "        return(True)\n",
    "    else:\n",
    "        return(False)"
   ]
  },
  {
   "cell_type": "code",
   "execution_count": 36,
   "id": "a507c6e2",
   "metadata": {},
   "outputs": [
    {
     "name": "stdout",
     "output_type": "stream",
     "text": [
      "<class 'pandas.core.frame.DataFrame'>\n",
      "RangeIndex: 735 entries, 0 to 734\n",
      "Data columns (total 11 columns):\n",
      " #   Column          Non-Null Count  Dtype  \n",
      "---  ------          --------------  -----  \n",
      " 0   job_title       735 non-null    object \n",
      " 1   job_link        735 non-null    object \n",
      " 2   company         733 non-null    object \n",
      " 3   company_link    530 non-null    object \n",
      " 4   company_rating  530 non-null    float64\n",
      " 5   location        735 non-null    object \n",
      " 6   salary          355 non-null    object \n",
      " 7   status          555 non-null    object \n",
      " 8   state           545 non-null    object \n",
      " 9   is_remote       735 non-null    bool   \n",
      " 10  is_ad           735 non-null    bool   \n",
      "dtypes: bool(2), float64(1), object(8)\n",
      "memory usage: 53.2+ KB\n"
     ]
    }
   ],
   "source": [
    "df[\"is_ad\"] = df.job_link.apply(lambda x: getAd(x))\n",
    "df.info()"
   ]
  },
  {
   "cell_type": "code",
   "execution_count": 37,
   "id": "17824cdd",
   "metadata": {},
   "outputs": [
    {
     "data": {
      "text/plain": [
       "False    611\n",
       "True     124\n",
       "Name: is_ad, dtype: int64"
      ]
     },
     "execution_count": 37,
     "metadata": {},
     "output_type": "execute_result"
    }
   ],
   "source": [
    "df.is_ad.value_counts()"
   ]
  },
  {
   "cell_type": "code",
   "execution_count": 38,
   "id": "625ddaac",
   "metadata": {},
   "outputs": [
    {
     "data": {
      "text/plain": [
       "company\n",
       "Insight Global                             5\n",
       "DISYS                                      4\n",
       "USAA                                       4\n",
       "Signify Health                             3\n",
       "Vaco                                       3\n",
       "                                          ..\n",
       "General Motors                             0\n",
       "General Dynamics Information Technology    0\n",
       "GeneDx                                     0\n",
       "Gainwell Technologies LLC                  0\n",
       "pulseData                                  0\n",
       "Name: is_ad, Length: 576, dtype: int64"
      ]
     },
     "execution_count": 38,
     "metadata": {},
     "output_type": "execute_result"
    }
   ],
   "source": [
    "#Paying for Ads, add to main job table as bool\n",
    "df.groupby(\"company\").is_ad.sum().sort_values(ascending=False)"
   ]
  },
  {
   "cell_type": "code",
   "execution_count": null,
   "id": "df1729f3",
   "metadata": {},
   "outputs": [],
   "source": []
  },
  {
   "cell_type": "code",
   "execution_count": null,
   "id": "aa1af77a",
   "metadata": {},
   "outputs": [],
   "source": []
  },
  {
   "cell_type": "code",
   "execution_count": 39,
   "id": "c2f2cba1",
   "metadata": {},
   "outputs": [],
   "source": [
    "#Create a CSV for companies \n",
    "#companies.to_csv('companies.csv', index=False)"
   ]
  },
  {
   "cell_type": "code",
   "execution_count": 40,
   "id": "2cd83b18",
   "metadata": {},
   "outputs": [],
   "source": [
    "#companies_file = pd.read_csv('companies.csv')\n",
    "#companies_file"
   ]
  },
  {
   "cell_type": "code",
   "execution_count": 41,
   "id": "e223d29a",
   "metadata": {},
   "outputs": [],
   "source": [
    "#Create a CSV for States\n",
    "#state_df.to_csv('state.csv', index=False)"
   ]
  },
  {
   "cell_type": "code",
   "execution_count": 42,
   "id": "6fb3544a",
   "metadata": {},
   "outputs": [],
   "source": [
    "#state_file = pd.read_csv('state.csv')\n",
    "#state_file"
   ]
  },
  {
   "cell_type": "code",
   "execution_count": 43,
   "id": "373611e1",
   "metadata": {},
   "outputs": [],
   "source": [
    "#Create a CSV for status (Full-time/part-time)\n",
    "#status_df.to_csv('status.csv', index=False)"
   ]
  },
  {
   "cell_type": "code",
   "execution_count": 44,
   "id": "bf264abb",
   "metadata": {},
   "outputs": [],
   "source": [
    "#status_file = pd.read_csv('status.csv')\n",
    "#status_file"
   ]
  },
  {
   "cell_type": "code",
   "execution_count": null,
   "id": "33c7cc8d",
   "metadata": {},
   "outputs": [],
   "source": []
  },
  {
   "cell_type": "code",
   "execution_count": 45,
   "id": "06f45aad",
   "metadata": {},
   "outputs": [],
   "source": [
    "import pandas as pd\n",
    "from sqlalchemy import create_engine, inspect"
   ]
  },
  {
   "cell_type": "code",
   "execution_count": 46,
   "id": "a7997956",
   "metadata": {},
   "outputs": [],
   "source": [
    "USERNAME = \"postgres\"\n",
    "PASSWORD = \"fAr3st!290\"\n",
    "URL = \"localhost\"\n",
    "PORT = 5432\n",
    "DATABASE = \"Jobs_db\"\n",
    "\n",
    "connection_str = f\"postgresql+psycopg2://{USERNAME}:{PASSWORD}@{URL}:{PORT}/{DATABASE}\"\n",
    "#print(connection_str)\n",
    "\n",
    "engine = create_engine(connection_str)"
   ]
  },
  {
   "cell_type": "code",
   "execution_count": 47,
   "id": "44d59927",
   "metadata": {},
   "outputs": [
    {
     "name": "stdout",
     "output_type": "stream",
     "text": [
      "status\n",
      "{'name': 'id', 'type': INTEGER(), 'nullable': False, 'default': \"nextval('status_id_seq'::regclass)\", 'autoincrement': True, 'comment': None}\n",
      "{'name': 'status', 'type': VARCHAR(length=20), 'nullable': False, 'default': None, 'autoincrement': False, 'comment': None}\n",
      "{'name': 'last_updated', 'type': TIMESTAMP(), 'nullable': False, 'default': 'LOCALTIMESTAMP', 'autoincrement': False, 'comment': None}\n",
      "\n",
      "state\n",
      "{'name': 'id', 'type': INTEGER(), 'nullable': False, 'default': \"nextval('state_id_seq'::regclass)\", 'autoincrement': True, 'comment': None}\n",
      "{'name': 'state', 'type': VARCHAR(length=10), 'nullable': False, 'default': None, 'autoincrement': False, 'comment': None}\n",
      "{'name': 'last_updated', 'type': TIMESTAMP(), 'nullable': False, 'default': 'LOCALTIMESTAMP', 'autoincrement': False, 'comment': None}\n",
      "\n",
      "company\n",
      "{'name': 'id', 'type': INTEGER(), 'nullable': False, 'default': \"nextval('company_id_seq'::regclass)\", 'autoincrement': True, 'comment': None}\n",
      "{'name': 'company', 'type': VARCHAR(length=100), 'nullable': False, 'default': None, 'autoincrement': False, 'comment': None}\n",
      "{'name': 'company_link', 'type': VARCHAR(length=500), 'nullable': True, 'default': None, 'autoincrement': False, 'comment': None}\n",
      "{'name': 'company_rating', 'type': DOUBLE_PRECISION(precision=53), 'nullable': True, 'default': None, 'autoincrement': False, 'comment': None}\n",
      "{'name': 'last_updated', 'type': TIMESTAMP(), 'nullable': False, 'default': 'LOCALTIMESTAMP', 'autoincrement': False, 'comment': None}\n",
      "\n",
      "job\n",
      "{'name': 'id', 'type': INTEGER(), 'nullable': False, 'default': \"nextval('job_id_seq'::regclass)\", 'autoincrement': True, 'comment': None}\n",
      "{'name': 'job_title', 'type': VARCHAR(length=100), 'nullable': False, 'default': None, 'autoincrement': False, 'comment': None}\n",
      "{'name': 'job_link', 'type': VARCHAR(length=2000), 'nullable': False, 'default': None, 'autoincrement': False, 'comment': None}\n",
      "{'name': 'company_id', 'type': INTEGER(), 'nullable': True, 'default': None, 'autoincrement': False, 'comment': None}\n",
      "{'name': 'location', 'type': VARCHAR(length=2000), 'nullable': True, 'default': None, 'autoincrement': False, 'comment': None}\n",
      "{'name': 'salary', 'type': VARCHAR(length=100), 'nullable': True, 'default': None, 'autoincrement': False, 'comment': None}\n",
      "{'name': 'status_id', 'type': INTEGER(), 'nullable': True, 'default': None, 'autoincrement': False, 'comment': None}\n",
      "{'name': 'state_id', 'type': INTEGER(), 'nullable': True, 'default': None, 'autoincrement': False, 'comment': None}\n",
      "{'name': 'is_remote', 'type': BOOLEAN(), 'nullable': True, 'default': None, 'autoincrement': False, 'comment': None}\n",
      "{'name': 'is_ad', 'type': BOOLEAN(), 'nullable': True, 'default': None, 'autoincrement': False, 'comment': None}\n",
      "{'name': 'last_updated', 'type': TIMESTAMP(), 'nullable': False, 'default': 'LOCALTIMESTAMP', 'autoincrement': False, 'comment': None}\n",
      "\n"
     ]
    }
   ],
   "source": [
    "# create the inspector and connect to the engine\n",
    "inspector_gadget = inspect(engine)\n",
    "\n",
    "tables = inspector_gadget.get_table_names()\n",
    "for table in tables:\n",
    "    print(table)\n",
    "    \n",
    "    # get all columns in table\n",
    "    columns = inspector_gadget.get_columns(table)\n",
    "    for column in columns:\n",
    "        print(column)\n",
    "    print()"
   ]
  },
  {
   "cell_type": "code",
   "execution_count": 48,
   "id": "38973658",
   "metadata": {},
   "outputs": [
    {
     "data": {
      "text/html": [
       "<div>\n",
       "<style scoped>\n",
       "    .dataframe tbody tr th:only-of-type {\n",
       "        vertical-align: middle;\n",
       "    }\n",
       "\n",
       "    .dataframe tbody tr th {\n",
       "        vertical-align: top;\n",
       "    }\n",
       "\n",
       "    .dataframe thead th {\n",
       "        text-align: right;\n",
       "    }\n",
       "</style>\n",
       "<table border=\"1\" class=\"dataframe\">\n",
       "  <thead>\n",
       "    <tr style=\"text-align: right;\">\n",
       "      <th></th>\n",
       "      <th>status</th>\n",
       "    </tr>\n",
       "  </thead>\n",
       "  <tbody>\n",
       "    <tr>\n",
       "      <th>0</th>\n",
       "      <td>Full-time</td>\n",
       "    </tr>\n",
       "    <tr>\n",
       "      <th>1</th>\n",
       "      <td>Contract</td>\n",
       "    </tr>\n",
       "    <tr>\n",
       "      <th>2</th>\n",
       "      <td>Internship</td>\n",
       "    </tr>\n",
       "    <tr>\n",
       "      <th>3</th>\n",
       "      <td>Part-time</td>\n",
       "    </tr>\n",
       "    <tr>\n",
       "      <th>4</th>\n",
       "      <td>Temporary</td>\n",
       "    </tr>\n",
       "  </tbody>\n",
       "</table>\n",
       "</div>"
      ],
      "text/plain": [
       "       status\n",
       "0   Full-time\n",
       "1    Contract\n",
       "2  Internship\n",
       "3   Part-time\n",
       "4   Temporary"
      ]
     },
     "execution_count": 48,
     "metadata": {},
     "output_type": "execute_result"
    }
   ],
   "source": [
    "status_df.head()"
   ]
  },
  {
   "cell_type": "code",
   "execution_count": 49,
   "id": "22c914bf",
   "metadata": {},
   "outputs": [
    {
     "data": {
      "text/plain": [
       "6"
      ]
     },
     "execution_count": 49,
     "metadata": {},
     "output_type": "execute_result"
    }
   ],
   "source": [
    "engine.execute(\"truncate table status restart identity cascade\")\n",
    "status_df.to_sql(\"status\", engine, method=\"multi\", if_exists = \"append\", index=False)"
   ]
  },
  {
   "cell_type": "code",
   "execution_count": 50,
   "id": "b873441e",
   "metadata": {},
   "outputs": [
    {
     "data": {
      "text/plain": [
       "39"
      ]
     },
     "execution_count": 50,
     "metadata": {},
     "output_type": "execute_result"
    }
   ],
   "source": [
    "engine.execute(\"truncate table state restart identity cascade\")\n",
    "state_df.to_sql(\"state\", engine, method=\"multi\", if_exists = \"append\", index=False)"
   ]
  },
  {
   "cell_type": "code",
   "execution_count": 51,
   "id": "04af8678",
   "metadata": {},
   "outputs": [],
   "source": [
    "#companies.to_sql(\"company\", engine, method=\"multi\", if_exists = \"append\", index=False)"
   ]
  },
  {
   "cell_type": "code",
   "execution_count": 52,
   "id": "2587ef54",
   "metadata": {},
   "outputs": [],
   "source": [
    "#companies.head()"
   ]
  },
  {
   "cell_type": "code",
   "execution_count": 53,
   "id": "4d73e20d",
   "metadata": {},
   "outputs": [],
   "source": [
    "#companies.info()"
   ]
  },
  {
   "cell_type": "code",
   "execution_count": 54,
   "id": "da09e0f3",
   "metadata": {},
   "outputs": [],
   "source": [
    "#companies.loc[pd.isnull(companies.company)]"
   ]
  },
  {
   "cell_type": "code",
   "execution_count": 55,
   "id": "0db60a8c",
   "metadata": {},
   "outputs": [
    {
     "name": "stdout",
     "output_type": "stream",
     "text": [
      "<class 'pandas.core.frame.DataFrame'>\n",
      "RangeIndex: 576 entries, 0 to 575\n",
      "Data columns (total 3 columns):\n",
      " #   Column          Non-Null Count  Dtype  \n",
      "---  ------          --------------  -----  \n",
      " 0   company         576 non-null    object \n",
      " 1   company_link    392 non-null    object \n",
      " 2   company_rating  392 non-null    float64\n",
      "dtypes: float64(1), object(2)\n",
      "memory usage: 13.6+ KB\n"
     ]
    }
   ],
   "source": [
    "#Drop one company with no name, inclue in writeup\n",
    "companies = companies.loc[pd.notnull(companies.company)].reset_index(drop=True)\n",
    "companies.info()"
   ]
  },
  {
   "cell_type": "code",
   "execution_count": 56,
   "id": "a423c79d",
   "metadata": {},
   "outputs": [
    {
     "data": {
      "text/plain": [
       "576"
      ]
     },
     "execution_count": 56,
     "metadata": {},
     "output_type": "execute_result"
    }
   ],
   "source": [
    "engine.execute(\"truncate table company restart identity cascade\")\n",
    "companies.to_sql(\"company\", engine, method=\"multi\", if_exists = \"append\", index=False)"
   ]
  },
  {
   "cell_type": "code",
   "execution_count": null,
   "id": "7b657c57",
   "metadata": {},
   "outputs": [],
   "source": []
  },
  {
   "cell_type": "code",
   "execution_count": null,
   "id": "059b11c5",
   "metadata": {},
   "outputs": [],
   "source": []
  },
  {
   "cell_type": "code",
   "execution_count": 57,
   "id": "a1961493",
   "metadata": {},
   "outputs": [
    {
     "data": {
      "text/html": [
       "<div>\n",
       "<style scoped>\n",
       "    .dataframe tbody tr th:only-of-type {\n",
       "        vertical-align: middle;\n",
       "    }\n",
       "\n",
       "    .dataframe tbody tr th {\n",
       "        vertical-align: top;\n",
       "    }\n",
       "\n",
       "    .dataframe thead th {\n",
       "        text-align: right;\n",
       "    }\n",
       "</style>\n",
       "<table border=\"1\" class=\"dataframe\">\n",
       "  <thead>\n",
       "    <tr style=\"text-align: right;\">\n",
       "      <th></th>\n",
       "      <th>job_title</th>\n",
       "      <th>job_link</th>\n",
       "      <th>company</th>\n",
       "      <th>company_link</th>\n",
       "      <th>company_rating</th>\n",
       "      <th>location</th>\n",
       "      <th>salary</th>\n",
       "      <th>status</th>\n",
       "      <th>state</th>\n",
       "      <th>is_remote</th>\n",
       "      <th>is_ad</th>\n",
       "    </tr>\n",
       "  </thead>\n",
       "  <tbody>\n",
       "    <tr>\n",
       "      <th>0</th>\n",
       "      <td>Behavior Analyst</td>\n",
       "      <td>www.indeed.com/pagead/clk?mo=r&amp;ad=-6NYlbfkN0CX...</td>\n",
       "      <td>Centre For Neuro Skills</td>\n",
       "      <td>www.indeed.com/cmp/Centre-For-Neuro-Skills</td>\n",
       "      <td>3.4</td>\n",
       "      <td>Bakersfield, CA 93313 (Silver Creek area)</td>\n",
       "      <td>None</td>\n",
       "      <td>Full-time</td>\n",
       "      <td>CA</td>\n",
       "      <td>False</td>\n",
       "      <td>True</td>\n",
       "    </tr>\n",
       "    <tr>\n",
       "      <th>1</th>\n",
       "      <td>Sr. Business Analyst</td>\n",
       "      <td>www.indeed.com/pagead/clk?mo=r&amp;ad=-6NYlbfkN0Cz...</td>\n",
       "      <td>MidFirst Bank</td>\n",
       "      <td>www.indeed.com/cmp/Midfirst-Bank</td>\n",
       "      <td>3.4</td>\n",
       "      <td>Oklahoma City, OK 73118</td>\n",
       "      <td>None</td>\n",
       "      <td>Full-time</td>\n",
       "      <td>OK</td>\n",
       "      <td>False</td>\n",
       "      <td>True</td>\n",
       "    </tr>\n",
       "    <tr>\n",
       "      <th>2</th>\n",
       "      <td>Data, Reporting, and CRM Specialist</td>\n",
       "      <td>www.indeed.com/pagead/clk?mo=r&amp;ad=-6NYlbfkN0D6...</td>\n",
       "      <td>BrandTech Scientific, Inc.</td>\n",
       "      <td>None</td>\n",
       "      <td>NaN</td>\n",
       "      <td>Hybrid remote in Essex, CT 06426</td>\n",
       "      <td>$65,000 - $75,000 a year Employer est.</td>\n",
       "      <td>Full-time</td>\n",
       "      <td>CT</td>\n",
       "      <td>True</td>\n",
       "      <td>True</td>\n",
       "    </tr>\n",
       "    <tr>\n",
       "      <th>3</th>\n",
       "      <td>Board Certified Behavior Analyst (BCBA)</td>\n",
       "      <td>www.indeed.com/pagead/clk?mo=r&amp;ad=-6NYlbfkN0BP...</td>\n",
       "      <td>Pathways Autism Center</td>\n",
       "      <td>www.indeed.com/cmp/Pathways-Behavioral-Consult...</td>\n",
       "      <td>2.5</td>\n",
       "      <td>Atlanta, GA 30338</td>\n",
       "      <td>$70,000 - $90,000 a year Employer est.</td>\n",
       "      <td>Full-time</td>\n",
       "      <td>GA</td>\n",
       "      <td>False</td>\n",
       "      <td>True</td>\n",
       "    </tr>\n",
       "    <tr>\n",
       "      <th>4</th>\n",
       "      <td>Business Analyst</td>\n",
       "      <td>www.indeed.com/pagead/clk?mo=r&amp;ad=-6NYlbfkN0C_...</td>\n",
       "      <td>Piper Aircraft Inc</td>\n",
       "      <td>www.indeed.com/cmp/Piper-Aircraft-Inc</td>\n",
       "      <td>3.2</td>\n",
       "      <td>Vero Beach, FL 32960 (Vero Beach Regional Airp...</td>\n",
       "      <td>None</td>\n",
       "      <td>Full-time</td>\n",
       "      <td>FL</td>\n",
       "      <td>False</td>\n",
       "      <td>True</td>\n",
       "    </tr>\n",
       "  </tbody>\n",
       "</table>\n",
       "</div>"
      ],
      "text/plain": [
       "                                 job_title  \\\n",
       "0                         Behavior Analyst   \n",
       "1                     Sr. Business Analyst   \n",
       "2      Data, Reporting, and CRM Specialist   \n",
       "3  Board Certified Behavior Analyst (BCBA)   \n",
       "4                         Business Analyst   \n",
       "\n",
       "                                            job_link  \\\n",
       "0  www.indeed.com/pagead/clk?mo=r&ad=-6NYlbfkN0CX...   \n",
       "1  www.indeed.com/pagead/clk?mo=r&ad=-6NYlbfkN0Cz...   \n",
       "2  www.indeed.com/pagead/clk?mo=r&ad=-6NYlbfkN0D6...   \n",
       "3  www.indeed.com/pagead/clk?mo=r&ad=-6NYlbfkN0BP...   \n",
       "4  www.indeed.com/pagead/clk?mo=r&ad=-6NYlbfkN0C_...   \n",
       "\n",
       "                      company  \\\n",
       "0     Centre For Neuro Skills   \n",
       "1               MidFirst Bank   \n",
       "2  BrandTech Scientific, Inc.   \n",
       "3      Pathways Autism Center   \n",
       "4          Piper Aircraft Inc   \n",
       "\n",
       "                                        company_link  company_rating  \\\n",
       "0         www.indeed.com/cmp/Centre-For-Neuro-Skills             3.4   \n",
       "1                   www.indeed.com/cmp/Midfirst-Bank             3.4   \n",
       "2                                               None             NaN   \n",
       "3  www.indeed.com/cmp/Pathways-Behavioral-Consult...             2.5   \n",
       "4              www.indeed.com/cmp/Piper-Aircraft-Inc             3.2   \n",
       "\n",
       "                                            location  \\\n",
       "0          Bakersfield, CA 93313 (Silver Creek area)   \n",
       "1                            Oklahoma City, OK 73118   \n",
       "2                   Hybrid remote in Essex, CT 06426   \n",
       "3                                  Atlanta, GA 30338   \n",
       "4  Vero Beach, FL 32960 (Vero Beach Regional Airp...   \n",
       "\n",
       "                                   salary     status state  is_remote  is_ad  \n",
       "0                                    None  Full-time    CA      False   True  \n",
       "1                                    None  Full-time    OK      False   True  \n",
       "2  $65,000 - $75,000 a year Employer est.  Full-time    CT       True   True  \n",
       "3  $70,000 - $90,000 a year Employer est.  Full-time    GA      False   True  \n",
       "4                                    None  Full-time    FL      False   True  "
      ]
     },
     "execution_count": 57,
     "metadata": {},
     "output_type": "execute_result"
    }
   ],
   "source": [
    "df.head()"
   ]
  },
  {
   "cell_type": "code",
   "execution_count": 58,
   "id": "acaf4490",
   "metadata": {},
   "outputs": [
    {
     "data": {
      "text/html": [
       "<div>\n",
       "<style scoped>\n",
       "    .dataframe tbody tr th:only-of-type {\n",
       "        vertical-align: middle;\n",
       "    }\n",
       "\n",
       "    .dataframe tbody tr th {\n",
       "        vertical-align: top;\n",
       "    }\n",
       "\n",
       "    .dataframe thead th {\n",
       "        text-align: right;\n",
       "    }\n",
       "</style>\n",
       "<table border=\"1\" class=\"dataframe\">\n",
       "  <thead>\n",
       "    <tr style=\"text-align: right;\">\n",
       "      <th></th>\n",
       "      <th>status_id</th>\n",
       "      <th>status</th>\n",
       "    </tr>\n",
       "  </thead>\n",
       "  <tbody>\n",
       "    <tr>\n",
       "      <th>0</th>\n",
       "      <td>1</td>\n",
       "      <td>Full-time</td>\n",
       "    </tr>\n",
       "    <tr>\n",
       "      <th>1</th>\n",
       "      <td>2</td>\n",
       "      <td>Contract</td>\n",
       "    </tr>\n",
       "    <tr>\n",
       "      <th>2</th>\n",
       "      <td>3</td>\n",
       "      <td>Internship</td>\n",
       "    </tr>\n",
       "    <tr>\n",
       "      <th>3</th>\n",
       "      <td>4</td>\n",
       "      <td>Part-time</td>\n",
       "    </tr>\n",
       "    <tr>\n",
       "      <th>4</th>\n",
       "      <td>5</td>\n",
       "      <td>Temporary</td>\n",
       "    </tr>\n",
       "    <tr>\n",
       "      <th>5</th>\n",
       "      <td>6</td>\n",
       "      <td>Seasonal</td>\n",
       "    </tr>\n",
       "  </tbody>\n",
       "</table>\n",
       "</div>"
      ],
      "text/plain": [
       "   status_id      status\n",
       "0          1   Full-time\n",
       "1          2    Contract\n",
       "2          3  Internship\n",
       "3          4   Part-time\n",
       "4          5   Temporary\n",
       "5          6    Seasonal"
      ]
     },
     "execution_count": 58,
     "metadata": {},
     "output_type": "execute_result"
    }
   ],
   "source": [
    "status2 = pd.read_sql(\"select id as status_id, status from status\", engine)\n",
    "status2.head(20)"
   ]
  },
  {
   "cell_type": "code",
   "execution_count": 59,
   "id": "ced3f77d",
   "metadata": {},
   "outputs": [
    {
     "data": {
      "text/html": [
       "<div>\n",
       "<style scoped>\n",
       "    .dataframe tbody tr th:only-of-type {\n",
       "        vertical-align: middle;\n",
       "    }\n",
       "\n",
       "    .dataframe tbody tr th {\n",
       "        vertical-align: top;\n",
       "    }\n",
       "\n",
       "    .dataframe thead th {\n",
       "        text-align: right;\n",
       "    }\n",
       "</style>\n",
       "<table border=\"1\" class=\"dataframe\">\n",
       "  <thead>\n",
       "    <tr style=\"text-align: right;\">\n",
       "      <th></th>\n",
       "      <th>job_title</th>\n",
       "      <th>job_link</th>\n",
       "      <th>company</th>\n",
       "      <th>company_link</th>\n",
       "      <th>company_rating</th>\n",
       "      <th>location</th>\n",
       "      <th>salary</th>\n",
       "      <th>state</th>\n",
       "      <th>is_remote</th>\n",
       "      <th>is_ad</th>\n",
       "      <th>status_id</th>\n",
       "    </tr>\n",
       "  </thead>\n",
       "  <tbody>\n",
       "    <tr>\n",
       "      <th>0</th>\n",
       "      <td>Behavior Analyst</td>\n",
       "      <td>www.indeed.com/pagead/clk?mo=r&amp;ad=-6NYlbfkN0CX...</td>\n",
       "      <td>Centre For Neuro Skills</td>\n",
       "      <td>www.indeed.com/cmp/Centre-For-Neuro-Skills</td>\n",
       "      <td>3.4</td>\n",
       "      <td>Bakersfield, CA 93313 (Silver Creek area)</td>\n",
       "      <td>None</td>\n",
       "      <td>CA</td>\n",
       "      <td>False</td>\n",
       "      <td>True</td>\n",
       "      <td>1.0</td>\n",
       "    </tr>\n",
       "    <tr>\n",
       "      <th>1</th>\n",
       "      <td>Sr. Business Analyst</td>\n",
       "      <td>www.indeed.com/pagead/clk?mo=r&amp;ad=-6NYlbfkN0Cz...</td>\n",
       "      <td>MidFirst Bank</td>\n",
       "      <td>www.indeed.com/cmp/Midfirst-Bank</td>\n",
       "      <td>3.4</td>\n",
       "      <td>Oklahoma City, OK 73118</td>\n",
       "      <td>None</td>\n",
       "      <td>OK</td>\n",
       "      <td>False</td>\n",
       "      <td>True</td>\n",
       "      <td>1.0</td>\n",
       "    </tr>\n",
       "    <tr>\n",
       "      <th>2</th>\n",
       "      <td>Data, Reporting, and CRM Specialist</td>\n",
       "      <td>www.indeed.com/pagead/clk?mo=r&amp;ad=-6NYlbfkN0D6...</td>\n",
       "      <td>BrandTech Scientific, Inc.</td>\n",
       "      <td>None</td>\n",
       "      <td>NaN</td>\n",
       "      <td>Hybrid remote in Essex, CT 06426</td>\n",
       "      <td>$65,000 - $75,000 a year Employer est.</td>\n",
       "      <td>CT</td>\n",
       "      <td>True</td>\n",
       "      <td>True</td>\n",
       "      <td>1.0</td>\n",
       "    </tr>\n",
       "    <tr>\n",
       "      <th>3</th>\n",
       "      <td>Board Certified Behavior Analyst (BCBA)</td>\n",
       "      <td>www.indeed.com/pagead/clk?mo=r&amp;ad=-6NYlbfkN0BP...</td>\n",
       "      <td>Pathways Autism Center</td>\n",
       "      <td>www.indeed.com/cmp/Pathways-Behavioral-Consult...</td>\n",
       "      <td>2.5</td>\n",
       "      <td>Atlanta, GA 30338</td>\n",
       "      <td>$70,000 - $90,000 a year Employer est.</td>\n",
       "      <td>GA</td>\n",
       "      <td>False</td>\n",
       "      <td>True</td>\n",
       "      <td>1.0</td>\n",
       "    </tr>\n",
       "    <tr>\n",
       "      <th>4</th>\n",
       "      <td>Business Analyst</td>\n",
       "      <td>www.indeed.com/pagead/clk?mo=r&amp;ad=-6NYlbfkN0C_...</td>\n",
       "      <td>Piper Aircraft Inc</td>\n",
       "      <td>www.indeed.com/cmp/Piper-Aircraft-Inc</td>\n",
       "      <td>3.2</td>\n",
       "      <td>Vero Beach, FL 32960 (Vero Beach Regional Airp...</td>\n",
       "      <td>None</td>\n",
       "      <td>FL</td>\n",
       "      <td>False</td>\n",
       "      <td>True</td>\n",
       "      <td>1.0</td>\n",
       "    </tr>\n",
       "  </tbody>\n",
       "</table>\n",
       "</div>"
      ],
      "text/plain": [
       "                                 job_title  \\\n",
       "0                         Behavior Analyst   \n",
       "1                     Sr. Business Analyst   \n",
       "2      Data, Reporting, and CRM Specialist   \n",
       "3  Board Certified Behavior Analyst (BCBA)   \n",
       "4                         Business Analyst   \n",
       "\n",
       "                                            job_link  \\\n",
       "0  www.indeed.com/pagead/clk?mo=r&ad=-6NYlbfkN0CX...   \n",
       "1  www.indeed.com/pagead/clk?mo=r&ad=-6NYlbfkN0Cz...   \n",
       "2  www.indeed.com/pagead/clk?mo=r&ad=-6NYlbfkN0D6...   \n",
       "3  www.indeed.com/pagead/clk?mo=r&ad=-6NYlbfkN0BP...   \n",
       "4  www.indeed.com/pagead/clk?mo=r&ad=-6NYlbfkN0C_...   \n",
       "\n",
       "                      company  \\\n",
       "0     Centre For Neuro Skills   \n",
       "1               MidFirst Bank   \n",
       "2  BrandTech Scientific, Inc.   \n",
       "3      Pathways Autism Center   \n",
       "4          Piper Aircraft Inc   \n",
       "\n",
       "                                        company_link  company_rating  \\\n",
       "0         www.indeed.com/cmp/Centre-For-Neuro-Skills             3.4   \n",
       "1                   www.indeed.com/cmp/Midfirst-Bank             3.4   \n",
       "2                                               None             NaN   \n",
       "3  www.indeed.com/cmp/Pathways-Behavioral-Consult...             2.5   \n",
       "4              www.indeed.com/cmp/Piper-Aircraft-Inc             3.2   \n",
       "\n",
       "                                            location  \\\n",
       "0          Bakersfield, CA 93313 (Silver Creek area)   \n",
       "1                            Oklahoma City, OK 73118   \n",
       "2                   Hybrid remote in Essex, CT 06426   \n",
       "3                                  Atlanta, GA 30338   \n",
       "4  Vero Beach, FL 32960 (Vero Beach Regional Airp...   \n",
       "\n",
       "                                   salary state  is_remote  is_ad  status_id  \n",
       "0                                    None    CA      False   True        1.0  \n",
       "1                                    None    OK      False   True        1.0  \n",
       "2  $65,000 - $75,000 a year Employer est.    CT       True   True        1.0  \n",
       "3  $70,000 - $90,000 a year Employer est.    GA      False   True        1.0  \n",
       "4                                    None    FL      False   True        1.0  "
      ]
     },
     "execution_count": 59,
     "metadata": {},
     "output_type": "execute_result"
    }
   ],
   "source": [
    "df = pd.merge(df, status2, on = \"status\", how =\"left\")\n",
    "df.drop(\"status\", axis=1, inplace=True)\n",
    "df.head()"
   ]
  },
  {
   "cell_type": "code",
   "execution_count": 60,
   "id": "75a52d1d",
   "metadata": {},
   "outputs": [
    {
     "data": {
      "text/html": [
       "<div>\n",
       "<style scoped>\n",
       "    .dataframe tbody tr th:only-of-type {\n",
       "        vertical-align: middle;\n",
       "    }\n",
       "\n",
       "    .dataframe tbody tr th {\n",
       "        vertical-align: top;\n",
       "    }\n",
       "\n",
       "    .dataframe thead th {\n",
       "        text-align: right;\n",
       "    }\n",
       "</style>\n",
       "<table border=\"1\" class=\"dataframe\">\n",
       "  <thead>\n",
       "    <tr style=\"text-align: right;\">\n",
       "      <th></th>\n",
       "      <th>job_title</th>\n",
       "      <th>job_link</th>\n",
       "      <th>company</th>\n",
       "      <th>company_link</th>\n",
       "      <th>company_rating</th>\n",
       "      <th>location</th>\n",
       "      <th>salary</th>\n",
       "      <th>state</th>\n",
       "      <th>is_remote</th>\n",
       "      <th>is_ad</th>\n",
       "      <th>status_id</th>\n",
       "    </tr>\n",
       "  </thead>\n",
       "  <tbody>\n",
       "    <tr>\n",
       "      <th>0</th>\n",
       "      <td>Behavior Analyst</td>\n",
       "      <td>www.indeed.com/pagead/clk?mo=r&amp;ad=-6NYlbfkN0CX...</td>\n",
       "      <td>Centre For Neuro Skills</td>\n",
       "      <td>www.indeed.com/cmp/Centre-For-Neuro-Skills</td>\n",
       "      <td>3.4</td>\n",
       "      <td>Bakersfield, CA 93313 (Silver Creek area)</td>\n",
       "      <td>None</td>\n",
       "      <td>CA</td>\n",
       "      <td>False</td>\n",
       "      <td>True</td>\n",
       "      <td>1.0</td>\n",
       "    </tr>\n",
       "    <tr>\n",
       "      <th>1</th>\n",
       "      <td>Sr. Business Analyst</td>\n",
       "      <td>www.indeed.com/pagead/clk?mo=r&amp;ad=-6NYlbfkN0Cz...</td>\n",
       "      <td>MidFirst Bank</td>\n",
       "      <td>www.indeed.com/cmp/Midfirst-Bank</td>\n",
       "      <td>3.4</td>\n",
       "      <td>Oklahoma City, OK 73118</td>\n",
       "      <td>None</td>\n",
       "      <td>OK</td>\n",
       "      <td>False</td>\n",
       "      <td>True</td>\n",
       "      <td>1.0</td>\n",
       "    </tr>\n",
       "    <tr>\n",
       "      <th>2</th>\n",
       "      <td>Data, Reporting, and CRM Specialist</td>\n",
       "      <td>www.indeed.com/pagead/clk?mo=r&amp;ad=-6NYlbfkN0D6...</td>\n",
       "      <td>BrandTech Scientific, Inc.</td>\n",
       "      <td>None</td>\n",
       "      <td>NaN</td>\n",
       "      <td>Hybrid remote in Essex, CT 06426</td>\n",
       "      <td>$65,000 - $75,000 a year Employer est.</td>\n",
       "      <td>CT</td>\n",
       "      <td>True</td>\n",
       "      <td>True</td>\n",
       "      <td>1.0</td>\n",
       "    </tr>\n",
       "    <tr>\n",
       "      <th>3</th>\n",
       "      <td>Board Certified Behavior Analyst (BCBA)</td>\n",
       "      <td>www.indeed.com/pagead/clk?mo=r&amp;ad=-6NYlbfkN0BP...</td>\n",
       "      <td>Pathways Autism Center</td>\n",
       "      <td>www.indeed.com/cmp/Pathways-Behavioral-Consult...</td>\n",
       "      <td>2.5</td>\n",
       "      <td>Atlanta, GA 30338</td>\n",
       "      <td>$70,000 - $90,000 a year Employer est.</td>\n",
       "      <td>GA</td>\n",
       "      <td>False</td>\n",
       "      <td>True</td>\n",
       "      <td>1.0</td>\n",
       "    </tr>\n",
       "    <tr>\n",
       "      <th>4</th>\n",
       "      <td>Business Analyst</td>\n",
       "      <td>www.indeed.com/pagead/clk?mo=r&amp;ad=-6NYlbfkN0C_...</td>\n",
       "      <td>Piper Aircraft Inc</td>\n",
       "      <td>www.indeed.com/cmp/Piper-Aircraft-Inc</td>\n",
       "      <td>3.2</td>\n",
       "      <td>Vero Beach, FL 32960 (Vero Beach Regional Airp...</td>\n",
       "      <td>None</td>\n",
       "      <td>FL</td>\n",
       "      <td>False</td>\n",
       "      <td>True</td>\n",
       "      <td>1.0</td>\n",
       "    </tr>\n",
       "  </tbody>\n",
       "</table>\n",
       "</div>"
      ],
      "text/plain": [
       "                                 job_title  \\\n",
       "0                         Behavior Analyst   \n",
       "1                     Sr. Business Analyst   \n",
       "2      Data, Reporting, and CRM Specialist   \n",
       "3  Board Certified Behavior Analyst (BCBA)   \n",
       "4                         Business Analyst   \n",
       "\n",
       "                                            job_link  \\\n",
       "0  www.indeed.com/pagead/clk?mo=r&ad=-6NYlbfkN0CX...   \n",
       "1  www.indeed.com/pagead/clk?mo=r&ad=-6NYlbfkN0Cz...   \n",
       "2  www.indeed.com/pagead/clk?mo=r&ad=-6NYlbfkN0D6...   \n",
       "3  www.indeed.com/pagead/clk?mo=r&ad=-6NYlbfkN0BP...   \n",
       "4  www.indeed.com/pagead/clk?mo=r&ad=-6NYlbfkN0C_...   \n",
       "\n",
       "                      company  \\\n",
       "0     Centre For Neuro Skills   \n",
       "1               MidFirst Bank   \n",
       "2  BrandTech Scientific, Inc.   \n",
       "3      Pathways Autism Center   \n",
       "4          Piper Aircraft Inc   \n",
       "\n",
       "                                        company_link  company_rating  \\\n",
       "0         www.indeed.com/cmp/Centre-For-Neuro-Skills             3.4   \n",
       "1                   www.indeed.com/cmp/Midfirst-Bank             3.4   \n",
       "2                                               None             NaN   \n",
       "3  www.indeed.com/cmp/Pathways-Behavioral-Consult...             2.5   \n",
       "4              www.indeed.com/cmp/Piper-Aircraft-Inc             3.2   \n",
       "\n",
       "                                            location  \\\n",
       "0          Bakersfield, CA 93313 (Silver Creek area)   \n",
       "1                            Oklahoma City, OK 73118   \n",
       "2                   Hybrid remote in Essex, CT 06426   \n",
       "3                                  Atlanta, GA 30338   \n",
       "4  Vero Beach, FL 32960 (Vero Beach Regional Airp...   \n",
       "\n",
       "                                   salary state  is_remote  is_ad  status_id  \n",
       "0                                    None    CA      False   True        1.0  \n",
       "1                                    None    OK      False   True        1.0  \n",
       "2  $65,000 - $75,000 a year Employer est.    CT       True   True        1.0  \n",
       "3  $70,000 - $90,000 a year Employer est.    GA      False   True        1.0  \n",
       "4                                    None    FL      False   True        1.0  "
      ]
     },
     "execution_count": 60,
     "metadata": {},
     "output_type": "execute_result"
    }
   ],
   "source": [
    "df.head()"
   ]
  },
  {
   "cell_type": "code",
   "execution_count": 61,
   "id": "fbc6abcf",
   "metadata": {},
   "outputs": [
    {
     "data": {
      "text/html": [
       "<div>\n",
       "<style scoped>\n",
       "    .dataframe tbody tr th:only-of-type {\n",
       "        vertical-align: middle;\n",
       "    }\n",
       "\n",
       "    .dataframe tbody tr th {\n",
       "        vertical-align: top;\n",
       "    }\n",
       "\n",
       "    .dataframe thead th {\n",
       "        text-align: right;\n",
       "    }\n",
       "</style>\n",
       "<table border=\"1\" class=\"dataframe\">\n",
       "  <thead>\n",
       "    <tr style=\"text-align: right;\">\n",
       "      <th></th>\n",
       "      <th>job_title</th>\n",
       "      <th>job_link</th>\n",
       "      <th>company</th>\n",
       "      <th>company_link</th>\n",
       "      <th>company_rating</th>\n",
       "      <th>location</th>\n",
       "      <th>salary</th>\n",
       "      <th>is_remote</th>\n",
       "      <th>is_ad</th>\n",
       "      <th>status_id</th>\n",
       "      <th>state_id</th>\n",
       "    </tr>\n",
       "  </thead>\n",
       "  <tbody>\n",
       "    <tr>\n",
       "      <th>0</th>\n",
       "      <td>Behavior Analyst</td>\n",
       "      <td>www.indeed.com/pagead/clk?mo=r&amp;ad=-6NYlbfkN0CX...</td>\n",
       "      <td>Centre For Neuro Skills</td>\n",
       "      <td>www.indeed.com/cmp/Centre-For-Neuro-Skills</td>\n",
       "      <td>3.4</td>\n",
       "      <td>Bakersfield, CA 93313 (Silver Creek area)</td>\n",
       "      <td>None</td>\n",
       "      <td>False</td>\n",
       "      <td>True</td>\n",
       "      <td>1.0</td>\n",
       "      <td>1.0</td>\n",
       "    </tr>\n",
       "    <tr>\n",
       "      <th>1</th>\n",
       "      <td>Sr. Business Analyst</td>\n",
       "      <td>www.indeed.com/pagead/clk?mo=r&amp;ad=-6NYlbfkN0Cz...</td>\n",
       "      <td>MidFirst Bank</td>\n",
       "      <td>www.indeed.com/cmp/Midfirst-Bank</td>\n",
       "      <td>3.4</td>\n",
       "      <td>Oklahoma City, OK 73118</td>\n",
       "      <td>None</td>\n",
       "      <td>False</td>\n",
       "      <td>True</td>\n",
       "      <td>1.0</td>\n",
       "      <td>2.0</td>\n",
       "    </tr>\n",
       "    <tr>\n",
       "      <th>2</th>\n",
       "      <td>Data, Reporting, and CRM Specialist</td>\n",
       "      <td>www.indeed.com/pagead/clk?mo=r&amp;ad=-6NYlbfkN0D6...</td>\n",
       "      <td>BrandTech Scientific, Inc.</td>\n",
       "      <td>None</td>\n",
       "      <td>NaN</td>\n",
       "      <td>Hybrid remote in Essex, CT 06426</td>\n",
       "      <td>$65,000 - $75,000 a year Employer est.</td>\n",
       "      <td>True</td>\n",
       "      <td>True</td>\n",
       "      <td>1.0</td>\n",
       "      <td>3.0</td>\n",
       "    </tr>\n",
       "    <tr>\n",
       "      <th>3</th>\n",
       "      <td>Board Certified Behavior Analyst (BCBA)</td>\n",
       "      <td>www.indeed.com/pagead/clk?mo=r&amp;ad=-6NYlbfkN0BP...</td>\n",
       "      <td>Pathways Autism Center</td>\n",
       "      <td>www.indeed.com/cmp/Pathways-Behavioral-Consult...</td>\n",
       "      <td>2.5</td>\n",
       "      <td>Atlanta, GA 30338</td>\n",
       "      <td>$70,000 - $90,000 a year Employer est.</td>\n",
       "      <td>False</td>\n",
       "      <td>True</td>\n",
       "      <td>1.0</td>\n",
       "      <td>4.0</td>\n",
       "    </tr>\n",
       "    <tr>\n",
       "      <th>4</th>\n",
       "      <td>Business Analyst</td>\n",
       "      <td>www.indeed.com/pagead/clk?mo=r&amp;ad=-6NYlbfkN0C_...</td>\n",
       "      <td>Piper Aircraft Inc</td>\n",
       "      <td>www.indeed.com/cmp/Piper-Aircraft-Inc</td>\n",
       "      <td>3.2</td>\n",
       "      <td>Vero Beach, FL 32960 (Vero Beach Regional Airp...</td>\n",
       "      <td>None</td>\n",
       "      <td>False</td>\n",
       "      <td>True</td>\n",
       "      <td>1.0</td>\n",
       "      <td>5.0</td>\n",
       "    </tr>\n",
       "  </tbody>\n",
       "</table>\n",
       "</div>"
      ],
      "text/plain": [
       "                                 job_title  \\\n",
       "0                         Behavior Analyst   \n",
       "1                     Sr. Business Analyst   \n",
       "2      Data, Reporting, and CRM Specialist   \n",
       "3  Board Certified Behavior Analyst (BCBA)   \n",
       "4                         Business Analyst   \n",
       "\n",
       "                                            job_link  \\\n",
       "0  www.indeed.com/pagead/clk?mo=r&ad=-6NYlbfkN0CX...   \n",
       "1  www.indeed.com/pagead/clk?mo=r&ad=-6NYlbfkN0Cz...   \n",
       "2  www.indeed.com/pagead/clk?mo=r&ad=-6NYlbfkN0D6...   \n",
       "3  www.indeed.com/pagead/clk?mo=r&ad=-6NYlbfkN0BP...   \n",
       "4  www.indeed.com/pagead/clk?mo=r&ad=-6NYlbfkN0C_...   \n",
       "\n",
       "                      company  \\\n",
       "0     Centre For Neuro Skills   \n",
       "1               MidFirst Bank   \n",
       "2  BrandTech Scientific, Inc.   \n",
       "3      Pathways Autism Center   \n",
       "4          Piper Aircraft Inc   \n",
       "\n",
       "                                        company_link  company_rating  \\\n",
       "0         www.indeed.com/cmp/Centre-For-Neuro-Skills             3.4   \n",
       "1                   www.indeed.com/cmp/Midfirst-Bank             3.4   \n",
       "2                                               None             NaN   \n",
       "3  www.indeed.com/cmp/Pathways-Behavioral-Consult...             2.5   \n",
       "4              www.indeed.com/cmp/Piper-Aircraft-Inc             3.2   \n",
       "\n",
       "                                            location  \\\n",
       "0          Bakersfield, CA 93313 (Silver Creek area)   \n",
       "1                            Oklahoma City, OK 73118   \n",
       "2                   Hybrid remote in Essex, CT 06426   \n",
       "3                                  Atlanta, GA 30338   \n",
       "4  Vero Beach, FL 32960 (Vero Beach Regional Airp...   \n",
       "\n",
       "                                   salary  is_remote  is_ad  status_id  \\\n",
       "0                                    None      False   True        1.0   \n",
       "1                                    None      False   True        1.0   \n",
       "2  $65,000 - $75,000 a year Employer est.       True   True        1.0   \n",
       "3  $70,000 - $90,000 a year Employer est.      False   True        1.0   \n",
       "4                                    None      False   True        1.0   \n",
       "\n",
       "   state_id  \n",
       "0       1.0  \n",
       "1       2.0  \n",
       "2       3.0  \n",
       "3       4.0  \n",
       "4       5.0  "
      ]
     },
     "execution_count": 61,
     "metadata": {},
     "output_type": "execute_result"
    }
   ],
   "source": [
    "state2 = pd.read_sql(\"select id as state_id, state from state\", engine)\n",
    "df = pd.merge(df, state2, on = \"state\", how =\"left\")\n",
    "df.drop(\"state\", axis=1, inplace=True)\n",
    "df.head()"
   ]
  },
  {
   "cell_type": "code",
   "execution_count": 62,
   "id": "d016635f",
   "metadata": {},
   "outputs": [
    {
     "data": {
      "text/html": [
       "<div>\n",
       "<style scoped>\n",
       "    .dataframe tbody tr th:only-of-type {\n",
       "        vertical-align: middle;\n",
       "    }\n",
       "\n",
       "    .dataframe tbody tr th {\n",
       "        vertical-align: top;\n",
       "    }\n",
       "\n",
       "    .dataframe thead th {\n",
       "        text-align: right;\n",
       "    }\n",
       "</style>\n",
       "<table border=\"1\" class=\"dataframe\">\n",
       "  <thead>\n",
       "    <tr style=\"text-align: right;\">\n",
       "      <th></th>\n",
       "      <th>job_title</th>\n",
       "      <th>job_link</th>\n",
       "      <th>location</th>\n",
       "      <th>salary</th>\n",
       "      <th>is_remote</th>\n",
       "      <th>is_ad</th>\n",
       "      <th>status_id</th>\n",
       "      <th>state_id</th>\n",
       "      <th>company_id</th>\n",
       "    </tr>\n",
       "  </thead>\n",
       "  <tbody>\n",
       "    <tr>\n",
       "      <th>0</th>\n",
       "      <td>Behavior Analyst</td>\n",
       "      <td>www.indeed.com/pagead/clk?mo=r&amp;ad=-6NYlbfkN0CX...</td>\n",
       "      <td>Bakersfield, CA 93313 (Silver Creek area)</td>\n",
       "      <td>None</td>\n",
       "      <td>False</td>\n",
       "      <td>True</td>\n",
       "      <td>1.0</td>\n",
       "      <td>1.0</td>\n",
       "      <td>1.0</td>\n",
       "    </tr>\n",
       "    <tr>\n",
       "      <th>1</th>\n",
       "      <td>Sr. Business Analyst</td>\n",
       "      <td>www.indeed.com/pagead/clk?mo=r&amp;ad=-6NYlbfkN0Cz...</td>\n",
       "      <td>Oklahoma City, OK 73118</td>\n",
       "      <td>None</td>\n",
       "      <td>False</td>\n",
       "      <td>True</td>\n",
       "      <td>1.0</td>\n",
       "      <td>2.0</td>\n",
       "      <td>2.0</td>\n",
       "    </tr>\n",
       "    <tr>\n",
       "      <th>2</th>\n",
       "      <td>Data, Reporting, and CRM Specialist</td>\n",
       "      <td>www.indeed.com/pagead/clk?mo=r&amp;ad=-6NYlbfkN0D6...</td>\n",
       "      <td>Hybrid remote in Essex, CT 06426</td>\n",
       "      <td>$65,000 - $75,000 a year Employer est.</td>\n",
       "      <td>True</td>\n",
       "      <td>True</td>\n",
       "      <td>1.0</td>\n",
       "      <td>3.0</td>\n",
       "      <td>3.0</td>\n",
       "    </tr>\n",
       "    <tr>\n",
       "      <th>3</th>\n",
       "      <td>Board Certified Behavior Analyst (BCBA)</td>\n",
       "      <td>www.indeed.com/pagead/clk?mo=r&amp;ad=-6NYlbfkN0BP...</td>\n",
       "      <td>Atlanta, GA 30338</td>\n",
       "      <td>$70,000 - $90,000 a year Employer est.</td>\n",
       "      <td>False</td>\n",
       "      <td>True</td>\n",
       "      <td>1.0</td>\n",
       "      <td>4.0</td>\n",
       "      <td>4.0</td>\n",
       "    </tr>\n",
       "    <tr>\n",
       "      <th>4</th>\n",
       "      <td>Business Analyst</td>\n",
       "      <td>www.indeed.com/pagead/clk?mo=r&amp;ad=-6NYlbfkN0C_...</td>\n",
       "      <td>Vero Beach, FL 32960 (Vero Beach Regional Airp...</td>\n",
       "      <td>None</td>\n",
       "      <td>False</td>\n",
       "      <td>True</td>\n",
       "      <td>1.0</td>\n",
       "      <td>5.0</td>\n",
       "      <td>5.0</td>\n",
       "    </tr>\n",
       "  </tbody>\n",
       "</table>\n",
       "</div>"
      ],
      "text/plain": [
       "                                 job_title  \\\n",
       "0                         Behavior Analyst   \n",
       "1                     Sr. Business Analyst   \n",
       "2      Data, Reporting, and CRM Specialist   \n",
       "3  Board Certified Behavior Analyst (BCBA)   \n",
       "4                         Business Analyst   \n",
       "\n",
       "                                            job_link  \\\n",
       "0  www.indeed.com/pagead/clk?mo=r&ad=-6NYlbfkN0CX...   \n",
       "1  www.indeed.com/pagead/clk?mo=r&ad=-6NYlbfkN0Cz...   \n",
       "2  www.indeed.com/pagead/clk?mo=r&ad=-6NYlbfkN0D6...   \n",
       "3  www.indeed.com/pagead/clk?mo=r&ad=-6NYlbfkN0BP...   \n",
       "4  www.indeed.com/pagead/clk?mo=r&ad=-6NYlbfkN0C_...   \n",
       "\n",
       "                                            location  \\\n",
       "0          Bakersfield, CA 93313 (Silver Creek area)   \n",
       "1                            Oklahoma City, OK 73118   \n",
       "2                   Hybrid remote in Essex, CT 06426   \n",
       "3                                  Atlanta, GA 30338   \n",
       "4  Vero Beach, FL 32960 (Vero Beach Regional Airp...   \n",
       "\n",
       "                                   salary  is_remote  is_ad  status_id  \\\n",
       "0                                    None      False   True        1.0   \n",
       "1                                    None      False   True        1.0   \n",
       "2  $65,000 - $75,000 a year Employer est.       True   True        1.0   \n",
       "3  $70,000 - $90,000 a year Employer est.      False   True        1.0   \n",
       "4                                    None      False   True        1.0   \n",
       "\n",
       "   state_id  company_id  \n",
       "0       1.0         1.0  \n",
       "1       2.0         2.0  \n",
       "2       3.0         3.0  \n",
       "3       4.0         4.0  \n",
       "4       5.0         5.0  "
      ]
     },
     "execution_count": 62,
     "metadata": {},
     "output_type": "execute_result"
    }
   ],
   "source": [
    "company2 = pd.read_sql(\"select id as company_id, company from company\", engine)\n",
    "df = pd.merge(df, company2, on = \"company\", how =\"left\")\n",
    "df.drop([\"company\", \"company_link\", \"company_rating\"], axis=1, inplace=True)\n",
    "df.head()"
   ]
  },
  {
   "cell_type": "code",
   "execution_count": 63,
   "id": "063e74a7",
   "metadata": {},
   "outputs": [
    {
     "data": {
      "text/plain": [
       "735"
      ]
     },
     "execution_count": 63,
     "metadata": {},
     "output_type": "execute_result"
    }
   ],
   "source": [
    "#Database\n",
    "df.to_sql(\"job\", engine, method=\"multi\", if_exists = \"append\", index=False)"
   ]
  },
  {
   "cell_type": "code",
   "execution_count": 64,
   "id": "d0cc66d4",
   "metadata": {},
   "outputs": [
    {
     "name": "stdout",
     "output_type": "stream",
     "text": [
      "<class 'pandas.core.frame.DataFrame'>\n",
      "Int64Index: 735 entries, 0 to 734\n",
      "Data columns (total 9 columns):\n",
      " #   Column      Non-Null Count  Dtype  \n",
      "---  ------      --------------  -----  \n",
      " 0   job_title   735 non-null    object \n",
      " 1   job_link    735 non-null    object \n",
      " 2   location    735 non-null    object \n",
      " 3   salary      355 non-null    object \n",
      " 4   is_remote   735 non-null    bool   \n",
      " 5   is_ad       735 non-null    bool   \n",
      " 6   status_id   555 non-null    float64\n",
      " 7   state_id    545 non-null    float64\n",
      " 8   company_id  733 non-null    float64\n",
      "dtypes: bool(2), float64(3), object(4)\n",
      "memory usage: 47.4+ KB\n"
     ]
    }
   ],
   "source": [
    "df.info()"
   ]
  },
  {
   "cell_type": "code",
   "execution_count": null,
   "id": "56e88978",
   "metadata": {},
   "outputs": [],
   "source": []
  },
  {
   "cell_type": "code",
   "execution_count": null,
   "id": "bc83a515",
   "metadata": {},
   "outputs": [],
   "source": []
  },
  {
   "cell_type": "code",
   "execution_count": null,
   "id": "00e91001",
   "metadata": {},
   "outputs": [],
   "source": []
  },
  {
   "cell_type": "code",
   "execution_count": 65,
   "id": "505055f7",
   "metadata": {},
   "outputs": [],
   "source": [
    "#Don't worry about it\n",
    "# def getCity(loc):\n",
    "#     if \",\" in loc:\n",
    "#         city_list = loc.replace(\"\\xa0\", \" \").split(\",\")[0].strip().split(\" \")\n",
    "#         city = city_list[0] if len(city_list) ==1 else city_list[1]\n",
    "#     else:\n",
    "#         city = None\n",
    "        \n",
    "#     return(city)"
   ]
  },
  {
   "cell_type": "code",
   "execution_count": null,
   "id": "7443f04c",
   "metadata": {},
   "outputs": [],
   "source": [
    "# df[\"city\"] = df.location.apply(lambda x: getCity(x))\n",
    "# df.info()"
   ]
  },
  {
   "cell_type": "code",
   "execution_count": null,
   "id": "44df1f8f",
   "metadata": {},
   "outputs": [],
   "source": [
    "# df.city.value_counts()"
   ]
  },
  {
   "cell_type": "code",
   "execution_count": null,
   "id": "aea10d17",
   "metadata": {},
   "outputs": [],
   "source": [
    "# df.loc[df.location.str.contains(\"in\")]"
   ]
  },
  {
   "cell_type": "code",
   "execution_count": null,
   "id": "e75efe6b",
   "metadata": {},
   "outputs": [],
   "source": [
    "#Set-up sleep function if needed\n",
    "# browser.visit(dice_lyst)\n",
    "# time.sleep(2)"
   ]
  }
 ],
 "metadata": {
  "kernelspec": {
   "display_name": "Python 3 (ipykernel)",
   "language": "python",
   "name": "python3"
  },
  "language_info": {
   "codemirror_mode": {
    "name": "ipython",
    "version": 3
   },
   "file_extension": ".py",
   "mimetype": "text/x-python",
   "name": "python",
   "nbconvert_exporter": "python",
   "pygments_lexer": "ipython3",
   "version": "3.9.12"
  }
 },
 "nbformat": 4,
 "nbformat_minor": 5
}
